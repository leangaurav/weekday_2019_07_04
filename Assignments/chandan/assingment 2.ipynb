{
 "cells": [
  {
   "cell_type": "code",
   "execution_count": 3,
   "metadata": {},
   "outputs": [
    {
     "name": "stdout",
     "output_type": "stream",
     "text": [
      "enter fahrenheit50\n",
      "celsius is 10.0\n"
     ]
    }
   ],
   "source": [
    "#1\n",
    "fahren = input(\"enter fahrenheit\")\n",
    "Celsius = (float(fahren)-32)*(5/9)\n",
    "print(\"celsius is\",Celsius)"
   ]
  },
  {
   "cell_type": "code",
   "execution_count": 4,
   "metadata": {},
   "outputs": [
    {
     "name": "stdout",
     "output_type": "stream",
     "text": [
      "enter number \n",
      "3\n",
      "square root of  3 is 9.0\n",
      "cube root of  3 is 27.0\n"
     ]
    }
   ],
   "source": [
    "#2\n",
    "import math\n",
    "def squareroot(x):\n",
    "    res = math.pow(x,2)\n",
    "    print(\"square root of \",x,\"is\",res)\n",
    "def cuberoot(x):\n",
    "    res = math.pow(x,3)\n",
    "    print(\"cube root of \",x,\"is\",res)\n",
    "    \n",
    "num = input(\"enter number \\n\")\n",
    "squareroot(int(num))\n",
    "cuberoot(int(num))"
   ]
  },
  {
   "cell_type": "code",
   "execution_count": 5,
   "metadata": {},
   "outputs": [
    {
     "name": "stdout",
     "output_type": "stream",
     "text": [
      "n^2+m^2 enter 2 number n and m \n",
      "3.5 6\n",
      "result of n^2+m^2 is 48.25\n"
     ]
    }
   ],
   "source": [
    "#3\n",
    "from math import pow\n",
    "def nsqr(n):\n",
    "    res = pow(n,2)\n",
    "    return res\n",
    "def msqr(m):\n",
    "    res = m**2\n",
    "    return res\n",
    "    \n",
    "n,m = input(\"n^2+m^2 enter 2 number n and m \\n\").split()\n",
    "upt_n = nsqr(float(n))\n",
    "upt_m = msqr(float(m))\n",
    "res=upt_n+upt_m\n",
    "print(\"result of n^2+m^2 is\",res)"
   ]
  },
  {
   "cell_type": "code",
   "execution_count": 2,
   "metadata": {},
   "outputs": [
    {
     "name": "stdout",
     "output_type": "stream",
     "text": [
      "enter m and n values \n",
      "2 3.5\n",
      "result is 11\n"
     ]
    }
   ],
   "source": [
    "#4\n",
    "from math import pow\n",
    "def power(m,n):\n",
    "    res = pow(m,n)\n",
    "    return int(res)\n",
    "m,n = input(\"enter m and n values \\n\").split()\n",
    "res = power(float(m),float(n))\n",
    "print(\"result is\",res)\n"
   ]
  },
  {
   "cell_type": "code",
   "execution_count": null,
   "metadata": {},
   "outputs": [],
   "source": [
    "#5\n"
   ]
  },
  {
   "cell_type": "code",
   "execution_count": null,
   "metadata": {},
   "outputs": [],
   "source": []
  },
  {
   "cell_type": "code",
   "execution_count": null,
   "metadata": {},
   "outputs": [],
   "source": []
  },
  {
   "cell_type": "code",
   "execution_count": null,
   "metadata": {},
   "outputs": [],
   "source": []
  },
  {
   "cell_type": "code",
   "execution_count": null,
   "metadata": {},
   "outputs": [],
   "source": []
  },
  {
   "cell_type": "code",
   "execution_count": null,
   "metadata": {},
   "outputs": [],
   "source": []
  },
  {
   "cell_type": "code",
   "execution_count": null,
   "metadata": {},
   "outputs": [],
   "source": []
  },
  {
   "cell_type": "code",
   "execution_count": null,
   "metadata": {},
   "outputs": [],
   "source": []
  },
  {
   "cell_type": "code",
   "execution_count": null,
   "metadata": {},
   "outputs": [],
   "source": []
  },
  {
   "cell_type": "code",
   "execution_count": null,
   "metadata": {},
   "outputs": [],
   "source": []
  }
 ],
 "metadata": {
  "kernelspec": {
   "display_name": "Python 3",
   "language": "python",
   "name": "python3"
  },
  "language_info": {
   "codemirror_mode": {
    "name": "ipython",
    "version": 3
   },
   "file_extension": ".py",
   "mimetype": "text/x-python",
   "name": "python",
   "nbconvert_exporter": "python",
   "pygments_lexer": "ipython3",
   "version": "3.7.2"
  }
 },
 "nbformat": 4,
 "nbformat_minor": 2
}
