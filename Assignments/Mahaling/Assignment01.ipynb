{
 "cells": [
  {
   "cell_type": "code",
   "execution_count": null,
   "metadata": {},
   "outputs": [],
   "source": [
    "s1 = input(\"Please Enter a string: \")\n",
    "print(\"The length of the string is: \", len(s1))"
   ]
  },
  {
   "cell_type": "code",
   "execution_count": 3,
   "metadata": {},
   "outputs": [
    {
     "name": "stdout",
     "output_type": "stream",
     "text": [
      "Please enter value of a: 10\n",
      "Please enter value of b: 20\n",
      "The sum of a and b is:  30\n",
      "The difference of a and b is:  -10\n"
     ]
    }
   ],
   "source": [
    "a = int(input(\"Please enter value of a: \"))\n",
    "b = int(input(\"Please enter value of b: \"))\n",
    "print(\"The sum of a and b is: \", a + b)\n",
    "print(\"The difference of a and b is: \", a - b)"
   ]
  },
  {
   "cell_type": "code",
   "execution_count": 4,
   "metadata": {},
   "outputs": [
    {
     "name": "stdout",
     "output_type": "stream",
     "text": [
      "abde\n"
     ]
    }
   ],
   "source": [
    "s1 = 'ab'\n",
    "s2 = 'de'\n",
    "s3 = s1 + s2\n",
    "print(s3)\n"
   ]
  },
  {
   "cell_type": "code",
   "execution_count": 6,
   "metadata": {},
   "outputs": [
    {
     "name": "stdout",
     "output_type": "stream",
     "text": [
      "ab\n",
      "ab\n",
      "ab\n",
      "ab\n",
      "\n"
     ]
    }
   ],
   "source": [
    "s1 = 'ab\\n' * 4\n",
    "print(s1)"
   ]
  },
  {
   "cell_type": "code",
   "execution_count": 23,
   "metadata": {},
   "outputs": [
    {
     "name": "stdout",
     "output_type": "stream",
     "text": [
      "Please enter a string: agsg\n",
      "Please enter a number: 5\n",
      "agsg\n",
      "agsg\n",
      "agsg\n",
      "agsg\n",
      "agsg\n",
      "\n"
     ]
    }
   ],
   "source": [
    "s1 = input(\"Please enter a string: \")\n",
    "n = int(input(\"Please enter a number: \"))\n",
    "print((s1 + '\\n') * n)"
   ]
  },
  {
   "cell_type": "code",
   "execution_count": 24,
   "metadata": {},
   "outputs": [
    {
     "name": "stdout",
     "output_type": "stream",
     "text": [
      "Mahaling\n",
      "None\n"
     ]
    }
   ],
   "source": [
    "res = print('Mahaling')\n",
    "print(res)"
   ]
  },
  {
   "cell_type": "code",
   "execution_count": 25,
   "metadata": {},
   "outputs": [
    {
     "name": "stdout",
     "output_type": "stream",
     "text": [
      "<class 'int'>\n"
     ]
    }
   ],
   "source": [
    "res = len('ms.sawle@gmail.com')\n",
    "print(type(res))"
   ]
  },
  {
   "cell_type": "code",
   "execution_count": 27,
   "metadata": {},
   "outputs": [
    {
     "name": "stdout",
     "output_type": "stream",
     "text": [
      "<class 'str'>\n",
      "28\n"
     ]
    }
   ],
   "source": [
    "s1 = 'Mahaling'\n",
    "s2 = 'tuteur.py@gmail.com'\n",
    "s3 = s1 + '\\n' + s2\n",
    "print(type(s3))\n",
    "print(len(s3))"
   ]
  },
  {
   "cell_type": "code",
   "execution_count": 28,
   "metadata": {},
   "outputs": [
    {
     "name": "stdout",
     "output_type": "stream",
     "text": [
      "Enter a number: 55\n",
      "The square root of the entered number is:  7.416198487095663\n"
     ]
    }
   ],
   "source": [
    "import math\n",
    "a = int(input(\"Enter a number: \"))\n",
    "print(\"The square root of the entered number is: \", math.sqrt(a))"
   ]
  },
  {
   "cell_type": "code",
   "execution_count": 29,
   "metadata": {},
   "outputs": [
    {
     "name": "stdout",
     "output_type": "stream",
     "text": [
      "Enter value of a: 12\n",
      "Enter value of b: 13\n",
      "Enter value of c: 14\n",
      "Enter value of d: 15\n",
      "The average of entered number is:  13.5\n"
     ]
    }
   ],
   "source": [
    "a = int(input(\"Enter value of a: \"))\n",
    "b = int(input(\"Enter value of b: \"))\n",
    "c = int(input(\"Enter value of c: \"))\n",
    "d = int(input(\"Enter value of d: \"))\n",
    "\n",
    "avg = (a+b+c+d)/ 4\n",
    "\n",
    "print(\"The average of entered number is: \", avg )"
   ]
  },
  {
   "cell_type": "code",
   "execution_count": 30,
   "metadata": {},
   "outputs": [
    {
     "name": "stdout",
     "output_type": "stream",
     "text": [
      "__main__\n"
     ]
    }
   ],
   "source": [
    "print(__name__)"
   ]
  }
 ],
 "metadata": {
  "kernelspec": {
   "display_name": "Python 3",
   "language": "python",
   "name": "python3"
  },
  "language_info": {
   "codemirror_mode": {
    "name": "ipython",
    "version": 3
   },
   "file_extension": ".py",
   "mimetype": "text/x-python",
   "name": "python",
   "nbconvert_exporter": "python",
   "pygments_lexer": "ipython3",
   "version": "3.7.3"
  }
 },
 "nbformat": 4,
 "nbformat_minor": 2
}
