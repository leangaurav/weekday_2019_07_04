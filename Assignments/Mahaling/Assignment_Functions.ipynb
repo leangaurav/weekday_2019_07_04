{
 "cells": [
  {
   "cell_type": "code",
   "execution_count": 15,
   "metadata": {},
   "outputs": [
    {
     "name": "stdout",
     "output_type": "stream",
     "text": [
      "Enter s1: Mahaling\n",
      "Enter s2: Pallavi\n"
     ]
    },
    {
     "data": {
      "text/plain": [
       "('Pallavi', 'Mahaling')"
      ]
     },
     "execution_count": 15,
     "metadata": {},
     "output_type": "execute_result"
    }
   ],
   "source": [
    "def swap():\n",
    "    s1 = input(\"Enter s1: \")\n",
    "    s2 = input(\"Enter s2: \")\n",
    "    temp = ''\n",
    "\n",
    "    \n",
    "    temp = s1\n",
    "    s1 = s2\n",
    "    s2 = temp\n",
    "    return (s1, s2)\n",
    "\n",
    "\n",
    "\n",
    "\n",
    "swap()"
   ]
  },
  {
   "cell_type": "code",
   "execution_count": 18,
   "metadata": {},
   "outputs": [
    {
     "name": "stdout",
     "output_type": "stream",
     "text": [
      "Enter s1: Mahaling Sawle\n",
      "Enter s2: Resident of Bhalki\n"
     ]
    },
    {
     "data": {
      "text/plain": [
       "('Resident of Bhalki', 'Mahaling Sawle')"
      ]
     },
     "execution_count": 18,
     "metadata": {},
     "output_type": "execute_result"
    }
   ],
   "source": [
    "def swap():\n",
    "    s1 = input(\"Enter s1: \")\n",
    "    s2 = input(\"Enter s2: \")\n",
    "    s2, s1 = s1, s2\n",
    "    return (s1, s2)\n",
    "\n",
    "swap()"
   ]
  },
  {
   "cell_type": "code",
   "execution_count": 40,
   "metadata": {},
   "outputs": [
    {
     "name": "stdout",
     "output_type": "stream",
     "text": [
      "15 21 16 4\n",
      "14.0\n",
      "The average of 4 random numbers is:  14.0\n"
     ]
    }
   ],
   "source": [
    "import random as rn\n",
    "\n",
    "a = rn.randint(0,26)\n",
    "b = rn.randint(0,26)\n",
    "c = rn.randint(0,26)\n",
    "d = rn.randint(0,26)\n",
    "\n",
    "def Average():\n",
    "    avg = (a + b + c + d) / 4\n",
    "    print(a, b, c, d)\n",
    "    print(avg)\n",
    "    return avg\n",
    "\n",
    "print(\"The average of 4 random numbers is: \", Average())"
   ]
  },
  {
   "cell_type": "code",
   "execution_count": 56,
   "metadata": {},
   "outputs": [
    {
     "name": "stdout",
     "output_type": "stream",
     "text": [
      "The selected upper case and lower case letter are:  ('P', 'p')\n"
     ]
    }
   ],
   "source": [
    "import random as rn\n",
    "\n",
    "s = 'abcdefghijklmnopqrstuvwxyz'\n",
    "\n",
    "def case_1():\n",
    "    a = rn.randint(0, 25)\n",
    "    S = s[a]\n",
    "    S_upp = S.upper()\n",
    "    S_low = S.lower()\n",
    "    return (S_upp, S_low)\n",
    "\n",
    "\n",
    "print(\"The selected upper case and lower case letter are: \", case_1())"
   ]
  },
  {
   "cell_type": "code",
   "execution_count": 76,
   "metadata": {},
   "outputs": [
    {
     "name": "stdout",
     "output_type": "stream",
     "text": [
      "Enter p: 1000\n",
      "Enter t: 1\n",
      "Enter r: 1\n",
      "The SI is:  10.0\n"
     ]
    }
   ],
   "source": [
    "p = float(input(\"Enter p: \"))\n",
    "t = float(input(\"Enter t: \"))\n",
    "r = float(input(\"Enter r: \"))\n",
    "\n",
    "def get_si():\n",
    "    si = (p * t * r) / 100\n",
    "    return si\n",
    "\n",
    "\n",
    "\n",
    "print(\"The SI is: \", get_si())"
   ]
  },
  {
   "cell_type": "code",
   "execution_count": 86,
   "metadata": {},
   "outputs": [
    {
     "name": "stdout",
     "output_type": "stream",
     "text": [
      "Enter p: 1000\n",
      "Enter t: 1\n",
      "Enter r: 1\n",
      "The amount is:  1100.0\n"
     ]
    }
   ],
   "source": [
    "def get_amount(t=1, r=10): # pre-defined rate and time period\n",
    "    def get_si():\n",
    "        si = (p * t * r) / 100\n",
    "        return si\n",
    "    amount = p + get_si()\n",
    "    return amount\n",
    "\n",
    "p = float(input(\"Enter p: \"))\n",
    "t = float(input(\"Enter t: \"))\n",
    "r = float(input(\"Enter r: \"))\n",
    "\n",
    "print(\"The amount is: \", get_amount())"
   ]
  },
  {
   "cell_type": "code",
   "execution_count": 88,
   "metadata": {},
   "outputs": [
    {
     "name": "stdout",
     "output_type": "stream",
     "text": [
      "Enter p: 1000\n",
      "Enter n: 2\n",
      "Enter r: 3\n",
      "The CI is:  60.899999999999864\n"
     ]
    }
   ],
   "source": [
    "def get_ci():\n",
    "    amount = p * (( 1 + (r/100)) ** n)\n",
    "    CI = amount - p\n",
    "    return CI\n",
    "\n",
    "p = float(input(\"Enter p: \"))\n",
    "n = float(input(\"Enter n: \"))\n",
    "r = float(input(\"Enter r: \"))\n",
    "\n",
    "print(\"The CI is: \", get_ci())"
   ]
  },
  {
   "cell_type": "code",
   "execution_count": 97,
   "metadata": {},
   "outputs": [
    {
     "name": "stdout",
     "output_type": "stream",
     "text": [
      "306 2\n",
      "The remainder and quotient are:  (0, 153)\n"
     ]
    }
   ],
   "source": [
    "import random as rn\n",
    "\n",
    "a = rn.randint(1, 1000)\n",
    "\n",
    "b = rn.randint(1, 10)\n",
    "print(a, b)\n",
    "def get_q_r():\n",
    "    \n",
    "    r = a % b\n",
    "    q = a // b\n",
    "    \n",
    "    return(r,q)\n",
    "\n",
    "print(\"The remainder and quotient are: \", tuple(get_q_r()))"
   ]
  },
  {
   "cell_type": "code",
   "execution_count": 99,
   "metadata": {},
   "outputs": [
    {
     "name": "stdout",
     "output_type": "stream",
     "text": [
      "Enter the value of base: 10\n",
      "Enter the value of height: 12\n",
      "The hypotanuse is:  15.620499351813308\n"
     ]
    }
   ],
   "source": [
    "import math\n",
    "\n",
    "base = float(input(\"Enter the value of base: \"))\n",
    "height = float(input(\"Enter the value of height: \"))\n",
    "\n",
    "def hypo():\n",
    "    h = math.sqrt((base**2) + (height **2))\n",
    "    return h\n",
    "print(\"The hypotanuse is: \", hypo())"
   ]
  },
  {
   "cell_type": "code",
   "execution_count": 11,
   "metadata": {},
   "outputs": [
    {
     "name": "stdout",
     "output_type": "stream",
     "text": [
      "Enter number of seconds: 10000\n",
      "The 10000 seconds contain 1 days, 3 hours, 46 minutes, 40 seconds\n"
     ]
    }
   ],
   "source": [
    "n = int(input(\"Enter number of seconds: \"))\n",
    "\n",
    "def conv():\n",
    "    days = n // (24*60*60)\n",
    "    hours = (n % (24*60*60)) // (60*60)\n",
    "    minutes = ((n % (24*60*60)) % (60*60)) // 60\n",
    "    seconds = (((n % (24*60*60)) % (60*60)) % 60 ) % 60\n",
    "    return(days, hours, minutes, seconds)\n",
    "    \n",
    "print(\"The {4} seconds contain {0} days, {1} hours, {2} minutes, {3} seconds\".format(days, hours, minutes, seconds, n))"
   ]
  },
  {
   "cell_type": "code",
   "execution_count": 1,
   "metadata": {},
   "outputs": [
    {
     "ename": "NameError",
     "evalue": "name 'python' is not defined",
     "output_type": "error",
     "traceback": [
      "\u001b[1;31m---------------------------------------------------------------------------\u001b[0m",
      "\u001b[1;31mNameError\u001b[0m                                 Traceback (most recent call last)",
      "\u001b[1;32m<ipython-input-1-32886514c262>\u001b[0m in \u001b[0;36m<module>\u001b[1;34m\u001b[0m\n\u001b[1;32m----> 1\u001b[1;33m \u001b[0mpython\u001b[0m\u001b[1;33m\u001b[0m\u001b[1;33m\u001b[0m\u001b[0m\n\u001b[0m",
      "\u001b[1;31mNameError\u001b[0m: name 'python' is not defined"
     ]
    }
   ],
   "source": [
    "### Unable to find"
   ]
  },
  {
   "cell_type": "code",
   "execution_count": 3,
   "metadata": {},
   "outputs": [
    {
     "name": "stdout",
     "output_type": "stream",
     "text": [
      "2 -2\n"
     ]
    }
   ],
   "source": [
    "X = 2\n",
    "X *= 3\n",
    "X = X%4\n",
    "Y = -X\n",
    "print(X, Y)"
   ]
  },
  {
   "cell_type": "code",
   "execution_count": 4,
   "metadata": {},
   "outputs": [
    {
     "name": "stdout",
     "output_type": "stream",
     "text": [
      "None\n"
     ]
    }
   ],
   "source": [
    "def funct():\n",
    "    pass\n",
    "print(funct())"
   ]
  },
  {
   "cell_type": "code",
   "execution_count": 7,
   "metadata": {},
   "outputs": [
    {
     "name": "stdout",
     "output_type": "stream",
     "text": [
      "Enter the real part: 10\n",
      "Enter the imaginary part: 20\n",
      "re: 10.0 im: 20.0\n"
     ]
    }
   ],
   "source": [
    "x = float(input(\"Enter the real part: \"))\n",
    "y = float(input(\"Enter the imaginary part: \"))\n",
    "\n",
    "z = complex(x, y)\n",
    "\n",
    "print(\"re: {} im: {}\".format(z.real, z.imag))"
   ]
  },
  {
   "cell_type": "code",
   "execution_count": null,
   "metadata": {},
   "outputs": [],
   "source": [
    "# how to save as .py script from notebook???\n"
   ]
  }
 ],
 "metadata": {
  "kernelspec": {
   "display_name": "Python 3",
   "language": "python",
   "name": "python3"
  },
  "language_info": {
   "codemirror_mode": {
    "name": "ipython",
    "version": 3
   },
   "file_extension": ".py",
   "mimetype": "text/x-python",
   "name": "python",
   "nbconvert_exporter": "python",
   "pygments_lexer": "ipython3",
   "version": "3.7.3"
  }
 },
 "nbformat": 4,
 "nbformat_minor": 2
}
