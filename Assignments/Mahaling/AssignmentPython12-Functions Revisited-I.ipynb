{
 "cells": [
  {
   "cell_type": "code",
   "execution_count": 12,
   "metadata": {},
   "outputs": [
    {
     "name": "stdout",
     "output_type": "stream",
     "text": [
      "100 0.1 -10\n"
     ]
    }
   ],
   "source": [
    "# Q1\n",
    "\n",
    "a = lambda x: x**2 \n",
    "b = lambda x: 1/x\n",
    "c = lambda x: -x\n",
    "\n",
    "print(a(10), b(10), c(10))"
   ]
  },
  {
   "cell_type": "code",
   "execution_count": 15,
   "metadata": {},
   "outputs": [
    {
     "name": "stdout",
     "output_type": "stream",
     "text": [
      "999\n"
     ]
    }
   ],
   "source": [
    "# Q2\n",
    "from functools import reduce\n",
    "f = lambda x, y : x if x > y else y\n",
    "\n",
    "a = [10, 20, 30, 55, 99, 999]\n",
    "\n",
    "largest = reduce(f, a)\n",
    "\n",
    "print(largest)\n"
   ]
  },
  {
   "cell_type": "code",
   "execution_count": 41,
   "metadata": {},
   "outputs": [
    {
     "name": "stdout",
     "output_type": "stream",
     "text": [
      "[1, 4, 16]\n",
      "[1.0, 0.25, 0.0625]\n",
      "[-1.0, -0.25, -0.0625]\n"
     ]
    }
   ],
   "source": [
    "#Q3\n",
    "l = [1,2,4]\n",
    "\n",
    "a = lambda x: x**2 \n",
    "r = list(map(a, l))\n",
    "\n",
    "print(r)\n",
    "\n",
    "b = lambda x: 1/x\n",
    "r1 = list(map(b, r))\n",
    "\n",
    "print(r1)\n",
    "\n",
    "c = lambda x: -x\n",
    "r2 = list(map(c, r1))\n",
    "\n",
    "print(r2)"
   ]
  },
  {
   "cell_type": "code",
   "execution_count": null,
   "metadata": {},
   "outputs": [],
   "source": [
    "#Q4\n",
    "50 "
   ]
  },
  {
   "cell_type": "code",
   "execution_count": 49,
   "metadata": {},
   "outputs": [
    {
     "name": "stdout",
     "output_type": "stream",
     "text": [
      "[1.0, 0.5, 0.25, 0.125]\n"
     ]
    }
   ],
   "source": [
    "# Q5 # Traceback not understood\n",
    "\n",
    "functs = [lambda x : x** 0.5, lambda x: 1/x]\n",
    "l = [1,4,16,64]\n",
    "\n",
    "ans = []\n",
    "\n",
    "for num in l:\n",
    "    res = num\n",
    "    for funct in functs:\n",
    "        res= funct(res)\n",
    "    ans.append(res)\n",
    "print(ans)"
   ]
  },
  {
   "cell_type": "code",
   "execution_count": 76,
   "metadata": {},
   "outputs": [
    {
     "name": "stdout",
     "output_type": "stream",
     "text": [
      "[1, 36, 5, 78]\n"
     ]
    }
   ],
   "source": [
    "#Q6\n",
    "a = [1, 36, 5, 'b', 'c', f, 78]\n",
    "\n",
    "b = filter(lambda x: isinstance(x, int),a)\n",
    "print(list(b))"
   ]
  },
  {
   "cell_type": "code",
   "execution_count": 89,
   "metadata": {},
   "outputs": [
    {
     "name": "stdout",
     "output_type": "stream",
     "text": [
      "5ft6in\n",
      "5ft\n",
      "6ft6in\n",
      "4ft8in\n"
     ]
    }
   ],
   "source": [
    "#Q7\n",
    "\n",
    "l = ['5ft6in', '5ft', '6ft6in', '4ft8in']\n",
    "\n",
    "for a in l:\n",
    "    height = a.split()\n",
    "    "
   ]
  },
  {
   "cell_type": "code",
   "execution_count": null,
   "metadata": {},
   "outputs": [],
   "source": []
  },
  {
   "cell_type": "code",
   "execution_count": 102,
   "metadata": {},
   "outputs": [
    {
     "data": {
      "text/plain": [
       "['N', 'N']"
      ]
     },
     "execution_count": 102,
     "metadata": {},
     "output_type": "execute_result"
    }
   ],
   "source": [
    "#Q8\n",
    "\n",
    "def my_map(f, seq):\n",
    "    r = []\n",
    "    \n",
    "    for data in seq:\n",
    "        r.append(f(data))\n",
    "    return r\n",
    "\n",
    "my_map(chr, [78, 78])"
   ]
  }
 ],
 "metadata": {
  "kernelspec": {
   "display_name": "Python 3",
   "language": "python",
   "name": "python3"
  },
  "language_info": {
   "codemirror_mode": {
    "name": "ipython",
    "version": 3
   },
   "file_extension": ".py",
   "mimetype": "text/x-python",
   "name": "python",
   "nbconvert_exporter": "python",
   "pygments_lexer": "ipython3",
   "version": "3.7.3"
  }
 },
 "nbformat": 4,
 "nbformat_minor": 2
}
