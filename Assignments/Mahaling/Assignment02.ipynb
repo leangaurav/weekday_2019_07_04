{
 "cells": [
  {
   "cell_type": "code",
   "execution_count": 4,
   "metadata": {},
   "outputs": [
    {
     "name": "stdout",
     "output_type": "stream",
     "text": [
      "Enter the temperature in Fahrenheit: 167\n",
      "The temperature in Celcius is:  75.0\n"
     ]
    }
   ],
   "source": [
    "temp_F = input(\"Enter the temperature in Fahrenheit: \")\n",
    "\n",
    "norm_F = float(temp_F)\n",
    "\n",
    "temp_C = (norm_F - 32) * (5 /9)\n",
    "\n",
    "print(\"The temperature in Celcius is: \", temp_C)\n",
    "\n",
    "\n"
   ]
  },
  {
   "cell_type": "code",
   "execution_count": 5,
   "metadata": {},
   "outputs": [
    {
     "name": "stdout",
     "output_type": "stream",
     "text": [
      "Enter a number: 11\n",
      "The square of the entered number is:  121\n",
      "The cube of the entered number is:  1331\n"
     ]
    }
   ],
   "source": [
    "Num1 = int(input(\"Enter a number: \"))\n",
    "\n",
    "print(\"The square of the entered number is: \", Num1 ** 2)\n",
    "print(\"The cube of the entered number is: \", Num1 ** 3)\n"
   ]
  },
  {
   "cell_type": "code",
   "execution_count": 6,
   "metadata": {},
   "outputs": [
    {
     "name": "stdout",
     "output_type": "stream",
     "text": [
      "The square of the entered number is:  5415340921\n",
      "The cube of the entered number is:  398509523035469\n"
     ]
    }
   ],
   "source": [
    "import random as rn\n",
    "a = rn.randint(1, 100000)\n",
    "print(\"The square of the entered number is: \", a ** 2)\n",
    "print(\"The cube of the entered number is: \", a ** 3)"
   ]
  },
  {
   "cell_type": "code",
   "execution_count": 10,
   "metadata": {},
   "outputs": [
    {
     "name": "stdout",
     "output_type": "stream",
     "text": [
      "Enter the value of n: 2\n",
      "Enter the value of m: 3\n",
      "The sum of squares of n and m is:  13\n"
     ]
    }
   ],
   "source": [
    "n = int(input(\"Enter the value of n: \"))\n",
    "m = int(input(\"Enter the value of m: \"))\n",
    "\n",
    "print(\"The sum of squares of n and m is: \", ((n**2)+ (m**2)))"
   ]
  },
  {
   "cell_type": "code",
   "execution_count": 13,
   "metadata": {},
   "outputs": [
    {
     "name": "stdout",
     "output_type": "stream",
     "text": [
      "Enter the value of n: 2\n",
      "Enter the value of m: 3\n",
      "The value of m raised to the power n is:  9\n",
      "The value of m raised to the power n is:  9\n"
     ]
    }
   ],
   "source": [
    "n = int(input(\"Enter the value of n: \"))\n",
    "m = int(input(\"Enter the value of m: \"))\n",
    "\n",
    "print(\"The value of m raised to the power n is: \", (m ** n))\n",
    "print(\"The value of m raised to the power n is: \", pow(m, n))"
   ]
  },
  {
   "cell_type": "code",
   "execution_count": 29,
   "metadata": {},
   "outputs": [
    {
     "name": "stdout",
     "output_type": "stream",
     "text": [
      "Enter principal amount: 12345\n",
      "Enter time period in years: 1\n",
      "Enter rate of interest per annum: 1\n",
      "The Simple Interest is:  123.45\n"
     ]
    }
   ],
   "source": [
    "principal = input(\"Enter principal amount: \")\n",
    "time = input(\"Enter time period in years: \")\n",
    "rate = input(\"Enter rate of interest per annum: \")\n",
    "\n",
    "p = float(principal)\n",
    "t = float(time)\n",
    "r = float(rate)\n",
    "\n",
    "Simple_Interest = (p*t*r) / 100\n",
    "\n",
    "print(\"The Simple Interest is: \", Simple_Interest)"
   ]
  },
  {
   "cell_type": "code",
   "execution_count": 32,
   "metadata": {},
   "outputs": [
    {
     "name": "stdout",
     "output_type": "stream",
     "text": [
      "Enter principal amount: 1000\n",
      "Enter time period in years: 1\n",
      "Enter rate of interest per annum: 1\n",
      "The compound interest is:  20.100000000000023\n",
      "The amount is:  1020.1\n"
     ]
    }
   ],
   "source": [
    "principal = input(\"Enter principal amount: \")\n",
    "time = input(\"Enter time period in years: \")\n",
    "rate = input(\"Enter rate of interest per annum: \")\n",
    "\n",
    "p = float(principal)\n",
    "t = float(time)\n",
    "r = float(rate)\n",
    "\n",
    "Amount = p* ((1+ (r/100)) ** n)\n",
    "compInterest = Amount - p\n",
    "\n",
    "print(\"The compound interest is: \", compInterest)\n",
    "print(\"The amount is: \", Amount)"
   ]
  },
  {
   "cell_type": "code",
   "execution_count": 35,
   "metadata": {},
   "outputs": [
    {
     "name": "stdout",
     "output_type": "stream",
     "text": [
      "Enter a number: 100\n",
      "The sum of 1st n natural numbers is:  5050.0\n"
     ]
    }
   ],
   "source": [
    "n = int(input(\"Enter a number: \"))\n",
    "print(\"The sum of 1st n natural numbers is: \", ((n*(n+1))/2))"
   ]
  },
  {
   "cell_type": "code",
   "execution_count": 38,
   "metadata": {},
   "outputs": [
    {
     "name": "stdout",
     "output_type": "stream",
     "text": [
      "20\n",
      "10\n"
     ]
    }
   ],
   "source": [
    "a = 10\n",
    "b = 20\n",
    "\n",
    "temp = a\n",
    "a = b\n",
    "b = temp\n",
    "\n",
    "print(a)\n",
    "print(b)"
   ]
  }
 ],
 "metadata": {
  "kernelspec": {
   "display_name": "Python 3",
   "language": "python",
   "name": "python3"
  },
  "language_info": {
   "codemirror_mode": {
    "name": "ipython",
    "version": 3
   },
   "file_extension": ".py",
   "mimetype": "text/x-python",
   "name": "python",
   "nbconvert_exporter": "python",
   "pygments_lexer": "ipython3",
   "version": "3.7.3"
  }
 },
 "nbformat": 4,
 "nbformat_minor": 2
}
