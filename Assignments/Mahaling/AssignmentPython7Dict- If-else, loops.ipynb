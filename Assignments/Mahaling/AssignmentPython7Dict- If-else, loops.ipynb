{
 "cells": [
  {
   "cell_type": "code",
   "execution_count": 1,
   "metadata": {},
   "outputs": [
    {
     "name": "stdout",
     "output_type": "stream",
     "text": [
      "Enter value of n: 5\n",
      "{1: -1, 2: -2, 3: -3, 4: -4, 5: -5}\n"
     ]
    }
   ],
   "source": [
    "d = {}\n",
    "\n",
    "n = int(input(\"Enter value of n: \"))\n",
    "for k in range(1, n+1):\n",
    "    d[k] = -k\n",
    "print(d)\n",
    "    "
   ]
  },
  {
   "cell_type": "code",
   "execution_count": 9,
   "metadata": {},
   "outputs": [
    {
     "name": "stdout",
     "output_type": "stream",
     "text": [
      "Enter value of n: 6\n",
      "[1, 2, 3, 4, 5, 6] [-1, -2, -3, -4, -5, -6]\n",
      "{1: -1, 2: -2, 3: -3, 4: -4, 5: -5, 6: -6}\n"
     ]
    }
   ],
   "source": [
    "n = int(input(\"Enter value of n: \"))\n",
    "\n",
    "l1 = list(range(1, n+1))\n",
    "l2 = list(range(-n, 0))\n",
    "\n",
    "l2.sort(reverse = True)\n",
    "\n",
    "print(l1, l2)\n",
    "\n",
    "d = dict(zip(l1,l2))\n",
    "print(d)"
   ]
  },
  {
   "cell_type": "code",
   "execution_count": 19,
   "metadata": {},
   "outputs": [
    {
     "ename": "SyntaxError",
     "evalue": "keyword can't be an expression (<ipython-input-19-760a936f38d0>, line 26)",
     "output_type": "error",
     "traceback": [
      "\u001b[1;36m  File \u001b[1;32m\"<ipython-input-19-760a936f38d0>\"\u001b[1;36m, line \u001b[1;32m26\u001b[0m\n\u001b[1;33m    d = dict(1=2, 2=3)\u001b[0m\n\u001b[1;37m            ^\u001b[0m\n\u001b[1;31mSyntaxError\u001b[0m\u001b[1;31m:\u001b[0m keyword can't be an expression\n"
     ]
    }
   ],
   "source": [
    "# d = {1=2,2=3}\n",
    "# print(d)\n",
    "d = {1:2, 2:3}\n",
    "print(d)\n",
    "# d ={1,2 : 2,3}\n",
    "# print(d)\n",
    "d = {(1,2), (2,3)}\n",
    "print(d, type(d))\n",
    "d ={'a':'A','b':'1','c':[1234]}\n",
    "print(d, type(d))\n",
    "# d = dict([1,2], [2,3])\n",
    "# print(d, type(d))\n",
    "\n",
    "# d ={'a':'A','b':'1',c:[1234]}\n",
    "# print(d, type(d))\n",
    "\n",
    "d = dict(((1,2), (2,3)))\n",
    "print(d, type(d))\n",
    "\n",
    "d = dict(x=2, y=3)\n",
    "print(d)\n",
    "\n",
    "# d = dict('x'=2, 'y' =3)\n",
    "# print(d)\n",
    "\n",
    "d = dict(1=2, 2=3)\n",
    "print(d)"
   ]
  },
  {
   "cell_type": "code",
   "execution_count": 21,
   "metadata": {},
   "outputs": [
    {
     "name": "stdout",
     "output_type": "stream",
     "text": [
      "{'A': 'Apple', 'B': 'Ball', 'C': 'Cat', 'D': 'Dog'}\n",
      "dict_items([('A', 'Apple'), ('B', 'Ball'), ('C', 'Cat'), ('D', 'Dog')])\n",
      "{'A': 'Apple', 'C': 'Cat'}\n"
     ]
    }
   ],
   "source": [
    "l1 = ['A', 'B', 'C', 'D']\n",
    "l2 = ['Apple', 'Ball', 'Cat', 'Dog']\n",
    "\n",
    "d1 = dict(zip(l1,l2))\n",
    "print(d1)\n",
    "\n",
    "print(d1.items())\n",
    "\n",
    "d2 = dict(list(d1.items())[::2])\n",
    "print(d2)"
   ]
  },
  {
   "cell_type": "code",
   "execution_count": 15,
   "metadata": {},
   "outputs": [
    {
     "name": "stdout",
     "output_type": "stream",
     "text": [
      "Enter a string: Beautiful day\n",
      "{'a': 2, 'e': 1, 'i': 1, 'o': 0, 'u': 2}\n"
     ]
    }
   ],
   "source": [
    "s = input(\"Enter a string: \")\n",
    "\n",
    "s =s.lower()\n",
    "\n",
    "d = {'a':0,'e':0, 'i':0, 'o':0, 'u':0}\n",
    "\n",
    "# vowels =list('aeiou')\n",
    "# print(vowels)\n",
    "\n",
    "for c in s:\n",
    "    if c in d.keys():\n",
    "        d[c] += 1\n",
    "    else:\n",
    "        pass\n",
    "print(d)"
   ]
  },
  {
   "cell_type": "code",
   "execution_count": 22,
   "metadata": {},
   "outputs": [
    {
     "name": "stdout",
     "output_type": "stream",
     "text": [
      "Enter a string: mahaling\n",
      "{'m': 1, 'a': 2, 'h': 1, 'l': 1, 'i': 1, 'n': 1, 'g': 1}\n"
     ]
    }
   ],
   "source": [
    "s = input(\"Enter a string: \")\n",
    "\n",
    "s =s.lower()\n",
    "\n",
    "d = {}\n",
    "\n",
    "\n",
    "for c in s:\n",
    "    if c in d:\n",
    "        d[c] += 1\n",
    "    else:\n",
    "        d[c] = 1\n",
    "\n",
    "print(d)"
   ]
  },
  {
   "cell_type": "code",
   "execution_count": 24,
   "metadata": {},
   "outputs": [
    {
     "name": "stdout",
     "output_type": "stream",
     "text": [
      "Enter a string: count the words in the sentence in\n",
      "{'count': 1, 'the': 2, 'words': 1, 'in': 2, 'sentence': 1}\n"
     ]
    }
   ],
   "source": [
    "s = input(\"Enter a string: \")\n",
    "\n",
    "s =s.lower()\n",
    "s = list(s.split(' '))\n",
    "d = {}\n",
    "\n",
    "\n",
    "for c in s:\n",
    "    if c in d:\n",
    "        d[c] += 1\n",
    "    else:\n",
    "        d[c] = 1\n",
    "\n",
    "print(d)"
   ]
  }
 ],
 "metadata": {
  "kernelspec": {
   "display_name": "Python 3",
   "language": "python",
   "name": "python3"
  },
  "language_info": {
   "codemirror_mode": {
    "name": "ipython",
    "version": 3
   },
   "file_extension": ".py",
   "mimetype": "text/x-python",
   "name": "python",
   "nbconvert_exporter": "python",
   "pygments_lexer": "ipython3",
   "version": "3.7.3"
  }
 },
 "nbformat": 4,
 "nbformat_minor": 2
}
