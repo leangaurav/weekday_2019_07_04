{
 "cells": [
  {
   "cell_type": "code",
   "execution_count": 2,
   "metadata": {},
   "outputs": [],
   "source": [
    "with open('alphabets.txt', 'w') as f:\n",
    "    for al in range(65,91):\n",
    "        print(chr(al), sep = ',', end = '\\t', file = f)\n",
    "\n"
   ]
  },
  {
   "cell_type": "code",
   "execution_count": 3,
   "metadata": {},
   "outputs": [
    {
     "name": "stdout",
     "output_type": "stream",
     "text": [
      "A\tB\tC\tD\tE\tF\tG\tH\tI\tJ\tK\tL\tM\tN\tO\tP\tQ\tR\tS\tT\tU\tV\tW\tX\tY\tZ\t\n"
     ]
    }
   ],
   "source": [
    "f1 = open('alphabets.txt', 'r')\n",
    "\n",
    "print(f1.read())"
   ]
  },
  {
   "cell_type": "code",
   "execution_count": 4,
   "metadata": {},
   "outputs": [
    {
     "name": "stdout",
     "output_type": "stream",
     "text": [
      "0\n",
      "line\n",
      "4\n"
     ]
    }
   ],
   "source": [
    "f = open('file' , 'w')\n",
    "f.write('line with some characters')\n",
    "f.close()\n",
    "\n",
    "f = open('file' , 'r')\n",
    "print(f.tell())\n",
    "print(f.read(4))\n",
    "print(f.tell())\n"
   ]
  },
  {
   "cell_type": "code",
   "execution_count": 5,
   "metadata": {},
   "outputs": [
    {
     "name": "stdout",
     "output_type": "stream",
     "text": [
      "A\tB\tC\tD\tE\tF\tG\tH\tI\tJ\tK\tL\tM\tN\tO\tP\tQ\tR\tS\tT\tU\tV\tW\tX\tY\tZ\t\n"
     ]
    }
   ],
   "source": [
    "with open('alphabets.txt', 'r') as a:\n",
    "    for line in a:\n",
    "        \n",
    "        with open('alphabets1.txt', 'w') as b:\n",
    "            b.write(line)\n",
    "            \n",
    "\n",
    "with open('alphabets1.txt', 'r') as c:\n",
    "    print(c.read())\n",
    "        "
   ]
  },
  {
   "cell_type": "code",
   "execution_count": 6,
   "metadata": {},
   "outputs": [
    {
     "name": "stdout",
     "output_type": "stream",
     "text": [
      "a\tb\tc\td\te\tf\tg\th\ti\tj\tk\tl\tm\tn\to\tp\tq\tr\ts\tt\tu\tv\tw\tx\ty\tz\t\n"
     ]
    }
   ],
   "source": [
    "with open('alphabets.txt', 'r') as a:\n",
    "    for line in a:\n",
    "        if line.isupper() == True:\n",
    "            line = line.lower()\n",
    "#             print(line)\n",
    "            with open('alphabets2.txt', 'w') as b:\n",
    "                b.write(line.lower())\n",
    "        else:\n",
    "            line = line.upper()\n",
    "#             print(line)\n",
    "            with open('alphabets2.txt', 'w') as b:\n",
    "                b.write(line)\n",
    "        \n",
    "with open('alphabets2.txt', 'r') as c:\n",
    "    print(c.read())"
   ]
  },
  {
   "cell_type": "code",
   "execution_count": 98,
   "metadata": {},
   "outputs": [
    {
     "name": "stdout",
     "output_type": "stream",
     "text": [
      "Occurence of blank space is: 0\n"
     ]
    }
   ],
   "source": [
    "count = 0\n",
    "\n",
    "\n",
    "with open('News.txt', 'w') as n:\n",
    "    n.write('aa bb cc dd ee ff')\n",
    "\n",
    "\n",
    "with open('News.txt', 'r') as t:\n",
    "    for line in t:\n",
    "        words = line.split()\n",
    "        for word in words:\n",
    "            for char in word:\n",
    "                if (char.isspace() == True):\n",
    "                    count += 1\n",
    "            \n",
    "       \n",
    "print(\"Occurence of blank space is: {}\".format(count))"
   ]
  },
  {
   "cell_type": "code",
   "execution_count": 101,
   "metadata": {},
   "outputs": [
    {
     "name": "stdout",
     "output_type": "stream",
     "text": [
      "Enter the character to be searched: \n",
      "Occurrences of the character   is: 0\n"
     ]
    }
   ],
   "source": [
    "l = input(\"Enter the character to be searched:\")\n",
    "\n",
    "counter = 0\n",
    "\n",
    "with open('News.txt', 'r') as t:\n",
    "    for line in t:\n",
    "        word = line.split()\n",
    "        for i in word:\n",
    "            for letter in i:\n",
    "                if l == letter:\n",
    "                    counter += 1\n",
    "print(\"Occurrences of the character {} is: {}\".format(l, counter))\n",
    "                \n",
    "            \n"
   ]
  },
  {
   "cell_type": "code",
   "execution_count": 96,
   "metadata": {},
   "outputs": [
    {
     "name": "stdout",
     "output_type": "stream",
     "text": [
      "['Hi']\n",
      "['Mahaling']\n",
      "Occurence of blank space is: 0\n"
     ]
    }
   ],
   "source": [
    "count = 0\n",
    "\n",
    "with open('News.txt', 'r') as t:\n",
    "    for line in t:\n",
    "        word = line.split(sep = ' ')\n",
    "# print(word)\n",
    "# print(len(word))\n",
    "        for a in word:\n",
    "            letter = a.split(sep = ' ')\n",
    "            print(letter)\n",
    "\n",
    "        \n",
    "print(\"Occurence of blank space is: {}\".format(count))"
   ]
  },
  {
   "cell_type": "code",
   "execution_count": 103,
   "metadata": {},
   "outputs": [
    {
     "name": "stdout",
     "output_type": "stream",
     "text": [
      "Not Same!!\n"
     ]
    }
   ],
   "source": [
    "with open('News.txt', 'r') as f1:\n",
    "    with open('alphabets.txt', 'r') as f2:\n",
    "        for line1 in f1:\n",
    "            for line2 in f2:\n",
    "                if line1 == line2:\n",
    "                    print(\"Contents same\")\n",
    "                else:\n",
    "                    print(\"Not Same!!\")"
   ]
  }
 ],
 "metadata": {
  "kernelspec": {
   "display_name": "Python 3",
   "language": "python",
   "name": "python3"
  },
  "language_info": {
   "codemirror_mode": {
    "name": "ipython",
    "version": 3
   },
   "file_extension": ".py",
   "mimetype": "text/x-python",
   "name": "python",
   "nbconvert_exporter": "python",
   "pygments_lexer": "ipython3",
   "version": "3.7.3"
  }
 },
 "nbformat": 4,
 "nbformat_minor": 2
}
