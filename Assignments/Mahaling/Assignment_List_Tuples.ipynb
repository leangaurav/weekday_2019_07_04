{
 "cells": [
  {
   "cell_type": "code",
   "execution_count": 1,
   "metadata": {},
   "outputs": [
    {
     "name": "stdout",
     "output_type": "stream",
     "text": [
      "[1, 2, 3, 4, 5]\n"
     ]
    }
   ],
   "source": [
    "t = (1,2,3,4,5)\n",
    "lis_t = list(t)\n",
    "print(lis_t)"
   ]
  },
  {
   "cell_type": "code",
   "execution_count": 8,
   "metadata": {},
   "outputs": [
    {
     "name": "stdout",
     "output_type": "stream",
     "text": [
      "(1, 3, 5, 7, 8, 6, 4, 2)\n",
      "[8, 6, 4, 2, 1, 3, 5, 7]\n"
     ]
    }
   ],
   "source": [
    "L = [1,3,5,7]\n",
    "T = (8,6,4,2)\n",
    "\n",
    "LS = tuple(L) + T\n",
    "print(LS)\n",
    "\n",
    "#T1 = list(T) + L # storing as a tuple\n",
    "#print(T1)"
   ]
  },
  {
   "cell_type": "code",
   "execution_count": null,
   "metadata": {},
   "outputs": [],
   "source": [
    "## List is mutable abd a tuple is immutable"
   ]
  },
  {
   "cell_type": "code",
   "execution_count": 14,
   "metadata": {},
   "outputs": [
    {
     "name": "stdout",
     "output_type": "stream",
     "text": [
      "['C', 'A', 'c', 'd', 'a']\n"
     ]
    }
   ],
   "source": [
    "l = ['a', 'd', 'c', 'A', 'C']\n",
    "\n",
    "print(l[::-1])"
   ]
  },
  {
   "cell_type": "code",
   "execution_count": 16,
   "metadata": {},
   "outputs": [
    {
     "name": "stdout",
     "output_type": "stream",
     "text": [
      "[11, 21, 31, 41]\n"
     ]
    }
   ],
   "source": [
    "l = [10,11,20,21,30,31,40,41]\n",
    "print(l[1::2])"
   ]
  },
  {
   "cell_type": "code",
   "execution_count": 20,
   "metadata": {},
   "outputs": [
    {
     "name": "stdout",
     "output_type": "stream",
     "text": [
      "[1, 2, 3, 4]\n",
      "None\n",
      "[1, 2, 3, 4]\n",
      "[1, 2, 3, 4]\n",
      "None\n",
      "[1, 2, 3, 4]\n"
     ]
    }
   ],
   "source": [
    "## Ways to copy a list\n",
    "\n",
    "List_1 = [1,2,3,4]\n",
    "# Method 1\n",
    "newList = List_1[:]\n",
    "print(newList)\n",
    "\n",
    "# Method 2 -- Using extend -- Not working\n",
    "\n",
    "L = []\n",
    "new = L.extend(List_1)\n",
    "print(new)\n",
    "\n",
    "###################\n",
    "# Method 3 -- Using list\n",
    "new = list(List_1)\n",
    "print(new)\n",
    "\n",
    "### copy method\n",
    "new = List_1.copy()\n",
    "print(new)\n",
    "\n",
    "### append -- not working\n",
    "new = []\n",
    "for i in List_1: \n",
    "    new1 = new.append(i)\n",
    "print(new1)\n",
    "\n"
   ]
  },
  {
   "cell_type": "code",
   "execution_count": 21,
   "metadata": {},
   "outputs": [
    {
     "name": "stdout",
     "output_type": "stream",
     "text": [
      "a\n",
      "5\n"
     ]
    }
   ],
   "source": [
    "n_list = [\"Happy\", [2,0,1,5]]\n",
    "print(n_list[0][1])\n",
    "print(n_list[1][3])"
   ]
  },
  {
   "cell_type": "code",
   "execution_count": 34,
   "metadata": {},
   "outputs": [
    {
     "name": "stdout",
     "output_type": "stream",
     "text": [
      "2\n",
      "4\n",
      "6\n",
      "8\n",
      "[1, 4, 6, 8]\n",
      "[4, 6, 8]\n",
      "[4, 6]\n",
      "[1, 3, 5, 7]\n"
     ]
    }
   ],
   "source": [
    "odd = [2,4,6,8]\n",
    "print(odd[0])\n",
    "print(odd[1])\n",
    "print(odd[2])\n",
    "print(odd[3])\n",
    "\n",
    "\n",
    "odd[0] = 1\n",
    "print(odd)\n",
    "print(odd[1:4])\n",
    "print(odd[1:3])\n",
    "\n",
    "\n",
    "odd[1:4] = [3,5,7]\n",
    "print(odd)\n",
    "\n"
   ]
  },
  {
   "cell_type": "code",
   "execution_count": 43,
   "metadata": {},
   "outputs": [
    {
     "name": "stdout",
     "output_type": "stream",
     "text": [
      "[1, 3, 5, [7, 9]]\n",
      "[1, 3, 5, [7, 9], 11, 13]\n"
     ]
    }
   ],
   "source": [
    "odd = [1, 3, 5]\n",
    "odd.append([7, 9]) # adds a list with the list\n",
    "print(odd)\n",
    "odd.extend([11,13]) # adds elemets to existing list\n",
    "print(odd)\n"
   ]
  },
  {
   "cell_type": "code",
   "execution_count": 41,
   "metadata": {},
   "outputs": [
    {
     "name": "stdout",
     "output_type": "stream",
     "text": [
      "<class 'tuple'>\n",
      "<class 'int'>\n",
      "<class 'int'>\n",
      "<class 'tuple'>\n"
     ]
    }
   ],
   "source": [
    "x = 1,2,3 ; print(type(x))\n",
    "x = (1); print(type(x))\n",
    "x = 1 ; print(type(x))\n",
    "x = 1, ; print(type(x))"
   ]
  },
  {
   "cell_type": "code",
   "execution_count": 48,
   "metadata": {},
   "outputs": [
    {
     "name": "stdout",
     "output_type": "stream",
     "text": [
      "[[1, 2, 3], [4, 5, 6], [7, 8, 9]]\n",
      "2\n",
      "5\n"
     ]
    }
   ],
   "source": [
    "matrix = [[1, 2, 3], [4, 5, 6], [7, 8, 9]]\n",
    "\n",
    "print(matrix)\n",
    "print(matrix[0][1]) # first row, 2nd element\n",
    "print(matrix[1][1]) # 2nd row, 2nd element\n",
    "\n"
   ]
  },
  {
   "cell_type": "code",
   "execution_count": 52,
   "metadata": {},
   "outputs": [
    {
     "name": "stdout",
     "output_type": "stream",
     "text": [
      "('S', 't', 'r', 'i', 'n', 'g', 'a', 'n', 'o', 't', 'h', 'e', 'r', ' ', 's', 't', 'r', 'i', 'n', 'g')\n"
     ]
    }
   ],
   "source": [
    "t1 = tuple('String')\n",
    "t2 = tuple('another string')\n",
    "t3 = t1 + t2\n",
    "print(t3)"
   ]
  },
  {
   "cell_type": "code",
   "execution_count": 56,
   "metadata": {},
   "outputs": [
    {
     "name": "stdout",
     "output_type": "stream",
     "text": [
      "True\n",
      "False\n",
      "1\n",
      "0\n"
     ]
    }
   ],
   "source": [
    "t = tuple([10 , 20, 30, 40, 50, 60])\n",
    "print(60 in t)\n",
    "print('60' in t)\n",
    "print(int(60 in t))\n",
    "print(int(1 in t))"
   ]
  },
  {
   "cell_type": "code",
   "execution_count": 60,
   "metadata": {},
   "outputs": [
    {
     "name": "stdout",
     "output_type": "stream",
     "text": [
      "Enter a stringmahal\n",
      "Not Palindrome\n"
     ]
    }
   ],
   "source": [
    "s1 = input(\"Enter a string\")\n",
    "s2 = s1[::-1]\n",
    "\n",
    "if s2 == s1:\n",
    "    print(\"Is Palindrome\")\n",
    "else:\n",
    "    print(\"Not Palindrome\")\n",
    "\n"
   ]
  },
  {
   "cell_type": "code",
   "execution_count": 61,
   "metadata": {},
   "outputs": [
    {
     "name": "stdout",
     "output_type": "stream",
     "text": [
      "Enter a stringMaha\n",
      "Not a Palindrome\n"
     ]
    }
   ],
   "source": [
    "s1 = input(\"Enter a string\")\n",
    "s2 = s1[::-1]\n",
    "\n",
    "r = (s2 == s1)\n",
    "\n",
    "l =[\"Not a Palindrome\", \"Is Palindrome\"]\n",
    "print(l[r])"
   ]
  },
  {
   "cell_type": "code",
   "execution_count": 77,
   "metadata": {},
   "outputs": [
    {
     "name": "stdout",
     "output_type": "stream",
     "text": [
      "(20, 15, 10, 5)\n"
     ]
    }
   ],
   "source": [
    "t = tuple(range(20,0,-5))\n",
    "print(t)"
   ]
  },
  {
   "cell_type": "code",
   "execution_count": 78,
   "metadata": {},
   "outputs": [
    {
     "name": "stdout",
     "output_type": "stream",
     "text": [
      "Enter a string: Mahaling\n",
      "['M', 'a', 'h', 'a', 'l', 'i', 'n', 'g']\n"
     ]
    }
   ],
   "source": [
    "s = input(\"Enter a string: \")\n",
    "print(list(s))"
   ]
  },
  {
   "cell_type": "code",
   "execution_count": 79,
   "metadata": {},
   "outputs": [
    {
     "name": "stdout",
     "output_type": "stream",
     "text": [
      "<class 'list'>\n",
      "<class 'NoneType'>\n",
      "<class 'str'>\n",
      "<class 'bool'>\n"
     ]
    }
   ],
   "source": [
    "print(type('1 2'.split()))\n",
    "print(type([1, 3, 2].sort()))\n",
    "\n",
    "print(type('abc'.upper()))\n",
    "# print('abc'.upper())\n",
    "print(type(1 in [1,2]))"
   ]
  }
 ],
 "metadata": {
  "kernelspec": {
   "display_name": "Python 3",
   "language": "python",
   "name": "python3"
  },
  "language_info": {
   "codemirror_mode": {
    "name": "ipython",
    "version": 3
   },
   "file_extension": ".py",
   "mimetype": "text/x-python",
   "name": "python",
   "nbconvert_exporter": "python",
   "pygments_lexer": "ipython3",
   "version": "3.7.3"
  }
 },
 "nbformat": 4,
 "nbformat_minor": 2
}
