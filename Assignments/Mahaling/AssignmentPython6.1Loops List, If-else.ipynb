{
 "cells": [
  {
   "cell_type": "code",
   "execution_count": 7,
   "metadata": {},
   "outputs": [
    {
     "name": "stdout",
     "output_type": "stream",
     "text": [
      "Enter a string: Mahaling\n",
      "M\n",
      "a\n",
      "h\n",
      "a\n",
      "l\n",
      "i\n",
      "n\n",
      "g\n"
     ]
    }
   ],
   "source": [
    "s = input(\"Enter a string: \")\n",
    "\n",
    "for i in s:\n",
    "    print(i)"
   ]
  },
  {
   "cell_type": "code",
   "execution_count": 8,
   "metadata": {},
   "outputs": [
    {
     "name": "stdout",
     "output_type": "stream",
     "text": [
      "Enter a string: Mahaling\n",
      "77\n",
      "97\n",
      "104\n",
      "97\n",
      "108\n",
      "105\n",
      "110\n",
      "103\n"
     ]
    }
   ],
   "source": [
    "s = input(\"Enter a string: \")\n",
    "\n",
    "for i in s:\n",
    "    print(ord(i))"
   ]
  },
  {
   "cell_type": "code",
   "execution_count": 14,
   "metadata": {},
   "outputs": [
    {
     "name": "stdout",
     "output_type": "stream",
     "text": [
      "Enter a numbder: 1\n",
      "Enter a numbder: 19\n",
      "81\n"
     ]
    }
   ],
   "source": [
    "\n",
    "\n",
    "n1 = int(input(\"Enter a numbder: \"))\n",
    "n2 = int(input(\"Enter a numbder: \"))\n",
    "\n",
    "_sum = 0\n",
    "\n",
    "n = list(range(n1, n2, 2))\n",
    "\n",
    "for i in n:\n",
    "#     print(i)\n",
    "    _sum = _sum+i\n",
    "    \n",
    "print(_sum) \n",
    "\n"
   ]
  },
  {
   "cell_type": "code",
   "execution_count": 4,
   "metadata": {},
   "outputs": [
    {
     "name": "stdout",
     "output_type": "stream",
     "text": [
      "Enter a number: 19\n",
      "(5, 6, 7, 8, 9, 10, 11, 12, 13, 14, 15, 16, 17, 18)\n",
      "Enter the number for indexing: 12\n",
      "The index position of 12 is 7: \n"
     ]
    }
   ],
   "source": [
    "n = int(input(\"Enter a number: \"))\n",
    "\n",
    "_list = list(range(5,n))\n",
    "t = tuple(_list)\n",
    "print(t)\n",
    "\n",
    "a = int(input(\"Enter the number for indexing: \"))\n",
    "\n",
    "idx = t.index(a)\n",
    "print(\"The index position of {} is {}: \".format(a, idx))"
   ]
  },
  {
   "cell_type": "code",
   "execution_count": 26,
   "metadata": {},
   "outputs": [
    {
     "name": "stdout",
     "output_type": "stream",
     "text": [
      "[1, 3, 5, 7, 12, 13, 17, 19, 76, 30]\n",
      "183\n",
      "The average is: 18.3\n",
      "1\n",
      "5\n",
      "12\n",
      "17\n",
      "76\n"
     ]
    }
   ],
   "source": [
    "a = [1, 3, 5, 7, 12, 13, 17, 19, 76, 30]\n",
    "\n",
    "print(a)\n",
    "\n",
    "_sum = 0\n",
    "\n",
    "for i in a:\n",
    "    _sum += i\n",
    "    average = (_sum / i)\n",
    "print(_sum)\n",
    "print(\"The average is:\" , (_sum / len(a)))\n",
    "\n",
    "for i in range(0, len(a), 2):\n",
    "    print(a[i])\n"
   ]
  },
  {
   "cell_type": "code",
   "execution_count": 45,
   "metadata": {},
   "outputs": [
    {
     "name": "stdout",
     "output_type": "stream",
     "text": [
      "Enter a number: 18\n",
      "[18, 18, 18, 18, 18, 18, 18, 18, 18, 18]\n",
      "180\n"
     ]
    }
   ],
   "source": [
    "n = int(input(\"Enter a number: \"))\n",
    "\n",
    "a = []\n",
    "for i in range(0,10):\n",
    "    a.append(n)\n",
    "print(a)\n",
    "_sum = 0\n",
    "for i in a:\n",
    "    _sum += i\n",
    "print(_sum)"
   ]
  },
  {
   "cell_type": "code",
   "execution_count": 51,
   "metadata": {},
   "outputs": [
    {
     "name": "stdout",
     "output_type": "stream",
     "text": [
      "Enter a number: 7\n",
      "7 x 1 = 7\n",
      "7 x 2 = 14\n",
      "7 x 3 = 21\n",
      "7 x 4 = 28\n",
      "7 x 5 = 35\n",
      "7 x 6 = 42\n",
      "7 x 7 = 49\n",
      "7 x 8 = 56\n",
      "7 x 9 = 63\n",
      "7 x 10 = 70\n"
     ]
    }
   ],
   "source": [
    "n = int(input(\"Enter a number: \"))\n",
    "\n",
    "for j in range(1,11):\n",
    "        print(\"{} x {} = {}\".format(n, j, (n * j)))"
   ]
  },
  {
   "cell_type": "code",
   "execution_count": 66,
   "metadata": {},
   "outputs": [
    {
     "name": "stdout",
     "output_type": "stream",
     "text": [
      "Enter a string:ma ha ling\n",
      "number of spaces:  2\n"
     ]
    }
   ],
   "source": [
    "s = input(\"Enter a string:\")\n",
    "\n",
    "d = ' '\n",
    "\n",
    "counter = 0\n",
    "for c in s:\n",
    "    if d in c:\n",
    "        counter += 1\n",
    "print(\"number of spaces: \", counter)"
   ]
  },
  {
   "cell_type": "code",
   "execution_count": 10,
   "metadata": {},
   "outputs": [
    {
     "name": "stdout",
     "output_type": "stream",
     "text": [
      "Enter a string:Pallavi\n",
      "number of vowels:  3\n"
     ]
    }
   ],
   "source": [
    "s = input(\"Enter a string:\")\n",
    "s = s.lower()\n",
    "vowels = list('aeiou')\n",
    "\n",
    "counter = 0\n",
    "\n",
    "for c in s:\n",
    "   \n",
    "    if c in vowels:\n",
    "        \n",
    "        counter = counter + 1\n",
    "print(\"number of vowels: \", counter)\n",
    "        "
   ]
  },
  {
   "cell_type": "code",
   "execution_count": 3,
   "metadata": {},
   "outputs": [
    {
     "name": "stdout",
     "output_type": "stream",
     "text": [
      "Enter a string:aeiou\n",
      "_____\n"
     ]
    }
   ],
   "source": [
    "s = input(\"Enter a string:\")\n",
    "\n",
    "s = s.lower()\n",
    "\n",
    "# print(s)\n",
    "\n",
    "vowels = list('aeiou')\n",
    "\n",
    "for c in s:\n",
    "    if c in vowels:\n",
    "        s = s.replace(c,\"_\")\n",
    "print(s)\n",
    "        "
   ]
  },
  {
   "cell_type": "code",
   "execution_count": 9,
   "metadata": {},
   "outputs": [
    {
     "name": "stdout",
     "output_type": "stream",
     "text": [
      "Num :  0\n",
      "0\n",
      "Loop Ends\n"
     ]
    }
   ],
   "source": [
    "for num in range(10):\n",
    "    print(\"Num : \", num)\n",
    "    if num % 4 == 0:\n",
    "        print(num)\n",
    "        break\n",
    "print(\"Loop Ends\")"
   ]
  },
  {
   "cell_type": "code",
   "execution_count": 10,
   "metadata": {},
   "outputs": [
    {
     "name": "stdout",
     "output_type": "stream",
     "text": [
      "Num:  0\n"
     ]
    },
    {
     "ename": "SystemExit",
     "evalue": "",
     "output_type": "error",
     "traceback": [
      "An exception has occurred, use %tb to see the full traceback.\n",
      "\u001b[1;31mSystemExit\u001b[0m\n"
     ]
    },
    {
     "name": "stderr",
     "output_type": "stream",
     "text": [
      "C:\\ProgramData\\Anaconda3\\lib\\site-packages\\IPython\\core\\interactiveshell.py:3304: UserWarning: To exit: use 'exit', 'quit', or Ctrl-D.\n",
      "  warn(\"To exit: use 'exit', 'quit', or Ctrl-D.\", stacklevel=1)\n"
     ]
    }
   ],
   "source": [
    "import sys\n",
    "for num in range(10):\n",
    "    print(\"Num: \", num)\n",
    "    if num % 4 == 0:\n",
    "        sys.exit()\n",
    "print(\"Loop Ends\")"
   ]
  },
  {
   "cell_type": "code",
   "execution_count": 12,
   "metadata": {},
   "outputs": [
    {
     "name": "stdout",
     "output_type": "stream",
     "text": [
      "*****\n",
      "*****\n",
      "*****\n",
      "*****\n",
      "*****\n"
     ]
    }
   ],
   "source": [
    "for i1 in range(1,6):\n",
    "    for i2 in range(5):\n",
    "        print('*', end ='')\n",
    "    print()"
   ]
  },
  {
   "cell_type": "code",
   "execution_count": 13,
   "metadata": {},
   "outputs": [
    {
     "name": "stdout",
     "output_type": "stream",
     "text": [
      "1\n",
      "22\n",
      "333\n",
      "4444\n",
      "55555\n"
     ]
    }
   ],
   "source": [
    "for i1 in range(1,6):\n",
    "    print(str(i1)*i1)"
   ]
  },
  {
   "cell_type": "code",
   "execution_count": 14,
   "metadata": {},
   "outputs": [
    {
     "name": "stdout",
     "output_type": "stream",
     "text": [
      "1\n",
      "22\n",
      "333\n",
      "4444\n",
      "55555\n"
     ]
    }
   ],
   "source": [
    "for i1 in range(1,6):\n",
    "    for i2  in range(i1):\n",
    "        print(i1, end = '')\n",
    "    print()"
   ]
  },
  {
   "cell_type": "code",
   "execution_count": 15,
   "metadata": {},
   "outputs": [
    {
     "name": "stdout",
     "output_type": "stream",
     "text": [
      "**\n",
      "***\n",
      "****\n",
      "*****\n",
      "******\n"
     ]
    }
   ],
   "source": [
    "for i1 in range(1,6):\n",
    "    for i2  in range(i1+1):\n",
    "        print('*', end = '')\n",
    "    print()"
   ]
  }
 ],
 "metadata": {
  "kernelspec": {
   "display_name": "Python 3",
   "language": "python",
   "name": "python3"
  },
  "language_info": {
   "codemirror_mode": {
    "name": "ipython",
    "version": 3
   },
   "file_extension": ".py",
   "mimetype": "text/x-python",
   "name": "python",
   "nbconvert_exporter": "python",
   "pygments_lexer": "ipython3",
   "version": "3.7.3"
  }
 },
 "nbformat": 4,
 "nbformat_minor": 2
}
