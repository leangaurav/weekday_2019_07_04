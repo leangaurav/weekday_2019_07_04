{
 "cells": [
  {
   "cell_type": "code",
   "execution_count": 1,
   "metadata": {},
   "outputs": [
    {
     "name": "stdout",
     "output_type": "stream",
     "text": [
      "Enter value of n: 5\n",
      "Enter value of m: 2\n",
      "m and n aren't fully divisible by each other!!\n"
     ]
    }
   ],
   "source": [
    "n = int(input(\"Enter value of n: \"))\n",
    "\n",
    "m = int(input(\"Enter value of m: \"))\n",
    "\n",
    "if m % n == 0:\n",
    "    print(\"{} is divisible by {}\".format(m, n))\n",
    "elif n % m == 0:\n",
    "    print(\"{} is divisible by {}\".format(n, m))\n",
    "else:\n",
    "    print(\"m and n aren't fully divisible by each other!!\")"
   ]
  },
  {
   "cell_type": "code",
   "execution_count": 4,
   "metadata": {},
   "outputs": [
    {
     "name": "stdout",
     "output_type": "stream",
     "text": [
      "Enter a string: malayalam\n",
      "Palindrome\n"
     ]
    }
   ],
   "source": [
    "s = input(\"Enter a string: \")\n",
    "\n",
    "s = s.lower()\n",
    "\n",
    "s_reverse = s[::-1]\n",
    "\n",
    "if s_reverse == s:\n",
    "    print(\"Palindrome\")\n",
    "else:\n",
    "    print(\"Not a Palindrome\")"
   ]
  },
  {
   "cell_type": "code",
   "execution_count": 8,
   "metadata": {},
   "outputs": [
    {
     "name": "stdout",
     "output_type": "stream",
     "text": [
      "Enter value of side a: 13\n",
      "Enter value of side b: 12\n",
      "Enter value of side c: 13\n",
      "Isosceles Triangle\n"
     ]
    }
   ],
   "source": [
    "a = float(input(\"Enter value of side a: \"))\n",
    "b = float(input(\"Enter value of side b: \"))\n",
    "c = float(input(\"Enter value of side c: \"))\n",
    "\n",
    "if a == b and b == c:\n",
    "    print(\"Equilateral Triangle\")\n",
    "elif a == b or b == c or a == c:\n",
    "    print(\"Isosceles Triangle\")\n",
    "else:\n",
    "    print(\"Scalene Triangle\")\n",
    "    "
   ]
  },
  {
   "cell_type": "code",
   "execution_count": 11,
   "metadata": {},
   "outputs": [
    {
     "name": "stdout",
     "output_type": "stream",
     "text": [
      "Enter a number: 4\n",
      "Even Number\n"
     ]
    }
   ],
   "source": [
    "n = int(input(\"Enter a number: \"))\n",
    "\n",
    "if n % 2 == 0:\n",
    "    print(\"Even Number\")\n",
    "else:\n",
    "    print(\"Odd Number\")"
   ]
  },
  {
   "cell_type": "code",
   "execution_count": 17,
   "metadata": {},
   "outputs": [
    {
     "name": "stdout",
     "output_type": "stream",
     "text": [
      "Enter the age: 1\n",
      "Child\n"
     ]
    }
   ],
   "source": [
    "n = int(input(\"Enter the age: \"))\n",
    "\n",
    "if 0 < n <= 12:\n",
    "    print(\"Child\")\n",
    "elif 13 <= n <= 17:\n",
    "    print(\"Teen\")\n",
    "elif 18 <= n <= 50:\n",
    "    print(\"Adult\")\n",
    "elif 51 <= n <= 100:\n",
    "    print(\"Senior Citizen\")\n",
    "else:\n",
    "    print(\"Contratulations\")"
   ]
  },
  {
   "cell_type": "code",
   "execution_count": 24,
   "metadata": {},
   "outputs": [
    {
     "name": "stdout",
     "output_type": "stream",
     "text": [
      "Enter the value of year: 1200\n",
      "1200 is leap year\n"
     ]
    }
   ],
   "source": [
    "n = int(input(\"Enter the value of year: \"))\n",
    "\n",
    "if n >= 1000: \n",
    "    if n % 4 == 0:\n",
    "        if n % 100 == 0:\n",
    "            if n % 400 == 0:\n",
    "                print(\"{} is leap year\".format(n))\n",
    "            else:\n",
    "                print(\"{} is not a leap year\".format(n))\n",
    "        else:\n",
    "            print(\"{} is leap year\".format(n))\n",
    "    else:\n",
    "        print(\"{} is not a leap year!!\".format(n))\n",
    "else:\n",
    "    print(\"Enter a year that is greater than 999\")"
   ]
  },
  {
   "cell_type": "code",
   "execution_count": 26,
   "metadata": {},
   "outputs": [
    {
     "name": "stdout",
     "output_type": "stream",
     "text": [
      "Enter a string: Cat\n",
      "CAT\n"
     ]
    }
   ],
   "source": [
    "s = input(\"Enter a string: \")\n",
    "\n",
    "if len(s) % 2 == 0:\n",
    "    print(s.lower())\n",
    "else:\n",
    "    print(s.upper())"
   ]
  },
  {
   "cell_type": "code",
   "execution_count": 33,
   "metadata": {},
   "outputs": [
    {
     "name": "stdout",
     "output_type": "stream",
     "text": [
      "True\n",
      "True\n",
      "Weird!\n",
      "[4, 3, 2, 1]\n"
     ]
    }
   ],
   "source": [
    "#### 1\n",
    "\n",
    "if not 1:\n",
    "    print(\"False\")\n",
    "else:\n",
    "    print(\"True\")\n",
    "    \n",
    "#### 2\n",
    "\n",
    "if 1:\n",
    "    print(\"True\")\n",
    "else:\n",
    "    print(\"False\")\n",
    "\n",
    "    \n",
    "#### 3\n",
    "\n",
    "if 'a' > 'A':\n",
    "    print(\"Weird!\")\n",
    "else:\n",
    "    print(\"Makes sense!\")\n",
    "    \n",
    "#### 4\n",
    "\n",
    "a = [1,2,3,4]\n",
    "\n",
    "\n",
    "if 1 > 1:\n",
    "    a = a[::-1]\n",
    "else:\n",
    "    a = a[-1::-1]\n",
    "print(a)\n",
    "    "
   ]
  },
  {
   "cell_type": "code",
   "execution_count": 47,
   "metadata": {},
   "outputs": [
    {
     "name": "stdout",
     "output_type": "stream",
     "text": [
      "Enter the marks in Subject A: 17\n",
      "Enter the marks in Subject B: 60\n",
      "Enter the marks in Subject C: 70\n",
      "Enter the marks in Subject D: 80\n",
      "Enter the marks in Subject E: 100\n",
      "The grade in subject A is F: \n",
      "The grade in subject B is C: \n",
      "The grade in subject C is C: \n",
      "The grade in subject D is B: \n",
      "The grade in subject E is A: \n",
      "\n"
     ]
    }
   ],
   "source": [
    "a = int(input(\"Enter the marks in Subject A: \"))\n",
    "b = int(input(\"Enter the marks in Subject B: \"))\n",
    "c = int(input(\"Enter the marks in Subject C: \"))\n",
    "d = int(input(\"Enter the marks in Subject D: \"))\n",
    "e = int(input(\"Enter the marks in Subject E: \"))\n",
    "\n",
    "marks = {'A':a, 'B':b, 'C':c, 'D':d, 'E':e}\n",
    "\n",
    "\n",
    "for i in marks.keys():\n",
    "\n",
    "    if 90 <= marks[i] <= 100:\n",
    "        print(\"The grade in subject {} is A \".format(i))\n",
    "    elif 80 <= marks[i] <= 89:\n",
    "        print(\"The grade in subject {} is B \".format(i))\n",
    "    elif 60 <= marks[i] <= 79:\n",
    "        print(\"The grade in subject {} is C \".format(i))\n",
    "    else:\n",
    "        print(\"The grade in subject {} is F \".format(i))\n",
    "print()\n",
    "\n",
    "    \n",
    "            \n",
    "    "
   ]
  },
  {
   "cell_type": "code",
   "execution_count": 50,
   "metadata": {},
   "outputs": [
    {
     "name": "stdout",
     "output_type": "stream",
     "text": [
      "Enter a string: Apple\n",
      "Veg\n"
     ]
    }
   ],
   "source": [
    "s = input(\"Enter a string: \")\n",
    "\n",
    "s = s.lower()\n",
    "\n",
    "if 'egg' in s:\n",
    "    print(\"Nov Veg\")\n",
    "else:\n",
    "    print(\"Veg\")"
   ]
  },
  {
   "cell_type": "code",
   "execution_count": 51,
   "metadata": {},
   "outputs": [
    {
     "name": "stdout",
     "output_type": "stream",
     "text": [
      "Enter salary: 900000\n",
      "Enter Age: 67\n",
      "The tax to be paid is:  72000.0\n"
     ]
    }
   ],
   "source": [
    "n = int(input(\"Enter salary: \"))\n",
    "\n",
    "age = int(input(\"Enter Age: \"))\n",
    "\n",
    "if 0 < n <= 250000:\n",
    "    if age < 60:\n",
    "        print(\"Zero Tax\")\n",
    "    else:\n",
    "        print(\"Zero Tax\")\n",
    "if 250001 <= n <= 500000:\n",
    "    if age < 60:\n",
    "        print(\"The tax to be paid is: \", n*0.05)\n",
    "    else:\n",
    "        print(\"The tax to be paid is: \", n*0.03)\n",
    "\n",
    "if 500001 <= n <= 1000000:\n",
    "    if age < 60:\n",
    "        print(\"The tax to be paid is: \", n*0.10)\n",
    "    else:\n",
    "        print(\"The tax to be paid is: \", n*0.08)\n",
    "if n >= 1000001:\n",
    "    if age < 60:\n",
    "        print(\"The tax to be paid is: \", n*0.15)\n",
    "    else:\n",
    "        print(\"The tax to be paid is: \", n*0.12)"
   ]
  },
  {
   "cell_type": "code",
   "execution_count": 55,
   "metadata": {},
   "outputs": [
    {
     "name": "stdout",
     "output_type": "stream",
     "text": [
      "10\n",
      "10\n",
      "10\n",
      "OMG\n"
     ]
    }
   ],
   "source": [
    "print(20 if not 1 == 1 else 10)\n",
    "print(30 if not 1 == 1 else 20 if 'a' < 'A' else 10)\n",
    "print(40 if not 1==1 else 30 if 'a' < 'A' else 20 if '' else 10)\n",
    "print('No' if not 1 == 1 else ('No' if 'a' < 'A' else('OMG' if 'Oh!!' else 'No')) )"
   ]
  },
  {
   "cell_type": "code",
   "execution_count": 58,
   "metadata": {},
   "outputs": [
    {
     "name": "stdout",
     "output_type": "stream",
     "text": [
      "Enter mass in Kgs: 56\n",
      "Enter height in meters: 1.58\n",
      "Normal\n"
     ]
    }
   ],
   "source": [
    "def BMI():\n",
    "    bmi = mass /(height ** 2)\n",
    "    return bmi\n",
    "\n",
    "mass = float(input(\"Enter mass in Kgs: \"))\n",
    "height = float(input(\"Enter height in meters: \"))\n",
    "\n",
    "if BMI() < 25:\n",
    "    print(\"Normal\")\n",
    "elif 25 <= BMI() <= 29:\n",
    "    print(\"Over Weight\")\n",
    "else:\n",
    "    print(\"Obese\")"
   ]
  },
  {
   "cell_type": "code",
   "execution_count": 2,
   "metadata": {},
   "outputs": [
    {
     "name": "stdout",
     "output_type": "stream",
     "text": [
      "Enter age1: 19\n",
      "Enter age2: 18\n",
      "Enter age3: 17\n",
      "a1 is the eldest\n"
     ]
    }
   ],
   "source": [
    "a1 = int(input(\"Enter age1: \"))\n",
    "a2 = int(input(\"Enter age2: \"))\n",
    "a3 = int(input(\"Enter age3: \"))\n",
    "\n",
    "if (a1 > a2) and (a2 > a3):\n",
    "    print(\"a1 is the eldest\")\n",
    "elif (a2 > a1) and (a2 > a3):\n",
    "    print(\"a2 is the eldest\")\n",
    "else:\n",
    "    print(\"a3 is the eldest\")\n",
    "\n",
    "\n",
    "    "
   ]
  },
  {
   "cell_type": "code",
   "execution_count": 4,
   "metadata": {},
   "outputs": [
    {
     "name": "stdout",
     "output_type": "stream",
     "text": [
      "Enter a number: 35\n",
      "n is divisible by both 5 and 7\n"
     ]
    }
   ],
   "source": [
    "n = int(input(\"Enter a number: \"))\n",
    "\n",
    "if (n % 5 == 0 and n % 7  == 0):\n",
    "    print(\"n is divisible by both 5 and 7\")\n",
    "else:\n",
    "    print(\"n i not divisible by both 5 and 7\")"
   ]
  }
 ],
 "metadata": {
  "kernelspec": {
   "display_name": "Python 3",
   "language": "python",
   "name": "python3"
  },
  "language_info": {
   "codemirror_mode": {
    "name": "ipython",
    "version": 3
   },
   "file_extension": ".py",
   "mimetype": "text/x-python",
   "name": "python",
   "nbconvert_exporter": "python",
   "pygments_lexer": "ipython3",
   "version": "3.7.3"
  }
 },
 "nbformat": 4,
 "nbformat_minor": 2
}
