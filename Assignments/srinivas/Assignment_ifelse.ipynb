{
 "cells": [
  {
   "cell_type": "code",
   "execution_count": 5,
   "metadata": {},
   "outputs": [
    {
     "name": "stdout",
     "output_type": "stream",
     "text": [
      "Enter first number: 5\n",
      "Enter second number: 2\n",
      "False\n"
     ]
    }
   ],
   "source": [
    "m = int(input(\"Enter first number: \"))\n",
    "n = int(input(\"Enter second number: \"))\n",
    "if m % n == 0:\n",
    "    print(\"True\")\n",
    "else:\n",
    "    print(\"False\")"
   ]
  },
  {
   "cell_type": "code",
   "execution_count": 7,
   "metadata": {},
   "outputs": [
    {
     "name": "stdout",
     "output_type": "stream",
     "text": [
      "Enter string: malayalam\n",
      "Palindrome\n"
     ]
    }
   ],
   "source": [
    "s = input(\"Enter string: \")\n",
    "s = s.lower()\n",
    "s1 = s[::-1]\n",
    "if s1 == s:\n",
    "    print(\"Palindrome\")\n",
    "else:\n",
    "    print(\"Not a Palindrome\")"
   ]
  },
  {
   "cell_type": "code",
   "execution_count": 8,
   "metadata": {},
   "outputs": [
    {
     "name": "stdout",
     "output_type": "stream",
     "text": [
      "Enter value of side a: 3\n",
      "Enter value of side b: 3\n",
      "Enter value of side c: 3\n",
      "Equilateral Triangle\n"
     ]
    }
   ],
   "source": [
    "a = float(input(\"Enter value of side a: \"))\n",
    "b = float(input(\"Enter value of side b: \"))\n",
    "c = float(input(\"Enter value of side c: \"))\n",
    "\n",
    "if a == b and b == c:\n",
    "    print(\"Equilateral Triangle\")\n",
    "elif a == b or b == c or a == c:\n",
    "    print(\"Isosceles Triangle\")\n",
    "else:\n",
    "    print(\"Scalene Triangle\")"
   ]
  },
  {
   "cell_type": "code",
   "execution_count": 9,
   "metadata": {},
   "outputs": [
    {
     "name": "stdout",
     "output_type": "stream",
     "text": [
      "Enter number: 5\n",
      "Odd\n"
     ]
    }
   ],
   "source": [
    "n = int(input(\"Enter number: \"))\n",
    "if n % 2 == 0:\n",
    "    print(\"Even\")\n",
    "else:\n",
    "    print(\"Odd\")"
   ]
  },
  {
   "cell_type": "code",
   "execution_count": 10,
   "metadata": {},
   "outputs": [
    {
     "name": "stdout",
     "output_type": "stream",
     "text": [
      "Enter the age: 10\n",
      "Child\n"
     ]
    }
   ],
   "source": [
    "n = int(input(\"Enter the age: \"))\n",
    "\n",
    "if 0 < n <= 12:\n",
    "    print(\"Child\")\n",
    "elif 13 <= n <= 17:\n",
    "    print(\"Teen\")\n",
    "elif 18 <= n <= 50:\n",
    "    print(\"Adult\")\n",
    "elif 51 <= n <= 100:\n",
    "    print(\"Senior Citizen\")\n",
    "else:\n",
    "    print(\"Contratulations\")"
   ]
  },
  {
   "cell_type": "code",
   "execution_count": 11,
   "metadata": {},
   "outputs": [
    {
     "name": "stdout",
     "output_type": "stream",
     "text": [
      "Enter a string: caT\n",
      "CAT\n"
     ]
    }
   ],
   "source": [
    "s = input(\"Enter a string: \")\n",
    "\n",
    "if len(s) % 2 == 0:\n",
    "    print(s.lower())\n",
    "else:\n",
    "    print(s.upper())"
   ]
  },
  {
   "cell_type": "code",
   "execution_count": 14,
   "metadata": {},
   "outputs": [
    {
     "name": "stdout",
     "output_type": "stream",
     "text": [
      "Enter year to be checked:1200\n",
      "Leap year\n"
     ]
    }
   ],
   "source": [
    "year = int(input(\"Enter year to be checked:\"))\n",
    "count = 0\n",
    "s = str(year)\n",
    "for c in s:\n",
    "    count += 1\n",
    "    \n",
    "if count != 4 or year < 0:\n",
    "    print(\"Please enter a 4 digit number that is greater than 0\")\n",
    "\n",
    "if year%4==0 and year%100!=0 or year%400==0:\n",
    "    print(\"Leap year\")\n",
    "\n",
    "else:\n",
    "    print(\"Not a leap year\")"
   ]
  },
  {
   "cell_type": "code",
   "execution_count": 15,
   "metadata": {},
   "outputs": [
    {
     "name": "stdout",
     "output_type": "stream",
     "text": [
      "Enter string: egg\n",
      "Non - Veg\n"
     ]
    }
   ],
   "source": [
    "s = input(\"Enter string: \")\n",
    "if 'egg' in s.lower():\n",
    "    print(\"Non - Veg\")\n",
    "else:\n",
    "    print(\"Veg\")"
   ]
  },
  {
   "cell_type": "code",
   "execution_count": 12,
   "metadata": {},
   "outputs": [
    {
     "name": "stdout",
     "output_type": "stream",
     "text": [
      "True\n",
      "True\n",
      "Weird!\n",
      "[4, 3, 2, 1]\n"
     ]
    }
   ],
   "source": [
    "#### 1\n",
    "\n",
    "if not 1:\n",
    "    print(\"False\")\n",
    "else:\n",
    "    print(\"True\")\n",
    "    \n",
    "#### 2\n",
    "\n",
    "if 1:\n",
    "    print(\"True\")\n",
    "else:\n",
    "    print(\"False\")\n",
    "\n",
    "    \n",
    "#### 3\n",
    "\n",
    "if 'a' > 'A':\n",
    "    print(\"Weird!\")\n",
    "else:\n",
    "    print(\"Makes sense!\")\n",
    "    \n",
    "#### 4\n",
    "\n",
    "a = [1,2,3,4]\n",
    "\n",
    "\n",
    "if 1 > 1:\n",
    "    a = a[::-1]\n",
    "else:\n",
    "    a = a[-1::-1]\n",
    "print(a)"
   ]
  },
  {
   "cell_type": "code",
   "execution_count": 16,
   "metadata": {},
   "outputs": [
    {
     "name": "stdout",
     "output_type": "stream",
     "text": [
      "Enter the marks in Subject A: 100\n",
      "Enter the marks in Subject B: 80\n",
      "Enter the marks in Subject C: 70\n",
      "Enter the marks in Subject D: 75\n",
      "Enter the marks in Subject E: 90\n",
      "The grade in subject A is A \n",
      "The grade in subject B is B \n",
      "The grade in subject C is C \n",
      "The grade in subject D is C \n",
      "The grade in subject E is A \n",
      "\n"
     ]
    }
   ],
   "source": [
    "a = int(input(\"Enter the marks in Subject A: \"))\n",
    "b = int(input(\"Enter the marks in Subject B: \"))\n",
    "c = int(input(\"Enter the marks in Subject C: \"))\n",
    "d = int(input(\"Enter the marks in Subject D: \"))\n",
    "e = int(input(\"Enter the marks in Subject E: \"))\n",
    "\n",
    "marks = {'A':a, 'B':b, 'C':c, 'D':d, 'E':e}\n",
    "\n",
    "\n",
    "for i in marks.keys():\n",
    "\n",
    "    if 90 <= marks[i] <= 100:\n",
    "        print(\"The grade in subject {} is A \".format(i))\n",
    "    elif 80 <= marks[i] <= 89:\n",
    "        print(\"The grade in subject {} is B \".format(i))\n",
    "    elif 60 <= marks[i] <= 79:\n",
    "        print(\"The grade in subject {} is C \".format(i))\n",
    "    else:\n",
    "        print(\"The grade in subject {} is F \".format(i))\n",
    "print()"
   ]
  },
  {
   "cell_type": "code",
   "execution_count": 19,
   "metadata": {},
   "outputs": [
    {
     "name": "stdout",
     "output_type": "stream",
     "text": [
      "Enter salary:900000\n",
      "Enter age:65\n",
      "Tax is 12%\n"
     ]
    }
   ],
   "source": [
    "salary = int(input(\"Enter salary:\"))\n",
    "age = int(input(\"Enter age:\"))\n",
    "if (salary == 0 and salary <= 250000) and (age < 0 or age >= 60 ):\n",
    "    print(\"Tax is 0%\")\n",
    "elif (salary > 250000 and salary <= 500000) and (age < 60 ):\n",
    "    print(\"Tax is 5%\")\n",
    "elif (salary > 250000 and salary <= 500000) and (age >= 60 ):\n",
    "    print(\"Tax is 3%\")\n",
    "elif (salary > 500000 and salary <= 100000) and (age >= 60 ):\n",
    "    print(\"Tax is 8%\")\n",
    "elif (salary > 500000 and salary <= 100000) and (age < 60 ):\n",
    "    print(\"Tax is 10%\")\n",
    "elif (salary > 100000) and (age >= 60 ):\n",
    "    print(\"Tax is 12%\")\n",
    "elif (salary > 100000) and (age < 60 ):\n",
    "    print(\"Tax is 15%\")"
   ]
  },
  {
   "cell_type": "code",
   "execution_count": 20,
   "metadata": {},
   "outputs": [
    {
     "name": "stdout",
     "output_type": "stream",
     "text": [
      "10\n",
      "10\n",
      "10\n",
      "OMG\n"
     ]
    }
   ],
   "source": [
    "print(20 if not 1 == 1 else 10)\n",
    "print(30 if not 1 == 1 else 20 if 'a' < 'A' else 10)\n",
    "print(40 if not 1==1 else 30 if 'a' < 'A' else 20 if '' else 10)\n",
    "print('No' if not 1 == 1 else ('No' if 'a' < 'A' else('OMG' if 'Oh!!' else 'No')) )"
   ]
  },
  {
   "cell_type": "code",
   "execution_count": 21,
   "metadata": {},
   "outputs": [
    {
     "name": "stdout",
     "output_type": "stream",
     "text": [
      "Enter mass in Kgs: 60\n",
      "Enter height in meters: 1.60\n",
      "Normal\n"
     ]
    }
   ],
   "source": [
    "def BMI():\n",
    "    bmi = mass /(height ** 2)\n",
    "    return bmi\n",
    "\n",
    "mass = float(input(\"Enter mass in Kgs: \"))\n",
    "height = float(input(\"Enter height in meters: \"))\n",
    "\n",
    "if BMI() < 25:\n",
    "    print(\"Normal\")\n",
    "elif 25 <= BMI() <= 29:\n",
    "    print(\"Over Weight\")\n",
    "else:\n",
    "    print(\"Obese\")"
   ]
  },
  {
   "cell_type": "code",
   "execution_count": 23,
   "metadata": {},
   "outputs": [
    {
     "name": "stdout",
     "output_type": "stream",
     "text": [
      "Enter age1: 20\n",
      "Enter age2: 15\n",
      "Enter age3: 19\n",
      "a3 is the eldest\n"
     ]
    }
   ],
   "source": [
    "a1 = int(input(\"Enter age1: \"))\n",
    "a2 = int(input(\"Enter age2: \"))\n",
    "a3 = int(input(\"Enter age3: \"))\n",
    "\n",
    "if (a1 > a2) and (a2 > a3):\n",
    "    print(\"a1 is the eldest\")\n",
    "elif (a2 > a1) and (a2 > a3):\n",
    "    print(\"a2 is the eldest\")\n",
    "else:\n",
    "    print(\"a3 is the eldest\")"
   ]
  },
  {
   "cell_type": "code",
   "execution_count": null,
   "metadata": {},
   "outputs": [],
   "source": []
  },
  {
   "cell_type": "code",
   "execution_count": 17,
   "metadata": {},
   "outputs": [
    {
     "name": "stdout",
     "output_type": "stream",
     "text": [
      "Enter number: 8\n",
      "Not divisible\n"
     ]
    }
   ],
   "source": [
    "n = int(input(\"Enter number: \"))\n",
    "if (n % 5 == 0) and (n % 7 == 0):\n",
    "    print(\"Divisible\")\n",
    "else:\n",
    "    print(\"Not divisible\")"
   ]
  }
 ],
 "metadata": {
  "kernelspec": {
   "display_name": "Python 3",
   "language": "python",
   "name": "python3"
  },
  "language_info": {
   "codemirror_mode": {
    "name": "ipython",
    "version": 3
   },
   "file_extension": ".py",
   "mimetype": "text/x-python",
   "name": "python",
   "nbconvert_exporter": "python",
   "pygments_lexer": "ipython3",
   "version": "3.7.3"
  }
 },
 "nbformat": 4,
 "nbformat_minor": 2
}
