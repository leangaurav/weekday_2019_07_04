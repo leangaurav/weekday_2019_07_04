{
 "cells": [
  {
   "cell_type": "code",
   "execution_count": 1,
   "metadata": {},
   "outputs": [
    {
     "name": "stdout",
     "output_type": "stream",
     "text": [
      "{1: -1, 2: -2, 3: -3, 4: -4, 5: -5}\n"
     ]
    }
   ],
   "source": [
    "d = {}\n",
    "for i in range(1 , 6):\n",
    "    d[i] = -i\n",
    "print(d)"
   ]
  },
  {
   "cell_type": "code",
   "execution_count": null,
   "metadata": {},
   "outputs": [],
   "source": []
  },
  {
   "cell_type": "code",
   "execution_count": 2,
   "metadata": {},
   "outputs": [
    {
     "name": "stdout",
     "output_type": "stream",
     "text": [
      "{1: 10, 2: 20, 3: 30, 4: 40}\n"
     ]
    }
   ],
   "source": [
    "L1 = [1,2,3,4]\n",
    "L2 = [10,20,30,40]\n",
    "d = dict(zip(L1,L2))\n",
    "print(d)"
   ]
  },
  {
   "cell_type": "code",
   "execution_count": 3,
   "metadata": {},
   "outputs": [
    {
     "name": "stdout",
     "output_type": "stream",
     "text": [
      "{'A': 65, 'B': 66, 'C': 67, 'D': 68, 'E': 69, 'F': 70, 'G': 71, 'H': 72, 'I': 73, 'J': 74, 'K': 75, 'L': 76, 'M': 77, 'N': 78, 'O': 79, 'P': 80, 'Q': 81, 'R': 82, 'S': 83, 'T': 84, 'U': 85, 'V': 86, 'W': 87, 'X': 88, 'Y': 89, 'Z': 90}\n"
     ]
    }
   ],
   "source": [
    "d = {chr(i) : i for i in range(65 , 91)}    \n",
    "print(d)"
   ]
  },
  {
   "cell_type": "code",
   "execution_count": null,
   "metadata": {},
   "outputs": [],
   "source": [
    "d = {0:'zero', 1:'one', 2:'two', 3:'three', 4:'four', 5:'five', 6:'six', 7:'seven', 8:'eight', 9:'nine'}\n",
    "n = int(input(\"Enter a number between 0 and 9: \"))  \n",
    "print(\"Number in words:\", d[n])\n",
    "print(d.keys())\n",
    "print(d.values())\n",
    "for i in d.keys():\n",
    "    print(i , d[i])"
   ]
  },
  {
   "cell_type": "code",
   "execution_count": null,
   "metadata": {},
   "outputs": [],
   "source": [
    "l1 = ['A', 'B', 'C', 'D']\n",
    "l2 = ['Apple', 'Ball', 'Cat', 'Dog']\n",
    "\n",
    "d1 = dict(zip(l1,l2))\n",
    "print(d1)\n",
    "\n",
    "print(d1.items())\n",
    "\n",
    "d2 = dict(list(d1.items())[::2])\n",
    "print(d2)"
   ]
  },
  {
   "cell_type": "code",
   "execution_count": 4,
   "metadata": {},
   "outputs": [
    {
     "name": "stdout",
     "output_type": "stream",
     "text": [
      "Enter string: Beautiful day\n",
      "{'a': 2, 'e': 1, 'i': 1, 'o': 0, 'u': 2}\n"
     ]
    }
   ],
   "source": [
    "s = input(\"Enter string: \")\n",
    "d = {'a':0, 'e':0, 'i':0, 'o':0, 'u':0}\n",
    "for c in s:\n",
    "    if c.lower() in d.keys():\n",
    "        d[c] += 1\n",
    "    \n",
    "print(d)"
   ]
  },
  {
   "cell_type": "code",
   "execution_count": 5,
   "metadata": {},
   "outputs": [
    {
     "name": "stdout",
     "output_type": "stream",
     "text": [
      "Enter string: entertainment\n",
      "{'e': 3, 'n': 3, 't': 3, 'r': 1, 'a': 1, 'i': 1, 'm': 1}\n"
     ]
    }
   ],
   "source": [
    "s = input(\"Enter string: \")\n",
    "d = {}\n",
    "for c in s:\n",
    "    d[c] = d.get(c,0) + 1\n",
    "print(d)"
   ]
  },
  {
   "cell_type": "code",
   "execution_count": 6,
   "metadata": {},
   "outputs": [
    {
     "name": "stdout",
     "output_type": "stream",
     "text": [
      "Enter a string: count the word sentence in\n",
      "{'count': 1, 'the': 1, 'word': 1, 'sentence': 1, 'in': 1}\n"
     ]
    }
   ],
   "source": [
    "s = input(\"Enter a string: \")\n",
    "s =s.lower()\n",
    "s = list(s.split(' '))\n",
    "d = {}\n",
    "for c in s:\n",
    "    if c in d:\n",
    "        d[c] += 1\n",
    "    else:\n",
    "        d[c] = 1\n",
    "print(d)"
   ]
  }
 ],
 "metadata": {
  "kernelspec": {
   "display_name": "Python 3",
   "language": "python",
   "name": "python3"
  },
  "language_info": {
   "codemirror_mode": {
    "name": "ipython",
    "version": 3
   },
   "file_extension": ".py",
   "mimetype": "text/x-python",
   "name": "python",
   "nbconvert_exporter": "python",
   "pygments_lexer": "ipython3",
   "version": "3.7.3"
  }
 },
 "nbformat": 4,
 "nbformat_minor": 2
}
