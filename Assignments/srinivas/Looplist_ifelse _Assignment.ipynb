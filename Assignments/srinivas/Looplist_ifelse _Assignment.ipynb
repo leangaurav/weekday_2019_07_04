{
 "cells": [
  {
   "cell_type": "code",
   "execution_count": 1,
   "metadata": {},
   "outputs": [
    {
     "name": "stdout",
     "output_type": "stream",
     "text": [
      "Enter a string:sairam\n",
      "s\n",
      "a\n",
      "i\n",
      "r\n",
      "a\n",
      "m\n"
     ]
    }
   ],
   "source": [
    "s = input(\"Enter a string:\")\n",
    "for i in s:\n",
    "    print(i)"
   ]
  },
  {
   "cell_type": "code",
   "execution_count": 2,
   "metadata": {},
   "outputs": [
    {
     "name": "stdout",
     "output_type": "stream",
     "text": [
      "Enter a string:sairam\n",
      "115\n",
      "97\n",
      "105\n",
      "114\n",
      "97\n",
      "109\n"
     ]
    }
   ],
   "source": [
    "s = input(\"Enter a string:\")\n",
    "for i in s:\n",
    "    print(ord(i))"
   ]
  },
  {
   "cell_type": "code",
   "execution_count": 10,
   "metadata": {},
   "outputs": [
    {
     "name": "stdout",
     "output_type": "stream",
     "text": [
      "Enter a number: 1\n",
      "Enter a number: 11\n",
      "25\n",
      "[1, 3, 5, 7, 9]\n"
     ]
    }
   ],
   "source": [
    "n1 = int(input(\"Enter a number: \"))\n",
    "n2 = int(input(\"Enter a number: \"))\n",
    "Check_sum = 0\n",
    "n = list(range(n1, n2, 2))\n",
    "for i in n:\n",
    "    Check_sum = Check_sum+i\n",
    "print(Check_sum)\n",
    "print(n)"
   ]
  },
  {
   "cell_type": "code",
   "execution_count": 14,
   "metadata": {},
   "outputs": [
    {
     "name": "stdout",
     "output_type": "stream",
     "text": [
      "Enter : 10\n",
      "(1, 2, 3, 4, 5, 6, 7, 8, 9)\n",
      "Enter the number for indexing: 8\n",
      "The index position of 8 is 7: \n"
     ]
    }
   ],
   "source": [
    "n = int(input(\"Enter : \"))\n",
    "get_list = list(range(1,n))\n",
    "t = tuple(get_list)\n",
    "print(t)\n",
    "a = int(input(\"Enter the number for indexing: \"))\n",
    "idx = t.index(a)\n",
    "print(\"The index position of {} is {}: \".format(a, idx))"
   ]
  },
  {
   "cell_type": "code",
   "execution_count": 22,
   "metadata": {},
   "outputs": [
    {
     "name": "stdout",
     "output_type": "stream",
     "text": [
      "[1, 3, 5, 9, 11, 15, 17, 19, 36, 50]\n",
      "166\n",
      "The average is: 16.6\n",
      "1\n",
      "5\n",
      "11\n",
      "17\n",
      "36\n"
     ]
    }
   ],
   "source": [
    "a = [1, 3, 5, 9, 11, 15, 17, 19, 36, 50]\n",
    "print(a)\n",
    "get_sum = 0\n",
    "for i in a:\n",
    "    get_sum += i\n",
    "    average = (get_sum / len(a))\n",
    "print(get_sum)\n",
    "print(\"The average is:\" ,average)\n",
    "for i in range(0, len(a), 2):\n",
    "    print(a[i])\n"
   ]
  },
  {
   "cell_type": "code",
   "execution_count": 23,
   "metadata": {},
   "outputs": [
    {
     "name": "stdout",
     "output_type": "stream",
     "text": [
      "Enter a number: 7\n",
      "7 x 1 = 7\n",
      "7 x 2 = 14\n",
      "7 x 3 = 21\n",
      "7 x 4 = 28\n",
      "7 x 5 = 35\n",
      "7 x 6 = 42\n",
      "7 x 7 = 49\n",
      "7 x 8 = 56\n",
      "7 x 9 = 63\n",
      "7 x 10 = 70\n"
     ]
    }
   ],
   "source": [
    "n = int(input(\"Enter a number: \"))\n",
    "for j in range(1,11):\n",
    "        print(\"{} x {} = {}\".format(n, j, (n * j)))"
   ]
  },
  {
   "cell_type": "code",
   "execution_count": 25,
   "metadata": {},
   "outputs": [
    {
     "name": "stdout",
     "output_type": "stream",
     "text": [
      "Enter a string:sai ram 123\n",
      "number of spaces:  2\n"
     ]
    }
   ],
   "source": [
    "s = input(\"Enter a string:\")\n",
    "d = ' '\n",
    "counter = 0\n",
    "for c in s:\n",
    "    if d in c:\n",
    "        counter += 1\n",
    "print(\"number of spaces: \", counter)"
   ]
  },
  {
   "cell_type": "code",
   "execution_count": 26,
   "metadata": {},
   "outputs": [
    {
     "name": "stdout",
     "output_type": "stream",
     "text": [
      "Enter a string:entertainment\n",
      "number of vowels:  5\n"
     ]
    }
   ],
   "source": [
    "s = input(\"Enter a string:\")\n",
    "s = s.lower()\n",
    "vowels = list('aeiou')\n",
    "counter = 0\n",
    "for c in s:\n",
    "    if c in vowels:\n",
    "        counter +=  1\n",
    "print(\"number of vowels: \", counter)"
   ]
  },
  {
   "cell_type": "code",
   "execution_count": 27,
   "metadata": {},
   "outputs": [
    {
     "name": "stdout",
     "output_type": "stream",
     "text": [
      "Enter a string:ENTERTAINMENT\n",
      "_nt_rt__nm_nt\n"
     ]
    }
   ],
   "source": [
    "s = input(\"Enter a string:\")\n",
    "s = s.lower()\n",
    "vowels = list('aeiou')\n",
    "for c in s:\n",
    "    if c in vowels:\n",
    "        s = s.replace(c,\"_\")\n",
    "print(s)"
   ]
  },
  {
   "cell_type": "code",
   "execution_count": 28,
   "metadata": {},
   "outputs": [
    {
     "name": "stdout",
     "output_type": "stream",
     "text": [
      "Num :  0\n",
      "0\n",
      "Loop Ends\n"
     ]
    }
   ],
   "source": [
    "for num in range(10):\n",
    "    print(\"Num : \", num)\n",
    "    if num % 4 == 0:\n",
    "        print(num)\n",
    "        break\n",
    "print(\"Loop Ends\")"
   ]
  },
  {
   "cell_type": "code",
   "execution_count": 29,
   "metadata": {},
   "outputs": [
    {
     "name": "stdout",
     "output_type": "stream",
     "text": [
      "Num:  0\n"
     ]
    },
    {
     "ename": "SystemExit",
     "evalue": "",
     "output_type": "error",
     "traceback": [
      "An exception has occurred, use %tb to see the full traceback.\n",
      "\u001b[1;31mSystemExit\u001b[0m\n"
     ]
    },
    {
     "name": "stderr",
     "output_type": "stream",
     "text": [
      "D:\\Anaconda3\\lib\\site-packages\\IPython\\core\\interactiveshell.py:3304: UserWarning: To exit: use 'exit', 'quit', or Ctrl-D.\n",
      "  warn(\"To exit: use 'exit', 'quit', or Ctrl-D.\", stacklevel=1)\n"
     ]
    }
   ],
   "source": [
    "import sys\n",
    "for num in range(10):\n",
    "    print(\"Num: \", num)\n",
    "    if num % 4 == 0:\n",
    "        sys.exit()\n",
    "print(\"Loop Ends\")"
   ]
  },
  {
   "cell_type": "code",
   "execution_count": 30,
   "metadata": {},
   "outputs": [
    {
     "name": "stdout",
     "output_type": "stream",
     "text": [
      "*****\n",
      "*****\n",
      "*****\n",
      "*****\n",
      "*****\n"
     ]
    }
   ],
   "source": [
    "for i1 in range(1,6):\n",
    "    for i2 in range(5):\n",
    "        print('*', end ='')\n",
    "    print()"
   ]
  },
  {
   "cell_type": "code",
   "execution_count": 31,
   "metadata": {},
   "outputs": [
    {
     "name": "stdout",
     "output_type": "stream",
     "text": [
      "1\n",
      "22\n",
      "333\n",
      "4444\n",
      "55555\n"
     ]
    }
   ],
   "source": [
    "for i1 in range(1,6):\n",
    "    print(str(i1)*i1)"
   ]
  },
  {
   "cell_type": "code",
   "execution_count": 32,
   "metadata": {},
   "outputs": [
    {
     "name": "stdout",
     "output_type": "stream",
     "text": [
      "1\n",
      "22\n",
      "333\n",
      "4444\n",
      "55555\n"
     ]
    }
   ],
   "source": [
    "for i1 in range(1,6):\n",
    "    for i2  in range(i1):\n",
    "        print(i1, end = '')\n",
    "    print()"
   ]
  },
  {
   "cell_type": "code",
   "execution_count": 33,
   "metadata": {},
   "outputs": [
    {
     "name": "stdout",
     "output_type": "stream",
     "text": [
      "**\n",
      "***\n",
      "****\n",
      "*****\n",
      "******\n"
     ]
    }
   ],
   "source": [
    "for i1 in range(1,6):\n",
    "    for i2  in range(i1+1):\n",
    "        print('*', end = '')\n",
    "    print()"
   ]
  }
 ],
 "metadata": {
  "kernelspec": {
   "display_name": "Python 3",
   "language": "python",
   "name": "python3"
  },
  "language_info": {
   "codemirror_mode": {
    "name": "ipython",
    "version": 3
   },
   "file_extension": ".py",
   "mimetype": "text/x-python",
   "name": "python",
   "nbconvert_exporter": "python",
   "pygments_lexer": "ipython3",
   "version": "3.7.3"
  }
 },
 "nbformat": 4,
 "nbformat_minor": 2
}
