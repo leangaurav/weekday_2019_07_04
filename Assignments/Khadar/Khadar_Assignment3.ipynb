{
 "cells": [
  {
   "cell_type": "markdown",
   "metadata": {},
   "source": [
    "# Assignment 3 - functions"
   ]
  },
  {
   "cell_type": "code",
   "execution_count": 2,
   "metadata": {},
   "outputs": [
    {
     "name": "stdout",
     "output_type": "stream",
     "text": [
      "enter string1: tom\n",
      "enter string2: calm\n",
      "strings before swap:  tom calm\n",
      "strings after swap:  calm tom\n"
     ]
    }
   ],
   "source": [
    "def swap(string1, string2):\n",
    "    string1,string2 = string2,string1\n",
    "    return(string1,string2)\n",
    "string1 = input(\"enter string1: \")\n",
    "string2 = input(\"enter string2: \")\n",
    "print(\"strings before swap: \", string1, string2)\n",
    "string1,string2 = swap(string1,string2)\n",
    "print(\"strings after swap: \", string1, string2)"
   ]
  },
  {
   "cell_type": "code",
   "execution_count": 6,
   "metadata": {},
   "outputs": [
    {
     "name": "stdout",
     "output_type": "stream",
     "text": [
      "12.5\n"
     ]
    }
   ],
   "source": [
    "from random import randint as ri\n",
    "def rangeaverage(start,end,i=4):\n",
    "    sum=0\n",
    "    for item in range(i):\n",
    "        sum = sum + ri(start,end)\n",
    "    return sum/4\n",
    "average = rangeaverage(0,26)\n",
    "print(average)"
   ]
  },
  {
   "cell_type": "code",
   "execution_count": 19,
   "metadata": {},
   "outputs": [
    {
     "data": {
      "text/plain": [
       "'n'"
      ]
     },
     "execution_count": 19,
     "metadata": {},
     "output_type": "execute_result"
    }
   ],
   "source": [
    "from random import randint as ri\n",
    "def randalphabet(string, start,end):\n",
    "    randomalphabet = ri(0,51)\n",
    "    return(string[randomalphabet])\n",
    "\n",
    "alphabets = 'abcdefghijklmnopqrstuvwxyzABCDEFGHIJKLMNOPQRSTUVWXYZ'\n",
    "randalphabet(alphabets, 0,51)\n",
    "\n"
   ]
  },
  {
   "cell_type": "code",
   "execution_count": 21,
   "metadata": {},
   "outputs": [
    {
     "name": "stdout",
     "output_type": "stream",
     "text": [
      "2.76\n"
     ]
    }
   ],
   "source": [
    "def get_si(principle,rate,timePeriod):\n",
    "    return (principle*rate*timePeriod)/100\n",
    "principle,rate,timePeriod = 3,23,4\n",
    "simpleInterest =get_si(principle,rate,timePeriod)\n",
    "print(simpleInterest)"
   ]
  },
  {
   "cell_type": "code",
   "execution_count": 22,
   "metadata": {},
   "outputs": [
    {
     "name": "stdout",
     "output_type": "stream",
     "text": [
      "0.3\n"
     ]
    }
   ],
   "source": [
    "def get_amount(principle,rate=10,timePeriod=1):\n",
    "    return get_si(principle,rate,timePeriod)\n",
    "principle = 3\n",
    "simpleInterest =get_amount(principle)\n",
    "print(simpleInterest)"
   ]
  },
  {
   "cell_type": "code",
   "execution_count": 23,
   "metadata": {},
   "outputs": [
    {
     "name": "stdout",
     "output_type": "stream",
     "text": [
      "(0.8, 4)\n"
     ]
    }
   ],
   "source": [
    "def get_q_r(num1,num2):\n",
    "    return (num1/num2, num1%num2)\n",
    "num1 = 4\n",
    "num2 = 5\n",
    "q_r = get_q_r(num1,num2)\n",
    "print(q_r)"
   ]
  },
  {
   "cell_type": "code",
   "execution_count": 30,
   "metadata": {},
   "outputs": [
    {
     "name": "stdout",
     "output_type": "stream",
     "text": [
      "enter height of triangle: 4\n",
      "enter base of triangle: 3\n",
      "25.0\n",
      "25.0\n"
     ]
    }
   ],
   "source": [
    "def get_L_Hypotenous(height,base):\n",
    "    length = pow(height,2) + pow(base,2)\n",
    "    print(length)\n",
    "    return length\n",
    "height = float(input(\"enter height of triangle: \"))\n",
    "base = float(input(\"enter base of triangle: \"))\n",
    "length = get_L_Hypotenous(height,base)\n",
    "print(length)"
   ]
  },
  {
   "cell_type": "code",
   "execution_count": 33,
   "metadata": {},
   "outputs": [
    {
     "name": "stdout",
     "output_type": "stream",
     "text": [
      "0.11574074074074074 2.7777777777777777 166.66666666666666\n"
     ]
    }
   ],
   "source": [
    "def d_h_m(seconds):\n",
    "    days,hours,minutes = seconds/(24*3600), seconds/(3600),seconds/60\n",
    "    return days,hours,minutes\n",
    "days,hours,minutes = d_h_m(10000)\n",
    "print(days,hours,minutes)"
   ]
  },
  {
   "cell_type": "code",
   "execution_count": 41,
   "metadata": {},
   "outputs": [
    {
     "name": "stdout",
     "output_type": "stream",
     "text": [
      "sys.version_info(major=3, minor=7, micro=0, releaselevel='final', serial=0)\n"
     ]
    }
   ],
   "source": [
    "import sys\n",
    "print(sys.version_info)"
   ]
  },
  {
   "cell_type": "code",
   "execution_count": 42,
   "metadata": {},
   "outputs": [
    {
     "name": "stdout",
     "output_type": "stream",
     "text": [
      "6\n",
      "1.5\n",
      "1.5 -1.5\n"
     ]
    }
   ],
   "source": [
    "x = 2\n",
    "x *= 3 \n",
    "x = x/4\n",
    "y = -x\n",
    "print(x,y)"
   ]
  }
 ],
 "metadata": {
  "kernelspec": {
   "display_name": "Python 3",
   "language": "python",
   "name": "python3"
  },
  "language_info": {
   "codemirror_mode": {
    "name": "ipython",
    "version": 3
   },
   "file_extension": ".py",
   "mimetype": "text/x-python",
   "name": "python",
   "nbconvert_exporter": "python",
   "pygments_lexer": "ipython3",
   "version": "3.7.0"
  }
 },
 "nbformat": 4,
 "nbformat_minor": 2
}
