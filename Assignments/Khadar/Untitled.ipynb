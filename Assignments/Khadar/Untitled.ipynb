{
 "cells": [
  {
   "cell_type": "code",
   "execution_count": 6,
   "metadata": {},
   "outputs": [
    {
     "name": "stdout",
     "output_type": "stream",
     "text": [
      "[1, 3, 5, 7, 9, 11, 13, 15, 17, 19]\n"
     ]
    }
   ],
   "source": [
    "##Dictionary - mapping datatype\n",
    "\n",
    "list1 =[]\n",
    "for i in range(1,20,2):\n",
    "    list1.append(i)\n",
    "print(list1)"
   ]
  },
  {
   "cell_type": "code",
   "execution_count": 7,
   "metadata": {},
   "outputs": [
    {
     "name": "stdout",
     "output_type": "stream",
     "text": [
      "{} <class 'dict'>\n"
     ]
    }
   ],
   "source": [
    "d = {}\n",
    "print(d , type(d))"
   ]
  },
  {
   "cell_type": "code",
   "execution_count": 11,
   "metadata": {},
   "outputs": [
    {
     "name": "stdout",
     "output_type": "stream",
     "text": [
      "dictionary\n",
      "{10: 'python', 'ab': 'dictionary', (1, 2): [1, 2, 3, 4]} <class 'dict'>\n"
     ]
    }
   ],
   "source": [
    "d = {10:'python', 'ab':'dictionary', (1,2):[1,2,3,4]} #key can be anything which is immutable - list can not be key in a dictionary\n",
    "print(d['ab'])\n",
    "print(d, type(d))"
   ]
  },
  {
   "cell_type": "code",
   "execution_count": 21,
   "metadata": {},
   "outputs": [
    {
     "name": "stdout",
     "output_type": "stream",
     "text": [
      "{10: 20}\n",
      "{10: 20, 20: 200}\n"
     ]
    }
   ],
   "source": [
    "d = {10:20}\n",
    "print(d)\n",
    "d[20] = 200\n",
    "print(d)\n"
   ]
  },
  {
   "cell_type": "code",
   "execution_count": 2,
   "metadata": {},
   "outputs": [
    {
     "name": "stdout",
     "output_type": "stream",
     "text": [
      "enter string : shjfhafsa\n",
      "{'s': 2, 'h': 2, 'j': 1, 'f': 2, 'a': 2}\n"
     ]
    }
   ],
   "source": [
    "string1 = input(\"enter string : \")\n",
    "dict = {}\n",
    "for i in string1:\n",
    "    if i in dict:\n",
    "        dict[i] += 1\n",
    "    else:\n",
    "        dict[i] = 1\n",
    "print(dict)"
   ]
  },
  {
   "cell_type": "code",
   "execution_count": 4,
   "metadata": {},
   "outputs": [
    {
     "name": "stdout",
     "output_type": "stream",
     "text": [
      "{1: 20, 2: [3, 4, 5, 6]}\n"
     ]
    }
   ],
   "source": [
    "dict1 = {1:20,2:[3,4,5]}\n",
    "dict1[2].append(6)\n",
    "print(dict1)"
   ]
  },
  {
   "cell_type": "code",
   "execution_count": 9,
   "metadata": {},
   "outputs": [
    {
     "name": "stdout",
     "output_type": "stream",
     "text": [
      "{2: [3, 4, 5], 3: 45}\n"
     ]
    }
   ],
   "source": [
    "dict1 = {1:20,2:[3,4,5], 3:45}\n",
    "del dict1[1]\n",
    "print(dict1)"
   ]
  },
  {
   "cell_type": "code",
   "execution_count": 14,
   "metadata": {},
   "outputs": [
    {
     "name": "stdout",
     "output_type": "stream",
     "text": [
      "dict_keys([1, 2, 3])\n",
      "dict_values([20, [3, 4, 5], 45])\n",
      "dict_items([(1, 20), (2, [3, 4, 5]), (3, 45)])\n"
     ]
    }
   ],
   "source": [
    "dict1 = {1:20,2:[3,4,5], 3:45}\n",
    "print(dict1.keys())\n",
    "print(dict1.values())\n",
    "print(dict1.items())"
   ]
  },
  {
   "cell_type": "code",
   "execution_count": 16,
   "metadata": {},
   "outputs": [
    {
     "name": "stdout",
     "output_type": "stream",
     "text": [
      "20\n",
      "100\n",
      "{2: [3, 4, 5], 3: 45}\n"
     ]
    }
   ],
   "source": [
    "dict1 = {1:20,2:[3,4,5], 3:45}\n",
    "res = dict1.pop(1) #extracts whatever delted\n",
    "print(res)\n",
    "print(dict1.pop(10,100)) # if no index with 10 is there we are forcing it to return 100 value here\n",
    "print(dict1)"
   ]
  },
  {
   "cell_type": "code",
   "execution_count": 19,
   "metadata": {},
   "outputs": [
    {
     "name": "stdout",
     "output_type": "stream",
     "text": [
      "10\n"
     ]
    }
   ],
   "source": [
    "dict1 = {1:20,2:[3,4,5], 3:45}\n",
    "\n",
    "print(dict1.get(30,10)) # if no index with 30 is there we are forcing it to return 10 value here"
   ]
  },
  {
   "cell_type": "code",
   "execution_count": 20,
   "metadata": {},
   "outputs": [
    {
     "name": "stdout",
     "output_type": "stream",
     "text": [
      "enter string : sfjhskfjsdf\n",
      "{'s': 3, 'f': 3, 'j': 2, 'h': 1, 'k': 1, 'd': 1}\n"
     ]
    }
   ],
   "source": [
    "string1 = input(\"enter string : \")\n",
    "dict = {}\n",
    "for i in string1:\n",
    "    dict[i] = dict.get(i,0) +1\n",
    "print(dict)"
   ]
  },
  {
   "cell_type": "code",
   "execution_count": 25,
   "metadata": {},
   "outputs": [
    {
     "name": "stdout",
     "output_type": "stream",
     "text": [
      "{1: 10, 2: 20, 4: 30, 3: 30, 'a': 40}\n",
      "{1: 10, 2: 20, 4: 30}\n"
     ]
    }
   ],
   "source": [
    "dict1 = {1:10,2:20,4:30}\n",
    "dict2 = {3:30,'a':40}\n",
    "dict3 = dict1.copy()\n",
    "dict3.update(dict2)\n",
    "print(dict3)\n",
    "print(dict1)"
   ]
  },
  {
   "cell_type": "code",
   "execution_count": 34,
   "metadata": {},
   "outputs": [
    {
     "name": "stdout",
     "output_type": "stream",
     "text": [
      "{1: 10, 2: 20, 4: 30, 3: 30, 'a': 40}\n",
      "('a', 40)\n"
     ]
    }
   ],
   "source": [
    "dict1 = {1:10,2:20,4:30}\n",
    "dict2 = {3:30,'a':40}\n",
    "dict3 = dict1   #problem it changes the original dict\n",
    "dict3.update(dict2)\n",
    "print(dict3)\n",
    "print(dict1.popitem())"
   ]
  },
  {
   "cell_type": "code",
   "execution_count": 30,
   "metadata": {},
   "outputs": [
    {
     "name": "stdout",
     "output_type": "stream",
     "text": [
      "['__class__', '__contains__', '__delattr__', '__delitem__', '__dir__', '__doc__', '__eq__', '__format__', '__ge__', '__getattribute__', '__getitem__', '__gt__', '__hash__', '__init__', '__init_subclass__', '__iter__', '__le__', '__len__', '__lt__', '__ne__', '__new__', '__reduce__', '__reduce_ex__', '__repr__', '__setattr__', '__setitem__', '__sizeof__', '__str__', '__subclasshook__', 'clear', 'copy', 'fromkeys', 'get', 'items', 'keys', 'pop', 'popitem', 'setdefault', 'update', 'values']\n"
     ]
    }
   ],
   "source": [
    "print(dir(dict))\n",
    "\n",
    "print(*range(5))"
   ]
  }
 ],
 "metadata": {
  "kernelspec": {
   "display_name": "Python 3",
   "language": "python",
   "name": "python3"
  },
  "language_info": {
   "codemirror_mode": {
    "name": "ipython",
    "version": 3
   },
   "file_extension": ".py",
   "mimetype": "text/x-python",
   "name": "python",
   "nbconvert_exporter": "python",
   "pygments_lexer": "ipython3",
   "version": "3.7.0"
  }
 },
 "nbformat": 4,
 "nbformat_minor": 2
}
