{
 "cells": [
  {
   "cell_type": "code",
   "execution_count": 6,
   "metadata": {},
   "outputs": [
    {
     "name": "stdout",
     "output_type": "stream",
     "text": [
      "enter number : 5\n",
      "enter number : 5\n"
     ]
    },
    {
     "data": {
      "text/plain": [
       "True"
      ]
     },
     "execution_count": 6,
     "metadata": {},
     "output_type": "execute_result"
    }
   ],
   "source": [
    "n1 = int(input(\"enter number : \"))\n",
    "n2 = int(input(\"enter number : \"))\n",
    "def divisible(n1,n2):\n",
    "    if(n1%n2 == 0):\n",
    "        return True\n",
    "    else:\n",
    "        return False\n",
    "divisible(n1,n2)\n"
   ]
  },
  {
   "cell_type": "code",
   "execution_count": 9,
   "metadata": {},
   "outputs": [
    {
     "name": "stdout",
     "output_type": "stream",
     "text": [
      "enter string to check palindrome: Naman\n"
     ]
    },
    {
     "data": {
      "text/plain": [
       "'palindrome'"
      ]
     },
     "execution_count": 9,
     "metadata": {},
     "output_type": "execute_result"
    }
   ],
   "source": [
    "string1 = input(\"enter string to check palindrome: \")\n",
    "def palindrome(string1):\n",
    "    if(string1.lower()==string1[::-1].lower()):\n",
    "        return \"palindrome\"\n",
    "    else:\n",
    "        return \"not Palindrome\"\n",
    "palindrome(string1)"
   ]
  },
  {
   "cell_type": "code",
   "execution_count": 13,
   "metadata": {},
   "outputs": [
    {
     "name": "stdout",
     "output_type": "stream",
     "text": [
      "enter number : 90\n"
     ]
    },
    {
     "data": {
      "text/plain": [
       "'even'"
      ]
     },
     "execution_count": 13,
     "metadata": {},
     "output_type": "execute_result"
    }
   ],
   "source": [
    "n1 = int(input(\"enter number : \"))\n",
    "\n",
    "def odd_even(n1):\n",
    "    if(n1%2 == 0):\n",
    "        return \"even\"\n",
    "    else:\n",
    "        return \"odd\"\n",
    "odd_even(n1)"
   ]
  },
  {
   "cell_type": "code",
   "execution_count": 15,
   "metadata": {},
   "outputs": [
    {
     "name": "stdout",
     "output_type": "stream",
     "text": [
      "enter age : 100\n"
     ]
    },
    {
     "data": {
      "text/plain": [
       "'Senior Citizen'"
      ]
     },
     "execution_count": 15,
     "metadata": {},
     "output_type": "execute_result"
    }
   ],
   "source": [
    "n1 = int(input(\"enter age : \"))\n",
    "def age(n1):\n",
    "    if(0<n1<12):\n",
    "        return \"Child\"\n",
    "    if(13<=n1<=17):\n",
    "        return \"Teen\"\n",
    "    if(18<=n1<=50):\n",
    "        return \"Adult\"\n",
    "    if(51<=n1<=100):\n",
    "        return \"Senior Citizen\"\n",
    "    if(n1>100):\n",
    "        return \"Contratulations\"\n",
    "age(n1)\n",
    "    "
   ]
  },
  {
   "cell_type": "code",
   "execution_count": 32,
   "metadata": {},
   "outputs": [
    {
     "name": "stdout",
     "output_type": "stream",
     "text": [
      "enter year 4digits : -2324\n",
      "enter valid four digit number positive number\n"
     ]
    }
   ],
   "source": [
    "n1 = int(input(\"enter year 4digits : \"))\n",
    "if(len(str(n1))>4 or n1<0):\n",
    "    print(\"enter valid four digit number positive number\")\n",
    "elif(n1%4==0):\n",
    "    print(\"year is leap year\")\n",
    "else:\n",
    "    print(\"not a leap year\")\n"
   ]
  },
  {
   "cell_type": "code",
   "execution_count": 34,
   "metadata": {},
   "outputs": [
    {
     "name": "stdout",
     "output_type": "stream",
     "text": [
      "enter a string : abcd\n",
      "ABCD\n"
     ]
    }
   ],
   "source": [
    "string1 = input(\"enter a string : \")\n",
    "if(len(string1)%2 == 0 ):\n",
    "    print(string1.upper())\n",
    "else:\n",
    "    print(string1.lower())"
   ]
  },
  {
   "cell_type": "code",
   "execution_count": 53,
   "metadata": {},
   "outputs": [
    {
     "name": "stdout",
     "output_type": "stream",
     "text": [
      "enter a string : banana apple mutton egg\n",
      "non veg\n"
     ]
    }
   ],
   "source": [
    "string1 = input(\"enter a string : \")\n",
    "list1 = string1.split()\n",
    "\n",
    "if 'egg' in (x.lower() for x in list1):\n",
    "    print('non veg')\n",
    "else:\n",
    "    print('veg')\n",
    "\n",
    "\n",
    "    "
   ]
  },
  {
   "cell_type": "code",
   "execution_count": null,
   "metadata": {},
   "outputs": [],
   "source": [
    "k = []\n",
    "for i in range(5):\n",
    "    print(\"enter the marks of subject : %d \"  %(i+1))\n",
    "    k.append(int(input(\"enter the marks of subject : \")))\n",
    "sum1 = sum(k)\n",
    "if (((sum1/5)*100)=\n",
    "    \n",
    "    "
   ]
  },
  {
   "cell_type": "code",
   "execution_count": 1,
   "metadata": {},
   "outputs": [
    {
     "name": "stdout",
     "output_type": "stream",
     "text": [
      "10\n"
     ]
    }
   ],
   "source": [
    "print(20 if not 1 ==1 else 10)"
   ]
  },
  {
   "cell_type": "code",
   "execution_count": 2,
   "metadata": {},
   "outputs": [
    {
     "name": "stdout",
     "output_type": "stream",
     "text": [
      "10\n"
     ]
    }
   ],
   "source": [
    "print(30 if not 1 == 1 else 20 if 'a'<'A' else 10)"
   ]
  },
  {
   "cell_type": "code",
   "execution_count": 4,
   "metadata": {},
   "outputs": [
    {
     "name": "stdout",
     "output_type": "stream",
     "text": [
      "10\n"
     ]
    }
   ],
   "source": [
    "print(40 if not 1 == 1 else 30 if 'a'<'A' else 20 if '' else 10)"
   ]
  },
  {
   "cell_type": "code",
   "execution_count": 5,
   "metadata": {},
   "outputs": [
    {
     "name": "stdout",
     "output_type": "stream",
     "text": [
      "OMG\n"
     ]
    }
   ],
   "source": [
    "print('No' if not 1 == 1 else ('No' if 'a' <'A' else ('OMG' if 'oh!!' else 'No')))"
   ]
  },
  {
   "cell_type": "code",
   "execution_count": 2,
   "metadata": {},
   "outputs": [
    {
     "data": {
      "text/plain": [
       "10"
      ]
     },
     "execution_count": 2,
     "metadata": {},
     "output_type": "execute_result"
    }
   ],
   "source": [
    "20 if '' else 10"
   ]
  }
 ],
 "metadata": {
  "kernelspec": {
   "display_name": "Python 3",
   "language": "python",
   "name": "python3"
  },
  "language_info": {
   "codemirror_mode": {
    "name": "ipython",
    "version": 3
   },
   "file_extension": ".py",
   "mimetype": "text/x-python",
   "name": "python",
   "nbconvert_exporter": "python",
   "pygments_lexer": "ipython3",
   "version": "3.7.0"
  }
 },
 "nbformat": 4,
 "nbformat_minor": 2
}
