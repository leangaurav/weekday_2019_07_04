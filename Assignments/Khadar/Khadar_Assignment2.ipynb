{
 "cells": [
  {
   "cell_type": "code",
   "execution_count": null,
   "metadata": {},
   "outputs": [],
   "source": [
    "###Assignment 2"
   ]
  },
  {
   "cell_type": "code",
   "execution_count": null,
   "metadata": {},
   "outputs": [],
   "source": []
  },
  {
   "cell_type": "code",
   "execution_count": 9,
   "metadata": {},
   "outputs": [
    {
     "name": "stdout",
     "output_type": "stream",
     "text": [
      "enter a number : 4\n",
      "16 64\n",
      "16 64\n"
     ]
    }
   ],
   "source": [
    "num1 = int(input(\"enter a number : \"))\n",
    "print(pow(num1,2),pow(num1,3))"
   ]
  },
  {
   "cell_type": "markdown",
   "metadata": {},
   "source": [
    "# using functions\n",
    "def square(num1):\n",
    "    print(\"square of number is: \",num1**2)\n",
    "\n",
    "def cube(num1):\n",
    "    print(\"cube of number is: \",num1**3)\n",
    "    \n",
    "num1 = eval(input(\"enter a number: \"))\n",
    "square(num1)\n",
    "cube(num1)\n"
   ]
  },
  {
   "cell_type": "code",
   "execution_count": 43,
   "metadata": {},
   "outputs": [
    {
     "name": "stdout",
     "output_type": "stream",
     "text": [
      "enter a number: 4\n",
      "square of number is:  16\n",
      "cube of number is:  64\n"
     ]
    }
   ],
   "source": [
    "def square(num1): print(\"square of number is: \",num1**2)\n",
    "\n",
    "def cube(num1): print(\"cube of number is: \",num1**3)\n",
    "\n",
    "num1 = eval(input(\"enter a number: \")) \n",
    "square(num1) \n",
    "cube(num1)"
   ]
  },
  {
   "cell_type": "code",
   "execution_count": 41,
   "metadata": {},
   "outputs": [
    {
     "name": "stdout",
     "output_type": "stream",
     "text": [
      "enter a number : 4.5\n",
      "4.5\n",
      "enter a number : 4\n",
      "4\n",
      "36.25\n"
     ]
    }
   ],
   "source": [
    "def sumsquares(a, b):\n",
    "    sumsquare = (a**2 + b**2)\n",
    "    print(sumsquare)\n",
    "    \n",
    "numN = eval(input(\"enter a number : \"))\n",
    "print(numN)\n",
    "numM = eval(input(\"enter a number : \"))\n",
    "print(numM)\n",
    "sumsquares(numN,numM)\n"
   ]
  },
  {
   "cell_type": "code",
   "execution_count": 44,
   "metadata": {},
   "outputs": [
    {
     "name": "stdout",
     "output_type": "stream",
     "text": [
      "enter principle: 4\n",
      "enter timeperiod: 3\n",
      "enter rate: 4\n",
      "0.48\n"
     ]
    }
   ],
   "source": [
    "def interest(p,t,r):\n",
    "    interest = (p*t*r)/100\n",
    "    print(interest)\n",
    "p = eval(input(\"enter principle: \"))\n",
    "t = eval(input(\"enter timeperiod: \"))\n",
    "r = eval(input(\"enter rate: \"))\n",
    "\n",
    "interest(p,t,r)"
   ]
  },
  {
   "cell_type": "code",
   "execution_count": 46,
   "metadata": {},
   "outputs": [
    {
     "name": "stdout",
     "output_type": "stream",
     "text": [
      "enter naturalnumber: 4\n",
      "8.5\n"
     ]
    }
   ],
   "source": [
    "def sumofnaturalnumber(n):\n",
    "    sumNatural = (n*n +1)/2\n",
    "    print(sumNatural)\n",
    "n = eval(input(\"enter naturalnumber: \"))\n",
    "sumofnaturalnumber(n)"
   ]
  },
  {
   "cell_type": "code",
   "execution_count": 1,
   "metadata": {},
   "outputs": [
    {
     "name": "stdout",
     "output_type": "stream",
     "text": [
      "20 10\n"
     ]
    }
   ],
   "source": [
    "#swap number\n",
    "num1 = 20\n",
    "num2 = 30\n",
    "\n",
    "temp = num1\n",
    "num1 = num2\n",
    "num2 = temp\n",
    "\n",
    "#pythonic way\n",
    "x = 10\n",
    "y =20\n",
    "x,y = y,x\n",
    "\n",
    "print(x,y)"
   ]
  },
  {
   "cell_type": "code",
   "execution_count": 48,
   "metadata": {},
   "outputs": [
    {
     "name": "stdout",
     "output_type": "stream",
     "text": [
      "99\n"
     ]
    }
   ],
   "source": [
    "num1 = 'c'\n",
    "print(ord(num1))"
   ]
  }
 ],
 "metadata": {
  "kernelspec": {
   "display_name": "Python 3",
   "language": "python",
   "name": "python3"
  },
  "language_info": {
   "codemirror_mode": {
    "name": "ipython",
    "version": 3
   },
   "file_extension": ".py",
   "mimetype": "text/x-python",
   "name": "python",
   "nbconvert_exporter": "python",
   "pygments_lexer": "ipython3",
   "version": "3.7.0"
  }
 },
 "nbformat": 4,
 "nbformat_minor": 2
}
