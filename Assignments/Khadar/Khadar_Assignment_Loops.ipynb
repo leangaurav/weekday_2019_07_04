{
 "cells": [
  {
   "cell_type": "code",
   "execution_count": 17,
   "metadata": {},
   "outputs": [
    {
     "name": "stdout",
     "output_type": "stream",
     "text": [
      "enter a number: 4\n",
      "1234"
     ]
    }
   ],
   "source": [
    "#Loops\n",
    "\n",
    "def naturalNumbers(number):\n",
    "    i = 1\n",
    "    while (i<=number):\n",
    "        print(i,end = '')\n",
    "        i += 1\n",
    "\n",
    "number = int(input(\"enter a number: \"))\n",
    "naturalNumbers(number)"
   ]
  },
  {
   "cell_type": "code",
   "execution_count": 18,
   "metadata": {},
   "outputs": [
    {
     "name": "stdout",
     "output_type": "stream",
     "text": [
      "enter a number: 5\n",
      "54321"
     ]
    }
   ],
   "source": [
    "def naturalNumbersreverse(number):\n",
    "    while (number>=1):\n",
    "        print(number,end = '')\n",
    "        number -= 1\n",
    "\n",
    "naturalNumbersreverse = int(input(\"enter a number: \"))\n",
    "naturalNumbers(number)"
   ]
  },
  {
   "cell_type": "code",
   "execution_count": 5,
   "metadata": {},
   "outputs": [
    {
     "name": "stdout",
     "output_type": "stream",
     "text": [
      "enter a number: 4\n",
      "24\n"
     ]
    }
   ],
   "source": [
    "def factorial_N(number):\n",
    "    i = number\n",
    "    while (i>1):\n",
    "        i -= 1\n",
    "        number *= i \n",
    "    return number\n",
    "number = int(input(\"enter a number: \"))\n",
    "k = factorial_N(number)\n",
    "print(k)"
   ]
  },
  {
   "cell_type": "code",
   "execution_count": 18,
   "metadata": {},
   "outputs": [
    {
     "name": "stdout",
     "output_type": "stream",
     "text": [
      "enter a number: 356\n",
      "6\n",
      "35\n",
      "11\n",
      "3\n",
      "14\n",
      "0\n",
      "14\n"
     ]
    }
   ],
   "source": [
    "\n",
    "number = int(input(\"enter a number: \"))\n",
    "sum = 0\n",
    "while(number > 0):\n",
    "    l= number%10\n",
    "    sum = sum+l\n",
    "    number = number//10\n",
    "\n",
    "print (sum)"
   ]
  },
  {
   "cell_type": "code",
   "execution_count": 19,
   "metadata": {},
   "outputs": [
    {
     "name": "stdout",
     "output_type": "stream",
     "text": [
      "enter number : 4\n",
      "33\n"
     ]
    }
   ],
   "source": [
    "def factorial_N(number):\n",
    "    i = number\n",
    "    while (i>1):\n",
    "        i -= 1\n",
    "        number *= i \n",
    "    return number\n",
    "\n",
    "number = int(input(\"enter number : \"))\n",
    "i = 1\n",
    "sum = 0\n",
    "while(i<=number):\n",
    "    sum += factorial_N(i)\n",
    "    i += 1\n",
    "    \n",
    "print(sum)\n",
    "    \n"
   ]
  },
  {
   "cell_type": "code",
   "execution_count": 20,
   "metadata": {},
   "outputs": [
    {
     "name": "stdout",
     "output_type": "stream",
     "text": [
      "enter number : 4\n",
      "\n",
      "*\n",
      "**\n",
      "***\n",
      "****\n"
     ]
    }
   ],
   "source": [
    "number = int(input(\"enter number : \"))\n",
    "for i in range(number+1):\n",
    "    print('*'*i)\n",
    "    "
   ]
  },
  {
   "cell_type": "code",
   "execution_count": 22,
   "metadata": {},
   "outputs": [
    {
     "name": "stdout",
     "output_type": "stream",
     "text": [
      "enter number : 4\n",
      "****\n",
      "***\n",
      "**\n",
      "*\n",
      "\n"
     ]
    }
   ],
   "source": [
    "number = int(input(\"enter number : \"))\n",
    "for i in range(number+1):\n",
    "    print('*'*number)\n",
    "    number = number-1"
   ]
  },
  {
   "cell_type": "code",
   "execution_count": 26,
   "metadata": {},
   "outputs": [
    {
     "name": "stdout",
     "output_type": "stream",
     "text": [
      "enter number : 4\n",
      "    \n",
      "   *\n",
      "  **\n",
      " ***\n",
      "****\n"
     ]
    }
   ],
   "source": [
    "number = int(input(\"enter number : \"))\n",
    "for i in range(number+1):\n",
    "    print(' '*number + '*'*i)\n",
    "    number -= 1"
   ]
  },
  {
   "cell_type": "code",
   "execution_count": 27,
   "metadata": {},
   "outputs": [
    {
     "name": "stdout",
     "output_type": "stream",
     "text": [
      "enter number : 4\n",
      "    \n",
      "   * \n",
      "  * * \n",
      " * * * \n",
      "* * * * \n"
     ]
    }
   ],
   "source": [
    "number = int(input(\"enter number : \"))\n",
    "for i in range(number+1):\n",
    "    print(' '*number + '* '*i)\n",
    "    number -= 1"
   ]
  },
  {
   "cell_type": "code",
   "execution_count": 42,
   "metadata": {},
   "outputs": [
    {
     "name": "stdout",
     "output_type": "stream",
     "text": [
      "enter number : 4\n",
      "1\n",
      "22\n",
      "333\n",
      "4444\n",
      "55555\n"
     ]
    }
   ],
   "source": [
    "number = int(input(\"enter number : \"))\n",
    "for i in range(number+1):\n",
    "    print('%s'%(i+1) * (i+1))\n",
    "    \n",
    "    #number -= 1"
   ]
  },
  {
   "cell_type": "code",
   "execution_count": 8,
   "metadata": {},
   "outputs": [
    {
     "name": "stdout",
     "output_type": "stream",
     "text": [
      "*\n",
      "**\n",
      "***\n",
      "****\n",
      "*****\n"
     ]
    }
   ],
   "source": [
    "for i in range(0,1):\n",
    "    for j in range(1,6):\n",
    "        print('*'*j)"
   ]
  },
  {
   "cell_type": "code",
   "execution_count": 22,
   "metadata": {},
   "outputs": [
    {
     "name": "stdout",
     "output_type": "stream",
     "text": [
      "*****\n",
      "****\n",
      "***\n",
      "**\n",
      "*\n"
     ]
    }
   ],
   "source": [
    "for i in range(5):\n",
    "    for j in range(5,6):\n",
    "        print('*'*(j-i))"
   ]
  },
  {
   "cell_type": "code",
   "execution_count": 25,
   "metadata": {},
   "outputs": [
    {
     "name": "stdout",
     "output_type": "stream",
     "text": [
      "    *\n",
      "   **\n",
      "  ***\n",
      " ****\n",
      "*****\n"
     ]
    }
   ],
   "source": [
    "for i in range(1,6):\n",
    "    for j in range(5,6):\n",
    "        print(' '*(j-i) + '*'*i)"
   ]
  },
  {
   "cell_type": "code",
   "execution_count": 31,
   "metadata": {},
   "outputs": [
    {
     "name": "stdout",
     "output_type": "stream",
     "text": [
      "    * \n",
      "   * * \n",
      "  * * * \n",
      " * * * * \n",
      "* * * * * \n"
     ]
    }
   ],
   "source": [
    "for i in range(1,6):\n",
    "    for j in range(5,6):\n",
    "        print(' '*(j-i) + '* '*(i))"
   ]
  },
  {
   "cell_type": "code",
   "execution_count": null,
   "metadata": {},
   "outputs": [],
   "source": []
  }
 ],
 "metadata": {
  "kernelspec": {
   "display_name": "Python 3",
   "language": "python",
   "name": "python3"
  },
  "language_info": {
   "codemirror_mode": {
    "name": "ipython",
    "version": 3
   },
   "file_extension": ".py",
   "mimetype": "text/x-python",
   "name": "python",
   "nbconvert_exporter": "python",
   "pygments_lexer": "ipython3",
   "version": "3.7.0"
  }
 },
 "nbformat": 4,
 "nbformat_minor": 2
}
