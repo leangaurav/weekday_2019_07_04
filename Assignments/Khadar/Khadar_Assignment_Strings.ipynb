{
 "cells": [
  {
   "cell_type": "code",
   "execution_count": null,
   "metadata": {},
   "outputs": [],
   "source": [
    "#Assignment_strings"
   ]
  },
  {
   "cell_type": "code",
   "execution_count": 1,
   "metadata": {},
   "outputs": [
    {
     "name": "stdout",
     "output_type": "stream",
     "text": [
      "d\n",
      "detneiro tcejbo si nohtyp\n",
      "python is object oriente\n",
      "\n",
      "on is \n"
     ]
    }
   ],
   "source": [
    "s = 'python is object oriented'\n",
    "print(s[-1]) \n",
    "print(s[::-1])\n",
    "print(s[:-1])\n",
    "print(s[1:1])\n",
    "print(s[4:10])"
   ]
  },
  {
   "cell_type": "code",
   "execution_count": 3,
   "metadata": {},
   "outputs": [
    {
     "ename": "IndexError",
     "evalue": "string index out of range",
     "output_type": "error",
     "traceback": [
      "\u001b[0;31m---------------------------------------------------------------------------\u001b[0m",
      "\u001b[0;31mIndexError\u001b[0m                                Traceback (most recent call last)",
      "\u001b[0;32m<ipython-input-3-c803f0c3658b>\u001b[0m in \u001b[0;36m<module>\u001b[0;34m()\u001b[0m\n\u001b[1;32m      1\u001b[0m \u001b[0ms\u001b[0m \u001b[0;34m=\u001b[0m \u001b[0;34m''\u001b[0m\u001b[0;34m\u001b[0m\u001b[0m\n\u001b[0;32m----> 2\u001b[0;31m \u001b[0mprint\u001b[0m\u001b[0;34m(\u001b[0m\u001b[0ms\u001b[0m\u001b[0;34m[\u001b[0m\u001b[0;36m1\u001b[0m\u001b[0;34m]\u001b[0m\u001b[0;34m)\u001b[0m\u001b[0;34m\u001b[0m\u001b[0m\n\u001b[0m",
      "\u001b[0;31mIndexError\u001b[0m: string index out of range"
     ]
    }
   ],
   "source": [
    "s = ''\n",
    "print(s[1])"
   ]
  },
  {
   "cell_type": "code",
   "execution_count": 16,
   "metadata": {},
   "outputs": [
    {
     "name": "stdout",
     "output_type": "stream",
     "text": [
      "6\n",
      "abc\n",
      "3\n",
      "<class 'str'>\n",
      "['a#b#c#d#']\n",
      "['a', 'b', 'c', 'd', '']\n",
      "<class 'list'>\n",
      "a$b$c$d$ <class 'str'>\n",
      "aG\n"
     ]
    }
   ],
   "source": [
    "s = 'a b cd'\n",
    "print(len(s))\n",
    "print(s[::2])\n",
    "print(len(s[::2]))\n",
    "\n",
    "\n",
    "\n"
   ]
  },
  {
   "cell_type": "code",
   "execution_count": 52,
   "metadata": {},
   "outputs": [
    {
     "name": "stdout",
     "output_type": "stream",
     "text": [
      "<class 'str'>\n",
      "['a#b#c#d#']\n",
      "['a', 'b', 'c', 'd', '']\n",
      "<class 'list'>\n",
      "a$b$c$d$ <class 'str'>\n"
     ]
    }
   ],
   "source": [
    "s ='a#b#c#d#'\n",
    "print(type(s))\n",
    "print(s.split())\n",
    "print(s.split('#'))\n",
    "l = s.split('#')\n",
    "print(type(l))\n",
    "s = '$'.join(l)\n",
    "print(s, type(s))"
   ]
  },
  {
   "cell_type": "code",
   "execution_count": 30,
   "metadata": {},
   "outputs": [
    {
     "name": "stdout",
     "output_type": "stream",
     "text": [
      "av\n",
      "False\n",
      "0,1,2\n",
      "0123\n",
      "0123\n"
     ]
    }
   ],
   "source": [
    "s = 'Gaurav'\n",
    "s = s[::-2][::-2]\n",
    "\n",
    "print(s)\n",
    "\n",
    "print(1>2)\n",
    "print(4%2,5%2,2%5,sep=',')\n",
    "n = 4\n",
    "for i in range(4):\n",
    "    print(i,end = \"\")\n",
    "print()\n",
    "print(*range(4), sep = \"\")\n"
   ]
  },
  {
   "cell_type": "code",
   "execution_count": 37,
   "metadata": {},
   "outputs": [
    {
     "name": "stdout",
     "output_type": "stream",
     "text": [
      "abcba ABCBA\n",
      "0,0,0,"
     ]
    }
   ],
   "source": [
    "s = 'abcba'\n",
    "k = s.upper()\n",
    "print(s, k)\n",
    "print(s.count('A'), end = \",\")\n",
    "print(s.count('A',2,4), end = ',')\n",
    "print(s.count('a',2,4), end = ',')\n"
   ]
  },
  {
   "cell_type": "code",
   "execution_count": 38,
   "metadata": {},
   "outputs": [
    {
     "name": "stdout",
     "output_type": "stream",
     "text": [
      "enter a string : dfsd sdfsf\n",
      "dfsdsdfsf\n"
     ]
    }
   ],
   "source": [
    "s = input(\"enter a string : \")\n",
    "print(s.replace(\" \", \"\"))"
   ]
  },
  {
   "cell_type": "code",
   "execution_count": 39,
   "metadata": {},
   "outputs": [
    {
     "name": "stdout",
     "output_type": "stream",
     "text": [
      "<class 'list'>\n"
     ]
    }
   ],
   "source": [
    "[]\n",
    "print(type([]))"
   ]
  },
  {
   "cell_type": "code",
   "execution_count": 40,
   "metadata": {},
   "outputs": [
    {
     "name": "stdout",
     "output_type": "stream",
     "text": [
      "['__add__', '__class__', '__contains__', '__delattr__', '__dir__', '__doc__', '__eq__', '__format__', '__ge__', '__getattribute__', '__getitem__', '__getnewargs__', '__gt__', '__hash__', '__init__', '__init_subclass__', '__iter__', '__le__', '__len__', '__lt__', '__mod__', '__mul__', '__ne__', '__new__', '__reduce__', '__reduce_ex__', '__repr__', '__rmod__', '__rmul__', '__setattr__', '__sizeof__', '__str__', '__subclasshook__', 'capitalize', 'casefold', 'center', 'count', 'encode', 'endswith', 'expandtabs', 'find', 'format', 'format_map', 'index', 'isalnum', 'isalpha', 'isascii', 'isdecimal', 'isdigit', 'isidentifier', 'islower', 'isnumeric', 'isprintable', 'isspace', 'istitle', 'isupper', 'join', 'ljust', 'lower', 'lstrip', 'maketrans', 'partition', 'replace', 'rfind', 'rindex', 'rjust', 'rpartition', 'rsplit', 'rstrip', 'split', 'splitlines', 'startswith', 'strip', 'swapcase', 'title', 'translate', 'upper', 'zfill']\n"
     ]
    }
   ],
   "source": [
    "print(dir(str))"
   ]
  },
  {
   "cell_type": "code",
   "execution_count": 54,
   "metadata": {},
   "outputs": [
    {
     "name": "stdout",
     "output_type": "stream",
     "text": [
      "'kdsjfdskdf jsf'\n"
     ]
    }
   ],
   "source": [
    "s = \"kdsjfdskdfjsf\"\n",
    "print(repr(s))"
   ]
  },
  {
   "cell_type": "code",
   "execution_count": 56,
   "metadata": {},
   "outputs": [
    {
     "name": "stdout",
     "output_type": "stream",
     "text": [
      "True\n"
     ]
    }
   ],
   "source": [
    "print('rstrip' in dir(str))"
   ]
  },
  {
   "cell_type": "code",
   "execution_count": 60,
   "metadata": {},
   "outputs": [
    {
     "name": "stdout",
     "output_type": "stream",
     "text": [
      "python\n",
      "assignment\n",
      "strings\n"
     ]
    }
   ],
   "source": [
    "s = \"python assignment strings\"\n",
    "print(s.replace(\" \",\"\\n\"))"
   ]
  },
  {
   "cell_type": "code",
   "execution_count": 72,
   "metadata": {},
   "outputs": [
    {
     "name": "stdout",
     "output_type": "stream",
     "text": [
      "enter first and last name: ksf dsfj\n",
      "KSF\n",
      "DSFJ\n"
     ]
    }
   ],
   "source": [
    "s = input(\"enter first and last name: \")\n",
    "print(s.replace(\" \",\"\\n\").upper())\n",
    "\n"
   ]
  },
  {
   "cell_type": "code",
   "execution_count": 77,
   "metadata": {},
   "outputs": [
    {
     "name": "stdout",
     "output_type": "stream",
     "text": [
      "enter string: khadarbasha\n",
      "khadar basha\n"
     ]
    }
   ],
   "source": [
    "s = input(\"enter string: \")\n",
    "k = int(len(s)/2)\n",
    "print(s[:k+1],s[k+1:])\n",
    "\n"
   ]
  }
 ],
 "metadata": {
  "kernelspec": {
   "display_name": "Python 3",
   "language": "python",
   "name": "python3"
  },
  "language_info": {
   "codemirror_mode": {
    "name": "ipython",
    "version": 3
   },
   "file_extension": ".py",
   "mimetype": "text/x-python",
   "name": "python",
   "nbconvert_exporter": "python",
   "pygments_lexer": "ipython3",
   "version": "3.7.0"
  }
 },
 "nbformat": 4,
 "nbformat_minor": 2
}
