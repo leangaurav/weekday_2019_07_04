{
  "cells": [
    {
      "metadata": {},
      "cell_type": "markdown",
      "source": "file:///C:/Users/msaluja/Desktop/AI/Learn%20Bay/Class%20Notes/weekday_2019_07_04-master/weekday_2019_07_04-master/Assignments/AssignmentPython1-Intro.pdf"
    },
    {
      "metadata": {
        "trusted": true
      },
      "cell_type": "code",
      "source": "s1= 'megha'\ns2 = 'megha.saluja09@gmail.com'\nprint(len(s1), len(s2))",
      "execution_count": 2,
      "outputs": [
        {
          "output_type": "stream",
          "text": "5 24\n",
          "name": "stdout"
        }
      ]
    },
    {
      "metadata": {},
      "cell_type": "markdown",
      "source": "# 2.  WAP to input a string and print its length. "
    },
    {
      "metadata": {
        "trusted": true
      },
      "cell_type": "code",
      "source": "a = input(\"Enter a string : \")\nprint(\"length of string entered : \", len(a))",
      "execution_count": 5,
      "outputs": [
        {
          "output_type": "stream",
          "name": "stdout",
          "text": "Enter a string : taashvi\nlength of string entered :  7\n"
        }
      ]
    },
    {
      "metadata": {},
      "cell_type": "markdown",
      "source": "# 3. WAP to input 2 numbers and print their sum and difference"
    },
    {
      "metadata": {
        "trusted": true
      },
      "cell_type": "code",
      "source": "num1 = int(input(\"Enter first number : \"))\nnum2 = int(input(\"Enter second number : \"))\ndef add(a,b):\n    return a+b\ndef sub(a,b):\n    if(a>b):\n        return a-b\n    else:\n        return b-a\nprint(\"Add : \", add(num1,num2)) \nprint(\"Difference : \", sub(num1,num2))\n",
      "execution_count": 8,
      "outputs": [
        {
          "output_type": "stream",
          "name": "stdout",
          "text": "Enter first number : 4\nEnter second number : 5\nAdd :  9\nSub :  1\n"
        }
      ]
    },
    {
      "metadata": {
        "trusted": true
      },
      "cell_type": "code",
      "source": "a1 = \"ab\"\na2 = \"cd\"\na3 = a1+a2\nprint(a3)",
      "execution_count": 9,
      "outputs": [
        {
          "output_type": "stream",
          "text": "abcd\n",
          "name": "stdout"
        }
      ]
    },
    {
      "metadata": {
        "trusted": true
      },
      "cell_type": "code",
      "source": "a1 = \"ab\"\nprint(a1*5)",
      "execution_count": 10,
      "outputs": [
        {
          "output_type": "stream",
          "text": "ababababab\n",
          "name": "stdout"
        }
      ]
    },
    {
      "metadata": {
        "trusted": true
      },
      "cell_type": "code",
      "source": "a1 = \"ab\\n\"\nprint(a1*4)",
      "execution_count": 11,
      "outputs": [
        {
          "output_type": "stream",
          "text": "ab\nab\nab\nab\n\n",
          "name": "stdout"
        }
      ]
    },
    {
      "metadata": {},
      "cell_type": "markdown",
      "source": "\"\"\" 8. WAP to input a string s and a number n. Print the string n times on the screen, each should\nappear in a separate line (do not use any kind of loops, use the multiplication operator). \"\"\"\n"
    },
    {
      "metadata": {
        "trusted": true
      },
      "cell_type": "code",
      "source": "str1 = input(\"Enter string :\")\nnum1 = int(input(\"Enter Number :\"))\nstr2 = str(str1+\"\\n\")\nif(num1 >0):\n    print(str2*num1)\nelse:\n    print(\"Enter valid positive int number\")",
      "execution_count": 3,
      "outputs": [
        {
          "output_type": "stream",
          "name": "stdout",
          "text": "Enter string :megha\nEnter Number :0\nEnter valid positive int number\n"
        }
      ]
    },
    {
      "metadata": {
        "trusted": true
      },
      "cell_type": "markdown",
      "source": "# 9. Predict Output"
    },
    {
      "metadata": {
        "trusted": true
      },
      "cell_type": "code",
      "source": "name = print(\"megha\")\nprint(name)",
      "execution_count": 4,
      "outputs": [
        {
          "output_type": "stream",
          "text": "megha\nNone\n",
          "name": "stdout"
        }
      ]
    },
    {
      "metadata": {},
      "cell_type": "markdown",
      "source": "# 10. predict output"
    },
    {
      "metadata": {
        "trusted": true
      },
      "cell_type": "code",
      "source": "res = len(\"megha.saluja09@gmail.com\")\nprint(type(res))",
      "execution_count": 5,
      "outputs": [
        {
          "output_type": "stream",
          "text": "<class 'int'>\n",
          "name": "stdout"
        }
      ]
    },
    {
      "metadata": {
        "trusted": true
      },
      "cell_type": "code",
      "source": "# 11. predict output\ns1 = \"megha\"\ns2 = \"megha.saluja09@gmail.com\"\ns3 = s1 +\"\\n\" +s2\nprint(\"S3: \",s3)\nprint(\"len of s3 : \", len(s3))\nprint(\"type of s3 :\", type(s3))",
      "execution_count": 6,
      "outputs": [
        {
          "output_type": "stream",
          "text": "S3:  megha\nmegha.saluja09@gmail.com\nlen of s3 :  30\ntype of s3 : <class 'str'>\n",
          "name": "stdout"
        }
      ]
    },
    {
      "metadata": {
        "trusted": true
      },
      "cell_type": "code",
      "source": "dir()",
      "execution_count": 7,
      "outputs": [
        {
          "output_type": "execute_result",
          "execution_count": 7,
          "data": {
            "text/plain": "['In',\n 'Out',\n '_',\n '__',\n '___',\n '__builtin__',\n '__builtins__',\n '__doc__',\n '__loader__',\n '__name__',\n '__package__',\n '__spec__',\n '_dh',\n '_i',\n '_i1',\n '_i2',\n '_i3',\n '_i4',\n '_i5',\n '_i6',\n '_i7',\n '_ih',\n '_ii',\n '_iii',\n '_oh',\n 'exit',\n 'get_ipython',\n 'name',\n 'num1',\n 'quit',\n 'res',\n 's1',\n 's2',\n 's3',\n 'str1',\n 'str2']"
          },
          "metadata": {}
        }
      ]
    },
    {
      "metadata": {},
      "cell_type": "markdown",
      "source": "#  12. Find the name of function to find the square root. (see all the options available in dir() of builtins)  "
    },
    {
      "metadata": {
        "trusted": true
      },
      "cell_type": "code",
      "source": "import math\nprint(dir(math))",
      "execution_count": 9,
      "outputs": [
        {
          "output_type": "stream",
          "text": "['__doc__', '__file__', '__loader__', '__name__', '__package__', '__spec__', 'acos', 'acosh', 'asin', 'asinh', 'atan', 'atan2', 'atanh', 'ceil', 'copysign', 'cos', 'cosh', 'degrees', 'e', 'erf', 'erfc', 'exp', 'expm1', 'fabs', 'factorial', 'floor', 'fmod', 'frexp', 'fsum', 'gamma', 'gcd', 'hypot', 'inf', 'isclose', 'isfinite', 'isinf', 'isnan', 'ldexp', 'lgamma', 'log', 'log10', 'log1p', 'log2', 'modf', 'nan', 'pi', 'pow', 'radians', 'sin', 'sinh', 'sqrt', 'tan', 'tanh', 'tau', 'trunc']\n",
          "name": "stdout"
        }
      ]
    },
    {
      "metadata": {},
      "cell_type": "markdown",
      "source": "# 13. WAP to input a number and print its square root ()"
    },
    {
      "metadata": {
        "trusted": true
      },
      "cell_type": "code",
      "source": "num1 = float(input(\"Enter any interger number :\"))\nif num1>0:\n    print(math.sqrt(num1))\nelse:\n    print(\"Enter valid number\")",
      "execution_count": 18,
      "outputs": [
        {
          "output_type": "stream",
          "name": "stdout",
          "text": "Enter any interger number :9.597\n3.097902516219644\n"
        }
      ]
    },
    {
      "metadata": {},
      "cell_type": "markdown",
      "source": "# 14. WAP to input 4 numbers from user and print their average  "
    },
    {
      "metadata": {
        "trusted": true
      },
      "cell_type": "code",
      "source": "num1 = float(input(\"Enter first number : \"))\nnum2 = float(input(\"Enter second number : \"))\nnum3 = float(input(\"Enter third number : \"))\nnum4 = float(input(\"Enter forth number : \"))\navg = (num1+num2+num3+num4)/4\nprint(\"Averga eof 4 numbers : \", avg)",
      "execution_count": 20,
      "outputs": [
        {
          "output_type": "stream",
          "name": "stdout",
          "text": "Enter first number : 0\nEnter second number : 1\nEnter third number : 2\nEnter forth number : 3\nAverga eof 4 numbers :  1.5\n"
        }
      ]
    },
    {
      "metadata": {},
      "cell_type": "markdown",
      "source": "# 15. Use the help function to check what the abs function in python does"
    },
    {
      "metadata": {
        "trusted": true
      },
      "cell_type": "code",
      "source": "help(abs)",
      "execution_count": 21,
      "outputs": [
        {
          "output_type": "stream",
          "text": "Help on built-in function abs in module builtins:\n\nabs(x, /)\n    Return the absolute value of the argument.\n\n",
          "name": "stdout"
        }
      ]
    },
    {
      "metadata": {
        "trusted": true
      },
      "cell_type": "code",
      "source": "n1 = float(input(\"Enter any number :\"))\nprint(abs(n1))",
      "execution_count": 27,
      "outputs": [
        {
          "output_type": "stream",
          "name": "stdout",
          "text": "Enter any number :-10.678\n10.678\n"
        }
      ]
    },
    {
      "metadata": {
        "trusted": true
      },
      "cell_type": "code",
      "source": "print(_name_)",
      "execution_count": 28,
      "outputs": [
        {
          "output_type": "error",
          "ename": "NameError",
          "evalue": "name '_name_' is not defined",
          "traceback": [
            "\u001b[0;31m---------------------------------------------------------------------------\u001b[0m",
            "\u001b[0;31mNameError\u001b[0m                                 Traceback (most recent call last)",
            "\u001b[0;32m<ipython-input-28-468f48bdb979>\u001b[0m in \u001b[0;36m<module>\u001b[0;34m\u001b[0m\n\u001b[0;32m----> 1\u001b[0;31m \u001b[0mprint\u001b[0m\u001b[0;34m(\u001b[0m\u001b[0m_name_\u001b[0m\u001b[0;34m)\u001b[0m\u001b[0;34m\u001b[0m\u001b[0m\n\u001b[0m",
            "\u001b[0;31mNameError\u001b[0m: name '_name_' is not defined"
          ]
        }
      ]
    },
    {
      "metadata": {},
      "cell_type": "markdown",
      "source": "# 18. Does the dir of int class contain an attribute __name__ (Y/N)"
    },
    {
      "metadata": {
        "trusted": true
      },
      "cell_type": "code",
      "source": "dir()",
      "execution_count": 29,
      "outputs": [
        {
          "output_type": "execute_result",
          "execution_count": 29,
          "data": {
            "text/plain": "['In',\n 'Out',\n '_',\n '_7',\n '__',\n '___',\n '__builtin__',\n '__builtins__',\n '__doc__',\n '__loader__',\n '__name__',\n '__package__',\n '__spec__',\n '_dh',\n '_i',\n '_i1',\n '_i10',\n '_i11',\n '_i12',\n '_i13',\n '_i14',\n '_i15',\n '_i16',\n '_i17',\n '_i18',\n '_i19',\n '_i2',\n '_i20',\n '_i21',\n '_i22',\n '_i23',\n '_i24',\n '_i25',\n '_i26',\n '_i27',\n '_i28',\n '_i29',\n '_i3',\n '_i4',\n '_i5',\n '_i6',\n '_i7',\n '_i8',\n '_i9',\n '_ih',\n '_ii',\n '_iii',\n '_oh',\n 'avg',\n 'exit',\n 'get_ipython',\n 'math',\n 'n1',\n 'name',\n 'num1',\n 'num2',\n 'num3',\n 'num4',\n 'quit',\n 'res',\n 's1',\n 's2',\n 's3',\n 'str1',\n 'str2']"
          },
          "metadata": {}
        }
      ]
    },
    {
      "metadata": {
        "trusted": true
      },
      "cell_type": "code",
      "source": "print(dir(int))\nprint(\"__abs__\" in dir(int))\nprint(\"__name__\" in dir(int))",
      "execution_count": 39,
      "outputs": [
        {
          "output_type": "stream",
          "text": "['__abs__', '__add__', '__and__', '__bool__', '__ceil__', '__class__', '__delattr__', '__dir__', '__divmod__', '__doc__', '__eq__', '__float__', '__floor__', '__floordiv__', '__format__', '__ge__', '__getattribute__', '__getnewargs__', '__gt__', '__hash__', '__index__', '__init__', '__init_subclass__', '__int__', '__invert__', '__le__', '__lshift__', '__lt__', '__mod__', '__mul__', '__ne__', '__neg__', '__new__', '__or__', '__pos__', '__pow__', '__radd__', '__rand__', '__rdivmod__', '__reduce__', '__reduce_ex__', '__repr__', '__rfloordiv__', '__rlshift__', '__rmod__', '__rmul__', '__ror__', '__round__', '__rpow__', '__rrshift__', '__rshift__', '__rsub__', '__rtruediv__', '__rxor__', '__setattr__', '__sizeof__', '__str__', '__sub__', '__subclasshook__', '__truediv__', '__trunc__', '__xor__', 'bit_length', 'conjugate', 'denominator', 'from_bytes', 'imag', 'numerator', 'real', 'to_bytes']\nTrue\nFalse\n",
          "name": "stdout"
        }
      ]
    },
    {
      "metadata": {
        "trusted": true
      },
      "cell_type": "code",
      "source": "print(__name__)",
      "execution_count": 40,
      "outputs": [
        {
          "output_type": "stream",
          "text": "__main__\n",
          "name": "stdout"
        }
      ]
    },
    {
      "metadata": {
        "trusted": true
      },
      "cell_type": "code",
      "source": "print(__builtins__.__name__)",
      "execution_count": 41,
      "outputs": [
        {
          "output_type": "stream",
          "text": "builtins\n",
          "name": "stdout"
        }
      ]
    },
    {
      "metadata": {
        "trusted": true
      },
      "cell_type": "code",
      "source": "print(int.__name__)",
      "execution_count": 42,
      "outputs": [
        {
          "output_type": "stream",
          "text": "int\n",
          "name": "stdout"
        }
      ]
    },
    {
      "metadata": {
        "trusted": true
      },
      "cell_type": "code",
      "source": "",
      "execution_count": null,
      "outputs": []
    }
  ],
  "metadata": {
    "kernelspec": {
      "name": "python36",
      "display_name": "Python 3.6",
      "language": "python"
    },
    "language_info": {
      "mimetype": "text/x-python",
      "nbconvert_exporter": "python",
      "name": "python",
      "pygments_lexer": "ipython3",
      "version": "3.6.6",
      "file_extension": ".py",
      "codemirror_mode": {
        "version": 3,
        "name": "ipython"
      }
    }
  },
  "nbformat": 4,
  "nbformat_minor": 2
}