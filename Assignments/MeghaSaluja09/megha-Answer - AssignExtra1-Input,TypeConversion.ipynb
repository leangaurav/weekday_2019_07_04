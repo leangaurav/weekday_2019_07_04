{
  "cells": [
    {
      "metadata": {
        "collapsed": true
      },
      "cell_type": "markdown",
      "source": "# Input temperature in Fahrenheit in print in Celsius. "
    },
    {
      "metadata": {
        "trusted": true
      },
      "cell_type": "code",
      "source": "farn = float(input(\"Enter temperature(In Far) :\"))\ncel = float((farn - 32)*(5/9))\nprint(\"Temperature in Celsius: \", cel)",
      "execution_count": 1,
      "outputs": [
        {
          "output_type": "stream",
          "name": "stdout",
          "text": "Enter temperature(In Far) :45\nTemperature in Celsius:  7.222222222222222\n"
        }
      ]
    },
    {
      "metadata": {},
      "cell_type": "markdown",
      "source": "# Write a program to input a number and print its square and cube. "
    },
    {
      "metadata": {
        "trusted": true
      },
      "cell_type": "code",
      "source": "def sq_fun(a):\n    return a**2\n\ndef cube_fun(b):\n    return b**3\n\nnum1 = float(input(\"Enter Number :\"))\nprint(\"Square of number :\", sq_fun(num1))\nprint(\"Cube of number :\", cube_fun(num1))",
      "execution_count": 2,
      "outputs": [
        {
          "output_type": "stream",
          "name": "stdout",
          "text": "Enter Number :2\nSquare of number : 4.0\nCube of number : 8.0\n"
        }
      ]
    },
    {
      "metadata": {},
      "cell_type": "markdown",
      "source": "# WAP to input a number n and a number m and print the result of following : n2 + m2  "
    },
    {
      "metadata": {
        "trusted": true
      },
      "cell_type": "code",
      "source": "def my_fun(n,m):\n    return ((n**2)+(m**2))\n\nn1= int(input(\"Enter first number\"))\nm1= int(input(\"Enter second number\"))\nprint(\"value of my function = \", my_fun(n1,m1))\n",
      "execution_count": 3,
      "outputs": [
        {
          "output_type": "stream",
          "name": "stdout",
          "text": "Enter first number3\nEnter second number3\nvalue of my function =  18\n"
        }
      ]
    },
    {
      "metadata": {
        "trusted": true
      },
      "cell_type": "code",
      "source": "help(pow)",
      "execution_count": 4,
      "outputs": [
        {
          "output_type": "stream",
          "text": "Help on built-in function pow in module builtins:\n\npow(x, y, z=None, /)\n    Equivalent to x**y (with two arguments) or x**y % z (with three arguments)\n    \n    Some types, such as ints, are able to use a more efficient algorithm when\n    invoked using the three argument form.\n\n",
          "name": "stdout"
        }
      ]
    },
    {
      "metadata": {},
      "cell_type": "markdown",
      "source": "# WAP to input a numbers M and N and print result of M raise to power N, . (use both ** and pow)"
    },
    {
      "metadata": {
        "trusted": true
      },
      "cell_type": "code",
      "source": "def use_star(m,n):\n    return m**n\n\ndef pow_fun(m,n):\n    return pow(m,n)\n\nm1 = int(input(\"Enter base number : \"))\nn1 = int(input(\"Enter second number : \"))\nprint(\"this is * function = \", use_star(m1,n1))\nprint(\"this is pow function = \", pow_fun(m1,n1))\n",
      "execution_count": 5,
      "outputs": [
        {
          "output_type": "stream",
          "name": "stdout",
          "text": "Enter base number : 2\nEnter second number : 3\nthis is * function =  8\nthis is pow function =  8\n"
        }
      ]
    },
    {
      "metadata": {},
      "cell_type": "markdown",
      "source": "# Write a simple interest calculator. "
    },
    {
      "metadata": {
        "trusted": true
      },
      "cell_type": "code",
      "source": "p = input(\"Enter Principal amount : \")\nr = input(\"Enter rate of interest : \")\nt = input(\" Enter duration/time in years : \")\np = float(p)\nr = float(r)\nt = float(t)\ns = (p*(1+((r/100)*t)))\nprint(\"Sample Interest is : \", s)",
      "execution_count": 6,
      "outputs": [
        {
          "output_type": "stream",
          "name": "stdout",
          "text": "Enter Principal amount : 500\nEnter rate of interest : 2\n Enter duration/time in years : 5\nSample Interest is :  550.0\n"
        }
      ]
    },
    {
      "metadata": {},
      "cell_type": "markdown",
      "source": "# Input Principal, Rate, Time and print Compound Interest and Amount. \n#Compounded interest only = P (1 + r/n) (nt) - P"
    },
    {
      "metadata": {
        "trusted": true
      },
      "cell_type": "code",
      "source": "p = float(input(\"The principal investment amount  : \"))\nr = float(input(\"The annual interest rate : \"))\nr = r/100\nt = float(input(\" The time the money is invested or borrowed for(t) : \"))\nn = float(input(\" The number of times that interest is compounded per unit t(n) : \"))\nnt = n*t\nrn = r/n\nCI = (p * (( 1 + rn)**nt) - p)\nAmount = CI + p\n#CI = (p *(1 + (((r/100)/n)**(n*t)))-p\nprint(\"CI = \", CI)\nprint(\"Amount = \", Amount)",
      "execution_count": 19,
      "outputs": [
        {
          "output_type": "stream",
          "name": "stdout",
          "text": "The principal investment amount  : 5000\nThe annual interest rate : 5\n The time the money is invested or borrowed for(t) : 10\n The number of times that interest is compounded per unit t(n) : 12\n0.05\nCI =  3235.0474884514006\nAmount =  8235.0474884514\n"
        }
      ]
    },
    {
      "metadata": {
        "trusted": true
      },
      "cell_type": "markdown",
      "source": "# WAP to print sum of first n natural numbers. = (n/2)*(n+1)"
    },
    {
      "metadata": {
        "trusted": true
      },
      "cell_type": "code",
      "source": "n1 = int(input(\"Enter n = \"))\n\nif (n1>0):\n    sum_n = ((n1/2)*(n1+1))\n    print(\"Sum of n natural numbers = \", sum_n)\nelse:\n    print(\"Enter valid natural number\")\n\n        ",
      "execution_count": 22,
      "outputs": [
        {
          "output_type": "stream",
          "name": "stdout",
          "text": "Enter n = 16\nSum of n natural numbers =  136.0\n"
        }
      ]
    },
    {
      "metadata": {},
      "cell_type": "markdown",
      "source": "# WAP to input 2 numbers and swap them. (write using both normal logic with temp variable and also the pythonic way). "
    },
    {
      "metadata": {
        "trusted": true
      },
      "cell_type": "code",
      "source": "num1 = int(input(\"Enter first number\"))\nnum2 = int(input(\"Enter second numbare\"))\ntemp = num1\nnum1 = num2\nnum2 = temp\nprint(\"Swapped first number = \", num1)\nprint(\"Swapped second number = \", num2)",
      "execution_count": 1,
      "outputs": [
        {
          "output_type": "stream",
          "name": "stdout",
          "text": "Enter first number2\nEnter second numbare3\nSwapped first number =  3\nSwapped second number =  2\n"
        }
      ]
    },
    {
      "metadata": {
        "trusted": true
      },
      "cell_type": "markdown",
      "source": "# Swap numbers Python way"
    },
    {
      "metadata": {
        "trusted": true
      },
      "cell_type": "code",
      "source": "num1 = int(input(\"Enter first number = \"))\nnum2 = int(input(\"Enter second numbare = \"))\nnum1, num2 = num2, num1\nprint(\"Swapped first number = \", num1)\nprint(\"Swapped second number = \", num2)",
      "execution_count": 2,
      "outputs": [
        {
          "output_type": "stream",
          "name": "stdout",
          "text": "Enter first number3\nEnter second numbare4\nSwapped first number =  4\nSwapped second number =  3\n"
        }
      ]
    },
    {
      "metadata": {},
      "cell_type": "markdown",
      "source": "# WAP to print ascii value of all white-space characters present in python\n\"\"\" In Python strings, the backslash \"\\\" is a special character, also called the \"escape\" character. It is used in representing certain whitespace characters: \"\\t\" is a tab, \"\\n\" is a newline, and \"\\r\" is a carriage return.\n‘ ‘ – Space\n‘\\t’ – Horizontal tab\n‘\\n’ – Newline\n‘\\v’ – Vertical tab\n‘\\f’ – Feed\n‘\\r’ – Carriage return\n\"\"\""
    },
    {
      "metadata": {
        "trusted": true
      },
      "cell_type": "code",
      "source": "list1 = ['\\t', '\\n', '\\r',' ','\\v', '\\f']\nlen1 = len(list1)\ni=0\nwhile i<len1:\n    print(ord(list1[i]))\n    i+=1",
      "execution_count": 13,
      "outputs": [
        {
          "output_type": "stream",
          "text": "9\n10\n13\n32\n11\n12\n",
          "name": "stdout"
        }
      ]
    },
    {
      "metadata": {},
      "cell_type": "markdown",
      "source": "# Input a single character and print its ascii values. "
    },
    {
      "metadata": {
        "trusted": true
      },
      "cell_type": "code",
      "source": "var = input(\"Enter single character = \")\nif len(var)==1 & var.isalpha() == True:\n    print(\"Its Ascii value is \", ord(var))\nelse:\n    print(\"enter single valid character\")",
      "execution_count": 35,
      "outputs": [
        {
          "output_type": "stream",
          "name": "stdout",
          "text": "Enter single characterr\nIts Ascii value is  114\n"
        }
      ]
    },
    {
      "metadata": {},
      "cell_type": "markdown",
      "source": "# WAP that takes area of a circle and gives back the radius and circumference. "
    },
    {
      "metadata": {
        "trusted": true
      },
      "cell_type": "code",
      "source": "import math\npie = 3.1416\nArea = float(input(\"Enter area of Circle = \"))\nRadius = math.sqrt(Area/pie)\nCrmfence = 2*pie*Radius\nprint(\"Radius = \", Radius)\nprint(\"Circumference = \",Crmfence )",
      "execution_count": 37,
      "outputs": [
        {
          "output_type": "stream",
          "name": "stdout",
          "text": "Enter area of Circle = 176\nRadius =  7.484811885651197\nCircumference =  47.0285700399236\n"
        }
      ]
    },
    {
      "metadata": {},
      "cell_type": "markdown",
      "source": "# We need to input marks in 5 subjects out of 100 and print percentage"
    },
    {
      "metadata": {
        "trusted": true
      },
      "cell_type": "code",
      "source": "sub1 = input(\"Enter subject 1 marks : \")\nsub2 = input(\"Enter subject 2 marks : \")\nsub3 = input(\"Enter subject 3 marks : \")\nsub4 = input(\"Enter subject 4 marks : \")\nsub5 = input(\"Enter subject 5 marks : \")\nfull_marks = 500\nif(sub1.isnumeric()==True & sub2.isnumeric()==True & sub3.isnumeric()==True & sub4.isnumeric()==True & sub5.isnumeric()==True):\n    sub1 = float(sub1)\n    sub2 = float(sub2)\n    sub3 = float(sub3)\n    sub4 = float(sub4)\n    sub5 = float(sub5)\n    total_marks = sub1+sub2+sub3+sub4+sub5\n    perc_marks = (total_marks/full_marks)*100\n    print(\"Percentage marks : \",perc_marks,\"%\")\nelse:\n    print(\"Enter marks in numerical\")",
      "execution_count": 42,
      "outputs": [
        {
          "output_type": "stream",
          "name": "stdout",
          "text": "Enter subject 1 marks : 1\nEnter subject 2 marks : 2\nEnter subject 3 marks : 43\nEnter subject 4 marks : f\nEnter subject 5 marks : 5\nEnter marks in numerical\n"
        }
      ]
    },
    {
      "metadata": {
        "trusted": true
      },
      "cell_type": "code",
      "source": "",
      "execution_count": null,
      "outputs": []
    }
  ],
  "metadata": {
    "kernelspec": {
      "name": "python36",
      "display_name": "Python 3.6",
      "language": "python"
    },
    "language_info": {
      "mimetype": "text/x-python",
      "nbconvert_exporter": "python",
      "name": "python",
      "pygments_lexer": "ipython3",
      "version": "3.6.6",
      "file_extension": ".py",
      "codemirror_mode": {
        "version": 3,
        "name": "ipython"
      }
    }
  },
  "nbformat": 4,
  "nbformat_minor": 2
}