{
  "cells": [
    {
      "metadata": {
        "collapsed": true
      },
      "cell_type": "markdown",
      "source": "# Guess the Ouput"
    },
    {
      "metadata": {
        "trusted": true
      },
      "cell_type": "code",
      "source": "s=\"Python is Object Oriented\"\nprint(\" s[-1] = \",  s[-1] )\nprint(\" s[::-1] =\", s[::-1])\nprint(\" s[:-1] =\", s[:-1])\nprint(\" s[1:1] =\", s[1:1])\nprint(\" s[4:10] =\", s[4:10])\n",
      "execution_count": 4,
      "outputs": [
        {
          "output_type": "stream",
          "text": " s[-1] =  d\n s[::-1] = detneirO tcejbO si nohtyP\n s[:-1] = Python is Object Oriente\n s[1:1] = \n s[4:10] = on is \n",
          "name": "stdout"
        }
      ]
    },
    {
      "metadata": {
        "trusted": true
      },
      "cell_type": "code",
      "source": "s= ''\nprint(s[1]) ",
      "execution_count": 6,
      "outputs": [
        {
          "output_type": "error",
          "ename": "IndexError",
          "evalue": "string index out of range",
          "traceback": [
            "\u001b[0;31m---------------------------------------------------------------------------\u001b[0m",
            "\u001b[0;31mIndexError\u001b[0m                                Traceback (most recent call last)",
            "\u001b[0;32m<ipython-input-6-a06194761701>\u001b[0m in \u001b[0;36m<module>\u001b[0;34m\u001b[0m\n\u001b[1;32m      1\u001b[0m \u001b[0ms\u001b[0m\u001b[0;34m=\u001b[0m \u001b[0;34m''\u001b[0m\u001b[0;34m\u001b[0m\u001b[0m\n\u001b[0;32m----> 2\u001b[0;31m \u001b[0mprint\u001b[0m\u001b[0;34m(\u001b[0m\u001b[0ms\u001b[0m\u001b[0;34m[\u001b[0m\u001b[0;36m1\u001b[0m\u001b[0;34m]\u001b[0m\u001b[0;34m)\u001b[0m\u001b[0;34m\u001b[0m\u001b[0m\n\u001b[0m",
            "\u001b[0;31mIndexError\u001b[0m: string index out of range"
          ]
        }
      ]
    },
    {
      "metadata": {
        "trusted": true
      },
      "cell_type": "code",
      "source": "S='Megha'\nprint(S[1]) \n",
      "execution_count": 9,
      "outputs": [
        {
          "output_type": "stream",
          "text": "e\n",
          "name": "stdout"
        }
      ]
    },
    {
      "metadata": {
        "trusted": true
      },
      "cell_type": "code",
      "source": "s='a b cd'\nprint(\"len(s) = \" , len(s))\nprint(\"s[::2] = \", s[::2])\nprint(\"len(s[::2]) = \", len(s[::2]) )",
      "execution_count": 12,
      "outputs": [
        {
          "output_type": "stream",
          "text": "len(s) =  6\ns[::2] =  abc\nlen(s[::2]) =  3\n",
          "name": "stdout"
        }
      ]
    },
    {
      "metadata": {
        "trusted": true
      },
      "cell_type": "code",
      "source": "s=\"a#b#c#d#\"\nprint(s.split())\nprint(s.split(\"#\"))\nl=s.split(\"#\")\ns='$'.join(l)\nprint(s) ",
      "execution_count": 14,
      "outputs": [
        {
          "output_type": "stream",
          "text": "['a#b#c#d#']\n['a', 'b', 'c', 'd', '']\na$b$c$d$\n",
          "name": "stdout"
        }
      ]
    },
    {
      "metadata": {
        "trusted": true
      },
      "cell_type": "code",
      "source": "S='Megha'\nS=S[::-2]\nprint(S) \nS=S[::-2]\nprint(S) ",
      "execution_count": 21,
      "outputs": [
        {
          "output_type": "stream",
          "text": "agM\nMa\n",
          "name": "stdout"
        }
      ]
    },
    {
      "metadata": {
        "trusted": true
      },
      "cell_type": "code",
      "source": "S=\"Megha\"\nS=S[::-2][::-2]\nprint(S) \n",
      "execution_count": 18,
      "outputs": [
        {
          "output_type": "stream",
          "text": "Ma\n",
          "name": "stdout"
        }
      ]
    },
    {
      "metadata": {
        "trusted": true
      },
      "cell_type": "code",
      "source": " print(1>2) ",
      "execution_count": 22,
      "outputs": [
        {
          "output_type": "stream",
          "text": "False\n",
          "name": "stdout"
        }
      ]
    },
    {
      "metadata": {
        "trusted": true
      },
      "cell_type": "code",
      "source": "print(4%2, 5%2, 2%5, sep=',') ",
      "execution_count": 25,
      "outputs": [
        {
          "output_type": "stream",
          "text": "0,1,2\n",
          "name": "stdout"
        }
      ]
    },
    {
      "metadata": {
        "trusted": true
      },
      "cell_type": "code",
      "source": "s='abcba'\ns.upper()\nprint(s.upper())\nprint(s)\nprint(s.count('A'), end = ',')\nprint(s.count('A', 2,4) , end = ',')\nprint(s.count('a', 2,5) , end = 'done')",
      "execution_count": 29,
      "outputs": [
        {
          "output_type": "stream",
          "text": "ABCBA\nabcba\n0,0,1done",
          "name": "stdout"
        }
      ]
    },
    {
      "metadata": {
        "trusted": true
      },
      "cell_type": "markdown",
      "source": "# WAP to input a string and remove all spaces from it. "
    },
    {
      "metadata": {
        "trusted": true
      },
      "cell_type": "code",
      "source": "str1 = input(\"Enter a string = \")\nstr1 = str1.split(' ')\nstr1 = ('').join(str1)\nprint(str1)",
      "execution_count": 3,
      "outputs": [
        {
          "output_type": "stream",
          "name": "stdout",
          "text": "Enter a string = Hi i am 33 years       old       \nHiiam33yearsold\n"
        }
      ]
    },
    {
      "metadata": {},
      "cell_type": "markdown",
      "source": "# What does this symbol denote: [] : List"
    },
    {
      "metadata": {
        "trusted": true
      },
      "cell_type": "code",
      "source": "print([])",
      "execution_count": 4,
      "outputs": [
        {
          "output_type": "stream",
          "text": "[]\n",
          "name": "stdout"
        }
      ]
    },
    {
      "metadata": {},
      "cell_type": "markdown",
      "source": "# WAP to print all methods(functions/operations) available in a string (Hint : dir()) "
    },
    {
      "metadata": {
        "trusted": true
      },
      "cell_type": "code",
      "source": "dir(str)",
      "execution_count": 5,
      "outputs": [
        {
          "output_type": "execute_result",
          "execution_count": 5,
          "data": {
            "text/plain": "['__add__',\n '__class__',\n '__contains__',\n '__delattr__',\n '__dir__',\n '__doc__',\n '__eq__',\n '__format__',\n '__ge__',\n '__getattribute__',\n '__getitem__',\n '__getnewargs__',\n '__gt__',\n '__hash__',\n '__init__',\n '__init_subclass__',\n '__iter__',\n '__le__',\n '__len__',\n '__lt__',\n '__mod__',\n '__mul__',\n '__ne__',\n '__new__',\n '__reduce__',\n '__reduce_ex__',\n '__repr__',\n '__rmod__',\n '__rmul__',\n '__setattr__',\n '__sizeof__',\n '__str__',\n '__subclasshook__',\n 'capitalize',\n 'casefold',\n 'center',\n 'count',\n 'encode',\n 'endswith',\n 'expandtabs',\n 'find',\n 'format',\n 'format_map',\n 'index',\n 'isalnum',\n 'isalpha',\n 'isdecimal',\n 'isdigit',\n 'isidentifier',\n 'islower',\n 'isnumeric',\n 'isprintable',\n 'isspace',\n 'istitle',\n 'isupper',\n 'join',\n 'ljust',\n 'lower',\n 'lstrip',\n 'maketrans',\n 'partition',\n 'replace',\n 'rfind',\n 'rindex',\n 'rjust',\n 'rpartition',\n 'rsplit',\n 'rstrip',\n 'split',\n 'splitlines',\n 'startswith',\n 'strip',\n 'swapcase',\n 'title',\n 'translate',\n 'upper',\n 'zfill']"
          },
          "metadata": {}
        }
      ]
    },
    {
      "metadata": {},
      "cell_type": "markdown",
      "source": "# Write statement to check if rstrip method is available in the str class.\n# (Hint : Use the find function or in"
    },
    {
      "metadata": {
        "trusted": true
      },
      "cell_type": "code",
      "source": "if (\"rstrip\" in dir(str)):\n    print(\"rstring is avilable in str class\")\nelse:\n    print(\"rstring is not avilable in str class\")",
      "execution_count": 7,
      "outputs": [
        {
          "output_type": "stream",
          "text": "rstring is avilable in str class\n",
          "name": "stdout"
        }
      ]
    },
    {
      "metadata": {},
      "cell_type": "markdown",
      "source": "# WAP to store the following patterns in a string variable and then print them: "
    },
    {
      "metadata": {
        "trusted": true
      },
      "cell_type": "code",
      "source": "s = \"\"\"\n*****\n  *\n  *\n  *\n  *\n\"\"\"\ns2 = \"\"\"\n*      *\n* *  * *\n*   *  *\n*      *\n\"\"\"\n\ns3 = \"\"\"\n___________\n  |        |\n  O        |\n/ | \\      |\n / \\       |\n\n\"\"\"\n\nprint(s, \"\\n\")\nprint(s2, \"\\n\")\nprint(s3, \"\\n\")",
      "execution_count": 8,
      "outputs": [
        {
          "output_type": "stream",
          "text": "\n*****\n  *\n  *\n  *\n  *\n \n\n\n*      *\n* *  * *\n*   *  *\n*      *\n \n\n\n___________\n  |        |\n  O        |\n/ | \\      |\n / \\       |\n\n \n\n",
          "name": "stdout"
        }
      ]
    },
    {
      "metadata": {},
      "cell_type": "markdown",
      "source": "# WAP to input a string and replace all space with new lines (\\n) and print again. "
    },
    {
      "metadata": {
        "trusted": true
      },
      "cell_type": "code",
      "source": "str1= input(\"Enter a string = \")\nstr1 = str1.split(\" \")\nstr1 = (\"\\n\").join(str1)\nprint(str1)",
      "execution_count": 10,
      "outputs": [
        {
          "output_type": "stream",
          "name": "stdout",
          "text": "Enter a string = I m 33 years old\nI\nm\n33\nyears\nold\n"
        }
      ]
    },
    {
      "metadata": {},
      "cell_type": "markdown",
      "source": "#  WAP to input complete name(first and last name separated by space) and print first and last\n# name separately along with their length in upper case."
    },
    {
      "metadata": {
        "trusted": true
      },
      "cell_type": "code",
      "source": "import string\nallowed_alpha = string.ascii_letters + string.whitespace\ncom_name = input(\"Enter you complete name(first & last name separated by spaces)\")\nif(com_name.count(\" \")<=0 or (com_name.replace(\" \", \"\").isalpha())==False):\n    print(\"Enter first name & last name separated by space & all should be alphabets\")\nelse:\n    com_name = com_name.split(\" \")\n    len_com_name = len(com_name)\n    i = 0\n    while i<len_com_name:\n        u_name=com_name[i].upper()\n        print(u_name)\n        i+=1\n",
      "execution_count": 27,
      "outputs": [
        {
          "output_type": "stream",
          "name": "stdout",
          "text": "Enter you complete name(first & last name separated by spaces)megha 1 saluja\nFalse\n2\nEnter first name & last name separated by space & all should be alphabets\n"
        }
      ]
    },
    {
      "metadata": {
        "trusted": true
      },
      "cell_type": "code",
      "source": "",
      "execution_count": null,
      "outputs": []
    }
  ],
  "metadata": {
    "kernelspec": {
      "name": "python36",
      "display_name": "Python 3.6",
      "language": "python"
    },
    "language_info": {
      "mimetype": "text/x-python",
      "nbconvert_exporter": "python",
      "name": "python",
      "pygments_lexer": "ipython3",
      "version": "3.6.6",
      "file_extension": ".py",
      "codemirror_mode": {
        "version": 3,
        "name": "ipython"
      }
    }
  },
  "nbformat": 4,
  "nbformat_minor": 2
}