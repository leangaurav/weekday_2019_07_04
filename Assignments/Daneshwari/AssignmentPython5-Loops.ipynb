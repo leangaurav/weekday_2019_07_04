{
 "cells": [
  {
   "cell_type": "code",
   "execution_count": 2,
   "metadata": {},
   "outputs": [
    {
     "name": "stdout",
     "output_type": "stream",
     "text": [
      "Enter num:7\n",
      "1\n",
      "2\n",
      "3\n",
      "4\n",
      "5\n",
      "6\n",
      "7\n"
     ]
    }
   ],
   "source": [
    "#first n natural numbers\n",
    "i = 1\n",
    "n  = int(input(\"Enter num:\"))\n",
    "while i<=n:\n",
    "    print(i)\n",
    "    i+=1"
   ]
  },
  {
   "cell_type": "code",
   "execution_count": 6,
   "metadata": {},
   "outputs": [
    {
     "name": "stdout",
     "output_type": "stream",
     "text": [
      "Enter num:6\n",
      "sum of n natural numbers is 21\n"
     ]
    }
   ],
   "source": [
    "#sum of first n natuural numbers\n",
    "i = 1\n",
    "num = int(input(\"Enter num:\"))\n",
    "sum = 0\n",
    "while i<=num:\n",
    "    sum += i\n",
    "    i+=1\n",
    "print(\"sum of n natural numbers is\", sum)\n"
   ]
  },
  {
   "cell_type": "code",
   "execution_count": 4,
   "metadata": {},
   "outputs": [
    {
     "name": "stdout",
     "output_type": "stream",
     "text": [
      "Enter num:5\n",
      "5\n",
      "4\n",
      "3\n",
      "2\n",
      "1\n"
     ]
    }
   ],
   "source": [
    "#first n natural numbers in reverse order\n",
    "\n",
    "n  = int(input(\"Enter num:\"))\n",
    "i = n\n",
    "while i>=1:\n",
    "    print(i)\n",
    "    i = i -1    "
   ]
  },
  {
   "cell_type": "code",
   "execution_count": 11,
   "metadata": {},
   "outputs": [
    {
     "name": "stdout",
     "output_type": "stream",
     "text": [
      "Enter num:6\n",
      "720\n"
     ]
    }
   ],
   "source": [
    "# print factorial of n\n",
    "n  = int(input(\"Enter num:\"))\n",
    "i = 1\n",
    "fact = 1\n",
    "while i <= n:\n",
    "    fact = fact * i;\n",
    "    i +=1\n",
    "print(fact)"
   ]
  },
  {
   "cell_type": "code",
   "execution_count": 17,
   "metadata": {},
   "outputs": [
    {
     "name": "stdout",
     "output_type": "stream",
     "text": [
      "Enter num:5\n",
      "Fib series is: 0 1,1,2,3,5,8,13,"
     ]
    }
   ],
   "source": [
    "# fibonacci using while\n",
    "#1,1,2,3,5,8...\n",
    "n  = int(input(\"Enter num:\"))\n",
    "i =0\n",
    "first = 0\n",
    "sec = 1\n",
    "print(\"Fib series is:\",first,sec,end=',')\n",
    "while i <= n:\n",
    "    next=first + sec\n",
    "    print(next, end = ',')\n",
    "    i+=1\n",
    "    first = sec\n",
    "    sec = next"
   ]
  },
  {
   "cell_type": "code",
   "execution_count": 37,
   "metadata": {},
   "outputs": [
    {
     "name": "stdout",
     "output_type": "stream",
     "text": [
      "9\n",
      "1\n",
      "2\n",
      "3\n",
      "5\n",
      "8\n",
      "13\n",
      "21\n"
     ]
    }
   ],
   "source": [
    "# fibonacci using for\n",
    "#1,1,2,3,5,8...\n",
    "n =int(input())\n",
    "first = 0\n",
    "sec = 1\n",
    "for i in range(2,n):\n",
    "    next= first + sec\n",
    "    print(next)\n",
    "    first = sec\n",
    "    sec =next"
   ]
  },
  {
   "cell_type": "code",
   "execution_count": 27,
   "metadata": {},
   "outputs": [
    {
     "name": "stdout",
     "output_type": "stream",
     "text": [
      "Enter num:456\n",
      "4\n",
      "5\n",
      "6\n"
     ]
    }
   ],
   "source": [
    "#printing num to digits\n",
    "l = list(input(\"Enter num:\"))\n",
    "for i in l:\n",
    "    print(i)"
   ]
  },
  {
   "cell_type": "code",
   "execution_count": 28,
   "metadata": {},
   "outputs": [
    {
     "name": "stdout",
     "output_type": "stream",
     "text": [
      "Enter a number:4567\n",
      "22\n"
     ]
    }
   ],
   "source": [
    "#sum of digits\n",
    "n=int(input(\"Enter a number:\"))\n",
    "sum = 0\n",
    "while (n != 0):\n",
    "    sum = sum + int(n % 10) \n",
    "    n = int(n/10) \n",
    "print(sum)"
   ]
  },
  {
   "cell_type": "code",
   "execution_count": 36,
   "metadata": {},
   "outputs": [
    {
     "name": "stdout",
     "output_type": "stream",
     "text": [
      "Enter num:8\n",
      "Fib series is: 0 1,1,2,3,5,8,13,21,34,55,"
     ]
    }
   ],
   "source": [
    "# fibonacci using while\n",
    "#1,1,2,3,5,8...\n",
    "n  = int(input(\"Enter num:\"))\n",
    "i =0\n",
    "first = 0\n",
    "sec = 1\n",
    "print(\"Fib series is:\",first,sec,end=',')\n",
    "while i <= n:\n",
    "    next=first + sec\n",
    "    print(next, end = ',')\n",
    "    i+=1\n",
    "    first = sec\n",
    "    sec = next"
   ]
  },
  {
   "cell_type": "code",
   "execution_count": null,
   "metadata": {},
   "outputs": [],
   "source": [
    "#sum of n! factorial numbers\n",
    "n = int(input(\"Enter a Number:\"))\n",
    "i = 2\n",
    "add = 0\n",
    "fact = 1\n",
    "while i <= n:\n",
    "    fact = fact * i\n",
    "    add+=fact\n",
    "    i+=1\n",
    "print(add)"
   ]
  },
  {
   "cell_type": "code",
   "execution_count": null,
   "metadata": {},
   "outputs": [],
   "source": [
    "b = int(input(\"Enter value for base:\"))\n",
    "e = int(input(\"Enter value for exponent:\"))\n",
    "res = 1\n",
    "i = 1\n",
    "while i <= e:\n",
    "    res = res * b\n",
    "    i+=1\n",
    "print(res)\n",
    "    "
   ]
  },
  {
   "cell_type": "code",
   "execution_count": 8,
   "metadata": {},
   "outputs": [
    {
     "data": {
      "text/plain": [
       "15625"
      ]
     },
     "execution_count": 8,
     "metadata": {},
     "output_type": "execute_result"
    }
   ],
   "source": [
    "b = input(\"Enter value for base:\")\n",
    "e = input(\"Enter value for exponent:\")\n",
    "res = 1\n",
    "i = 1\n",
    "for i in e:\n",
    "    res = res * b\n",
    "print(res)"
   ]
  },
  {
   "cell_type": "code",
   "execution_count": 30,
   "metadata": {},
   "outputs": [
    {
     "name": "stdout",
     "output_type": "stream",
     "text": [
      "* \n",
      "* * \n",
      "* * * \n",
      "* * * * \n",
      "* * * * * \n"
     ]
    }
   ],
   "source": [
    "for i in range(0,5):\n",
    "    for j in range(0,i+1):\n",
    "        print(\"* \" , end =\"\")\n",
    "    print() "
   ]
  },
  {
   "cell_type": "code",
   "execution_count": 31,
   "metadata": {},
   "outputs": [
    {
     "name": "stdout",
     "output_type": "stream",
     "text": [
      "* * * * * \n",
      "* * * * \n",
      "* * * \n",
      "* * \n",
      "* \n"
     ]
    }
   ],
   "source": [
    "for i in range(5,0,-1):\n",
    "    for j in range(i):\n",
    "        print(\"* \" , end =\"\")\n",
    "    print() "
   ]
  },
  {
   "cell_type": "code",
   "execution_count": 29,
   "metadata": {},
   "outputs": [
    {
     "name": "stdout",
     "output_type": "stream",
     "text": [
      "        *  \n",
      "      * *  \n",
      "    * * *  \n",
      "  * * * *  \n",
      "* * * * *  \n"
     ]
    }
   ],
   "source": [
    "k = 2*5 -2\n",
    "for i in range(0,5):\n",
    "    for j in range(0,k):\n",
    "        print(end =\" \")\n",
    "    k = k-2\n",
    "    for j in range(0,i+1):\n",
    "        print(\"* \",end =\"\")\n",
    "    print(\" \")"
   ]
  },
  {
   "cell_type": "code",
   "execution_count": 33,
   "metadata": {},
   "outputs": [
    {
     "name": "stdout",
     "output_type": "stream",
     "text": [
      "        *  \n",
      "       * *  \n",
      "      * * *  \n",
      "     * * * *  \n",
      "    * * * * *  \n"
     ]
    }
   ],
   "source": [
    "k = 2*5 -2\n",
    "for i in range(0,5):\n",
    "    for j in range(0,k):\n",
    "        print(end =\" \")\n",
    "    k = k-1\n",
    "    for j in range(0,i+1):\n",
    "        print(\"* \",end =\"\")\n",
    "    print(\" \")"
   ]
  },
  {
   "cell_type": "code",
   "execution_count": 53,
   "metadata": {},
   "outputs": [
    {
     "name": "stdout",
     "output_type": "stream",
     "text": [
      "1\n",
      "22\n",
      "333\n",
      "4444\n",
      "55555\n"
     ]
    }
   ],
   "source": [
    "for i in range(5):\n",
    "    for j in range(i+1):\n",
    "        print(i+1, end = '')\n",
    "    print()"
   ]
  },
  {
   "cell_type": "code",
   "execution_count": 39,
   "metadata": {},
   "outputs": [
    {
     "name": "stdout",
     "output_type": "stream",
     "text": [
      "1\n",
      "12\n",
      "123\n",
      "1234\n",
      "12345\n"
     ]
    }
   ],
   "source": [
    "for i in range(5): \n",
    "    for j in range(i+1):\n",
    "        print(j+1, end = '')\n",
    "    print"
   ]
  },
  {
   "cell_type": "code",
   "execution_count": 76,
   "metadata": {},
   "outputs": [
    {
     "name": "stdout",
     "output_type": "stream",
     "text": [
      "5\n",
      "66\n",
      "777\n",
      "8888\n",
      "99999\n"
     ]
    }
   ],
   "source": [
    "for i in range(5): # symbols in a line\n",
    "    for j in range(i+1):\n",
    "        print(i-(-5), end = '')\n",
    "    print()"
   ]
  },
  {
   "cell_type": "code",
   "execution_count": 32,
   "metadata": {},
   "outputs": [
    {
     "name": "stdout",
     "output_type": "stream",
     "text": [
      "        1  \n",
      "      1 2  \n",
      "    1 2 3  \n",
      "  1 2 3 4  \n",
      "1 2 3 4 5  \n"
     ]
    }
   ],
   "source": [
    "k = 2*5 -2\n",
    "for i in range(0,5):\n",
    "    for j in range(0,k):\n",
    "        print(end =\" \")\n",
    "    k = k-2\n",
    "    for j in range(0,i+1):\n",
    "        print(j+1, end ='')\n",
    "    print(\"\")"
   ]
  },
  {
   "cell_type": "code",
   "execution_count": 33,
   "metadata": {},
   "outputs": [
    {
     "name": "stdout",
     "output_type": "stream",
     "text": [
      "        1  \n",
      "      2 2  \n",
      "    3 3 3  \n",
      "  4 4 4 4  \n",
      "5 5 5 5 5  \n"
     ]
    }
   ],
   "source": [
    "k = 2*5 -2\n",
    "for i in range(0,5):\n",
    "    for j in range(0,k):\n",
    "        print(end =\" \")\n",
    "    k = k-2\n",
    "    for j in range(0,i+1):\n",
    "        print(i+1,'',end =\"\")\n",
    "    print(\" \")"
   ]
  },
  {
   "cell_type": "code",
   "execution_count": 40,
   "metadata": {},
   "outputs": [
    {
     "name": "stdout",
     "output_type": "stream",
     "text": [
      "A \n",
      "B C \n",
      "D E F \n",
      "G H I J \n",
      "K L M N O \n"
     ]
    }
   ],
   "source": [
    "num = 65\n",
    "for i in range(0, 5):\n",
    "    for j in range(0, i+1): \n",
    "        ch = chr(num) \n",
    "        print(ch, end=\" \") \n",
    "        num = num +1\n",
    "    print()\n"
   ]
  },
  {
   "cell_type": "code",
   "execution_count": 57,
   "metadata": {},
   "outputs": [
    {
     "name": "stdout",
     "output_type": "stream",
     "text": [
      "A \r\n",
      "B B \r\n",
      "C C C \r\n",
      "D D D D \r\n",
      "E E E E E \r\n"
     ]
    }
   ],
   "source": [
    "num = 65\n",
    "for i in range(0, 5):\n",
    "    for j in range(0, i+1):\n",
    "        ch = chr(num) \n",
    "        print(ch, end=\" \") \n",
    "    num = num + 1\n",
    "    print(\"\\r\") "
   ]
  },
  {
   "cell_type": "code",
   "execution_count": 122,
   "metadata": {},
   "outputs": [
    {
     "name": "stdout",
     "output_type": "stream",
     "text": [
      "A \n",
      "A B \n",
      "A B C \n",
      "A B C D \n",
      "A B C D E \n"
     ]
    }
   ],
   "source": [
    "num = 65\n",
    "for i in range(1, 6):\n",
    "    for j in range(num, num+i):\n",
    "        ch = chr(j)\n",
    "        print(ch , end =\" \")\n",
    "    print()"
   ]
  },
  {
   "cell_type": "code",
   "execution_count": null,
   "metadata": {},
   "outputs": [],
   "source": []
  }
 ],
 "metadata": {
  "kernelspec": {
   "display_name": "Python 3",
   "language": "python",
   "name": "python3"
  },
  "language_info": {
   "codemirror_mode": {
    "name": "ipython",
    "version": 3
   },
   "file_extension": ".py",
   "mimetype": "text/x-python",
   "name": "python",
   "nbconvert_exporter": "python",
   "pygments_lexer": "ipython3",
   "version": "3.7.3"
  }
 },
 "nbformat": 4,
 "nbformat_minor": 2
}
