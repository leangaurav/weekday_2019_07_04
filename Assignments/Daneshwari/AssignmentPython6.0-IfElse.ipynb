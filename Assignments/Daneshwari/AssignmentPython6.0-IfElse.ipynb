{
 "cells": [
  {
   "cell_type": "code",
   "execution_count": 9,
   "metadata": {},
   "outputs": [
    {
     "name": "stdout",
     "output_type": "stream",
     "text": [
      "Enter num n1:33\n",
      "Enter num n2:33\n",
      "True\n"
     ]
    }
   ],
   "source": [
    "n1 = int(input(\"Enter num n1:\"))\n",
    "n2 = int(input(\"Enter num n2:\"))\n",
    "n3 = n1%n2\n",
    "if (n3 == 0):\n",
    "    print(True)\n",
    "else:\n",
    "    print(False)"
   ]
  },
  {
   "cell_type": "code",
   "execution_count": 4,
   "metadata": {},
   "outputs": [
    {
     "name": "stdout",
     "output_type": "stream",
     "text": [
      "Enter string:naan\n",
      "naan is a palindrome\n"
     ]
    }
   ],
   "source": [
    "str = input(\"Enter string:\").lower()\n",
    "if str == str[::-1]:\n",
    "    print(\"{} is a palindrome\".format(str))\n",
    "else:\n",
    "    print(\"{} is not a palindrome\".format(str))"
   ]
  },
  {
   "cell_type": "code",
   "execution_count": 7,
   "metadata": {},
   "outputs": [
    {
     "name": "stdout",
     "output_type": "stream",
     "text": [
      "Enter side 1:2\n",
      "Enter side 2:2\n",
      "Enter side 3:3\n",
      "Its Isosceles\n"
     ]
    }
   ],
   "source": [
    "s1 = int(input(\"Enter side 1:\"))\n",
    "s2 = int(input(\"Enter side 2:\"))\n",
    "s3 = int(input(\"Enter side 3:\"))\n",
    "if(s1 == s2 == s3):\n",
    "    print(\"Its equilateral all sides are equal\")\n",
    "elif(s1 == s2 or s2==s3 or s3==s1):\n",
    "    print(\"Its Isosceles two sides are equal\")\n",
    "else:\n",
    "    print(\"No sides are equal\")"
   ]
  },
  {
   "cell_type": "code",
   "execution_count": 13,
   "metadata": {},
   "outputs": [
    {
     "name": "stdout",
     "output_type": "stream",
     "text": [
      "Enter a num:6\n",
      "Even number\n"
     ]
    }
   ],
   "source": [
    "n = int(input(\"Enter a num:\"))\n",
    "if (n%2 == 0):\n",
    "    print(\"Even number\")\n",
    "else:\n",
    "    print(\"Odd number\")"
   ]
  },
  {
   "cell_type": "code",
   "execution_count": 18,
   "metadata": {},
   "outputs": [
    {
     "name": "stdout",
     "output_type": "stream",
     "text": [
      "Enetr the age:45\n",
      "Adult\n"
     ]
    }
   ],
   "source": [
    "age = int(input(\"Enetr the age:\"))\n",
    "if(age <= 12):\n",
    "    print(\"child\")\n",
    "elif(age >= 13 and age <= 17):\n",
    "    print(\"Teen\")\n",
    "elif(age >= 18 and age <= 50):\n",
    "    print(\"Adult\")\n",
    "elif(age >= 51 and age <= 100):\n",
    "    print(\"Senior citizen\")\n",
    "else:\n",
    "    print(\"Contratulations\")"
   ]
  },
  {
   "cell_type": "code",
   "execution_count": 11,
   "metadata": {},
   "outputs": [
    {
     "name": "stdout",
     "output_type": "stream",
     "text": [
      "Enter year:2010\n",
      "Non leap year\n"
     ]
    }
   ],
   "source": [
    "year = int(input(\"Enter year:\"))\n",
    "if(year < 1000):\n",
    "    print(\"Please enter valid year\")\n",
    "elif(year%4 == 0):\n",
    "    print(\"Leap year\")\n",
    "else:\n",
    "    print(\"Non leap year\")"
   ]
  },
  {
   "cell_type": "code",
   "execution_count": 7,
   "metadata": {},
   "outputs": [
    {
     "name": "stdout",
     "output_type": "stream",
     "text": [
      "Enter string:vishwanatha\n",
      "VISHWANATHA\n"
     ]
    }
   ],
   "source": [
    "s = str(input(\"Enter string:\"))\n",
    "if (len(s)%2)==0:\n",
    "    print(s.lower())\n",
    "else:\n",
    "    print(s.upper())"
   ]
  },
  {
   "cell_type": "code",
   "execution_count": 10,
   "metadata": {},
   "outputs": [
    {
     "name": "stdout",
     "output_type": "stream",
     "text": [
      "Enter string:eg\n",
      "Veg\n"
     ]
    }
   ],
   "source": [
    "s = str(input(\"Enter string:\"))\n",
    "if(s.find('egg') == -1):\n",
    "    print(\"Veg\")\n",
    "else:\n",
    "    print(\"Non Veg\")"
   ]
  },
  {
   "cell_type": "code",
   "execution_count": 12,
   "metadata": {},
   "outputs": [
    {
     "name": "stdout",
     "output_type": "stream",
     "text": [
      "True\n"
     ]
    }
   ],
   "source": [
    "if not 1:\n",
    "    print(\"False\")\n",
    "else:\n",
    "    print(\"True\")"
   ]
  },
  {
   "cell_type": "code",
   "execution_count": 13,
   "metadata": {},
   "outputs": [
    {
     "name": "stdout",
     "output_type": "stream",
     "text": [
      "True\n"
     ]
    }
   ],
   "source": [
    "if 1:\n",
    "    print(\"True\")\n",
    "else:\n",
    "    print(\"False\")"
   ]
  },
  {
   "cell_type": "code",
   "execution_count": 14,
   "metadata": {},
   "outputs": [
    {
     "name": "stdout",
     "output_type": "stream",
     "text": [
      "Its wired\n"
     ]
    }
   ],
   "source": [
    "if 'a' > 'A':\n",
    "    print(\"Its wired\")\n",
    "else:\n",
    "    print(\"Makes sense\")"
   ]
  },
  {
   "cell_type": "code",
   "execution_count": 17,
   "metadata": {},
   "outputs": [
    {
     "name": "stdout",
     "output_type": "stream",
     "text": [
      "[4, 3, 2, 1]\n"
     ]
    }
   ],
   "source": [
    "a = [1,2,3,4]\n",
    "if 1 > 1:\n",
    "    a = a[::-1]\n",
    "else:\n",
    "    a = a[-1::-1]\n",
    "print(a)\n",
    " "
   ]
  },
  {
   "cell_type": "code",
   "execution_count": 15,
   "metadata": {},
   "outputs": [
    {
     "name": "stdout",
     "output_type": "stream",
     "text": [
      "Enter marks in subject 1:91\n",
      "Enter marks in subject 2:89\n",
      "Enter marks in subject 3:88\n",
      "Enter marks in subject 4:89\n",
      "Enter marks in subject 5:89\n",
      "\n",
      "Percentage obtained is: 89.2\n",
      "Grade B\n"
     ]
    }
   ],
   "source": [
    "s1 = int(input(\"Enter marks in subject 1:\"))\n",
    "s2 = int(input(\"Enter marks in subject 2:\"))\n",
    "s3 = int(input(\"Enter marks in subject 3:\"))\n",
    "s4 = int(input(\"Enter marks in subject 4:\"))\n",
    "s5 = int(input(\"Enter marks in subject 5:\"))\n",
    "\n",
    "per = (((s1+s2+s3+s4+s5)/500)*100)\n",
    "print()\n",
    "print(\"Percentage obtained is:\" ,per)\n",
    "\n",
    "if(per>= 90 and per <= 100):\n",
    "    print(\"Grade A\")\n",
    "elif(per>= 80 and per < 90):\n",
    "    print(\"Grade B\")\n",
    "elif(per>= 60 and per < 80):\n",
    "    print(\"Grade C\")\n",
    "else:\n",
    "    print(\"Grade F\")\n"
   ]
  },
  {
   "cell_type": "code",
   "execution_count": 27,
   "metadata": {},
   "outputs": [
    {
     "name": "stdout",
     "output_type": "stream",
     "text": [
      "Enter salary:89000\n",
      "Enter age:55\n",
      "Tax is 5%\n"
     ]
    }
   ],
   "source": [
    "sal = int(input(\"Enter salary:\"))\n",
    "age = int(input(\"Enter age:\"))\n",
    "if ((sal == 0 or sal <= 250000) and (age < 0 or age >= 60 )):\n",
    "    print(\"Tax is 0%\")\n",
    "elif((sal >= 250001 or sal <= 500000) and (age < 60 )):\n",
    "    print(\"Tax is 5%\")\n",
    "elif((sal >= 250001 or sal <= 500000) and (age >= 60 )):\n",
    "    print(\"Tax is 3%\")\n",
    "elif((sal >= 500001 or sal <= 100000) and (age >= 60 )):\n",
    "    print(\"Tax is 8%\")\n",
    "elif((sal >= 500001 or sal <= 100000) and (age < 60 )):\n",
    "    print(\"Tax is 10%\")\n",
    "elif((sal <= 100001) and (age >= 60 )):\n",
    "    print(\"Tax is 12%\")\n",
    "elif((sal > 100001) and (age < 60 )):\n",
    "    print(\"Tax is 15%\")\n",
    "else:\n",
    "    print(\"No results found\")"
   ]
  },
  {
   "cell_type": "code",
   "execution_count": null,
   "metadata": {},
   "outputs": [],
   "source": []
  },
  {
   "cell_type": "code",
   "execution_count": null,
   "metadata": {},
   "outputs": [],
   "source": []
  },
  {
   "cell_type": "code",
   "execution_count": null,
   "metadata": {},
   "outputs": [],
   "source": []
  },
  {
   "cell_type": "code",
   "execution_count": null,
   "metadata": {},
   "outputs": [],
   "source": []
  },
  {
   "cell_type": "code",
   "execution_count": null,
   "metadata": {},
   "outputs": [],
   "source": []
  }
 ],
 "metadata": {
  "kernelspec": {
   "display_name": "Python 3",
   "language": "python",
   "name": "python3"
  },
  "language_info": {
   "codemirror_mode": {
    "name": "ipython",
    "version": 3
   },
   "file_extension": ".py",
   "mimetype": "text/x-python",
   "name": "python",
   "nbconvert_exporter": "python",
   "pygments_lexer": "ipython3",
   "version": "3.7.3"
  }
 },
 "nbformat": 4,
 "nbformat_minor": 2
}
