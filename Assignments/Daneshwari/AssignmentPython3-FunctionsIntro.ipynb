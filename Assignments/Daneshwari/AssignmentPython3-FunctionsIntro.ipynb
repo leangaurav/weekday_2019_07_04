{
 "cells": [
  {
   "cell_type": "code",
   "execution_count": 45,
   "metadata": {},
   "outputs": [
    {
     "name": "stdout",
     "output_type": "stream",
     "text": [
      "Enter string 1 to swap:aaa\n",
      "Enter string 2 to swap:bbb\n",
      "Swapped strings: bbb aaa\n"
     ]
    }
   ],
   "source": [
    "def swap():\n",
    "    s1= str(input(\"Enter string 1 to swap:\"))\n",
    "    s2= str(input(\"Enter string 2 to swap:\"))\n",
    "    # x = s1,s2 = s2,s1\n",
    "    temp = s1\n",
    "    s1 = s2\n",
    "    s2 = temp\n",
    "    print(\"Swapped strings:\",s1,s2)\n",
    "swap()"
   ]
  },
  {
   "cell_type": "code",
   "execution_count": 43,
   "metadata": {},
   "outputs": [
    {
     "name": "stdout",
     "output_type": "stream",
     "text": [
      "3.25\n"
     ]
    }
   ],
   "source": [
    "from random import randint as ri\n",
    "def num(start,end,i=4):\n",
    "    sum= 0\n",
    "    for item in range(i):\n",
    "        sum = sum + ri(start,end)\n",
    "        return sum/4\n",
    "average = num(0,26)\n",
    "print(average)"
   ]
  },
  {
   "cell_type": "code",
   "execution_count": 48,
   "metadata": {},
   "outputs": [
    {
     "name": "stdout",
     "output_type": "stream",
     "text": [
      "g\n"
     ]
    }
   ],
   "source": [
    "from random import randint as ri\n",
    "def randomAlphabet(string,start,end):\n",
    "    randString = ri(start,end)\n",
    "    print(string[randString])\n",
    "    \n",
    "string = \"abcdefghijklmnopqrstuvwxyzABCDEFGHIJKLMNOPQRSTUVWXYZ\"\n",
    "randomAlphabet(string,0,51)"
   ]
  },
  {
   "cell_type": "code",
   "execution_count": 7,
   "metadata": {},
   "outputs": [
    {
     "name": "stdout",
     "output_type": "stream",
     "text": [
      "Simple intrest is: 2.52\n"
     ]
    }
   ],
   "source": [
    "def get_si(p,r,t):\n",
    "    SI= (p*t*r)/100\n",
    "    print(\"Simple intrest is:\",SI)\n",
    "get_si(3,14,6)\n",
    "    "
   ]
  },
  {
   "cell_type": "code",
   "execution_count": 9,
   "metadata": {},
   "outputs": [
    {
     "name": "stdout",
     "output_type": "stream",
     "text": [
      "Enter principal amount:9\n",
      "Simple intrest is: 0.9\n",
      "None\n"
     ]
    }
   ],
   "source": [
    "def get_amount(p,r=10,t=1):\n",
    "    return get_si(p,r,t)\n",
    "\n",
    "p = float(input(\"Enter principal amount:\"))\n",
    "sI = get_amount(p) \n",
    "print(sI)"
   ]
  },
  {
   "cell_type": "code",
   "execution_count": 14,
   "metadata": {},
   "outputs": [
    {
     "name": "stdout",
     "output_type": "stream",
     "text": [
      "compound intrest is: 12.2412\n"
     ]
    }
   ],
   "source": [
    "import math\n",
    "def get_ci(p,r,t):\n",
    "    cI = p * (pow((1+r/100),t))\n",
    "    print(\"compound intrest is:\",cI)\n",
    "get_ci(12,1,2)"
   ]
  },
  {
   "cell_type": "code",
   "execution_count": 16,
   "metadata": {},
   "outputs": [
    {
     "name": "stdout",
     "output_type": "stream",
     "text": [
      "enter height:3\n",
      "enter base:4\n",
      "5.0\n"
     ]
    }
   ],
   "source": [
    "from math import sqrt\n",
    "def hypotenuse(h,b):\n",
    "    hyp = sqrt(h**2 + b**2)\n",
    "    print(hyp)\n",
    "height = float(input(\"enter height:\"))\n",
    "base = float(input(\"enter base:\"))\n",
    "hypotenuse(height,base)"
   ]
  },
  {
   "cell_type": "code",
   "execution_count": 11,
   "metadata": {},
   "outputs": [
    {
     "name": "stdout",
     "output_type": "stream",
     "text": [
      "Enter time in secs:99999\n",
      "99999.0 secs has 1666.65 mins 27.7775 hours 0.4629583333333333 days\n"
     ]
    }
   ],
   "source": [
    "def calc():\n",
    "    secs = float(input(\"Enter time in secs:\"))\n",
    "    #days,hours,mins = secs/(24*3600), secs/(3600),secs/60\n",
    "    mins = secs/60\n",
    "    hours = mins/60\n",
    "    days = hours/60\n",
    "    print(secs,\"secs has\",mins,\"mins\",hours,\"hours\",days,\"days\")\n",
    "    \n",
    "calc()"
   ]
  },
  {
   "cell_type": "code",
   "execution_count": 6,
   "metadata": {},
   "outputs": [
    {
     "name": "stdout",
     "output_type": "stream",
     "text": [
      "2 -2\n"
     ]
    }
   ],
   "source": [
    "def val():\n",
    "    x = 2\n",
    "    x *= 3\n",
    "    x = x%4\n",
    "    y = -x\n",
    "    print(x,y)\n",
    "val()"
   ]
  },
  {
   "cell_type": "code",
   "execution_count": null,
   "metadata": {},
   "outputs": [],
   "source": [
    "+"
   ]
  },
  {
   "cell_type": "code",
   "execution_count": null,
   "metadata": {},
   "outputs": [],
   "source": []
  }
 ],
 "metadata": {
  "kernelspec": {
   "display_name": "Python 3",
   "language": "python",
   "name": "python3"
  },
  "language_info": {
   "codemirror_mode": {
    "name": "ipython",
    "version": 3
   },
   "file_extension": ".py",
   "mimetype": "text/x-python",
   "name": "python",
   "nbconvert_exporter": "python",
   "pygments_lexer": "ipython3",
   "version": "3.7.3"
  }
 },
 "nbformat": 4,
 "nbformat_minor": 2
}
