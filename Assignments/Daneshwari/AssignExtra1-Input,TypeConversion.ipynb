{
 "cells": [
  {
   "cell_type": "code",
   "execution_count": 13,
   "metadata": {},
   "outputs": [
    {
     "name": "stdout",
     "output_type": "stream",
     "text": [
      "Enter the temperature in Fahrenheit:33\n",
      "Converted temperature in Celsius is: 0.5555555555555556\n"
     ]
    }
   ],
   "source": [
    "temp = int(input(\"Enter the temperature in Fahrenheit:\"))\n",
    "print(\"Converted temperature in Celsius is:\",(temp-32)*(5/9))"
   ]
  },
  {
   "cell_type": "code",
   "execution_count": 21,
   "metadata": {},
   "outputs": [
    {
     "name": "stdout",
     "output_type": "stream",
     "text": [
      "Enter a num:4\n",
      "square root of 4 is: 2.0\n",
      "cube root of 4 is: 1.5874010519681994\n"
     ]
    }
   ],
   "source": [
    "num = int(input(\"Enter a num:\"))\n",
    "print(\"square root of\",num , \"is:\",num**(.5))\n",
    "print(\"cube root of\", num , \"is:\", num**(1./3.))"
   ]
  },
  {
   "cell_type": "code",
   "execution_count": null,
   "metadata": {},
   "outputs": [],
   "source": [
    "n = int(input(\"Enter the num n:\"))\n",
    "m = int(input(\"Enter the num m:\"))\n",
    "o = (n**2)+(m**2)\n",
    "print(\"Sum of Square roots of n and m is:\",o)"
   ]
  },
  {
   "cell_type": "code",
   "execution_count": 3,
   "metadata": {},
   "outputs": [
    {
     "name": "stdout",
     "output_type": "stream",
     "text": [
      "Enter the num n:3\n",
      "Enter the num m:3\n",
      "res of (m**n) is: 27\n",
      "res of pow is: 27\n"
     ]
    }
   ],
   "source": [
    "import math\n",
    "n = int(input(\"Enter the num n:\"))\n",
    "m = int(input(\"Enter the num m:\"))\n",
    "res = (m**n)\n",
    "res1 = pow(m,n)\n",
    "print(\"res of (m**n) is:\",res)\n",
    "print(\"res of pow is:\",res1)\n"
   ]
  },
  {
   "cell_type": "code",
   "execution_count": 4,
   "metadata": {},
   "outputs": [
    {
     "name": "stdout",
     "output_type": "stream",
     "text": [
      "Enter the Principal amount:200\n",
      "Enter the Time(years):5\n",
      "Enter the Rate:5\n",
      "The Simple intrest is: 50.0\n"
     ]
    }
   ],
   "source": [
    "P = int(input(\"Enter the Principal amount:\"))\n",
    "T = int(input(\"Enter the Time(years):\"))\n",
    "R = int(input(\"Enter the Rate:\"))\n",
    "SI= (P*T*R)/100\n",
    "print(\"The Simple intrest is:\",SI)"
   ]
  },
  {
   "cell_type": "code",
   "execution_count": 12,
   "metadata": {},
   "outputs": [
    {
     "name": "stdout",
     "output_type": "stream",
     "text": [
      "Enter the Principal amount:500000\n",
      "Enter the Rate:12.5\n",
      "Enter the Time(years):7\n",
      "The Compond intrest is: 640348.6728668213\n",
      "The amount is: 500000.0\n"
     ]
    }
   ],
   "source": [
    "import math\n",
    "P = float(input(\"Enter the Principal amount:\"))\n",
    "R = float(input(\"Enter the Rate:\"))\n",
    "T = float(input(\"Enter the Time(years):\"))\n",
    "CI= P *(math.pow((1+R/100),T))\n",
    "Compound_Intrest = CI - P\n",
    "print(\"The Compond intrest is:\",Compound_Intrest)\n",
    "print(\"The amount is:\" , P)"
   ]
  },
  {
   "cell_type": "code",
   "execution_count": 19,
   "metadata": {},
   "outputs": [
    {
     "name": "stdout",
     "output_type": "stream",
     "text": [
      "Enter a number:4\n",
      "sum of 4 natural number is 10.0\n"
     ]
    }
   ],
   "source": [
    "n = int(input(\"Enter a number:\"))\n",
    "s = (n*(n+1))/2\n",
    "print(\"sum of\" ,n,\"natural number is {}\".format(s))"
   ]
  },
  {
   "cell_type": "code",
   "execution_count": 25,
   "metadata": {},
   "outputs": [
    {
     "name": "stdout",
     "output_type": "stream",
     "text": [
      "Enter num a:4\n",
      "Enter num b:5\n",
      "Swapping of two numbers using pythonic way: (5, 4)\n"
     ]
    }
   ],
   "source": [
    "a = int(input(\"Enter num a:\"))\n",
    "b = int(input(\"Enter num b:\"))\n",
    "x= a,b = b,a\n",
    "print(\"Swapping of two numbers using pythonic way:\",x )"
   ]
  },
  {
   "cell_type": "code",
   "execution_count": 26,
   "metadata": {},
   "outputs": [
    {
     "name": "stdout",
     "output_type": "stream",
     "text": [
      "Enter num x:2\n",
      "Enter num y:3\n",
      "After swapping using temp 3 2\n"
     ]
    }
   ],
   "source": [
    "x = int(input(\"Enter num x:\"))\n",
    "y = int(input(\"Enter num y:\"))\n",
    "temp = x;\n",
    "x = y;\n",
    "y = temp;\n",
    "print(\"After swapping using temp\", x, y);"
   ]
  },
  {
   "cell_type": "code",
   "execution_count": 32,
   "metadata": {},
   "outputs": [
    {
     "name": "stdout",
     "output_type": "stream",
     "text": [
      "9\n",
      "10\n",
      "13\n"
     ]
    }
   ],
   "source": [
    "print(ord('\\t'))\n",
    "print(ord('\\n'))\n",
    "print(ord('\\r'))"
   ]
  },
  {
   "cell_type": "code",
   "execution_count": 29,
   "metadata": {},
   "outputs": [
    {
     "name": "stdout",
     "output_type": "stream",
     "text": [
      "Enter any character to print its ascii value:w\n",
      "119\n"
     ]
    }
   ],
   "source": [
    "a = str(input(\"Enter any character to print its ascii value:\"))\n",
    "print(ord(a))"
   ]
  },
  {
   "cell_type": "code",
   "execution_count": 39,
   "metadata": {},
   "outputs": [
    {
     "name": "stdout",
     "output_type": "stream",
     "text": [
      "Enter the area of circle:2\n",
      "Radius of the circle is: 0.7980868844676221\n",
      "Circumference of the circle is: 5.011985634456667\n"
     ]
    }
   ],
   "source": [
    "from math import sqrt\n",
    "area = float(input(\"Enter the area of circle:\"))\n",
    "r = sqrt(area / 3.14)\n",
    "c = 2 * 3.14 * r\n",
    "print(\"Radius of the circle is:\", r)\n",
    "print(\"Circumference of the circle is:\", c)\n"
   ]
  },
  {
   "cell_type": "code",
   "execution_count": null,
   "metadata": {},
   "outputs": [],
   "source": [
    "s1 = float(input(\"Enter marks in sub1:\"))\n",
    "s2 = float(input(\"Enter marks in sub2:\"))\n",
    "s3 = float(input(\"Enter marks in sub3:\"))\n",
    "s4 = float(input(\"Enter marks in sub4:\"))\n",
    "s5 = float(input(\"Enter marks in sub5:\"))\n",
    "result = (s1+s2+s3+s4+s5)/500*100\n",
    "print(\"Percentage of 5 subjects is:\",result,\"%\")"
   ]
  },
  {
   "cell_type": "code",
   "execution_count": null,
   "metadata": {},
   "outputs": [],
   "source": []
  },
  {
   "cell_type": "code",
   "execution_count": null,
   "metadata": {},
   "outputs": [],
   "source": []
  }
 ],
 "metadata": {
  "kernelspec": {
   "display_name": "Python 3",
   "language": "python",
   "name": "python3"
  },
  "language_info": {
   "codemirror_mode": {
    "name": "ipython",
    "version": 3
   },
   "file_extension": ".py",
   "mimetype": "text/x-python",
   "name": "python",
   "nbconvert_exporter": "python",
   "pygments_lexer": "ipython3",
   "version": "3.7.3"
  }
 },
 "nbformat": 4,
 "nbformat_minor": 2
}
