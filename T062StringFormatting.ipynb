{
 "cells": [
  {
   "cell_type": "markdown",
   "metadata": {},
   "source": [
    "### string formatting"
   ]
  },
  {
   "cell_type": "code",
   "execution_count": 2,
   "metadata": {},
   "outputs": [
    {
     "name": "stdout",
     "output_type": "stream",
     "text": [
      "10-10.5\n"
     ]
    }
   ],
   "source": [
    "x = 10\n",
    "y = 10.5\n",
    "\n",
    "# join with a dash in between\n",
    "\n",
    "s = str(x) + '-' + str(y)\n",
    "print(s)"
   ]
  },
  {
   "cell_type": "code",
   "execution_count": 6,
   "metadata": {},
   "outputs": [
    {
     "name": "stdout",
     "output_type": "stream",
     "text": [
      " 10-10.500000 : abcd\n"
     ]
    }
   ],
   "source": [
    "x = 10\n",
    "y = 10.5\n",
    "#  |-formt string-|     | - data - |\n",
    "s =   \" %d-%f : %s\"       %    (x,y, 'abcd')\n",
    "print(s)"
   ]
  },
  {
   "cell_type": "code",
   "execution_count": 9,
   "metadata": {},
   "outputs": [
    {
     "name": "stdout",
     "output_type": "stream",
     "text": [
      "x = 10, y = 10.500000\n"
     ]
    }
   ],
   "source": [
    "x = 10\n",
    "y = 10.5\n",
    "\n",
    "# join with a dash in between\n",
    "\n",
    "s = \"x = %d, y = %f\" % (x,y)\n",
    "print(s)"
   ]
  },
  {
   "cell_type": "code",
   "execution_count": 10,
   "metadata": {},
   "outputs": [
    {
     "name": "stdout",
     "output_type": "stream",
     "text": [
      "x = 10,y=10.5\n"
     ]
    }
   ],
   "source": [
    "x = 10\n",
    "y = 10.5\n",
    "# join with a dash in between\n",
    "\n",
    "s = \"x = \" + str(x) + \",y=\" + str(y)\n",
    "print(s)"
   ]
  },
  {
   "cell_type": "code",
   "execution_count": null,
   "metadata": {},
   "outputs": [],
   "source": []
  }
 ],
 "metadata": {
  "kernelspec": {
   "display_name": "Python 3",
   "language": "python",
   "name": "python3"
  },
  "language_info": {
   "codemirror_mode": {
    "name": "ipython",
    "version": 3
   },
   "file_extension": ".py",
   "mimetype": "text/x-python",
   "name": "python",
   "nbconvert_exporter": "python",
   "pygments_lexer": "ipython3",
   "version": "3.7.3"
  }
 },
 "nbformat": 4,
 "nbformat_minor": 2
}
