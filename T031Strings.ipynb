{
 "cells": [
  {
   "cell_type": "markdown",
   "metadata": {},
   "source": [
    "### Strings\n",
    "- string is an immutable sequence\n"
   ]
  },
  {
   "cell_type": "code",
   "execution_count": 2,
   "metadata": {},
   "outputs": [
    {
     "name": "stdout",
     "output_type": "stream",
     "text": [
      "4\n",
      "abcd\n"
     ]
    }
   ],
   "source": [
    "s= 'abcd'\n",
    "L = len(s)\n",
    "print(L)\n",
    "print(s)"
   ]
  },
  {
   "cell_type": "code",
   "execution_count": 3,
   "metadata": {},
   "outputs": [
    {
     "name": "stdout",
     "output_type": "stream",
     "text": [
      "10\n",
      "10\n"
     ]
    }
   ],
   "source": [
    "print(10)\n",
    "print('10')\n"
   ]
  },
  {
   "cell_type": "code",
   "execution_count": 7,
   "metadata": {},
   "outputs": [
    {
     "name": "stdout",
     "output_type": "stream",
     "text": [
      "1020\n"
     ]
    }
   ],
   "source": [
    "a = '10'\n",
    "b = '20'\n",
    "print( a + b )"
   ]
  },
  {
   "cell_type": "markdown",
   "metadata": {},
   "source": [
    "## Escape Sequence"
   ]
  },
  {
   "cell_type": "code",
   "execution_count": 10,
   "metadata": {},
   "outputs": [
    {
     "name": "stdout",
     "output_type": "stream",
     "text": [
      "AB\n",
      "C\tD\n"
     ]
    }
   ],
   "source": [
    "s = 'AB\\nC\\tD'\n",
    "print(s)"
   ]
  },
  {
   "cell_type": "code",
   "execution_count": 12,
   "metadata": {},
   "outputs": [
    {
     "name": "stdout",
     "output_type": "stream",
     "text": [
      "1\\2\n"
     ]
    }
   ],
   "source": [
    "s = '1\\\\2'\n",
    "print(s)"
   ]
  },
  {
   "cell_type": "code",
   "execution_count": 17,
   "metadata": {},
   "outputs": [
    {
     "name": "stdout",
     "output_type": "stream",
     "text": [
      " a\"b 'cd \n"
     ]
    }
   ],
   "source": [
    "s = ' a\\\"b \\'cd '\n",
    "print(s)"
   ]
  },
  {
   "cell_type": "code",
   "execution_count": 18,
   "metadata": {},
   "outputs": [
    {
     "name": "stdout",
     "output_type": "stream",
     "text": [
      " abcd \" pqr \n"
     ]
    }
   ],
   "source": [
    "s = ' abcd \" pqr '\n",
    "print(s)"
   ]
  },
  {
   "cell_type": "code",
   "execution_count": 19,
   "metadata": {},
   "outputs": [
    {
     "name": "stdout",
     "output_type": "stream",
     "text": [
      "ab\" cd\n",
      "AB' CD\n",
      "ab' c\" d\n",
      "a'''b ' c\" d\n"
     ]
    }
   ],
   "source": [
    "s1 = 'ab\" cd'\n",
    "s2 = \"AB' CD\"\n",
    "s3 = '''ab' c\" d'''\n",
    "s4 = \"\"\"a'''b ' c\" d\"\"\"\n",
    "print(s1)\n",
    "print(s2)\n",
    "print(s3)\n",
    "print(s4)"
   ]
  },
  {
   "cell_type": "code",
   "execution_count": 21,
   "metadata": {},
   "outputs": [
    {
     "name": "stdout",
     "output_type": "stream",
     "text": [
      "ab\n",
      "cd\n",
      "ab\n",
      "cd\n",
      "'ab\\ncd'\n"
     ]
    }
   ],
   "source": [
    "s = \"ab\\ncd\"\n",
    "\n",
    "print(s)\n",
    "s = \"\"\"ab\n",
    "cd\"\"\"\n",
    "print(s) # multiline strings: \"\"\" \"\"\"   ''' '''\n",
    "\n",
    "print(repr(s))"
   ]
  },
  {
   "cell_type": "code",
   "execution_count": 28,
   "metadata": {},
   "outputs": [
    {
     "name": "stdout",
     "output_type": "stream",
     "text": [
      "8\n",
      "abcd\\n\\t\n"
     ]
    }
   ],
   "source": [
    "# raw strings\n",
    "# fsfs\n",
    "s = r\"abcd\\n\\t\"\n",
    "print( len(s) )\n",
    "print(s)"
   ]
  },
  {
   "cell_type": "code",
   "execution_count": 36,
   "metadata": {},
   "outputs": [],
   "source": [
    "\"\"\"\n",
    "THis is a multiline comment\n",
    "In python.\n",
    "Use either single or double quoted triple quotes\n",
    "\"\"\"\n",
    "x = 10"
   ]
  },
  {
   "cell_type": "code",
   "execution_count": 37,
   "metadata": {},
   "outputs": [
    {
     "name": "stdout",
     "output_type": "stream",
     "text": [
      "10\n",
      "abcd\n"
     ]
    },
    {
     "data": {
      "text/plain": [
       "1"
      ]
     },
     "execution_count": 37,
     "metadata": {},
     "output_type": "execute_result"
    }
   ],
   "source": [
    "print(10)\n",
    "100\n",
    "print('abcd')\n",
    "1"
   ]
  },
  {
   "cell_type": "markdown",
   "metadata": {},
   "source": [
    "### Indexing and Slicing"
   ]
  },
  {
   "cell_type": "code",
   "execution_count": 43,
   "metadata": {},
   "outputs": [
    {
     "name": "stdout",
     "output_type": "stream",
     "text": [
      "a\n",
      "h\n",
      "h\n"
     ]
    },
    {
     "ename": "IndexError",
     "evalue": "string index out of range",
     "output_type": "error",
     "traceback": [
      "\u001b[1;31m---------------------------------------------------------------------------\u001b[0m",
      "\u001b[1;31mIndexError\u001b[0m                                Traceback (most recent call last)",
      "\u001b[1;32m<ipython-input-43-f223dbe537d2>\u001b[0m in \u001b[0;36m<module>\u001b[1;34m\u001b[0m\n\u001b[0;32m      5\u001b[0m \u001b[0mprint\u001b[0m\u001b[1;33m(\u001b[0m\u001b[0ms\u001b[0m\u001b[1;33m[\u001b[0m\u001b[1;36m7\u001b[0m\u001b[1;33m]\u001b[0m\u001b[1;33m)\u001b[0m\u001b[1;33m\u001b[0m\u001b[1;33m\u001b[0m\u001b[0m\n\u001b[0;32m      6\u001b[0m \u001b[0mprint\u001b[0m\u001b[1;33m(\u001b[0m\u001b[0ms\u001b[0m\u001b[1;33m[\u001b[0m \u001b[0mlen\u001b[0m\u001b[1;33m(\u001b[0m\u001b[0ms\u001b[0m\u001b[1;33m)\u001b[0m \u001b[1;33m-\u001b[0m \u001b[1;36m1\u001b[0m \u001b[1;33m]\u001b[0m\u001b[1;33m)\u001b[0m\u001b[1;33m\u001b[0m\u001b[1;33m\u001b[0m\u001b[0m\n\u001b[1;32m----> 7\u001b[1;33m \u001b[0mprint\u001b[0m\u001b[1;33m(\u001b[0m \u001b[0ms\u001b[0m\u001b[1;33m[\u001b[0m\u001b[0mlen\u001b[0m\u001b[1;33m(\u001b[0m\u001b[0ms\u001b[0m\u001b[1;33m)\u001b[0m\u001b[1;33m]\u001b[0m \u001b[1;33m)\u001b[0m\u001b[1;33m\u001b[0m\u001b[1;33m\u001b[0m\u001b[0m\n\u001b[0m",
      "\u001b[1;31mIndexError\u001b[0m: string index out of range"
     ]
    }
   ],
   "source": [
    "s = 'abcdefgh'\n",
    "#    01234567\n",
    "# positive indexing\n",
    "print( s[0] )\n",
    "print(s[7])\n",
    "print(s[ len(s) - 1 ])\n",
    "print( s[len(s)] )"
   ]
  },
  {
   "cell_type": "code",
   "execution_count": 44,
   "metadata": {},
   "outputs": [
    {
     "name": "stdout",
     "output_type": "stream",
     "text": [
      "h\n",
      "b\n",
      "a\n"
     ]
    }
   ],
   "source": [
    "s = 'abcdefgh'\n",
    "#    87654321\n",
    "# negative indexing\n",
    "print(s[-1])\n",
    "print(s[-7])\n",
    "print(s[ -len(s) ])"
   ]
  },
  {
   "cell_type": "code",
   "execution_count": 42,
   "metadata": {},
   "outputs": [
    {
     "name": "stdout",
     "output_type": "stream",
     "text": [
      "False\n",
      "True\n",
      "False\n",
      "False\n",
      "False\n",
      "True\n"
     ]
    }
   ],
   "source": [
    "print( 1 == 2)\n",
    "print( 2 == 2)\n",
    "print( 2 != 2)\n",
    "print( 1 == 0)\n",
    "print( -1 == 1)\n",
    "print( -0 == 0)"
   ]
  },
  {
   "cell_type": "code",
   "execution_count": 48,
   "metadata": {},
   "outputs": [
    {
     "name": "stdout",
     "output_type": "stream",
     "text": [
      "abcd\n",
      "cd\n",
      "\n",
      "\n"
     ]
    }
   ],
   "source": [
    "# [start:end:step]\n",
    "s = 'abcdefgh'\n",
    "#    01234567\n",
    "# positive indexing\n",
    "print( s[0:4] )\n",
    "print( s[2:4] )\n",
    "print( s[2:2] )\n",
    "print( s[4:2] )"
   ]
  },
  {
   "cell_type": "code",
   "execution_count": 53,
   "metadata": {},
   "outputs": [
    {
     "name": "stdout",
     "output_type": "stream",
     "text": [
      "abcd\n",
      "ac\n",
      "\n",
      "edcb\n"
     ]
    }
   ],
   "source": [
    "# [start:end:step]\n",
    "s = 'abcd\\tefgh'\n",
    "#    0123 45678\n",
    "# positive indexing\n",
    "print( s[0:4:1] )\n",
    "print( s[0:4:2] )\n",
    "print( s[0:4:-1] )\n",
    "print( s[4:0:-1] )"
   ]
  },
  {
   "cell_type": "code",
   "execution_count": 59,
   "metadata": {},
   "outputs": [
    {
     "name": "stdout",
     "output_type": "stream",
     "text": [
      "hgf\n",
      "abc\n",
      "defgh\n",
      "aceg\n",
      "hfdb\n",
      "hgfedcba\n"
     ]
    }
   ],
   "source": [
    "# [start:end:step]\n",
    "s = 'abcdefgh'\n",
    "#    01234567 +\n",
    "#    87654321 -\n",
    "print( s[-1:4:-1] )\n",
    "print( s[:3] )\n",
    "print( s[3:] )\n",
    "print( s[::2] )\n",
    "print( s[::-2] )\n",
    "print( s[::-1] )"
   ]
  },
  {
   "cell_type": "code",
   "execution_count": 63,
   "metadata": {},
   "outputs": [
    {
     "name": "stdout",
     "output_type": "stream",
     "text": [
      "2217245243688\n",
      "2217298186168\n",
      "2217298215016\n",
      "2217298185496\n",
      "\n",
      "2217298185664\n",
      "2217298215184\n",
      "2217298185664\n"
     ]
    }
   ],
   "source": [
    "s= 'string'\n",
    "s1 = s[::-1]\n",
    "s2 = s[::-2]\n",
    "s3 = s[::-1]\n",
    "print(id(s))\n",
    "print(id(s1))\n",
    "print(id(s2))\n",
    "print(id(s3))\n",
    "print()\n",
    "print(id(s[::-1]))\n",
    "print(id(s[::-2]))\n",
    "print(id(s[::-1]))"
   ]
  },
  {
   "cell_type": "code",
   "execution_count": 2,
   "metadata": {},
   "outputs": [
    {
     "name": "stdout",
     "output_type": "stream",
     "text": [
      "\n",
      "\n"
     ]
    }
   ],
   "source": [
    "# wap to input a string and print in reverse\n",
    "s = input()\n",
    "print(s[::-1])"
   ]
  },
  {
   "cell_type": "code",
   "execution_count": 12,
   "metadata": {},
   "outputs": [
    {
     "name": "stdout",
     "output_type": "stream",
     "text": [
      "abcd\n",
      "pqr\n",
      "abcpqr\n",
      "select * employee where\n",
      "empid = 10 and dateofjoining > = tod..\n",
      "select * employee where empid = 10 and dateofjoining > = tod..\n"
     ]
    }
   ],
   "source": [
    "s1 = 'abcd' + '\\n' + 'pqr'\n",
    "print(s1)\n",
    "s1 = 'abc' 'pqr'\n",
    "print(s1)\n",
    "s2 = \"\"\"select * employee where\n",
    "empid = 10 and dateofjoining > = tod..\"\"\"\n",
    "print(s2)\n",
    "s3 = \"select * employee where \" \\\n",
    "    \"empid = 10 and dateofjoining > = tod..\"\n",
    "print(s3)"
   ]
  },
  {
   "cell_type": "code",
   "execution_count": 11,
   "metadata": {},
   "outputs": [
    {
     "name": "stdout",
     "output_type": "stream",
     "text": [
      "60\n"
     ]
    }
   ],
   "source": [
    "x = 10 + 20 \\\n",
    "        + 30\n",
    "print(x)"
   ]
  },
  {
   "cell_type": "code",
   "execution_count": 16,
   "metadata": {},
   "outputs": [
    {
     "name": "stdout",
     "output_type": "stream",
     "text": [
      "abcdabcdabcdabcdabcd\n",
      "abcdabcdabcdabcdabcd\n",
      "abcdabcdabcdabcdabcd\n",
      "abcdabcdabcdabcdabcd\n",
      "abcdabcdabcdabcdabcd\n",
      "abcdabcdabcdabcdabcd\n",
      "\n"
     ]
    }
   ],
   "source": [
    "s = 'abcd' * 5\n",
    "print(s)\n",
    "print( (s + '\\n') * 5)"
   ]
  },
  {
   "cell_type": "code",
   "execution_count": 17,
   "metadata": {},
   "outputs": [
    {
     "ename": "TypeError",
     "evalue": "can't multiply sequence by non-int of type 'str'",
     "output_type": "error",
     "traceback": [
      "\u001b[1;31m---------------------------------------------------------------------------\u001b[0m",
      "\u001b[1;31mTypeError\u001b[0m                                 Traceback (most recent call last)",
      "\u001b[1;32m<ipython-input-17-f16ddcabf702>\u001b[0m in \u001b[0;36m<module>\u001b[1;34m\u001b[0m\n\u001b[1;32m----> 1\u001b[1;33m \u001b[1;34m'a'\u001b[0m \u001b[1;33m*\u001b[0m \u001b[1;34m'b'\u001b[0m\u001b[1;33m\u001b[0m\u001b[1;33m\u001b[0m\u001b[0m\n\u001b[0m",
      "\u001b[1;31mTypeError\u001b[0m: can't multiply sequence by non-int of type 'str'"
     ]
    }
   ],
   "source": [
    "'a' * 'b'"
   ]
  },
  {
   "cell_type": "markdown",
   "metadata": {},
   "source": [
    "# function over strings"
   ]
  },
  {
   "cell_type": "code",
   "execution_count": 1,
   "metadata": {},
   "outputs": [
    {
     "name": "stdout",
     "output_type": "stream",
     "text": [
      "['__add__', '__class__', '__contains__', '__delattr__', '__dir__', '__doc__', '__eq__', '__format__', '__ge__', '__getattribute__', '__getitem__', '__getnewargs__', '__gt__', '__hash__', '__init__', '__init_subclass__', '__iter__', '__le__', '__len__', '__lt__', '__mod__', '__mul__', '__ne__', '__new__', '__reduce__', '__reduce_ex__', '__repr__', '__rmod__', '__rmul__', '__setattr__', '__sizeof__', '__str__', '__subclasshook__', 'capitalize', 'casefold', 'center', 'count', 'encode', 'endswith', 'expandtabs', 'find', 'format', 'format_map', 'index', 'isalnum', 'isalpha', 'isascii', 'isdecimal', 'isdigit', 'isidentifier', 'islower', 'isnumeric', 'isprintable', 'isspace', 'istitle', 'isupper', 'join', 'ljust', 'lower', 'lstrip', 'maketrans', 'partition', 'replace', 'rfind', 'rindex', 'rjust', 'rpartition', 'rsplit', 'rstrip', 'split', 'splitlines', 'startswith', 'strip', 'swapcase', 'title', 'translate', 'upper', 'zfill']\n"
     ]
    }
   ],
   "source": [
    "print(dir(' '))"
   ]
  },
  {
   "cell_type": "code",
   "execution_count": 2,
   "metadata": {},
   "outputs": [
    {
     "name": "stdout",
     "output_type": "stream",
     "text": [
      "abcdadf123\n"
     ]
    }
   ],
   "source": [
    "s = 'abcdADF123'\n",
    "print(s.lower())"
   ]
  },
  {
   "cell_type": "code",
   "execution_count": 3,
   "metadata": {},
   "outputs": [
    {
     "name": "stdout",
     "output_type": "stream",
     "text": [
      "True\n"
     ]
    }
   ],
   "source": [
    "print('abcdefg'.startswith('ab'))"
   ]
  },
  {
   "cell_type": "code",
   "execution_count": 4,
   "metadata": {},
   "outputs": [
    {
     "name": "stdout",
     "output_type": "stream",
     "text": [
      "False\n"
     ]
    }
   ],
   "source": [
    "print('abcdefg'.endswith('ab'))"
   ]
  },
  {
   "cell_type": "code",
   "execution_count": 32,
   "metadata": {},
   "outputs": [
    {
     "name": "stdout",
     "output_type": "stream",
     "text": [
      "True\n",
      "True\n",
      "True\n",
      "False\n",
      "False\n",
      "True\n",
      "aabcd\n",
      "Help on method_descriptor:\n",
      "\n",
      "casefold(self, /)\n",
      "    Return a version of the string suitable for caseless comparisons.\n",
      "\n",
      "Aababc\n",
      "AabABC\n"
     ]
    }
   ],
   "source": [
    "print('abc'.islower())\n",
    "print('abc123'.islower())\n",
    "print('abc123'.isalnum())\n",
    "print('abc123'.isalpha())\n",
    "print('abc123'.isdigit())\n",
    "print('123'.isdigit())\n",
    "print('aABcd'.casefold())\n",
    "help(str.casefold) #this is suitable for caseless comparison\n",
    "print('aABabc'.capitalize())\n",
    "print('aABabc'.swapcase())"
   ]
  },
  {
   "cell_type": "code",
   "execution_count": 37,
   "metadata": {},
   "outputs": [
    {
     "name": "stdout",
     "output_type": "stream",
     "text": [
      "10 20 30\n",
      "10 20 30\n",
      "10,,20,,30\n",
      "10#20#30\t234\n"
     ]
    }
   ],
   "source": [
    "print(10,20,30)\n",
    "print(10,20,30, sep = ' ')\n",
    "print(10,20,30, sep = ','*2)\n",
    "print(10,20,30,sep='#', end='\\t') #default value of end is \\n\n",
    "print(234)\n"
   ]
  },
  {
   "cell_type": "code",
   "execution_count": 38,
   "metadata": {},
   "outputs": [
    {
     "name": "stdout",
     "output_type": "stream",
     "text": [
      "abcd\n"
     ]
    }
   ],
   "source": [
    "# work on translate and maketranslate "
   ]
  },
  {
   "cell_type": "code",
   "execution_count": 44,
   "metadata": {},
   "outputs": [
    {
     "name": "stdout",
     "output_type": "stream",
     "text": [
      "0\n",
      "10\n",
      "-1\n",
      "3\n",
      "True\n"
     ]
    }
   ],
   "source": [
    "s = 'abc abc abcd'\n",
    "print(s.find('ab'))\n",
    "print(s.find('cd'))\n",
    "print(s.find('jg')) # if not found then it returns -1\n",
    "print(s.count('a'))\n",
    "print('ab' in s)"
   ]
  },
  {
   "cell_type": "code",
   "execution_count": 45,
   "metadata": {},
   "outputs": [
    {
     "name": "stdout",
     "output_type": "stream",
     "text": [
      "enter a string: lksdfhafsdkf\n",
      "0\n",
      "False\n"
     ]
    }
   ],
   "source": [
    "s = input('enter a string: ')\n",
    "print(s.count('A'))\n",
    "print('A' in s)"
   ]
  },
  {
   "cell_type": "code",
   "execution_count": 49,
   "metadata": {},
   "outputs": [
    {
     "name": "stdout",
     "output_type": "stream",
     "text": [
      "0\n"
     ]
    }
   ],
   "source": [
    "string1 = 'abcdefgh'\n",
    "s = string1.upper() #here you can not use casefold because it convert either to small or caps \n",
    "vowels = s.count('A') + s.count('E') + s.count('I') + s.count('O') + s.count('U')\n",
    "print(vowels)"
   ]
  },
  {
   "cell_type": "code",
   "execution_count": null,
   "metadata": {},
   "outputs": [],
   "source": [
    "x = 3\n",
    "print(1,)"
   ]
  }
 ],
 "metadata": {
  "kernelspec": {
   "display_name": "Python 3",
   "language": "python",
   "name": "python3"
  },
  "language_info": {
   "codemirror_mode": {
    "name": "ipython",
    "version": 3
   },
   "file_extension": ".py",
   "mimetype": "text/x-python",
   "name": "python",
   "nbconvert_exporter": "python",
   "pygments_lexer": "ipython3",
   "version": "3.7.0"
  }
 },
 "nbformat": 4,
 "nbformat_minor": 2
}
