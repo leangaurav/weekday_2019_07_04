{
 "cells": [
  {
   "cell_type": "code",
   "execution_count": 2,
   "metadata": {},
   "outputs": [
    {
     "name": "stdout",
     "output_type": "stream",
     "text": [
      "10\n",
      "20\n",
      "30\n",
      "40\n",
      "50\n",
      "a\n",
      "b\n",
      "c\n",
      "d\n",
      "e\n",
      "f\n",
      "g\n"
     ]
    }
   ],
   "source": [
    "a1 = [10,20,30,40,50]\n",
    "a2 = list('abcdefg')\n",
    "for data in a1:\n",
    "    print(data)\n",
    "for data in a2:\n",
    "    print(data)"
   ]
  },
  {
   "cell_type": "code",
   "execution_count": 3,
   "metadata": {},
   "outputs": [
    {
     "name": "stdout",
     "output_type": "stream",
     "text": [
      "10 a\n",
      "20 b\n",
      "30 c\n",
      "40 d\n",
      "50 e\n"
     ]
    }
   ],
   "source": [
    "a1 = [10,20,30,40,50]\n",
    "a2 = list('abcdefg')\n",
    "for i in range(len(a1)):\n",
    "    print(a1[i], a2[i])"
   ]
  },
  {
   "cell_type": "code",
   "execution_count": 8,
   "metadata": {},
   "outputs": [
    {
     "name": "stdout",
     "output_type": "stream",
     "text": [
      "(10, 'a', 10)\n",
      "(20, 'b', 20)\n",
      "(30, 'c', 30)\n",
      "(40, 'd', 40)\n",
      "(50, 'e', 50)\n",
      "10 a\n",
      "20 b\n",
      "30 c\n",
      "40 d\n",
      "50 e\n",
      "\n",
      "50 e\n"
     ]
    }
   ],
   "source": [
    "a1 = [10,20,30,40,50]\n",
    "a2 = list('abcdefg')\n",
    "for data in zip(a1,a2,a1):\n",
    "    print(data)\n",
    "for x,y in zip(a1,a2): # enumerate\n",
    "    print(x,y)\n",
    "print()\n",
    "print(x,y)"
   ]
  },
  {
   "cell_type": "code",
   "execution_count": null,
   "metadata": {},
   "outputs": [],
   "source": []
  }
 ],
 "metadata": {
  "kernelspec": {
   "display_name": "Python 3",
   "language": "python",
   "name": "python3"
  },
  "language_info": {
   "codemirror_mode": {
    "name": "ipython",
    "version": 3
   },
   "file_extension": ".py",
   "mimetype": "text/x-python",
   "name": "python",
   "nbconvert_exporter": "python",
   "pygments_lexer": "ipython3",
   "version": "3.7.3"
  }
 },
 "nbformat": 4,
 "nbformat_minor": 2
}
