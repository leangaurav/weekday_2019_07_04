{
 "cells": [
  {
   "cell_type": "code",
   "execution_count": 1,
   "metadata": {},
   "outputs": [
    {
     "name": "stdout",
     "output_type": "stream",
     "text": [
      "20 10\n"
     ]
    }
   ],
   "source": [
    "x  =10\n",
    "y = 20\n",
    "t = x\n",
    "x = y\n",
    "y = t\n",
    "print(x,y)"
   ]
  },
  {
   "cell_type": "code",
   "execution_count": 2,
   "metadata": {},
   "outputs": [
    {
     "name": "stdout",
     "output_type": "stream",
     "text": [
      "20 10\n"
     ]
    }
   ],
   "source": [
    "x = 10\n",
    "y = 20\n",
    "x,y = y,x # tuple packing and unpacking\n",
    "print(x,y)"
   ]
  },
  {
   "cell_type": "code",
   "execution_count": 3,
   "metadata": {},
   "outputs": [
    {
     "name": "stdout",
     "output_type": "stream",
     "text": [
      "(20, 10) <class 'tuple'>\n"
     ]
    }
   ],
   "source": [
    "r = x,y\n",
    "print(r, type(r))"
   ]
  },
  {
   "cell_type": "code",
   "execution_count": 11,
   "metadata": {},
   "outputs": [
    {
     "name": "stdout",
     "output_type": "stream",
     "text": [
      "65\n",
      "97\n",
      "66\n",
      "90\n",
      "32\n"
     ]
    },
    {
     "ename": "TypeError",
     "evalue": "ord() expected string of length 1, but int found",
     "output_type": "error",
     "traceback": [
      "\u001b[1;31m---------------------------------------------------------------------------\u001b[0m",
      "\u001b[1;31mTypeError\u001b[0m                                 Traceback (most recent call last)",
      "\u001b[1;32m<ipython-input-11-410f29f8429f>\u001b[0m in \u001b[0;36m<module>\u001b[1;34m\u001b[0m\n\u001b[0;32m      4\u001b[0m \u001b[0mprint\u001b[0m\u001b[1;33m(\u001b[0m\u001b[0mord\u001b[0m\u001b[1;33m(\u001b[0m\u001b[1;34m'Z'\u001b[0m\u001b[1;33m)\u001b[0m\u001b[1;33m)\u001b[0m\u001b[1;33m\u001b[0m\u001b[1;33m\u001b[0m\u001b[0m\n\u001b[0;32m      5\u001b[0m \u001b[0mprint\u001b[0m\u001b[1;33m(\u001b[0m\u001b[0mord\u001b[0m\u001b[1;33m(\u001b[0m\u001b[1;34m' '\u001b[0m\u001b[1;33m)\u001b[0m\u001b[1;33m)\u001b[0m\u001b[1;33m\u001b[0m\u001b[1;33m\u001b[0m\u001b[0m\n\u001b[1;32m----> 6\u001b[1;33m \u001b[0mprint\u001b[0m\u001b[1;33m(\u001b[0m\u001b[0mord\u001b[0m\u001b[1;33m(\u001b[0m\u001b[1;36m0\u001b[0m\u001b[1;33m)\u001b[0m\u001b[1;33m)\u001b[0m\u001b[1;33m\u001b[0m\u001b[1;33m\u001b[0m\u001b[0m\n\u001b[0m\u001b[0;32m      7\u001b[0m \u001b[0mprint\u001b[0m\u001b[1;33m(\u001b[0m\u001b[0mord\u001b[0m\u001b[1;33m(\u001b[0m\u001b[1;34m'\\n'\u001b[0m\u001b[1;33m)\u001b[0m\u001b[1;33m)\u001b[0m\u001b[1;33m\u001b[0m\u001b[1;33m\u001b[0m\u001b[0m\n\u001b[0;32m      8\u001b[0m \u001b[0mprint\u001b[0m\u001b[1;33m(\u001b[0m\u001b[0mord\u001b[0m\u001b[1;33m(\u001b[0m\u001b[1;34m'\\t'\u001b[0m\u001b[1;33m)\u001b[0m\u001b[1;33m)\u001b[0m\u001b[1;33m\u001b[0m\u001b[1;33m\u001b[0m\u001b[0m\n",
      "\u001b[1;31mTypeError\u001b[0m: ord() expected string of length 1, but int found"
     ]
    }
   ],
   "source": [
    "print( ord('A') )\n",
    "print(ord('a'))\n",
    "print(ord('B'))\n",
    "print(ord('Z'))\n",
    "print(ord(' '))\n",
    "print(ord('0'))\n",
    "print(ord('\\n'))\n",
    "print(ord('\\t'))"
   ]
  },
  {
   "cell_type": "code",
   "execution_count": 12,
   "metadata": {},
   "outputs": [
    {
     "name": "stdout",
     "output_type": "stream",
     "text": [
      "a\n"
     ]
    }
   ],
   "source": [
    "print(chr(97))"
   ]
  },
  {
   "cell_type": "code",
   "execution_count": 25,
   "metadata": {},
   "outputs": [
    {
     "name": "stdout",
     "output_type": "stream",
     "text": [
      "N\n"
     ]
    }
   ],
   "source": [
    "# WAF that prints a random capital alphabet rand_char()\n",
    "\n",
    "import random\n",
    "\n",
    "def gaurav():\n",
    "    num = random.randint(65,90)\n",
    "    print(chr(num))\n",
    "    \n",
    "gaurav()"
   ]
  },
  {
   "cell_type": "markdown",
   "metadata": {},
   "source": [
    "## FUnctions"
   ]
  },
  {
   "cell_type": "code",
   "execution_count": 37,
   "metadata": {},
   "outputs": [
    {
     "name": "stdout",
     "output_type": "stream",
     "text": [
      "100\n",
      "144\n",
      "1000\n",
      "2\n"
     ]
    }
   ],
   "source": [
    "print(pow(10,2))\n",
    "print(pow(10 +2 ,2))\n",
    "print(pow(10,2+1))\n",
    "print( pow(10, pow(2,3), 7))\n",
    "\n",
    "\n",
    "2^10 + 3^4"
   ]
  },
  {
   "cell_type": "code",
   "execution_count": 41,
   "metadata": {},
   "outputs": [
    {
     "name": "stdout",
     "output_type": "stream",
     "text": [
      "Enter p:10\n",
      "Enter r:29\n",
      "Enter t:3\n",
      "8.7 $\n",
      "None\n"
     ]
    }
   ],
   "source": [
    "def SI():\n",
    "    p = float( input(\"Enter p:\") )\n",
    "    r = float( input(\"Enter r:\") )\n",
    "    t = float( input(\"Enter t:\") )\n",
    "    \n",
    "    si = (p*r*t)/100\n",
    "    \n",
    "    print(si,\"$\")\n",
    "\n",
    "r = SI()\n",
    "print(r)"
   ]
  },
  {
   "cell_type": "code",
   "execution_count": 47,
   "metadata": {},
   "outputs": [
    {
     "name": "stdout",
     "output_type": "stream",
     "text": [
      "16.0\n",
      "160.0\n",
      "1200.0\n"
     ]
    }
   ],
   "source": [
    "def SI(p,r,t):\n",
    "    si = (p*r*t)/100\n",
    "    return si\n",
    "\n",
    "\n",
    "#a = float( input(\"Enter p:\") )\n",
    "#b = float( input(\"Enter r:\") )\n",
    "#c = float( input(\"Enter t:\") )\n",
    "\n",
    "#r = SI(a,b,c)\n",
    "#print(r)\n",
    "\n",
    "r = SI(10,4,40)\n",
    "print(r)\n",
    "\n",
    "r = SI(pow(10,2),4,40)\n",
    "print(r)\n",
    "\n",
    "P= 1000\n",
    "A = SI(P,10,2) + P\n",
    "print(A)"
   ]
  },
  {
   "cell_type": "code",
   "execution_count": 51,
   "metadata": {},
   "outputs": [
    {
     "name": "stdout",
     "output_type": "stream",
     "text": [
      "None\n",
      "None\n"
     ]
    }
   ],
   "source": [
    "def f():\n",
    "    return 10\n",
    "    return 20\n",
    "\n",
    "print(f())\n",
    "print(f())"
   ]
  },
  {
   "cell_type": "code",
   "execution_count": 52,
   "metadata": {},
   "outputs": [
    {
     "name": "stdout",
     "output_type": "stream",
     "text": [
      "None\n",
      "None\n"
     ]
    }
   ],
   "source": [
    "def f():\n",
    "    return\n",
    "    return \n",
    "\n",
    "print(f())\n",
    "print(f())"
   ]
  },
  {
   "cell_type": "code",
   "execution_count": 53,
   "metadata": {},
   "outputs": [
    {
     "name": "stdout",
     "output_type": "stream",
     "text": [
      "(10, 20)\n",
      "(10, 20)\n"
     ]
    }
   ],
   "source": [
    "def f():\n",
    "    return 10,20\n",
    "    return \n",
    "\n",
    "print(f())\n",
    "print(f())"
   ]
  },
  {
   "cell_type": "code",
   "execution_count": 55,
   "metadata": {},
   "outputs": [
    {
     "name": "stdout",
     "output_type": "stream",
     "text": [
      "0.2\n",
      "2.0\n",
      "1.0\n"
     ]
    }
   ],
   "source": [
    "def SI(p,r = 10,t = 1):\n",
    "    si = (p*r*t)/100\n",
    "    return si\n",
    "\n",
    "print(SI(10,2))\n",
    "print(SI(10,2,10))\n",
    "print(SI(10))"
   ]
  },
  {
   "cell_type": "code",
   "execution_count": 59,
   "metadata": {},
   "outputs": [
    {
     "ename": "SyntaxError",
     "evalue": "non-default argument follows default argument (<ipython-input-59-715f41157f46>, line 1)",
     "output_type": "error",
     "traceback": [
      "\u001b[1;36m  File \u001b[1;32m\"<ipython-input-59-715f41157f46>\"\u001b[1;36m, line \u001b[1;32m1\u001b[0m\n\u001b[1;33m    def SI(p = 10000,r ,t = 1):\u001b[0m\n\u001b[1;37m          ^\u001b[0m\n\u001b[1;31mSyntaxError\u001b[0m\u001b[1;31m:\u001b[0m non-default argument follows default argument\n"
     ]
    }
   ],
   "source": [
    "def SI(p = 10000,r ,t = 1):\n",
    "    si = (p*r*t)/100\n",
    "    return si\n",
    "\n"
   ]
  },
  {
   "cell_type": "code",
   "execution_count": 61,
   "metadata": {},
   "outputs": [
    {
     "name": "stdout",
     "output_type": "stream",
     "text": [
      "10\n"
     ]
    }
   ],
   "source": [
    "x = 100\n",
    "def funct(x):\n",
    "    print(x)\n",
    "    \n",
    "funct(10)"
   ]
  },
  {
   "cell_type": "code",
   "execution_count": 63,
   "metadata": {},
   "outputs": [
    {
     "name": "stdout",
     "output_type": "stream",
     "text": [
      "ab\n",
      "cd\n"
     ]
    }
   ],
   "source": [
    "s = 'ab\\ncd'\n",
    "print(s)"
   ]
  },
  {
   "cell_type": "code",
   "execution_count": 64,
   "metadata": {},
   "outputs": [
    {
     "name": "stdout",
     "output_type": "stream",
     "text": [
      "\n",
      "ab\n",
      "cd\n"
     ]
    }
   ],
   "source": [
    "s = \"\"\"\n",
    "ab\n",
    "cd\"\"\"\n",
    "print(s)"
   ]
  },
  {
   "cell_type": "code",
   "execution_count": 65,
   "metadata": {},
   "outputs": [
    {
     "name": "stdout",
     "output_type": "stream",
     "text": [
      "*\n",
      "**\n",
      "***\n",
      "****\n",
      "*****\n"
     ]
    }
   ],
   "source": [
    "s = \"\"\"*\n",
    "**\n",
    "***\n",
    "****\n",
    "*****\"\"\"\n",
    "print(s)"
   ]
  },
  {
   "cell_type": "code",
   "execution_count": 69,
   "metadata": {},
   "outputs": [
    {
     "name": "stdout",
     "output_type": "stream",
     "text": [
      "10 20 30 ABCD True 100.5\n",
      "10 20 30\n",
      "10 20 30\n",
      "10,20,30\n"
     ]
    }
   ],
   "source": [
    "print(10,20,30, 'ABCD', True, 100.5)\n",
    "print(10,20,30, sep = ' ')\n",
    "print(10,20,30)\n",
    "print(10,20,30, sep = ',')"
   ]
  },
  {
   "cell_type": "code",
   "execution_count": 74,
   "metadata": {},
   "outputs": [
    {
     "name": "stdout",
     "output_type": "stream",
     "text": [
      "10 20 30 ABCD True 100.5\n",
      "10 20 30####100 200 300\n",
      "ABCD\n",
      "10#20#30#40\t1 2 3\n"
     ]
    }
   ],
   "source": [
    "print(10,20,30, 'ABCD', True, 100.5, end = '\\n')\n",
    "print(10,20,30, end = '####')\n",
    "print(100,200,300)\n",
    "print('ABCD')\n",
    "print(10,20,30,40, sep = '#', end = '\\t')\n",
    "print(1,2,3)"
   ]
  },
  {
   "cell_type": "code",
   "execution_count": null,
   "metadata": {},
   "outputs": [],
   "source": []
  }
 ],
 "metadata": {
  "kernelspec": {
   "display_name": "Python 3",
   "language": "python",
   "name": "python3"
  },
  "language_info": {
   "codemirror_mode": {
    "name": "ipython",
    "version": 3
   },
   "file_extension": ".py",
   "mimetype": "text/x-python",
   "name": "python",
   "nbconvert_exporter": "python",
   "pygments_lexer": "ipython3",
   "version": "3.7.3"
  }
 },
 "nbformat": 4,
 "nbformat_minor": 2
}
