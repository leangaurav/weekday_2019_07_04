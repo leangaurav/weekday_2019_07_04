{
 "cells": [
  {
   "cell_type": "code",
   "execution_count": 19,
   "metadata": {},
   "outputs": [
    {
     "name": "stdout",
     "output_type": "stream",
     "text": [
      "10\n"
     ]
    }
   ],
   "source": [
    "x = 10\n",
    "print(x)"
   ]
  },
  {
   "cell_type": "code",
   "execution_count": 18,
   "metadata": {},
   "outputs": [
    {
     "name": "stdout",
     "output_type": "stream",
     "text": [
      "abc\n"
     ]
    }
   ],
   "source": [
    "int x = 10;\n",
    "id(x)\n",
    "x = 20\n",
    "id(x)\n",
    "int y ;\n",
    "y = x"
   ]
  },
  {
   "cell_type": "code",
   "execution_count": 20,
   "metadata": {},
   "outputs": [
    {
     "name": "stdout",
     "output_type": "stream",
     "text": [
      "1000000000\n",
      "2567646198384\n",
      "200000.99999\n",
      "2567646258400\n"
     ]
    }
   ],
   "source": [
    "x = 1000000000\n",
    "print(x)\n",
    "print(  id(x) )\n",
    "x = 200000.99999\n",
    "print(x)\n",
    "print( id(x) )"
   ]
  },
  {
   "cell_type": "code",
   "execution_count": 21,
   "metadata": {},
   "outputs": [
    {
     "name": "stdout",
     "output_type": "stream",
     "text": [
      "-4.5 -4.5 -4.5\n",
      "\n",
      "2567646259048 2567646258328 2567646259048\n"
     ]
    }
   ],
   "source": [
    "# var y put a value 4.5; z assign to it 4.5\n",
    "# a assign to it y; print id of all t:  y,z, a\n",
    "y = -4.5\n",
    "z = -4.5\n",
    "a = y\n",
    "print(y,z,a)\n",
    "print()\n",
    "print( id(y), id(z), id(a) )"
   ]
  },
  {
   "cell_type": "code",
   "execution_count": 22,
   "metadata": {},
   "outputs": [
    {
     "name": "stdout",
     "output_type": "stream",
     "text": [
      "10 10\n",
      "10 100\n"
     ]
    }
   ],
   "source": [
    "a = 10\n",
    "b = a\n",
    "print(a,b)\n",
    "b = 100\n",
    "print(a,b)"
   ]
  },
  {
   "cell_type": "code",
   "execution_count": 32,
   "metadata": {},
   "outputs": [
    {
     "name": "stdout",
     "output_type": "stream",
     "text": [
      "<class 'int'>\n",
      "<class 'int'>\n",
      "<class 'float'>\n",
      "<class 'bool'>\n",
      "<class 'str'>\n",
      "<class 'builtin_function_or_method'>\n",
      "10\n",
      "<built-in function print>\n",
      "<built-in function print>\n"
     ]
    }
   ],
   "source": [
    "# PYthon is case sensitive\n",
    "# python is dynamically typed\n",
    "print( type(10) ) # means comment and everything on right of # is comment\n",
    "x = 10\n",
    "print( type(x) )\n",
    "x = 10.0\n",
    "print( type(x) )\n",
    "x = True\n",
    "print( type(x) )\n",
    "x = 'abcd'\n",
    "print( type(x) )\n",
    "x = print\n",
    "print( type(x) )\n",
    "x(10)\n",
    "x(x)\n",
    "print(print)"
   ]
  },
  {
   "cell_type": "code",
   "execution_count": null,
   "metadata": {},
   "outputs": [],
   "source": []
  }
 ],
 "metadata": {
  "kernelspec": {
   "display_name": "Python 3",
   "language": "python",
   "name": "python3"
  },
  "language_info": {
   "codemirror_mode": {
    "name": "ipython",
    "version": 3
   },
   "file_extension": ".py",
   "mimetype": "text/x-python",
   "name": "python",
   "nbconvert_exporter": "python",
   "pygments_lexer": "ipython3",
   "version": "3.7.3"
  }
 },
 "nbformat": 4,
 "nbformat_minor": 2
}
