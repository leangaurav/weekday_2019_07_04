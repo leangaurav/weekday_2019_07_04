{
 "cells": [
  {
   "cell_type": "code",
   "execution_count": 1,
   "metadata": {},
   "outputs": [
    {
     "name": "stdout",
     "output_type": "stream",
     "text": [
      "['a', 'bcd', '1#2,3', 'c', 'd'] <class 'list'>\n",
      "['1,2,333,444']\n",
      "['1', '2', '333', '444']\n"
     ]
    }
   ],
   "source": [
    "s = 'a bcd 1#2,3 c d'\n",
    "r = s.split()\n",
    "print(r, type(r))\n",
    "s = '1,2,333,444'\n",
    "r = s.split()\n",
    "print(r)\n",
    "r = s.split(',')\n",
    "print(r)"
   ]
  },
  {
   "cell_type": "code",
   "execution_count": 2,
   "metadata": {},
   "outputs": [
    {
     "name": "stdout",
     "output_type": "stream",
     "text": [
      "Enter numbers separated by space : 10\n",
      "['10']\n",
      "[10]\n"
     ]
    }
   ],
   "source": [
    "s = input(\"Enter numbers separated by space : \")\n",
    "\n",
    "l = s.split()\n",
    "ll =[] # [ int(data) for data in s.split() ] # list-comprehension # [] {} ()\n",
    "for data in l:\n",
    "    ll.append(int(data))\n",
    "    \n",
    "print(l)\n",
    "print(ll)"
   ]
  },
  {
   "cell_type": "code",
   "execution_count": 3,
   "metadata": {},
   "outputs": [
    {
     "data": {
      "text/plain": [
       "'\\n[[1,2,3], [1,2], [10,20]]\\n\\nhow to flatten it using list-compr\\n[1,2,3,1,2,10,20]\\n'"
      ]
     },
     "execution_count": 3,
     "metadata": {},
     "output_type": "execute_result"
    }
   ],
   "source": [
    "\"\"\"\n",
    "[[1,2,3], [1,2], [10,20]]\n",
    "\n",
    "how to flatten it using list-compr\n",
    "[1,2,3,1,2,10,20]\n",
    "\"\"\""
   ]
  },
  {
   "cell_type": "code",
   "execution_count": 4,
   "metadata": {},
   "outputs": [
    {
     "name": "stdout",
     "output_type": "stream",
     "text": [
      "aa p q\n",
      "aa\n",
      "p\n",
      "q\n",
      "aa, p, q <class 'str'>\n",
      "abc,123,pqr\n",
      "abc123pqr\n"
     ]
    }
   ],
   "source": [
    "l = ['aa', 'p','q']\n",
    "print(' '.join(l))\n",
    "print('\\n'.join(l))\n",
    "s = ', '.join(l)\n",
    "print(s, type(s))\n",
    "\n",
    "s= 'abc 123 pqr'\n",
    "print(','.join( s.split() ))\n",
    "print(''.join( s.split() ))"
   ]
  },
  {
   "cell_type": "markdown",
   "metadata": {},
   "source": [
    "### break - continue\n",
    "- can only be used in loops (while or for)\n",
    "- break terminates the loop\n",
    "- continue move to next iteration of loop"
   ]
  },
  {
   "cell_type": "code",
   "execution_count": 5,
   "metadata": {},
   "outputs": [
    {
     "name": "stdout",
     "output_type": "stream",
     "text": [
      "0\n",
      "0\n",
      "1\n",
      "1\n",
      "2\n",
      "4\n",
      "3\n",
      "9\n",
      "4\n",
      "16\n",
      "5\n"
     ]
    }
   ],
   "source": [
    "# break\n",
    "\n",
    "for i in range(10):\n",
    "    print(i)\n",
    "    if (i == 5):\n",
    "        break\n",
    "    print(i**2)"
   ]
  },
  {
   "cell_type": "code",
   "execution_count": 6,
   "metadata": {},
   "outputs": [
    {
     "name": "stdout",
     "output_type": "stream",
     "text": [
      "00000\n",
      "11111\n",
      "22222\n",
      "33333\n",
      "44444\n",
      "\n",
      "66666\n",
      "77777\n",
      "88888\n",
      "99999\n"
     ]
    }
   ],
   "source": [
    "\n",
    "for i in range(10):\n",
    "    for j in range(5):\n",
    "        if (i == 5):\n",
    "            break\n",
    "        print(i, end = '')\n",
    "    print()"
   ]
  },
  {
   "cell_type": "code",
   "execution_count": 7,
   "metadata": {},
   "outputs": [
    {
     "name": "stdout",
     "output_type": "stream",
     "text": [
      "0\n",
      "0\n",
      "1\n",
      "1\n",
      "2\n",
      "3\n",
      "9\n",
      "4\n",
      "16\n"
     ]
    }
   ],
   "source": [
    "# break\n",
    "\n",
    "for i in range(5):\n",
    "    print(i)\n",
    "    if (i == 2):\n",
    "        continue\n",
    "    print(i**2)"
   ]
  },
  {
   "cell_type": "markdown",
   "metadata": {},
   "source": [
    "## PANDAS"
   ]
  },
  {
   "cell_type": "code",
   "execution_count": 8,
   "metadata": {},
   "outputs": [],
   "source": [
    "import pandas as pd"
   ]
  },
  {
   "cell_type": "code",
   "execution_count": 9,
   "metadata": {},
   "outputs": [
    {
     "name": "stdout",
     "output_type": "stream",
     "text": [
      "['Categorical', 'CategoricalDtype', 'CategoricalIndex', 'DataFrame', 'DateOffset', 'DatetimeIndex', 'DatetimeTZDtype', 'ExcelFile', 'ExcelWriter', 'Float64Index', 'Grouper', 'HDFStore', 'Index', 'IndexSlice', 'Int16Dtype', 'Int32Dtype', 'Int64Dtype', 'Int64Index', 'Int8Dtype', 'Interval', 'IntervalDtype', 'IntervalIndex', 'MultiIndex', 'NaT', 'Panel', 'Period', 'PeriodDtype', 'PeriodIndex', 'RangeIndex', 'Series', 'SparseArray', 'SparseDataFrame', 'SparseDtype', 'SparseSeries', 'TimeGrouper', 'Timedelta', 'TimedeltaIndex', 'Timestamp', 'UInt16Dtype', 'UInt32Dtype', 'UInt64Dtype', 'UInt64Index', 'UInt8Dtype', '__builtins__', '__cached__', '__doc__', '__docformat__', '__file__', '__git_version__', '__loader__', '__name__', '__package__', '__path__', '__spec__', '__version__', '_hashtable', '_lib', '_libs', '_np_version_under1p13', '_np_version_under1p14', '_np_version_under1p15', '_np_version_under1p16', '_np_version_under1p17', '_tslib', '_version', 'api', 'array', 'arrays', 'bdate_range', 'compat', 'concat', 'core', 'crosstab', 'cut', 'date_range', 'datetime', 'describe_option', 'errors', 'eval', 'factorize', 'get_dummies', 'get_option', 'infer_freq', 'interval_range', 'io', 'isna', 'isnull', 'lreshape', 'melt', 'merge', 'merge_asof', 'merge_ordered', 'notna', 'notnull', 'np', 'offsets', 'option_context', 'options', 'pandas', 'period_range', 'pivot', 'pivot_table', 'plotting', 'qcut', 'read_clipboard', 'read_csv', 'read_excel', 'read_feather', 'read_fwf', 'read_gbq', 'read_hdf', 'read_html', 'read_json', 'read_msgpack', 'read_parquet', 'read_pickle', 'read_sas', 'read_sql', 'read_sql_query', 'read_sql_table', 'read_stata', 'read_table', 'reset_option', 'set_eng_float_format', 'set_option', 'show_versions', 'test', 'testing', 'timedelta_range', 'to_datetime', 'to_msgpack', 'to_numeric', 'to_pickle', 'to_timedelta', 'tseries', 'unique', 'util', 'value_counts', 'wide_to_long']\n"
     ]
    }
   ],
   "source": [
    "print(dir(pd))"
   ]
  },
  {
   "cell_type": "code",
   "execution_count": 10,
   "metadata": {},
   "outputs": [
    {
     "name": "stdout",
     "output_type": "stream",
     "text": [
      "['T', '_AXIS_ALIASES', '_AXIS_IALIASES', '_AXIS_LEN', '_AXIS_NAMES', '_AXIS_NUMBERS', '_AXIS_ORDERS', '_AXIS_REVERSED', '_AXIS_SLICEMAP', '__abs__', '__add__', '__and__', '__array__', '__array_prepare__', '__array_priority__', '__array_wrap__', '__bool__', '__bytes__', '__class__', '__contains__', '__copy__', '__deepcopy__', '__delattr__', '__delitem__', '__dict__', '__dir__', '__div__', '__divmod__', '__doc__', '__eq__', '__finalize__', '__float__', '__floordiv__', '__format__', '__ge__', '__getattr__', '__getattribute__', '__getitem__', '__getstate__', '__gt__', '__hash__', '__iadd__', '__iand__', '__ifloordiv__', '__imod__', '__imul__', '__init__', '__init_subclass__', '__int__', '__invert__', '__ior__', '__ipow__', '__isub__', '__iter__', '__itruediv__', '__ixor__', '__le__', '__len__', '__long__', '__lt__', '__matmul__', '__mod__', '__module__', '__mul__', '__ne__', '__neg__', '__new__', '__nonzero__', '__or__', '__pos__', '__pow__', '__radd__', '__rand__', '__rdiv__', '__rdivmod__', '__reduce__', '__reduce_ex__', '__repr__', '__rfloordiv__', '__rmatmul__', '__rmod__', '__rmul__', '__ror__', '__round__', '__rpow__', '__rsub__', '__rtruediv__', '__rxor__', '__setattr__', '__setitem__', '__setstate__', '__sizeof__', '__str__', '__sub__', '__subclasshook__', '__truediv__', '__unicode__', '__weakref__', '__xor__', '_accessors', '_add_numeric_operations', '_add_series_only_operations', '_add_series_or_dataframe_operations', '_agg_by_level', '_agg_examples_doc', '_agg_see_also_doc', '_aggregate', '_aggregate_multiple_funcs', '_align_frame', '_align_series', '_binop', '_box_item_values', '_builtin_table', '_can_hold_na', '_check_inplace_setting', '_check_is_chained_assignment_possible', '_check_label_or_level_ambiguity', '_check_percentile', '_check_setitem_copy', '_clear_item_cache', '_clip_with_one_bound', '_clip_with_scalar', '_consolidate', '_consolidate_inplace', '_construct_axes_dict', '_construct_axes_dict_for_slice', '_construct_axes_dict_from', '_construct_axes_from_arguments', '_constructor', '_constructor_expanddim', '_constructor_sliced', '_convert', '_create_indexer', '_cython_table', '_deprecations', '_dir_additions', '_dir_deletions', '_drop_axis', '_drop_labels_or_levels', '_expand_axes', '_find_valid_index', '_formatting_values', '_from_axes', '_get_axis', '_get_axis_name', '_get_axis_number', '_get_axis_resolvers', '_get_block_manager_axis', '_get_bool_data', '_get_cacher', '_get_index_resolvers', '_get_item_cache', '_get_label_or_level_values', '_get_numeric_data', '_get_value', '_get_values', '_get_values_tuple', '_get_with', '_gotitem', '_iget_item_cache', '_index', '_indexed_same', '_info_axis', '_info_axis_name', '_info_axis_number', '_init_dict', '_init_mgr', '_internal_names', '_internal_names_set', '_is_builtin_func', '_is_cached', '_is_copy', '_is_cython_func', '_is_datelike_mixed_type', '_is_homogeneous_type', '_is_label_or_level_reference', '_is_label_reference', '_is_level_reference', '_is_mixed_type', '_is_numeric_mixed_type', '_is_view', '_ix', '_ixs', '_map_values', '_maybe_cache_changed', '_maybe_update_cacher', '_metadata', '_ndarray_values', '_needs_reindex_multi', '_obj_with_exclusions', '_protect_consolidate', '_reduce', '_reindex_axes', '_reindex_indexer', '_reindex_multi', '_reindex_with_indexers', '_repr_data_resource_', '_repr_latex_', '_reset_cache', '_reset_cacher', '_selected_obj', '_selection', '_selection_list', '_selection_name', '_set_as_cached', '_set_axis', '_set_axis_name', '_set_is_copy', '_set_item', '_set_labels', '_set_name', '_set_subtyp', '_set_value', '_set_values', '_set_with', '_set_with_engine', '_setup_axes', '_shallow_copy', '_slice', '_stat_axis', '_stat_axis_name', '_stat_axis_number', '_take', '_to_dict_of_blocks', '_try_aggregate_string_function', '_typ', '_unpickle_series_compat', '_update_inplace', '_validate_dtype', '_values', '_where', '_xs', 'abs', 'add', 'add_prefix', 'add_suffix', 'agg', 'aggregate', 'align', 'all', 'any', 'append', 'apply', 'argmax', 'argmin', 'argsort', 'array', 'as_blocks', 'as_matrix', 'asfreq', 'asobject', 'asof', 'astype', 'at', 'at_time', 'autocorr', 'axes', 'base', 'between', 'between_time', 'bfill', 'blocks', 'bool', 'cat', 'clip', 'clip_lower', 'clip_upper', 'combine', 'combine_first', 'compound', 'compress', 'convert_objects', 'copy', 'corr', 'count', 'cov', 'cummax', 'cummin', 'cumprod', 'cumsum', 'data', 'describe', 'diff', 'div', 'divide', 'divmod', 'dot', 'drop', 'drop_duplicates', 'droplevel', 'dropna', 'dt', 'dtype', 'dtypes', 'duplicated', 'empty', 'eq', 'equals', 'ewm', 'expanding', 'factorize', 'ffill', 'fillna', 'filter', 'first', 'first_valid_index', 'flags', 'floordiv', 'from_array', 'from_csv', 'ftype', 'ftypes', 'ge', 'get', 'get_dtype_counts', 'get_ftype_counts', 'get_value', 'get_values', 'groupby', 'gt', 'hasnans', 'head', 'hist', 'iat', 'idxmax', 'idxmin', 'iloc', 'imag', 'index', 'infer_objects', 'interpolate', 'is_copy', 'is_monotonic', 'is_monotonic_decreasing', 'is_monotonic_increasing', 'is_unique', 'isin', 'isna', 'isnull', 'item', 'items', 'itemsize', 'iteritems', 'ix', 'keys', 'kurt', 'kurtosis', 'last', 'last_valid_index', 'le', 'loc', 'lt', 'mad', 'map', 'mask', 'max', 'mean', 'median', 'memory_usage', 'min', 'mod', 'mode', 'mul', 'multiply', 'name', 'nbytes', 'ndim', 'ne', 'nlargest', 'nonzero', 'notna', 'notnull', 'nsmallest', 'nunique', 'pct_change', 'pipe', 'plot', 'pop', 'pow', 'prod', 'product', 'ptp', 'put', 'quantile', 'radd', 'rank', 'ravel', 'rdiv', 'rdivmod', 'real', 'reindex', 'reindex_axis', 'reindex_like', 'rename', 'rename_axis', 'reorder_levels', 'repeat', 'replace', 'resample', 'reset_index', 'rfloordiv', 'rmod', 'rmul', 'rolling', 'round', 'rpow', 'rsub', 'rtruediv', 'sample', 'searchsorted', 'select', 'sem', 'set_axis', 'set_value', 'shape', 'shift', 'size', 'skew', 'slice_shift', 'sort_index', 'sort_values', 'sparse', 'squeeze', 'std', 'str', 'strides', 'sub', 'subtract', 'sum', 'swapaxes', 'swaplevel', 'tail', 'take', 'timetuple', 'to_clipboard', 'to_csv', 'to_dense', 'to_dict', 'to_excel', 'to_frame', 'to_hdf', 'to_json', 'to_latex', 'to_list', 'to_msgpack', 'to_numpy', 'to_period', 'to_pickle', 'to_sparse', 'to_sql', 'to_string', 'to_timestamp', 'to_xarray', 'tolist', 'transform', 'transpose', 'truediv', 'truncate', 'tshift', 'tz_convert', 'tz_localize', 'unique', 'unstack', 'update', 'valid', 'value_counts', 'values', 'var', 'view', 'where', 'xs']\n"
     ]
    }
   ],
   "source": [
    "print(dir(pd.Series))"
   ]
  },
  {
   "cell_type": "code",
   "execution_count": 11,
   "metadata": {
    "scrolled": true
   },
   "outputs": [
    {
     "name": "stdout",
     "output_type": "stream",
     "text": [
      "['T', '_AXIS_ALIASES', '_AXIS_IALIASES', '_AXIS_LEN', '_AXIS_NAMES', '_AXIS_NUMBERS', '_AXIS_ORDERS', '_AXIS_REVERSED', '_AXIS_SLICEMAP', '__abs__', '__add__', '__and__', '__array__', '__array_priority__', '__array_wrap__', '__bool__', '__bytes__', '__class__', '__contains__', '__copy__', '__deepcopy__', '__delattr__', '__delitem__', '__dict__', '__dir__', '__div__', '__doc__', '__eq__', '__finalize__', '__floordiv__', '__format__', '__ge__', '__getattr__', '__getattribute__', '__getitem__', '__getstate__', '__gt__', '__hash__', '__iadd__', '__iand__', '__ifloordiv__', '__imod__', '__imul__', '__init__', '__init_subclass__', '__invert__', '__ior__', '__ipow__', '__isub__', '__iter__', '__itruediv__', '__ixor__', '__le__', '__len__', '__lt__', '__matmul__', '__mod__', '__module__', '__mul__', '__ne__', '__neg__', '__new__', '__nonzero__', '__or__', '__pos__', '__pow__', '__radd__', '__rand__', '__rdiv__', '__reduce__', '__reduce_ex__', '__repr__', '__rfloordiv__', '__rmatmul__', '__rmod__', '__rmul__', '__ror__', '__round__', '__rpow__', '__rsub__', '__rtruediv__', '__rxor__', '__setattr__', '__setitem__', '__setstate__', '__sizeof__', '__str__', '__sub__', '__subclasshook__', '__truediv__', '__unicode__', '__weakref__', '__xor__', '_accessors', '_add_numeric_operations', '_add_series_only_operations', '_add_series_or_dataframe_operations', '_agg_by_level', '_agg_examples_doc', '_agg_summary_and_see_also_doc', '_aggregate', '_aggregate_multiple_funcs', '_align_frame', '_align_series', '_box_col_values', '_box_item_values', '_builtin_table', '_check_inplace_setting', '_check_is_chained_assignment_possible', '_check_label_or_level_ambiguity', '_check_percentile', '_check_setitem_copy', '_clear_item_cache', '_clip_with_one_bound', '_clip_with_scalar', '_combine_const', '_combine_frame', '_combine_match_columns', '_combine_match_index', '_consolidate', '_consolidate_inplace', '_construct_axes_dict', '_construct_axes_dict_for_slice', '_construct_axes_dict_from', '_construct_axes_from_arguments', '_constructor', '_constructor_expanddim', '_constructor_sliced', '_convert', '_count_level', '_create_indexer', '_cython_table', '_deprecations', '_dir_additions', '_dir_deletions', '_drop_axis', '_drop_labels_or_levels', '_ensure_valid_index', '_expand_axes', '_find_valid_index', '_from_arrays', '_from_axes', '_get_agg_axis', '_get_axis', '_get_axis_name', '_get_axis_number', '_get_axis_resolvers', '_get_block_manager_axis', '_get_bool_data', '_get_cacher', '_get_index_resolvers', '_get_item_cache', '_get_label_or_level_values', '_get_numeric_data', '_get_value', '_get_values', '_getitem_bool_array', '_getitem_frame', '_getitem_multilevel', '_gotitem', '_iget_item_cache', '_indexed_same', '_info_axis', '_info_axis_name', '_info_axis_number', '_info_repr', '_init_mgr', '_internal_names', '_internal_names_set', '_is_builtin_func', '_is_cached', '_is_copy', '_is_cython_func', '_is_datelike_mixed_type', '_is_homogeneous_type', '_is_label_or_level_reference', '_is_label_reference', '_is_level_reference', '_is_mixed_type', '_is_numeric_mixed_type', '_is_view', '_ix', '_ixs', '_join_compat', '_maybe_cache_changed', '_maybe_update_cacher', '_metadata', '_needs_reindex_multi', '_obj_with_exclusions', '_protect_consolidate', '_reduce', '_reindex_axes', '_reindex_columns', '_reindex_index', '_reindex_multi', '_reindex_with_indexers', '_repr_data_resource_', '_repr_fits_horizontal_', '_repr_fits_vertical_', '_repr_html_', '_repr_latex_', '_reset_cache', '_reset_cacher', '_sanitize_column', '_selected_obj', '_selection', '_selection_list', '_selection_name', '_series', '_set_as_cached', '_set_axis', '_set_axis_name', '_set_is_copy', '_set_item', '_set_value', '_setitem_array', '_setitem_frame', '_setitem_slice', '_setup_axes', '_shallow_copy', '_slice', '_stat_axis', '_stat_axis_name', '_stat_axis_number', '_take', '_to_dict_of_blocks', '_try_aggregate_string_function', '_typ', '_unpickle_frame_compat', '_unpickle_matrix_compat', '_update_inplace', '_validate_dtype', '_values', '_where', '_xs', 'abs', 'add', 'add_prefix', 'add_suffix', 'agg', 'aggregate', 'align', 'all', 'any', 'append', 'apply', 'applymap', 'as_blocks', 'as_matrix', 'asfreq', 'asof', 'assign', 'astype', 'at', 'at_time', 'axes', 'between_time', 'bfill', 'blocks', 'bool', 'boxplot', 'clip', 'clip_lower', 'clip_upper', 'columns', 'combine', 'combine_first', 'compound', 'convert_objects', 'copy', 'corr', 'corrwith', 'count', 'cov', 'cummax', 'cummin', 'cumprod', 'cumsum', 'describe', 'diff', 'div', 'divide', 'dot', 'drop', 'drop_duplicates', 'droplevel', 'dropna', 'dtypes', 'duplicated', 'empty', 'eq', 'equals', 'eval', 'ewm', 'expanding', 'ffill', 'fillna', 'filter', 'first', 'first_valid_index', 'floordiv', 'from_csv', 'from_dict', 'from_items', 'from_records', 'ftypes', 'ge', 'get', 'get_dtype_counts', 'get_ftype_counts', 'get_value', 'get_values', 'groupby', 'gt', 'head', 'hist', 'iat', 'idxmax', 'idxmin', 'iloc', 'index', 'infer_objects', 'info', 'insert', 'interpolate', 'is_copy', 'isin', 'isna', 'isnull', 'items', 'iteritems', 'iterrows', 'itertuples', 'ix', 'join', 'keys', 'kurt', 'kurtosis', 'last', 'last_valid_index', 'le', 'loc', 'lookup', 'lt', 'mad', 'mask', 'max', 'mean', 'median', 'melt', 'memory_usage', 'merge', 'min', 'mod', 'mode', 'mul', 'multiply', 'ndim', 'ne', 'nlargest', 'notna', 'notnull', 'nsmallest', 'nunique', 'pct_change', 'pipe', 'pivot', 'pivot_table', 'plot', 'pop', 'pow', 'prod', 'product', 'quantile', 'query', 'radd', 'rank', 'rdiv', 'reindex', 'reindex_axis', 'reindex_like', 'rename', 'rename_axis', 'reorder_levels', 'replace', 'resample', 'reset_index', 'rfloordiv', 'rmod', 'rmul', 'rolling', 'round', 'rpow', 'rsub', 'rtruediv', 'sample', 'select', 'select_dtypes', 'sem', 'set_axis', 'set_index', 'set_value', 'shape', 'shift', 'size', 'skew', 'slice_shift', 'sort_index', 'sort_values', 'squeeze', 'stack', 'std', 'style', 'sub', 'subtract', 'sum', 'swapaxes', 'swaplevel', 'tail', 'take', 'timetuple', 'to_clipboard', 'to_csv', 'to_dense', 'to_dict', 'to_excel', 'to_feather', 'to_gbq', 'to_hdf', 'to_html', 'to_json', 'to_latex', 'to_msgpack', 'to_numpy', 'to_panel', 'to_parquet', 'to_period', 'to_pickle', 'to_records', 'to_sparse', 'to_sql', 'to_stata', 'to_string', 'to_timestamp', 'to_xarray', 'transform', 'transpose', 'truediv', 'truncate', 'tshift', 'tz_convert', 'tz_localize', 'unstack', 'update', 'values', 'var', 'where', 'xs']\n"
     ]
    }
   ],
   "source": [
    "print(dir(pd.DataFrame))"
   ]
  },
  {
   "cell_type": "code",
   "execution_count": 12,
   "metadata": {},
   "outputs": [],
   "source": [
    "import numpy as np"
   ]
  },
  {
   "cell_type": "code",
   "execution_count": 13,
   "metadata": {},
   "outputs": [
    {
     "name": "stdout",
     "output_type": "stream",
     "text": [
      "Series([], dtype: float64)\n",
      "Empty DataFrame\n",
      "Columns: []\n",
      "Index: []\n"
     ]
    }
   ],
   "source": [
    "s = pd.Series() # 1-D \n",
    "print(s)\n",
    "df = pd.DataFrame() # 2-D\n",
    "print(df)"
   ]
  },
  {
   "cell_type": "code",
   "execution_count": 14,
   "metadata": {},
   "outputs": [
    {
     "name": "stdout",
     "output_type": "stream",
     "text": [
      "10    100.0\n",
      "20     20.0\n",
      "30    300.0\n",
      "dtype: float64\n",
      "float64\n",
      "3\n",
      "8\n",
      "(3,)\n",
      "Int64Index([10, 20, 30], dtype='int64')\n"
     ]
    },
    {
     "name": "stderr",
     "output_type": "stream",
     "text": [
      "C:\\ProgramData\\Anaconda3\\lib\\site-packages\\ipykernel_launcher.py:5: FutureWarning: Series.itemsize is deprecated and will be removed in a future version\n",
      "  \"\"\"\n"
     ]
    }
   ],
   "source": [
    "s = pd.Series([100,20.0,300], index = [10,20,30]) # 1-D \n",
    "print(s)\n",
    "print(s.dtype)\n",
    "print(s.size)\n",
    "print(s.itemsize)\n",
    "print(s.shape)\n",
    "print(s.index)\n",
    "\n"
   ]
  },
  {
   "cell_type": "code",
   "execution_count": 15,
   "metadata": {},
   "outputs": [
    {
     "name": "stdout",
     "output_type": "stream",
     "text": [
      "a     100.0\n",
      "22     20.0\n",
      "b     300.0\n",
      "dtype: float64\n",
      "Index(['a', 22, 'b'], dtype='object')\n",
      "100.0\n",
      "b    300.0\n",
      "dtype: float64\n"
     ]
    }
   ],
   "source": [
    "s = pd.Series([100,20.0,300], index = ['a',22,'b']) # 1-D\n",
    "print(s)\n",
    "print(s.index)\n",
    "print(s['a'])\n",
    "print(s['b':])"
   ]
  },
  {
   "cell_type": "code",
   "execution_count": 16,
   "metadata": {},
   "outputs": [
    {
     "name": "stdout",
     "output_type": "stream",
     "text": [
      "    0   1   2   3   4\n",
      "0  14  19  18  17  16\n",
      "1  16  17  11  18  15\n",
      "2  12  13  11  10  17\n",
      "3  15  17  18  16  12\n",
      "4  17  15  11  10  16\n",
      "5  16  12  16  15  15\n",
      "6  18  13  13  12  11\n",
      "7  11  12  12  11  13\n",
      "8  15  14  19  17  11\n",
      "9  13  19  11  11  11\n",
      "RangeIndex(start=0, stop=10, step=1)\n",
      "RangeIndex(start=0, stop=5, step=1)\n",
      "(10, 5)\n",
      "50\n",
      "0    int32\n",
      "1    int32\n",
      "2    int32\n",
      "3    int32\n",
      "4    int32\n",
      "dtype: object\n"
     ]
    }
   ],
   "source": [
    "# DataFrame\n",
    "\n",
    "mat = np.random.randint(10,20,50).reshape(10,5)\n",
    "df = pd.DataFrame(mat)\n",
    "print(df)\n",
    "print(df.index)\n",
    "print(df.columns)\n",
    "print(df.shape)\n",
    "print(df.size)\n",
    "print(df.dtypes)\n",
    "s = pd.Series(list('abcdefghij'))\n",
    "df[5] = s"
   ]
  },
  {
   "cell_type": "code",
   "execution_count": 17,
   "metadata": {},
   "outputs": [
    {
     "name": "stdout",
     "output_type": "stream",
     "text": [
      "    0   1   2   3   4\n",
      "0  14  15  19  16  11\n",
      "1  14  16  18  17  14\n",
      "2  11  17  12  12  14\n",
      "3  10  18  11  17  16\n",
      "4  10  10  11  18  17\n",
      "5  14  17  15  19  11\n",
      "6  10  16  14  10  19\n",
      "7  12  17  12  16  17\n",
      "8  17  14  19  13  11\n",
      "9  12  18  14  12  11\n",
      "    0   1   2   3   4 ABC\n",
      "0  14  15  19  16  11   a\n",
      "1  14  16  18  17  14   b\n",
      "2  11  17  12  12  14   c\n",
      "3  10  18  11  17  16   d\n",
      "4  10  10  11  18  17   e\n",
      "5  14  17  15  19  11   f\n",
      "6  10  16  14  10  19   g\n",
      "7  12  17  12  16  17   h\n",
      "8  17  14  19  13  11   i\n",
      "9  12  18  14  12  11   j\n",
      "0       int32\n",
      "1       int32\n",
      "2       int32\n",
      "3       int32\n",
      "4       int32\n",
      "ABC    object\n",
      "dtype: object\n"
     ]
    }
   ],
   "source": [
    "# DataFrame\n",
    "\n",
    "mat = np.random.randint(10,20,50).reshape(10,5)\n",
    "df = pd.DataFrame(mat)\n",
    "print(df)\n",
    "s = pd.Series(list('abcdefghijkl')) # new column data \n",
    "df['ABC'] = s # create a new column\n",
    "print(df)\n",
    "print(df.dtypes)"
   ]
  },
  {
   "cell_type": "code",
   "execution_count": 18,
   "metadata": {},
   "outputs": [
    {
     "name": "stdout",
     "output_type": "stream",
     "text": [
      "    A   B   C   D   E\n",
      "a  10  15  19  16  12\n",
      "b  10  18  16  12  19\n",
      "c  13  11  10  13  18\n",
      "d  12  19  11  13  10\n",
      "e  14  13  13  12  10\n",
      "f  14  10  19  18  17\n",
      "g  14  19  19  19  17\n",
      "h  14  18  18  13  13\n",
      "i  16  18  12  19  13\n",
      "j  11  16  12  11  10\n",
      "Index(['a', 'b', 'c', 'd', 'e', 'f', 'g', 'h', 'i', 'j'], dtype='object')\n",
      "Index(['A', 'B', 'C', 'D', 'E'], dtype='object')\n",
      "A    int32\n",
      "B    int32\n",
      "C    int32\n",
      "D    int32\n",
      "E    int32\n",
      "dtype: object\n"
     ]
    }
   ],
   "source": [
    "mat = np.random.randint(10,20,50).reshape(10,5)\n",
    "dataframe = pd.DataFrame(mat, index = list('abcdefghij'),columns = list('ABCDE'))\n",
    "print(dataframe)\n",
    "print(dataframe.index)\n",
    "print(dataframe.columns)\n",
    "print(dataframe.dtypes)"
   ]
  },
  {
   "cell_type": "code",
   "execution_count": 19,
   "metadata": {},
   "outputs": [
    {
     "name": "stdout",
     "output_type": "stream",
     "text": [
      "    0   1   2   3   4\n",
      "0  13  16  15  19  12\n",
      "1  11  13  17  19  12\n",
      "2  17  12  15  17  11\n",
      "3  19  10  17  19  10\n",
      "4  12  13  15  14  18\n",
      "5  18  12  18  10  17\n",
      "6  18  18  19  19  13\n",
      "7  13  17  16  12  10\n",
      "8  16  12  18  19  13\n",
      "9  15  13  19  12  15\n",
      "    0   1   2   3   4  ABC\n",
      "0  13  16  15  19  12    a\n",
      "1  11  13  17  19  12    b\n",
      "2  17  12  15  17  11    c\n",
      "3  19  10  17  19  10  NaN\n",
      "4  12  13  15  14  18    e\n",
      "5  18  12  18  10  17    f\n",
      "6  18  18  19  19  13    g\n",
      "7  13  17  16  12  10    h\n",
      "8  16  12  18  19  13    i\n",
      "9  15  13  19  12  15    g\n",
      "0       int32\n",
      "1       int32\n",
      "2       int32\n",
      "3       int32\n",
      "4       int32\n",
      "ABC    object\n",
      "dtype: object\n"
     ]
    }
   ],
   "source": [
    "# DataFrame\n",
    "\n",
    "mat = np.random.randint(10,20,50).reshape(10,5)\n",
    "df = pd.DataFrame(mat)\n",
    "print(df)\n",
    "s = pd.Series(list('abcdefghigkl')) # new column data \n",
    "s[3] = np.nan\n",
    "df['ABC'] = s # create a new column\n",
    "print(df)\n",
    "print(df.dtypes)"
   ]
  },
  {
   "cell_type": "code",
   "execution_count": 20,
   "metadata": {},
   "outputs": [
    {
     "name": "stdout",
     "output_type": "stream",
     "text": [
      "                0         1          2          3          4  ABC\n",
      "count   10.000000  10.00000  10.000000  10.000000  10.000000    9\n",
      "unique        NaN       NaN        NaN        NaN        NaN    8\n",
      "top           NaN       NaN        NaN        NaN        NaN    g\n",
      "freq          NaN       NaN        NaN        NaN        NaN    2\n",
      "mean    15.200000  13.60000  16.900000  16.000000  13.100000  NaN\n",
      "std      2.820559   2.54733   1.595131   3.620927   2.766867  NaN\n",
      "min     11.000000  10.00000  15.000000  10.000000  10.000000  NaN\n",
      "25%     13.000000  12.00000  15.250000  12.500000  11.250000  NaN\n",
      "50%     15.500000  13.00000  17.000000  18.000000  12.500000  NaN\n",
      "75%     17.750000  15.25000  18.000000  19.000000  14.500000  NaN\n",
      "max     19.000000  18.00000  19.000000  19.000000  18.000000  NaN\n"
     ]
    }
   ],
   "source": [
    "print(df.describe( include = 'all') )"
   ]
  },
  {
   "cell_type": "code",
   "execution_count": 21,
   "metadata": {},
   "outputs": [
    {
     "name": "stdout",
     "output_type": "stream",
     "text": [
      "    0   1   2   3   4  ABC\n",
      "0  13  16  15  19  12    a\n",
      "1  11  13  17  19  12    b\n",
      "2  17  12  15  17  11    c\n",
      "3  19  10  17  19  10  NaN\n",
      "4  12  13  15  14  18    e\n",
      "\n",
      "    0   1   2   3   4 ABC\n",
      "5  18  12  18  10  17   f\n",
      "6  18  18  19  19  13   g\n",
      "7  13  17  16  12  10   h\n",
      "8  16  12  18  19  13   i\n",
      "9  15  13  19  12  15   g\n"
     ]
    }
   ],
   "source": [
    "print(df.head()) # default 5 rows from top\n",
    "print()\n",
    "print(df.tail())"
   ]
  },
  {
   "cell_type": "code",
   "execution_count": 22,
   "metadata": {},
   "outputs": [
    {
     "name": "stdout",
     "output_type": "stream",
     "text": [
      "    0   1   2   3   4  ABC\n",
      "0  13  16  15  19  12    a\n",
      "1  11  13  17  19  12    b\n",
      "2  17  12  15  17  11    c\n",
      "3  19  10  17  19  10  NaN\n",
      "\n",
      "    0   1   2   3   4 ABC\n",
      "8  16  12  18  19  13   i\n",
      "9  15  13  19  12  15   g\n"
     ]
    }
   ],
   "source": [
    "print(df.head(4)) # default 5 rows from top\n",
    "print()\n",
    "print(df.tail(2))"
   ]
  },
  {
   "cell_type": "code",
   "execution_count": 23,
   "metadata": {},
   "outputs": [
    {
     "name": "stdout",
     "output_type": "stream",
     "text": [
      "    0   1   2   3   4  ABC\n",
      "0  13  16  15  19  12    a\n",
      "1  11  13  17  19  12    b\n",
      "2  17  12  15  17  11    c\n",
      "3  19  10  17  19  10  NaN\n",
      "4  12  13  15  14  18    e\n",
      "\n",
      "    0   1   2   3   4 ABC\n",
      "1  11  13  17  19  12   b\n",
      "4  12  13  15  14  18   e\n",
      "0  13  16  15  19  12   a\n",
      "7  13  17  16  12  10   h\n",
      "9  15  13  19  12  15   g\n",
      "\n",
      "\n",
      "None\n",
      "    0   1   2   3   4 ABC\n",
      "1  11  13  17  19  12   b\n",
      "4  12  13  15  14  18   e\n",
      "0  13  16  15  19  12   a\n",
      "7  13  17  16  12  10   h\n",
      "9  15  13  19  12  15   g\n"
     ]
    }
   ],
   "source": [
    "df2 = df.sort_values(by = [0,1])\n",
    "print(df.head()) # original doesn't change\n",
    "print()\n",
    "print(df2.head())\n",
    "\n",
    "print()\n",
    "print()\n",
    "res = df.sort_values(by = [0,'ABC'], inplace = True) # by = [list of column names]\n",
    "print(res)\n",
    "print(df.head())"
   ]
  },
  {
   "cell_type": "code",
   "execution_count": 24,
   "metadata": {},
   "outputs": [
    {
     "name": "stdout",
     "output_type": "stream",
     "text": [
      "    A   B   C   D   E\n",
      "0  17   5  17  16   6\n",
      "1  19   9  16  13  17\n",
      "2   1  15  11  13  13\n",
      "3  15  13  12  16   9\n",
      "4   8   3   2  18  14\n",
      "5   5   5   4   6  14\n",
      "6   5   3  11  17  13\n",
      "7  19   7   3  14  12\n",
      "8  10   3  11  12   8\n",
      "9   2  14  10   3  10\n"
     ]
    },
    {
     "data": {
      "text/html": [
       "<div>\n",
       "<style scoped>\n",
       "    .dataframe tbody tr th:only-of-type {\n",
       "        vertical-align: middle;\n",
       "    }\n",
       "\n",
       "    .dataframe tbody tr th {\n",
       "        vertical-align: top;\n",
       "    }\n",
       "\n",
       "    .dataframe thead th {\n",
       "        text-align: right;\n",
       "    }\n",
       "</style>\n",
       "<table border=\"1\" class=\"dataframe\">\n",
       "  <thead>\n",
       "    <tr style=\"text-align: right;\">\n",
       "      <th></th>\n",
       "      <th>B</th>\n",
       "      <th>E</th>\n",
       "      <th>D</th>\n",
       "      <th>A</th>\n",
       "      <th>C</th>\n",
       "    </tr>\n",
       "  </thead>\n",
       "  <tbody>\n",
       "    <tr>\n",
       "      <th>0</th>\n",
       "      <td>5</td>\n",
       "      <td>6</td>\n",
       "      <td>16</td>\n",
       "      <td>17</td>\n",
       "      <td>17</td>\n",
       "    </tr>\n",
       "    <tr>\n",
       "      <th>1</th>\n",
       "      <td>9</td>\n",
       "      <td>17</td>\n",
       "      <td>13</td>\n",
       "      <td>19</td>\n",
       "      <td>16</td>\n",
       "    </tr>\n",
       "    <tr>\n",
       "      <th>2</th>\n",
       "      <td>15</td>\n",
       "      <td>13</td>\n",
       "      <td>13</td>\n",
       "      <td>1</td>\n",
       "      <td>11</td>\n",
       "    </tr>\n",
       "    <tr>\n",
       "      <th>3</th>\n",
       "      <td>13</td>\n",
       "      <td>9</td>\n",
       "      <td>16</td>\n",
       "      <td>15</td>\n",
       "      <td>12</td>\n",
       "    </tr>\n",
       "    <tr>\n",
       "      <th>4</th>\n",
       "      <td>3</td>\n",
       "      <td>14</td>\n",
       "      <td>18</td>\n",
       "      <td>8</td>\n",
       "      <td>2</td>\n",
       "    </tr>\n",
       "    <tr>\n",
       "      <th>5</th>\n",
       "      <td>5</td>\n",
       "      <td>14</td>\n",
       "      <td>6</td>\n",
       "      <td>5</td>\n",
       "      <td>4</td>\n",
       "    </tr>\n",
       "    <tr>\n",
       "      <th>6</th>\n",
       "      <td>3</td>\n",
       "      <td>13</td>\n",
       "      <td>17</td>\n",
       "      <td>5</td>\n",
       "      <td>11</td>\n",
       "    </tr>\n",
       "    <tr>\n",
       "      <th>7</th>\n",
       "      <td>7</td>\n",
       "      <td>12</td>\n",
       "      <td>14</td>\n",
       "      <td>19</td>\n",
       "      <td>3</td>\n",
       "    </tr>\n",
       "    <tr>\n",
       "      <th>8</th>\n",
       "      <td>3</td>\n",
       "      <td>8</td>\n",
       "      <td>12</td>\n",
       "      <td>10</td>\n",
       "      <td>11</td>\n",
       "    </tr>\n",
       "    <tr>\n",
       "      <th>9</th>\n",
       "      <td>14</td>\n",
       "      <td>10</td>\n",
       "      <td>3</td>\n",
       "      <td>2</td>\n",
       "      <td>10</td>\n",
       "    </tr>\n",
       "  </tbody>\n",
       "</table>\n",
       "</div>"
      ],
      "text/plain": [
       "    B   E   D   A   C\n",
       "0   5   6  16  17  17\n",
       "1   9  17  13  19  16\n",
       "2  15  13  13   1  11\n",
       "3  13   9  16  15  12\n",
       "4   3  14  18   8   2\n",
       "5   5  14   6   5   4\n",
       "6   3  13  17   5  11\n",
       "7   7  12  14  19   3\n",
       "8   3   8  12  10  11\n",
       "9  14  10   3   2  10"
      ]
     },
     "execution_count": 24,
     "metadata": {},
     "output_type": "execute_result"
    }
   ],
   "source": [
    "df_d = pd.DataFrame(np.random.randint(1,20, 50).reshape(10,5), columns = list('ABCDE'))\n",
    "\n",
    "print(df_d)\n",
    "df_d.sort_values(by = [0,], axis = 1 )"
   ]
  },
  {
   "cell_type": "code",
   "execution_count": 25,
   "metadata": {},
   "outputs": [
    {
     "name": "stdout",
     "output_type": "stream",
     "text": [
      "Index([0, 1, 2, 3, 4, 'ABC'], dtype='object')\n",
      "0     1\n",
      "1    13\n",
      "2    17\n",
      "3    12\n",
      "4    16\n",
      "Name: A, dtype: int32\n",
      "0     1\n",
      "1    13\n",
      "2    17\n",
      "3    12\n",
      "4    16\n",
      "Name: A, dtype: int32\n",
      "    A   C\n",
      "0   1  18\n",
      "1  13  10\n",
      "2  17   8\n",
      "3  12  13\n",
      "4  16  15\n"
     ]
    }
   ],
   "source": [
    "df_d = pd.DataFrame(np.random.randint(1,20, 50).reshape(10,5), columns = list('ABCDE'))\n",
    "print(df.columns)\n",
    "\n",
    "print(df_d.A.head()) # column access by name\n",
    "print(df_d['A'].head()) # access column by index\n",
    "print(df_d[ ['A', 'C'] ].head()) # access column by index\n"
   ]
  },
  {
   "cell_type": "code",
   "execution_count": 26,
   "metadata": {},
   "outputs": [
    {
     "name": "stdout",
     "output_type": "stream",
     "text": [
      "Index([0, 1, 2, 3, 4, 'ABC'], dtype='object')\n",
      "    A   B   C   D   E\n",
      "2  19  12  14   1  13\n",
      "3   7   1   8   4  12\n",
      "4   7  12  17  13   7\n"
     ]
    }
   ],
   "source": [
    "df_d = pd.DataFrame(np.random.randint(1,20, 50).reshape(10,5), columns = list('ABCDE'))\n",
    "print(df.columns)\n",
    "\n",
    "print(df_d[2:5]) # slice on basis of rows"
   ]
  },
  {
   "cell_type": "code",
   "execution_count": 45,
   "metadata": {},
   "outputs": [
    {
     "name": "stdout",
     "output_type": "stream",
     "text": [
      "    A   B   C   D   E\n",
      "a  16  11  13  12  17\n",
      "b   3  15  10   8   4\n",
      "c  13   2  14  13   9\n",
      "d  11   5  15  19   8\n",
      "e   6  11  14  18   2\n",
      "f   7  18   7  11  16\n",
      "g   3   5  18  10   2\n",
      "h  10   7   7   3  18\n",
      "i  18   3  11   5  19\n",
      "j   8  12   6   7  19\n",
      "A     6\n",
      "B    11\n",
      "C    14\n",
      "D    18\n",
      "E     2\n",
      "Name: e, dtype: int32\n",
      "    A   B   C   D   E\n",
      "e   6  11  14  18   2\n",
      "f   7  18   7  11  16\n",
      "g   3   5  18  10   2\n",
      "h  10   7   7   3  18\n",
      "i  18   3  11   5  19\n",
      "j   8  12   6   7  19\n",
      "\n",
      "A     7\n",
      "B    18\n",
      "C     7\n",
      "D    11\n",
      "E    16\n",
      "Name: f, dtype: int32\n",
      "    A   B   C   D   E\n",
      "f   7  18   7  11  16\n",
      "g   3   5  18  10   2\n",
      "h  10   7   7   3  18\n",
      "i  18   3  11   5  19\n",
      "j   8  12   6   7  19\n"
     ]
    }
   ],
   "source": [
    "df_d = pd.DataFrame(np.random.randint(1,20, 50).reshape(10,5), columns = list('ABCDE'), index = list('abcdefghij'))\n",
    "print( df_d )\n",
    "print( df_d.loc['e'] ) # row\n",
    "print( df_d.loc['e':] ) # slice row\n",
    "print()\n",
    "print( df_d.iloc[5] ) # row\n",
    "print( df_d.iloc[5:] ) # slice row\n"
   ]
  },
  {
   "cell_type": "code",
   "execution_count": 47,
   "metadata": {},
   "outputs": [
    {
     "name": "stdout",
     "output_type": "stream",
     "text": [
      "a    11\n",
      "b    15\n",
      "c     2\n",
      "d     5\n",
      "e    11\n",
      "f    18\n",
      "g     5\n",
      "h     7\n",
      "i     3\n",
      "j    12\n",
      "Name: B, dtype: int32\n",
      "    B   C   D   E\n",
      "a  11  13  12  17\n",
      "b  15  10   8   4\n",
      "c   2  14  13   9\n",
      "d   5  15  19   8\n",
      "e  11  14  18   2\n",
      "f  18   7  11  16\n",
      "g   5  18  10   2\n",
      "h   7   7   3  18\n",
      "i   3  11   5  19\n",
      "j  12   6   7  19\n",
      "\n",
      "a    11\n",
      "b    15\n",
      "c     2\n",
      "d     5\n",
      "e    11\n",
      "f    18\n",
      "g     5\n",
      "h     7\n",
      "i     3\n",
      "j    12\n",
      "Name: B, dtype: int32\n",
      "    B   C   D   E\n",
      "a  11  13  12  17\n",
      "b  15  10   8   4\n",
      "c   2  14  13   9\n",
      "d   5  15  19   8\n",
      "e  11  14  18   2\n",
      "f  18   7  11  16\n",
      "g   5  18  10   2\n",
      "h   7   7   3  18\n",
      "i   3  11   5  19\n",
      "j  12   6   7  19\n",
      "    A   B   C   D   E\n",
      "a  16  11  13  12  17\n",
      "b   3  15  10   8   4\n",
      "c  13   2  14  13   9\n",
      "d  11   5  15  19   8\n",
      "e   6  11  14  18   2\n",
      "f   7  18   7  11  16\n",
      "g   3   5  18  10   2\n",
      "h  10   7   7   3  18\n",
      "i  18   3  11   5  19\n",
      "j   8  12   6   7  19\n"
     ]
    }
   ],
   "source": [
    "print( df_d.loc[:,'B'] ) # col\n",
    "print( df_d.loc[:,'B':'E'] ) # slice col\n",
    "print()\n",
    "print( df_d.iloc[:,1] ) # col\n",
    "print( df_d.iloc[:,1:5] ) # slice col\n"
   ]
  },
  {
   "cell_type": "code",
   "execution_count": 56,
   "metadata": {},
   "outputs": [
    {
     "name": "stdout",
     "output_type": "stream",
     "text": [
      "a    13\n",
      "b    10\n",
      "c    14\n",
      "d    15\n",
      "e    14\n",
      "f     7\n",
      "g    18\n",
      "h     7\n",
      "i    11\n",
      "j     6\n",
      "Name: C, dtype: int32\n",
      "c    14\n",
      "d    15\n",
      "e    14\n",
      "f     7\n",
      "g    18\n",
      "h     7\n",
      "i    11\n",
      "j     6\n",
      "Name: C, dtype: int32\n",
      "    A   B   C   D   E\n",
      "c  13   2  14  13   9\n",
      "d  11   5  15  19   8\n",
      "e   6  11  14  18   2\n",
      "f   7  18   7  11  16\n",
      "g   3   5  18  10   2\n",
      "h  10   7   7   3  18\n",
      "i  18   3  11   5  19\n",
      "j   8  12   6   7  19\n"
     ]
    },
    {
     "ename": "KeyError",
     "evalue": "'d'",
     "output_type": "error",
     "traceback": [
      "\u001b[1;31m---------------------------------------------------------------------------\u001b[0m",
      "\u001b[1;31mKeyError\u001b[0m                                  Traceback (most recent call last)",
      "\u001b[1;32mC:\\ProgramData\\Anaconda3\\lib\\site-packages\\pandas\\core\\indexes\\base.py\u001b[0m in \u001b[0;36mget_loc\u001b[1;34m(self, key, method, tolerance)\u001b[0m\n\u001b[0;32m   2656\u001b[0m             \u001b[1;32mtry\u001b[0m\u001b[1;33m:\u001b[0m\u001b[1;33m\u001b[0m\u001b[1;33m\u001b[0m\u001b[0m\n\u001b[1;32m-> 2657\u001b[1;33m                 \u001b[1;32mreturn\u001b[0m \u001b[0mself\u001b[0m\u001b[1;33m.\u001b[0m\u001b[0m_engine\u001b[0m\u001b[1;33m.\u001b[0m\u001b[0mget_loc\u001b[0m\u001b[1;33m(\u001b[0m\u001b[0mkey\u001b[0m\u001b[1;33m)\u001b[0m\u001b[1;33m\u001b[0m\u001b[1;33m\u001b[0m\u001b[0m\n\u001b[0m\u001b[0;32m   2658\u001b[0m             \u001b[1;32mexcept\u001b[0m \u001b[0mKeyError\u001b[0m\u001b[1;33m:\u001b[0m\u001b[1;33m\u001b[0m\u001b[1;33m\u001b[0m\u001b[0m\n",
      "\u001b[1;32mpandas/_libs/index.pyx\u001b[0m in \u001b[0;36mpandas._libs.index.IndexEngine.get_loc\u001b[1;34m()\u001b[0m\n",
      "\u001b[1;32mpandas/_libs/index.pyx\u001b[0m in \u001b[0;36mpandas._libs.index.IndexEngine.get_loc\u001b[1;34m()\u001b[0m\n",
      "\u001b[1;32mpandas/_libs/hashtable_class_helper.pxi\u001b[0m in \u001b[0;36mpandas._libs.hashtable.PyObjectHashTable.get_item\u001b[1;34m()\u001b[0m\n",
      "\u001b[1;32mpandas/_libs/hashtable_class_helper.pxi\u001b[0m in \u001b[0;36mpandas._libs.hashtable.PyObjectHashTable.get_item\u001b[1;34m()\u001b[0m\n",
      "\u001b[1;31mKeyError\u001b[0m: 'd'",
      "\nDuring handling of the above exception, another exception occurred:\n",
      "\u001b[1;31mKeyError\u001b[0m                                  Traceback (most recent call last)",
      "\u001b[1;32m<ipython-input-56-3826f5ed7935>\u001b[0m in \u001b[0;36m<module>\u001b[1;34m\u001b[0m\n\u001b[0;32m      3\u001b[0m \u001b[1;33m\u001b[0m\u001b[0m\n\u001b[0;32m      4\u001b[0m \u001b[0mprint\u001b[0m\u001b[1;33m(\u001b[0m\u001b[0mdf_d\u001b[0m\u001b[1;33m[\u001b[0m\u001b[1;34m'C'\u001b[0m\u001b[1;33m:\u001b[0m\u001b[1;33m]\u001b[0m\u001b[1;33m[\u001b[0m\u001b[1;34m'c'\u001b[0m\u001b[1;33m:\u001b[0m\u001b[1;33m]\u001b[0m\u001b[1;33m)\u001b[0m\u001b[1;33m\u001b[0m\u001b[1;33m\u001b[0m\u001b[0m\n\u001b[1;32m----> 5\u001b[1;33m \u001b[0mprint\u001b[0m\u001b[1;33m(\u001b[0m\u001b[0mdf_d\u001b[0m\u001b[1;33m[\u001b[0m\u001b[1;34m'd'\u001b[0m\u001b[1;33m]\u001b[0m\u001b[1;33m)\u001b[0m \u001b[1;31m# looks up in the columns\u001b[0m\u001b[1;33m\u001b[0m\u001b[1;33m\u001b[0m\u001b[0m\n\u001b[0m",
      "\u001b[1;32mC:\\ProgramData\\Anaconda3\\lib\\site-packages\\pandas\\core\\frame.py\u001b[0m in \u001b[0;36m__getitem__\u001b[1;34m(self, key)\u001b[0m\n\u001b[0;32m   2925\u001b[0m             \u001b[1;32mif\u001b[0m \u001b[0mself\u001b[0m\u001b[1;33m.\u001b[0m\u001b[0mcolumns\u001b[0m\u001b[1;33m.\u001b[0m\u001b[0mnlevels\u001b[0m \u001b[1;33m>\u001b[0m \u001b[1;36m1\u001b[0m\u001b[1;33m:\u001b[0m\u001b[1;33m\u001b[0m\u001b[1;33m\u001b[0m\u001b[0m\n\u001b[0;32m   2926\u001b[0m                 \u001b[1;32mreturn\u001b[0m \u001b[0mself\u001b[0m\u001b[1;33m.\u001b[0m\u001b[0m_getitem_multilevel\u001b[0m\u001b[1;33m(\u001b[0m\u001b[0mkey\u001b[0m\u001b[1;33m)\u001b[0m\u001b[1;33m\u001b[0m\u001b[1;33m\u001b[0m\u001b[0m\n\u001b[1;32m-> 2927\u001b[1;33m             \u001b[0mindexer\u001b[0m \u001b[1;33m=\u001b[0m \u001b[0mself\u001b[0m\u001b[1;33m.\u001b[0m\u001b[0mcolumns\u001b[0m\u001b[1;33m.\u001b[0m\u001b[0mget_loc\u001b[0m\u001b[1;33m(\u001b[0m\u001b[0mkey\u001b[0m\u001b[1;33m)\u001b[0m\u001b[1;33m\u001b[0m\u001b[1;33m\u001b[0m\u001b[0m\n\u001b[0m\u001b[0;32m   2928\u001b[0m             \u001b[1;32mif\u001b[0m \u001b[0mis_integer\u001b[0m\u001b[1;33m(\u001b[0m\u001b[0mindexer\u001b[0m\u001b[1;33m)\u001b[0m\u001b[1;33m:\u001b[0m\u001b[1;33m\u001b[0m\u001b[1;33m\u001b[0m\u001b[0m\n\u001b[0;32m   2929\u001b[0m                 \u001b[0mindexer\u001b[0m \u001b[1;33m=\u001b[0m \u001b[1;33m[\u001b[0m\u001b[0mindexer\u001b[0m\u001b[1;33m]\u001b[0m\u001b[1;33m\u001b[0m\u001b[1;33m\u001b[0m\u001b[0m\n",
      "\u001b[1;32mC:\\ProgramData\\Anaconda3\\lib\\site-packages\\pandas\\core\\indexes\\base.py\u001b[0m in \u001b[0;36mget_loc\u001b[1;34m(self, key, method, tolerance)\u001b[0m\n\u001b[0;32m   2657\u001b[0m                 \u001b[1;32mreturn\u001b[0m \u001b[0mself\u001b[0m\u001b[1;33m.\u001b[0m\u001b[0m_engine\u001b[0m\u001b[1;33m.\u001b[0m\u001b[0mget_loc\u001b[0m\u001b[1;33m(\u001b[0m\u001b[0mkey\u001b[0m\u001b[1;33m)\u001b[0m\u001b[1;33m\u001b[0m\u001b[1;33m\u001b[0m\u001b[0m\n\u001b[0;32m   2658\u001b[0m             \u001b[1;32mexcept\u001b[0m \u001b[0mKeyError\u001b[0m\u001b[1;33m:\u001b[0m\u001b[1;33m\u001b[0m\u001b[1;33m\u001b[0m\u001b[0m\n\u001b[1;32m-> 2659\u001b[1;33m                 \u001b[1;32mreturn\u001b[0m \u001b[0mself\u001b[0m\u001b[1;33m.\u001b[0m\u001b[0m_engine\u001b[0m\u001b[1;33m.\u001b[0m\u001b[0mget_loc\u001b[0m\u001b[1;33m(\u001b[0m\u001b[0mself\u001b[0m\u001b[1;33m.\u001b[0m\u001b[0m_maybe_cast_indexer\u001b[0m\u001b[1;33m(\u001b[0m\u001b[0mkey\u001b[0m\u001b[1;33m)\u001b[0m\u001b[1;33m)\u001b[0m\u001b[1;33m\u001b[0m\u001b[1;33m\u001b[0m\u001b[0m\n\u001b[0m\u001b[0;32m   2660\u001b[0m         \u001b[0mindexer\u001b[0m \u001b[1;33m=\u001b[0m \u001b[0mself\u001b[0m\u001b[1;33m.\u001b[0m\u001b[0mget_indexer\u001b[0m\u001b[1;33m(\u001b[0m\u001b[1;33m[\u001b[0m\u001b[0mkey\u001b[0m\u001b[1;33m]\u001b[0m\u001b[1;33m,\u001b[0m \u001b[0mmethod\u001b[0m\u001b[1;33m=\u001b[0m\u001b[0mmethod\u001b[0m\u001b[1;33m,\u001b[0m \u001b[0mtolerance\u001b[0m\u001b[1;33m=\u001b[0m\u001b[0mtolerance\u001b[0m\u001b[1;33m)\u001b[0m\u001b[1;33m\u001b[0m\u001b[1;33m\u001b[0m\u001b[0m\n\u001b[0;32m   2661\u001b[0m         \u001b[1;32mif\u001b[0m \u001b[0mindexer\u001b[0m\u001b[1;33m.\u001b[0m\u001b[0mndim\u001b[0m \u001b[1;33m>\u001b[0m \u001b[1;36m1\u001b[0m \u001b[1;32mor\u001b[0m \u001b[0mindexer\u001b[0m\u001b[1;33m.\u001b[0m\u001b[0msize\u001b[0m \u001b[1;33m>\u001b[0m \u001b[1;36m1\u001b[0m\u001b[1;33m:\u001b[0m\u001b[1;33m\u001b[0m\u001b[1;33m\u001b[0m\u001b[0m\n",
      "\u001b[1;32mpandas/_libs/index.pyx\u001b[0m in \u001b[0;36mpandas._libs.index.IndexEngine.get_loc\u001b[1;34m()\u001b[0m\n",
      "\u001b[1;32mpandas/_libs/index.pyx\u001b[0m in \u001b[0;36mpandas._libs.index.IndexEngine.get_loc\u001b[1;34m()\u001b[0m\n",
      "\u001b[1;32mpandas/_libs/hashtable_class_helper.pxi\u001b[0m in \u001b[0;36mpandas._libs.hashtable.PyObjectHashTable.get_item\u001b[1;34m()\u001b[0m\n",
      "\u001b[1;32mpandas/_libs/hashtable_class_helper.pxi\u001b[0m in \u001b[0;36mpandas._libs.hashtable.PyObjectHashTable.get_item\u001b[1;34m()\u001b[0m\n",
      "\u001b[1;31mKeyError\u001b[0m: 'd'"
     ]
    }
   ],
   "source": [
    "print(df_d['C'])\n",
    "print(df_d['C']['c':])\n",
    "\n",
    "print(df_d['C':]['c':])\n",
    "print(df_d['d']) # looks up in the columns"
   ]
  },
  {
   "cell_type": "code",
   "execution_count": 57,
   "metadata": {},
   "outputs": [
    {
     "name": "stdout",
     "output_type": "stream",
     "text": [
      "    A   B   C   D   E\n",
      "a  16  11  13  12  17\n",
      "b   3  15  10   8   4\n",
      "c  13   2  14  13   9\n",
      "d  11   5  15  19   8\n",
      "e   6  11  14  18   2\n",
      "f   7  18   7  11  16\n",
      "g   3   5  18  10   2\n",
      "h  10   7   7   3  18\n",
      "i  18   3  11   5  19\n",
      "j   8  12   6   7  19\n"
     ]
    }
   ],
   "source": [
    "print(df_d['C':])"
   ]
  },
  {
   "cell_type": "code",
   "execution_count": 59,
   "metadata": {},
   "outputs": [
    {
     "name": "stdout",
     "output_type": "stream",
     "text": [
      "    A   B   C\n",
      "a  13  15   4\n",
      "b  11   8   9\n",
      "c  11   1  10\n",
      "d  19  15  15\n"
     ]
    }
   ],
   "source": [
    "df_d = pd.DataFrame(np.random.randint(1,20, 12).reshape(4,3), columns = list('ABC'), index = list('abcd'))\n",
    "print(df_d)"
   ]
  }
 ],
 "metadata": {
  "kernelspec": {
   "display_name": "Python 3",
   "language": "python",
   "name": "python3"
  },
  "language_info": {
   "codemirror_mode": {
    "name": "ipython",
    "version": 3
   },
   "file_extension": ".py",
   "mimetype": "text/x-python",
   "name": "python",
   "nbconvert_exporter": "python",
   "pygments_lexer": "ipython3",
   "version": "3.7.3"
  }
 },
 "nbformat": 4,
 "nbformat_minor": 2
}
