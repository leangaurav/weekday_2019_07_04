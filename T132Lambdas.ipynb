{
 "cells": [
  {
   "cell_type": "code",
   "execution_count": null,
   "metadata": {},
   "outputs": [],
   "source": [
    "lambda <0-n args> : <expr>"
   ]
  },
  {
   "cell_type": "markdown",
   "metadata": {},
   "source": [
    "- lambda doens't have a name : anonymous function\n",
    "- lambda should be in one single line\n",
    "- the expression written in lambda is automatically returned\n",
    "- there should not be a return statement in a lambda"
   ]
  },
  {
   "cell_type": "code",
   "execution_count": 3,
   "metadata": {},
   "outputs": [
    {
     "name": "stdout",
     "output_type": "stream",
     "text": [
      "30\n"
     ]
    },
    {
     "data": {
      "text/plain": [
       "120"
      ]
     },
     "execution_count": 3,
     "metadata": {},
     "output_type": "execute_result"
    }
   ],
   "source": [
    "f1  = lambda x,y : x + y\n",
    "print(f1(10,20))\n",
    "(lambda x,y : x + y)(100,20)"
   ]
  },
  {
   "cell_type": "code",
   "execution_count": 6,
   "metadata": {},
   "outputs": [
    {
     "name": "stdout",
     "output_type": "stream",
     "text": [
      "{'+': <function <lambda> at 0x11324db70>, '-': <function <lambda> at 0x11324da60>, '*': <function <lambda> at 0x11324d620>, '/': <function <lambda> at 0x11324df28>}\n",
      "<function <lambda> at 0x11324db70>\n",
      "30\n"
     ]
    }
   ],
   "source": [
    "d = {'+':lambda x,y : x + y,\n",
    "'-':lambda x,y : x - y,\n",
    "'*':lambda x,y : x * y,\n",
    "'/':lambda x,y : x / y}\n",
    "print(d)\n",
    "print(d['+'])\n",
    "print(d['+'](10,20))"
   ]
  },
  {
   "cell_type": "code",
   "execution_count": 9,
   "metadata": {},
   "outputs": [
    {
     "name": "stdout",
     "output_type": "stream",
     "text": [
      "Enter an option(+, -, *, /):\n",
      "d\n",
      "Invalid Input!!\n"
     ]
    }
   ],
   "source": [
    "d = {'+':lambda x,y : x + y,\n",
    "'-':lambda x,y : x - y,\n",
    "'*':lambda x,y : x * y,\n",
    "'/':lambda x,y : x / y}\n",
    "print(\"Enter an option(+, -, *, /):\")\n",
    "ch = input()\n",
    "\n",
    "if ch in d:\n",
    "    n1 = int(input(\"Enter n1:\"))\n",
    "    n2 = int(input(\"Enter n2:\"))\n",
    "    print(d[ch](n1, n2))\n",
    "else:\n",
    "    print(\"Invalid Input!!\")\n"
   ]
  },
  {
   "cell_type": "code",
   "execution_count": 12,
   "metadata": {},
   "outputs": [
    {
     "name": "stdout",
     "output_type": "stream",
     "text": [
      "20\n",
      "233\n"
     ]
    }
   ],
   "source": [
    "from functools import reduce\n",
    "f = lambda x,y: x if x > y else y\n",
    "\n",
    "print(f(10,20))\n",
    "\n",
    "a = [1,2,3,4,44,233,50,1]\n",
    "\n",
    "r = reduce(f, a)\n",
    "print(r)"
   ]
  },
  {
   "cell_type": "code",
   "execution_count": 14,
   "metadata": {},
   "outputs": [
    {
     "name": "stdout",
     "output_type": "stream",
     "text": [
      "233\n",
      "338\n"
     ]
    }
   ],
   "source": [
    "from functools import reduce\n",
    "\n",
    "a = [1,2,3,4,44,233,50,1]\n",
    "\n",
    "r = reduce(lambda x,y: x if x > y else y, a)\n",
    "print(r)\n",
    "r = reduce(lambda x,y: x + y, a)\n",
    "print(r)"
   ]
  },
  {
   "cell_type": "code",
   "execution_count": 20,
   "metadata": {},
   "outputs": [
    {
     "name": "stdout",
     "output_type": "stream",
     "text": [
      "('gaurav', 211)\n",
      "[('abhishek', 1), ('abhishek2', 11), ('gaurav', 211), ('krishna', 111)]\n",
      "[('abhishek', 1), ('abhishek2', 11), ('krishna', 111), ('gaurav', 211)]\n",
      "[('gaurav', 211), ('krishna', 111), ('abhishek', 1), ('abhishek2', 11)]\n",
      "[('abhishek2', 11), ('krishna', 111), ('abhishek', 1), ('gaurav', 211)]\n"
     ]
    }
   ],
   "source": [
    "a = [('gaurav', 211), ('abhishek2', 11),('abhishek', 1),('krishna', 111)]\n",
    "\n",
    "r = reduce(lambda x,y : x if x[1] > y[1] else y ,    a)\n",
    "print(r)\n",
    "\n",
    "a.sort()\n",
    "print(a)\n",
    "a.sort(key = lambda x: x[1])\n",
    "print(a)\n",
    "a.sort(key = lambda x: len(x[0]))\n",
    "print(a)\n",
    "a.sort(key = lambda x: x[0][-1])\n",
    "print(a)"
   ]
  }
 ],
 "metadata": {
  "kernelspec": {
   "display_name": "Python 3",
   "language": "python",
   "name": "python3"
  },
  "language_info": {
   "codemirror_mode": {
    "name": "ipython",
    "version": 3
   },
   "file_extension": ".py",
   "mimetype": "text/x-python",
   "name": "python",
   "nbconvert_exporter": "python",
   "pygments_lexer": "ipython3",
   "version": "3.7.3"
  }
 },
 "nbformat": 4,
 "nbformat_minor": 2
}
