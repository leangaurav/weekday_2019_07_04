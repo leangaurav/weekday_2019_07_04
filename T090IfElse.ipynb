{
 "cells": [
  {
   "cell_type": "code",
   "execution_count": 3,
   "metadata": {},
   "outputs": [],
   "source": [
    "for i in range(0):\n",
    "    print('Gaurav')"
   ]
  },
  {
   "cell_type": "code",
   "execution_count": null,
   "metadata": {},
   "outputs": [],
   "source": [
    "if <condition>:\n",
    "    <code>"
   ]
  },
  {
   "cell_type": "code",
   "execution_count": 5,
   "metadata": {},
   "outputs": [
    {
     "name": "stdout",
     "output_type": "stream",
     "text": [
      "Before\n",
      "ABC\n",
      "Middle\n",
      "After\n"
     ]
    }
   ],
   "source": [
    "print(\"Before\")\n",
    "\n",
    "if (True):\n",
    "    print(\"ABC\")\n",
    "\n",
    "print(\"Middle\")\n",
    "\n",
    "if False:\n",
    "    print(\"PQR\")\n",
    "print(\"After\")"
   ]
  },
  {
   "cell_type": "code",
   "execution_count": 16,
   "metadata": {},
   "outputs": [
    {
     "name": "stdout",
     "output_type": "stream",
     "text": [
      "Enter a number : -10\n",
      "n = 10\n"
     ]
    }
   ],
   "source": [
    "def my_abs(n):\n",
    "    if n < 0:\n",
    "        n = -n\n",
    "    return n\n",
    "\n",
    "n = int(input(\"Enter a number : \"))\n",
    "print( \"n =\", my_abs(n) )"
   ]
  },
  {
   "cell_type": "code",
   "execution_count": null,
   "metadata": {},
   "outputs": [],
   "source": [
    "if <condition>:\n",
    "    <code1>\n",
    "else:\n",
    "    <code2>"
   ]
  },
  {
   "cell_type": "code",
   "execution_count": 17,
   "metadata": {},
   "outputs": [
    {
     "name": "stdout",
     "output_type": "stream",
     "text": [
      "Enter a no:10\n",
      "Eveen\n"
     ]
    }
   ],
   "source": [
    "n = int(input(\"Enter a no:\"))\n",
    "\n",
    "if n%2 == 0:\n",
    "    print(\"Eveen\")\n",
    "else:\n",
    "    print(\"Odd\")"
   ]
  },
  {
   "cell_type": "code",
   "execution_count": 18,
   "metadata": {},
   "outputs": [
    {
     "name": "stdout",
     "output_type": "stream",
     "text": [
      "Eveen\n",
      "Odd\n"
     ]
    }
   ],
   "source": [
    "def even_odd(n):\n",
    "    if n%2 == 0:\n",
    "        return \"Eveen\"\n",
    "    else:\n",
    "        return \"Odd\"\n",
    "\n",
    "print(even_odd(10))\n",
    "print(even_odd(11))"
   ]
  },
  {
   "cell_type": "code",
   "execution_count": 19,
   "metadata": {},
   "outputs": [
    {
     "name": "stdout",
     "output_type": "stream",
     "text": [
      "Eveen\n",
      "Odd\n"
     ]
    }
   ],
   "source": [
    "def even_odd(n):\n",
    "    if n%2 == 0:\n",
    "        return \"Eveen\"\n",
    "    return \"Odd\"\n",
    "\n",
    "print(even_odd(10))\n",
    "print(even_odd(11))"
   ]
  },
  {
   "cell_type": "code",
   "execution_count": 20,
   "metadata": {},
   "outputs": [
    {
     "name": "stdout",
     "output_type": "stream",
     "text": [
      "Eveen\n",
      "Odd\n"
     ]
    }
   ],
   "source": [
    "def even_odd(n): # function\n",
    "    if n%2 == 0:\n",
    "        res =  \"Eveen\"\n",
    "    else:\n",
    "        res =  \"Odd\"\n",
    "    return res\n",
    "\n",
    "print( even_odd(10) )\n",
    "print( even_odd(11) )\n",
    "x = 10\n",
    "print( even_odd(x) )\n",
    "\n",
    "even_odd(x) # calling a function\n",
    "even_odd(10) #"
   ]
  },
  {
   "cell_type": "code",
   "execution_count": 27,
   "metadata": {},
   "outputs": [
    {
     "name": "stdout",
     "output_type": "stream",
     "text": [
      "1001\n",
      "END\n"
     ]
    }
   ],
   "source": [
    "# WAP to input 2 numbers and print the larger one.\n",
    "\n",
    "n1 = 100\n",
    "n2 = 1001\n",
    "\n",
    "\n",
    "if n1 > n2 :\n",
    "    print(n1)\n",
    "elif n1 == n2:\n",
    "    print(\"Both are equal\")\n",
    "else:\n",
    "    print(n2)\n",
    "    \n",
    "print(\"END\")"
   ]
  },
  {
   "cell_type": "code",
   "execution_count": 28,
   "metadata": {},
   "outputs": [
    {
     "name": "stdout",
     "output_type": "stream",
     "text": [
      "100.0\n"
     ]
    }
   ],
   "source": [
    "#PRT/100\n",
    "def SI(p,r,t):\n",
    "    return (p*r*t)/100\n",
    "\n",
    "print(SI(1000,10,1))\n",
    "\n",
    "\n",
    "# WAP that takes as input age.. based on age .. it will print.. senior citizen or not..."
   ]
  },
  {
   "cell_type": "code",
   "execution_count": 29,
   "metadata": {},
   "outputs": [
    {
     "name": "stdout",
     "output_type": "stream",
     "text": [
      "True\n",
      "False\n"
     ]
    }
   ],
   "source": [
    "# and or not\n",
    "print(True and True)\n",
    "print(False and True)"
   ]
  },
  {
   "cell_type": "code",
   "execution_count": null,
   "metadata": {},
   "outputs": [],
   "source": [
    "# check if some character is a vowel or not.\n"
   ]
  },
  {
   "cell_type": "code",
   "execution_count": 31,
   "metadata": {},
   "outputs": [
    {
     "name": "stdout",
     "output_type": "stream",
     "text": [
      "Enter a character: b\n",
      "It is Not an A :( \n"
     ]
    }
   ],
   "source": [
    "# check if some character is 'A' or not.\n",
    "\n",
    "c = input(\"Enter a character: \")\n",
    "if c == 'A':\n",
    "    print(\"It is A!!\")\n",
    "else:\n",
    "    print(\"It is Not an A :( \" )"
   ]
  },
  {
   "cell_type": "code",
   "execution_count": 38,
   "metadata": {},
   "outputs": [
    {
     "name": "stdout",
     "output_type": "stream",
     "text": [
      "Enter a character: a\n",
      "It is Not an A :( \n"
     ]
    }
   ],
   "source": [
    "# check if some character is 'A' or not.\n",
    "\n",
    "c = input(\"Enter a character: \")\n",
    "if c == 'A' or c == 'B':\n",
    "    print(\"It is A or B!!\")\n",
    "else:\n",
    "    print(\"It is Not an A :( \" )"
   ]
  },
  {
   "cell_type": "code",
   "execution_count": 49,
   "metadata": {},
   "outputs": [
    {
     "name": "stdout",
     "output_type": "stream",
     "text": [
      "Enter a character: m\n",
      "It is Not Vowel \n"
     ]
    }
   ],
   "source": [
    "# check if some character is vowel or not\n",
    "\n",
    "c = input(\"Enter a character: \")\n",
    "c = c.lower()\n",
    "\n",
    "if len(c) == 1: # nested if-else\n",
    "    if c == 'a' or c == 'e' or c == 'i' or c == 'o' or c == 'u' :\n",
    "        print(\"It is Vowel\")\n",
    "    else:\n",
    "        print(\"It is Not Vowel \" )\n",
    "else:\n",
    "    print(\"Please enter only one char\")"
   ]
  },
  {
   "cell_type": "code",
   "execution_count": 54,
   "metadata": {},
   "outputs": [
    {
     "name": "stdout",
     "output_type": "stream",
     "text": [
      "Enter a character: \n",
      "Enter atleast one char !!\n"
     ]
    }
   ],
   "source": [
    "# check if some character is vowel or not\n",
    "def is_vowel(c):\n",
    "    if c == 'a' or c == 'e' or c == 'i' or c == 'o' or c == 'u' :\n",
    "        return \"It is Vowel\"\n",
    "    else:\n",
    "        return \"It is Not Vowel \"\n",
    "\n",
    "c = input(\"Enter a character: \")\n",
    "c = c.lower()\n",
    "\n",
    "if len(c) == 1: # nested if-else\n",
    "    print( is_vowel(c))\n",
    "elif len(c) == 0:\n",
    "    print(\"Enter atleast one char !!\")\n",
    "else:\n",
    "    for sym in c:\n",
    "        print(sym, is_vowel(sym))"
   ]
  },
  {
   "cell_type": "code",
   "execution_count": 57,
   "metadata": {},
   "outputs": [
    {
     "name": "stdout",
     "output_type": "stream",
     "text": [
      "Enter a character: abdIA\n",
      "a It is Vowel\n",
      "b It is Not Vowel \n",
      "d It is Not Vowel \n",
      "I It is Vowel\n",
      "A It is Vowel\n"
     ]
    }
   ],
   "source": [
    "# check if some character is vowel or not\n",
    "def is_vowel(c):\n",
    "    if c.lower() in 'aeiou' :\n",
    "        return \"It is Vowel\"\n",
    "    else:\n",
    "        return \"It is Not Vowel \"\n",
    "\n",
    "c = input(\"Enter a character: \")\n",
    "\n",
    "if len(c) == 1: # nested if-else\n",
    "    print( is_vowel(c))\n",
    "elif len(c) == 0:\n",
    "    print(\"Enter atleast one char !!\")\n",
    "else:\n",
    "    for sym in c:\n",
    "        print(sym, is_vowel(sym))"
   ]
  },
  {
   "cell_type": "code",
   "execution_count": 60,
   "metadata": {},
   "outputs": [
    {
     "name": "stdout",
     "output_type": "stream",
     "text": [
      "It is Vowel\n",
      "It is Vowel\n",
      "It is Not Vowel \n"
     ]
    }
   ],
   "source": [
    "def is_vowel(c):\n",
    "    if c.lower() in 'aeiou' :\n",
    "        return \"It is Vowel\"\n",
    "    else:\n",
    "        return \"It is Not Vowel \"\n",
    "    \n",
    "print(is_vowel('a'))\n",
    "print(is_vowel('ae'))\n",
    "print(is_vowel('ea'))"
   ]
  },
  {
   "cell_type": "code",
   "execution_count": 61,
   "metadata": {},
   "outputs": [
    {
     "name": "stdout",
     "output_type": "stream",
     "text": [
      "It is Vowel\n",
      "It is Not Vowel \n",
      "It is Not Vowel \n"
     ]
    }
   ],
   "source": [
    "def is_vowel(c):\n",
    "    if c.lower() in ('a', 'e', 'i', 'o', 'u') :\n",
    "        return \"It is Vowel\"\n",
    "    else:\n",
    "        return \"It is Not Vowel \"\n",
    "    \n",
    "print(is_vowel('a'))\n",
    "print(is_vowel('ae'))\n",
    "print(is_vowel('ea'))"
   ]
  },
  {
   "cell_type": "code",
   "execution_count": 62,
   "metadata": {},
   "outputs": [
    {
     "name": "stdout",
     "output_type": "stream",
     "text": [
      "It is Vowel\n",
      "It is Not Vowel \n",
      "It is Not Vowel \n"
     ]
    }
   ],
   "source": [
    "def is_vowel(c):\n",
    "    if c.lower() in tuple('aeiou') :\n",
    "        return \"It is Vowel\"\n",
    "    else:\n",
    "        return \"It is Not Vowel \"\n",
    "    \n",
    "print(is_vowel('a'))\n",
    "print(is_vowel('ae'))\n",
    "print(is_vowel('ea'))"
   ]
  },
  {
   "cell_type": "code",
   "execution_count": 63,
   "metadata": {},
   "outputs": [
    {
     "name": "stdout",
     "output_type": "stream",
     "text": [
      "False\n",
      "True\n",
      "True\n"
     ]
    }
   ],
   "source": [
    "def my_upper(c):\n",
    "    if ord(c)>=65 and ord(c) <= 90:\n",
    "        return True\n",
    "    return False\n",
    "\n",
    "print(my_upper('a'))\n",
    "print(my_upper('A'))\n",
    "print(my_upper('Z'))"
   ]
  },
  {
   "cell_type": "code",
   "execution_count": 64,
   "metadata": {},
   "outputs": [
    {
     "name": "stdout",
     "output_type": "stream",
     "text": [
      "False\n",
      "True\n",
      "True\n"
     ]
    }
   ],
   "source": [
    "def my_upper(c):\n",
    "    if c >= 'A' and c <= 'Z':\n",
    "        return True\n",
    "    return False\n",
    "\n",
    "print(my_upper('a'))\n",
    "print(my_upper('A'))\n",
    "print(my_upper('Z'))"
   ]
  },
  {
   "cell_type": "code",
   "execution_count": 73,
   "metadata": {},
   "outputs": [
    {
     "name": "stdout",
     "output_type": "stream",
     "text": [
      "True\n",
      "True\n",
      "True\n",
      "False\n",
      "False\n"
     ]
    }
   ],
   "source": [
    "def is_alpha(c):\n",
    "    if (c >= 'A' and c <= 'Z') or (c >= 'a' and c <= 'z'):\n",
    "        return True\n",
    "    return False\n",
    "\n",
    "print(is_alpha('a'))\n",
    "print(is_alpha('A'))\n",
    "print(is_alpha('Z'))\n",
    "print(is_alpha('#'))\n",
    "print(is_alpha(''))"
   ]
  },
  {
   "cell_type": "code",
   "execution_count": 68,
   "metadata": {},
   "outputs": [
    {
     "name": "stdout",
     "output_type": "stream",
     "text": [
      "True True\n",
      "False True\n",
      "True True\n"
     ]
    }
   ],
   "source": [
    "def my_upper(c):\n",
    "    if c >= 'A' and c <= 'Z':\n",
    "        return True\n",
    "    return False\n",
    "\n",
    "print(my_upper('Z'), 'Z'.isupper())\n",
    "print(my_upper('Z#'), 'Z#'.isupper())\n",
    "print(my_upper('Z'), 'Z'.isupper())"
   ]
  },
  {
   "cell_type": "code",
   "execution_count": 72,
   "metadata": {},
   "outputs": [
    {
     "name": "stdout",
     "output_type": "stream",
     "text": [
      "True True\n",
      "True True\n",
      "False False\n"
     ]
    }
   ],
   "source": [
    "def my_upper(c):\n",
    "    \n",
    "    for sym in c:\n",
    "        if ('a' <= sym <= 'z'):\n",
    "            return False\n",
    "            \n",
    "    return True\n",
    "\n",
    "print(my_upper('Z'), 'Z'.isupper())\n",
    "print(my_upper('Z000#'), 'Z0#'.isupper())\n",
    "print(my_upper('Za'), 'Za'.isupper())"
   ]
  },
  {
   "cell_type": "code",
   "execution_count": null,
   "metadata": {},
   "outputs": [],
   "source": [
    "n1 = int(input(\"Enter a number: \"))\n",
    "n2 = int(input(\"Enter a number: \"))\n",
    "n3 = int(input(\"Enter a number: \"))\n",
    "\n",
    "l = n1\n",
    "if l < n2:\n",
    "    l = n2\n",
    "if l < n3:\n",
    "    l = n3\n",
    "    \n",
    "print(l)\n",
    "\n",
    "#n1 n2 n3\n",
    "#1  2  3\n",
    "#10 2  3\n",
    "#10 20 3"
   ]
  },
  {
   "cell_type": "code",
   "execution_count": null,
   "metadata": {},
   "outputs": [],
   "source": [
    "[[10,20], [40,5], [1,2], [100, 0]]"
   ]
  },
  {
   "cell_type": "code",
   "execution_count": 74,
   "metadata": {},
   "outputs": [
    {
     "name": "stdout",
     "output_type": "stream",
     "text": [
      "['c', 30]\n"
     ]
    }
   ],
   "source": [
    "a = [['a',10],['b',200],['c',30]]\n",
    "    \n",
    "m = a[0]\n",
    "for data in a:\n",
    "    if m[1] < data[1]:\n",
    "        m = data\n",
    "    \n",
    "print(m)\n",
    "# m     ['a',10]  ['b',200]   \n",
    "# data  ['a',10]  ['b',200]   ['c', 30]"
   ]
  },
  {
   "cell_type": "code",
   "execution_count": 75,
   "metadata": {},
   "outputs": [
    {
     "name": "stdout",
     "output_type": "stream",
     "text": [
      "['b', 200]\n"
     ]
    }
   ],
   "source": [
    "a = [['a',10],['b',200],['c',30]]\n",
    "    \n",
    "from functools import reduce # reduce is a higer order funct... present in functools module\n",
    "print( reduce(  lambda x,y: x if x[1] > y[1] else y,     a) )\n",
    "\n",
    "# m     ['a',10]  ['b',200]   \n",
    "# data  ['a',10]  ['b',200]   ['c', 30]"
   ]
  }
 ],
 "metadata": {
  "kernelspec": {
   "display_name": "Python 3",
   "language": "python",
   "name": "python3"
  },
  "language_info": {
   "codemirror_mode": {
    "name": "ipython",
    "version": 3
   },
   "file_extension": ".py",
   "mimetype": "text/x-python",
   "name": "python",
   "nbconvert_exporter": "python",
   "pygments_lexer": "ipython3",
   "version": "3.7.3"
  }
 },
 "nbformat": 4,
 "nbformat_minor": 2
}
