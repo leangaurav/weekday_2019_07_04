{
 "cells": [
  {
   "cell_type": "markdown",
   "metadata": {},
   "source": [
    "### If-Else"
   ]
  },
  {
   "cell_type": "code",
   "execution_count": 37,
   "metadata": {},
   "outputs": [
    {
     "name": "stdout",
     "output_type": "stream",
     "text": [
      "Enter a string : aba\n",
      "True 1 Is palindrome\n"
     ]
    }
   ],
   "source": [
    "s = input(\"Enter a string : \")\n",
    "ss = s[::-1]\n",
    "\n",
    "r = (s == ss)\n",
    "\n",
    "l = [\"Not Palindrome\", \"Is palindrome\"]\n",
    "print(r, int(r), l[r] )\n",
    "# abc   cba   No\n",
    "# abcba abcba Yes"
   ]
  },
  {
   "cell_type": "code",
   "execution_count": null,
   "metadata": {},
   "outputs": [],
   "source": []
  },
  {
   "cell_type": "code",
   "execution_count": 6,
   "metadata": {},
   "outputs": [
    {
     "name": "stdout",
     "output_type": "stream",
     "text": [
      "\n",
      "[<built-in function print>, <built-in function dir>, None]\n"
     ]
    }
   ],
   "source": [
    "p = print\n",
    "l = [print, dir, print()]\n",
    "print(l)"
   ]
  },
  {
   "cell_type": "code",
   "execution_count": null,
   "metadata": {},
   "outputs": [],
   "source": [
    "# WAF that takes a number:n returs a list containing odd numbers from 1-n\n",
    "# odd_list()"
   ]
  },
  {
   "cell_type": "code",
   "execution_count": 11,
   "metadata": {},
   "outputs": [
    {
     "name": "stdout",
     "output_type": "stream",
     "text": [
      "Enter number: 10\n",
      "[1, 3, 5, 7, 9]\n"
     ]
    }
   ],
   "source": [
    "m = int(input(\"Enter number: \")) \n",
    "    \n",
    "def odd_list(n):    \n",
    "    a = [] \n",
    "    x = 1    \n",
    "    while x <= n:        \n",
    "        a.append(x)        \n",
    "        x += 2  \n",
    "    return a\n",
    "a = odd_list(m)        \n",
    "print(a)\n"
   ]
  },
  {
   "cell_type": "code",
   "execution_count": 12,
   "metadata": {},
   "outputs": [
    {
     "name": "stdout",
     "output_type": "stream",
     "text": [
      "[1, 3, 5]\n"
     ]
    }
   ],
   "source": [
    "a = odd_list(5)\n",
    "print(a)"
   ]
  },
  {
   "cell_type": "code",
   "execution_count": 19,
   "metadata": {},
   "outputs": [
    {
     "name": "stdout",
     "output_type": "stream",
     "text": [
      "1\n",
      "3\n",
      "5\n",
      "7\n",
      "9\n"
     ]
    }
   ],
   "source": [
    "def odd_list(num):\n",
    "    i = 1\n",
    "    while i <= num:\n",
    "        print(i)\n",
    "        i = i + 2\n",
    "    \n",
    "odd_list(10)"
   ]
  },
  {
   "cell_type": "code",
   "execution_count": 22,
   "metadata": {},
   "outputs": [
    {
     "name": "stdout",
     "output_type": "stream",
     "text": [
      "[1, 3, 5, 7, 9]\n"
     ]
    }
   ],
   "source": [
    "def odd_list(num):\n",
    "    i = 1\n",
    "    l = []\n",
    "    while i <= num:\n",
    "        l.append(i)\n",
    "        i = i + 2\n",
    "    \n",
    "    return l\n",
    "    \n",
    "R = odd_list(10)\n",
    "print(R)"
   ]
  },
  {
   "cell_type": "code",
   "execution_count": 27,
   "metadata": {},
   "outputs": [
    {
     "name": "stdout",
     "output_type": "stream",
     "text": [
      "Enter a number : 5\n",
      "5\n",
      "5\n"
     ]
    }
   ],
   "source": [
    "num = int (input (\"Enter a number : \"))\n",
    "def odd_list(num):\n",
    "    x = 1      \n",
    "    while(x < num): \n",
    "        if x % 2 != 0: \n",
    "            print(num) \n",
    "        x += 1\n",
    "    return \n",
    "\n",
    "odd_list(5)"
   ]
  },
  {
   "cell_type": "code",
   "execution_count": 34,
   "metadata": {},
   "outputs": [
    {
     "name": "stdout",
     "output_type": "stream",
     "text": [
      "10000\n",
      "1\n"
     ]
    }
   ],
   "source": [
    "# WAP that inputs 2 numbers m,n and prints m^n without using any builtins\n",
    "#3^5\n",
    "#3*3*3*3*3\n",
    "\n",
    "def my_pow(m,n):\n",
    "    p = 1\n",
    "\n",
    "    i = 1\n",
    "    while i <= n:\n",
    "        p = p * m\n",
    "        i += 1\n",
    "\n",
    "    return p\n",
    "\n",
    "print(my_pow(10,4))\n",
    "print(my_pow(10,-4))\n",
    "#i 1  2   3   4       5\n",
    "#p 1 10 100  1000   10000"
   ]
  }
 ],
 "metadata": {
  "kernelspec": {
   "display_name": "Python 3",
   "language": "python",
   "name": "python3"
  },
  "language_info": {
   "codemirror_mode": {
    "name": "ipython",
    "version": 3
   },
   "file_extension": ".py",
   "mimetype": "text/x-python",
   "name": "python",
   "nbconvert_exporter": "python",
   "pygments_lexer": "ipython3",
   "version": "3.7.3"
  }
 },
 "nbformat": 4,
 "nbformat_minor": 2
}
