{
 "cells": [
  {
   "cell_type": "code",
   "execution_count": 2,
   "metadata": {},
   "outputs": [
    {
     "name": "stdout",
     "output_type": "stream",
     "text": [
      "1\n",
      "3\n",
      "5\n",
      "7\n",
      "9\n",
      "11\n",
      "13\n",
      "15\n",
      "17\n",
      "19\n",
      "100\n"
     ]
    }
   ],
   "source": [
    "# WAP to print numbers 1,3,5.. 19\n",
    "s = 0\n",
    "\n",
    "for i in range(1,20,2):\n",
    "    print(i)\n",
    "    s += i\n",
    "print(s)"
   ]
  },
  {
   "cell_type": "code",
   "execution_count": 3,
   "metadata": {},
   "outputs": [
    {
     "name": "stdout",
     "output_type": "stream",
     "text": [
      "19\n",
      "17\n",
      "15\n",
      "13\n",
      "11\n",
      "9\n",
      "7\n",
      "5\n",
      "3\n",
      "1\n",
      "100\n"
     ]
    }
   ],
   "source": [
    "# WAP to print numbers 1,3,5.. 19\n",
    "s = 0\n",
    "\n",
    "for i in range(19,0,-2):\n",
    "    print(i)\n",
    "    s += i\n",
    "print(s)"
   ]
  },
  {
   "cell_type": "code",
   "execution_count": null,
   "metadata": {},
   "outputs": [],
   "source": [
    "[]\n",
    "()\n",
    "{}"
   ]
  },
  {
   "cell_type": "code",
   "execution_count": 4,
   "metadata": {},
   "outputs": [
    {
     "name": "stdout",
     "output_type": "stream",
     "text": [
      "{} <class 'dict'>\n"
     ]
    }
   ],
   "source": [
    "d = {}\n",
    "print(d, type(d))"
   ]
  },
  {
   "cell_type": "code",
   "execution_count": null,
   "metadata": {},
   "outputs": [],
   "source": [
    "[1,2,3,4] # O(1) # O(n)\n"
   ]
  },
  {
   "cell_type": "code",
   "execution_count": 6,
   "metadata": {},
   "outputs": [
    {
     "name": "stdout",
     "output_type": "stream",
     "text": [
      "{10: 'ABCD', 'ab': 100, (1, 2): [10, 20, 30, 40]} <class 'dict'>\n"
     ]
    }
   ],
   "source": [
    "d = {10:'ABCD', 'ab':100, (1,2): [10,20,30,40]} # mapping data type\n",
    "print(d, type(d))"
   ]
  },
  {
   "cell_type": "code",
   "execution_count": 9,
   "metadata": {},
   "outputs": [
    {
     "name": "stdout",
     "output_type": "stream",
     "text": [
      "{10: 20}\n",
      "20\n"
     ]
    },
    {
     "ename": "KeyError",
     "evalue": "20",
     "output_type": "error",
     "traceback": [
      "\u001b[1;31m---------------------------------------------------------------------------\u001b[0m",
      "\u001b[1;31mKeyError\u001b[0m                                  Traceback (most recent call last)",
      "\u001b[1;32m<ipython-input-9-fe1dc0170257>\u001b[0m in \u001b[0;36m<module>\u001b[1;34m\u001b[0m\n\u001b[0;32m      4\u001b[0m \u001b[1;33m\u001b[0m\u001b[0m\n\u001b[0;32m      5\u001b[0m \u001b[0mprint\u001b[0m\u001b[1;33m(\u001b[0m\u001b[0md\u001b[0m\u001b[1;33m[\u001b[0m\u001b[1;36m10\u001b[0m\u001b[1;33m]\u001b[0m\u001b[1;33m)\u001b[0m\u001b[1;33m\u001b[0m\u001b[1;33m\u001b[0m\u001b[0m\n\u001b[1;32m----> 6\u001b[1;33m \u001b[0mprint\u001b[0m\u001b[1;33m(\u001b[0m\u001b[0md\u001b[0m\u001b[1;33m[\u001b[0m\u001b[1;36m20\u001b[0m\u001b[1;33m]\u001b[0m\u001b[1;33m)\u001b[0m\u001b[1;33m\u001b[0m\u001b[1;33m\u001b[0m\u001b[0m\n\u001b[0m",
      "\u001b[1;31mKeyError\u001b[0m: 20"
     ]
    }
   ],
   "source": [
    "d = {10:20}\n",
    "\n",
    "print(d)\n",
    "\n",
    "print(d[10])\n",
    "print(d[20])"
   ]
  },
  {
   "cell_type": "code",
   "execution_count": 11,
   "metadata": {},
   "outputs": [
    {
     "name": "stdout",
     "output_type": "stream",
     "text": [
      "{10: 20, (1, 2): 555555}\n",
      "20\n",
      "200\n",
      "555555\n"
     ]
    }
   ],
   "source": [
    "d = {10:20, (1,2): 555555, 'ab':'AB'}\n",
    "\n",
    "print(d)\n",
    "d[20] = 200\n",
    "print(d[10])\n",
    "print(d[20])\n",
    "print(d[(1,2)])"
   ]
  },
  {
   "cell_type": "code",
   "execution_count": 17,
   "metadata": {},
   "outputs": [
    {
     "name": "stdout",
     "output_type": "stream",
     "text": [
      "{1: 1000}\n",
      "{1: 1000, 2: 2000}\n",
      "{1: -1000, 2: 2000}\n",
      "{1: -900, 2: 2000, 3: 2000}\n"
     ]
    }
   ],
   "source": [
    "d = {}\n",
    "d[1] = 1000\n",
    "print(d)\n",
    "d[2] = 2000\n",
    "print(d)\n",
    "d[1] = -1000\n",
    "print(d)\n",
    "d[3] = 2000\n",
    "d[1] += 100\n",
    "print(d)"
   ]
  },
  {
   "cell_type": "code",
   "execution_count": 18,
   "metadata": {},
   "outputs": [
    {
     "name": "stdout",
     "output_type": "stream",
     "text": [
      "{1: -1000, 2: 2000}\n"
     ]
    }
   ],
   "source": [
    "d = {1:1000, 2:2000, 1:-1000}\n",
    "print(d)"
   ]
  },
  {
   "cell_type": "code",
   "execution_count": 25,
   "metadata": {},
   "outputs": [
    {
     "name": "stdout",
     "output_type": "stream",
     "text": [
      "{1: {}}\n",
      "{1: {100: 1000}}\n",
      "{1: {100: 1000}, 2: [100]}\n",
      "{1: {100: 1000}, 2: [100, 200]}\n",
      "100\n"
     ]
    }
   ],
   "source": [
    "d = {}\n",
    "d[1] = {}\n",
    "print(d)\n",
    "d[1][100] = 1000\n",
    "print(d)\n",
    "d[2] = []\n",
    "d[2].append(100)\n",
    "print(d)\n",
    "d[2].append(200)\n",
    "print(d)\n",
    "print(d[2][0])"
   ]
  },
  {
   "cell_type": "code",
   "execution_count": 29,
   "metadata": {},
   "outputs": [
    {
     "name": "stdout",
     "output_type": "stream",
     "text": [
      "True\n",
      "True\n",
      "False\n"
     ]
    }
   ],
   "source": [
    "d = {1:10, 2:20}\n",
    "\n",
    "print(1 in d)\n",
    "print(2 in d)\n",
    "print(10 in d)"
   ]
  },
  {
   "cell_type": "code",
   "execution_count": 32,
   "metadata": {},
   "outputs": [
    {
     "name": "stdout",
     "output_type": "stream",
     "text": [
      "{1: 20, 2: 20}\n",
      "{2: 20}\n"
     ]
    },
    {
     "ename": "KeyError",
     "evalue": "3",
     "output_type": "error",
     "traceback": [
      "\u001b[1;31m---------------------------------------------------------------------------\u001b[0m",
      "\u001b[1;31mKeyError\u001b[0m                                  Traceback (most recent call last)",
      "\u001b[1;32m<ipython-input-32-3060478e6bf3>\u001b[0m in \u001b[0;36m<module>\u001b[1;34m\u001b[0m\n\u001b[0;32m      3\u001b[0m \u001b[1;32mdel\u001b[0m \u001b[0md\u001b[0m\u001b[1;33m[\u001b[0m\u001b[1;36m1\u001b[0m\u001b[1;33m]\u001b[0m\u001b[1;33m\u001b[0m\u001b[1;33m\u001b[0m\u001b[0m\n\u001b[0;32m      4\u001b[0m \u001b[0mprint\u001b[0m\u001b[1;33m(\u001b[0m\u001b[0md\u001b[0m\u001b[1;33m)\u001b[0m\u001b[1;33m\u001b[0m\u001b[1;33m\u001b[0m\u001b[0m\n\u001b[1;32m----> 5\u001b[1;33m \u001b[1;32mdel\u001b[0m \u001b[0md\u001b[0m\u001b[1;33m[\u001b[0m\u001b[1;36m3\u001b[0m\u001b[1;33m]\u001b[0m\u001b[1;33m\u001b[0m\u001b[1;33m\u001b[0m\u001b[0m\n\u001b[0m",
      "\u001b[1;31mKeyError\u001b[0m: 3"
     ]
    }
   ],
   "source": [
    "d = {1:20, 2:20}\n",
    "print(d)\n",
    "del d[1]\n",
    "print(d)\n",
    "del d[3]"
   ]
  },
  {
   "cell_type": "code",
   "execution_count": null,
   "metadata": {},
   "outputs": [],
   "source": []
  },
  {
   "cell_type": "code",
   "execution_count": null,
   "metadata": {},
   "outputs": [],
   "source": []
  },
  {
   "cell_type": "code",
   "execution_count": 1,
   "metadata": {},
   "outputs": [
    {
     "name": "stdout",
     "output_type": "stream",
     "text": [
      "Enter a string:abcdefgh\n",
      "{'a': 1, 'b': 1, 'c': 1, 'd': 1, 'e': 1, 'f': 1, 'g': 1, 'h': 1}\n"
     ]
    }
   ],
   "source": [
    "# WAP to input a string and print frequency of each symbol in that string\n",
    "# Ex: input: abcdabcab\n",
    "#     output: a:3     b:3   c:2  d:1\n",
    "\n",
    "\n",
    "s = input(\"Enter a string:\")\n",
    "\n",
    "d = {}\n",
    "\n",
    "for c in s:\n",
    "    if c in d:\n",
    "        d[c] += 1\n",
    "    else:\n",
    "        d[c] = 1\n",
    "\n",
    "print(d)\n",
    "#  c      a         b           c                   d                         a\n",
    "#  d  {}  {'a':1} {'a':1,'b':1} {'a':1,'b':1,'c':1} {'a':1,'b':1,'c':1,'d':1} {'a':2,'b':1,'c':1,'d':1}"
   ]
  },
  {
   "cell_type": "code",
   "execution_count": 39,
   "metadata": {},
   "outputs": [
    {
     "name": "stdout",
     "output_type": "stream",
     "text": [
      "dict_keys([1, 2, 'a', 3])\n",
      "1\n",
      "2\n",
      "a\n",
      "3\n",
      "\n",
      "1\n",
      "2\n",
      "a\n",
      "3\n",
      "\n",
      "10\n",
      "20\n",
      "B\n",
      "10\n",
      "\n",
      "(1, 10)\n",
      "(2, 20)\n",
      "('a', 'B')\n",
      "(3, 10)\n"
     ]
    }
   ],
   "source": [
    "d = {1:10,2:20, 'a':'B',3:10}\n",
    "\n",
    "print(d.keys())\n",
    "\n",
    "for k in d.keys(): # keys\n",
    "    print(k)\n",
    "    \n",
    "print()\n",
    "for k in d:        # keys\n",
    "    print(k)\n",
    "    \n",
    "print()\n",
    "for k in d.values(): # values\n",
    "    print(k)\n",
    "print()\n",
    "for k in d.items(): # key, value\n",
    "    print(k)"
   ]
  },
  {
   "cell_type": "code",
   "execution_count": 43,
   "metadata": {},
   "outputs": [
    {
     "name": "stdout",
     "output_type": "stream",
     "text": [
      "[1, 2, 'a', 3]\n",
      "[10, 20, 'B', 10]\n",
      "[(1, 10), (2, 20), ('a', 'B'), (3, 10)]\n",
      "[1, 2, 'a', 3]\n",
      "[1, 2, 3, 4, 5, 6, 7, 8, 9]\n"
     ]
    }
   ],
   "source": [
    "d = {1:10,2:20, 'a':'B',3:10}\n",
    "\n",
    "print(list(d.keys()))\n",
    "print(list(d.values()))\n",
    "print(list(d.items()))\n",
    "print(list(d))\n",
    "\n",
    "print(list(range(1,10)))"
   ]
  },
  {
   "cell_type": "code",
   "execution_count": 44,
   "metadata": {},
   "outputs": [
    {
     "name": "stdout",
     "output_type": "stream",
     "text": [
      "[10, 20, 'B', 10]\n"
     ]
    }
   ],
   "source": [
    "d = {1:10,2:20, 'a':'B',3:10}\n",
    "\n",
    "l = []\n",
    "for k in d:\n",
    "    l.append(d[k])\n",
    "print(l)"
   ]
  },
  {
   "cell_type": "code",
   "execution_count": 47,
   "metadata": {},
   "outputs": [
    {
     "name": "stdout",
     "output_type": "stream",
     "text": [
      "10\n",
      "1000\n"
     ]
    },
    {
     "ename": "KeyError",
     "evalue": "4",
     "output_type": "error",
     "traceback": [
      "\u001b[1;31m---------------------------------------------------------------------------\u001b[0m",
      "\u001b[1;31mKeyError\u001b[0m                                  Traceback (most recent call last)",
      "\u001b[1;32m<ipython-input-47-a793e2cd0f1c>\u001b[0m in \u001b[0;36m<module>\u001b[1;34m\u001b[0m\n\u001b[0;32m      5\u001b[0m \u001b[0mres\u001b[0m \u001b[1;33m=\u001b[0m \u001b[0md\u001b[0m\u001b[1;33m.\u001b[0m\u001b[0mpop\u001b[0m\u001b[1;33m(\u001b[0m\u001b[1;36m4\u001b[0m\u001b[1;33m,\u001b[0m\u001b[1;36m1000\u001b[0m\u001b[1;33m)\u001b[0m\u001b[1;33m\u001b[0m\u001b[1;33m\u001b[0m\u001b[0m\n\u001b[0;32m      6\u001b[0m \u001b[0mprint\u001b[0m\u001b[1;33m(\u001b[0m\u001b[0mres\u001b[0m\u001b[1;33m)\u001b[0m\u001b[1;33m\u001b[0m\u001b[1;33m\u001b[0m\u001b[0m\n\u001b[1;32m----> 7\u001b[1;33m \u001b[0mres\u001b[0m \u001b[1;33m=\u001b[0m \u001b[0md\u001b[0m\u001b[1;33m.\u001b[0m\u001b[0mpop\u001b[0m\u001b[1;33m(\u001b[0m\u001b[1;36m4\u001b[0m\u001b[1;33m)\u001b[0m\u001b[1;33m\u001b[0m\u001b[1;33m\u001b[0m\u001b[0m\n\u001b[0m\u001b[0;32m      8\u001b[0m \u001b[0mprint\u001b[0m\u001b[1;33m(\u001b[0m\u001b[0mres\u001b[0m\u001b[1;33m)\u001b[0m\u001b[1;33m\u001b[0m\u001b[1;33m\u001b[0m\u001b[0m\n",
      "\u001b[1;31mKeyError\u001b[0m: 4"
     ]
    }
   ],
   "source": [
    "d = {1:10,2:20, 'a':'B',3:10}\n",
    "\n",
    "res = d.pop(1)\n",
    "print(res)\n",
    "res = d.pop(4,1000) # specify a default value\n",
    "print(res)\n",
    "res = d.pop(4)\n",
    "print(res)"
   ]
  },
  {
   "cell_type": "code",
   "execution_count": 51,
   "metadata": {},
   "outputs": [
    {
     "name": "stdout",
     "output_type": "stream",
     "text": [
      "{2: 20, 'a': 'B', (): [], 3: 10}\n"
     ]
    }
   ],
   "source": [
    "d = {1:10,2:20, 'a':'B', ():[]}\n",
    "\n",
    "res = d.pop(1)\n",
    "d[3] = res\n",
    "print(d)"
   ]
  },
  {
   "cell_type": "code",
   "execution_count": 54,
   "metadata": {},
   "outputs": [
    {
     "name": "stdout",
     "output_type": "stream",
     "text": [
      "10\n",
      "None\n",
      "-10\n"
     ]
    }
   ],
   "source": [
    "d = {1:10,2:20, 'a':'B', ():[]}\n",
    "\n",
    "print(d.get(1))\n",
    "print(d.get(10))\n",
    "print(d.get(10,-10))"
   ]
  },
  {
   "cell_type": "code",
   "execution_count": 55,
   "metadata": {},
   "outputs": [
    {
     "name": "stdout",
     "output_type": "stream",
     "text": [
      "Enter a string:abcdabcab\n",
      "{'a': 3, 'b': 3, 'c': 2, 'd': 1}\n"
     ]
    }
   ],
   "source": [
    "# WAP to input a string and print frequency of each symbol in that string\n",
    "# Ex: input: abcdabcab\n",
    "#     output: a:3     b:3   c:2  d:1\n",
    "\n",
    "\n",
    "s = input(\"Enter a string:\")\n",
    "\n",
    "d = {}\n",
    "\n",
    "for c in s:\n",
    "    d[c] = d.get(c,0) + 1\n",
    "\n",
    "print(d)\n",
    "#  c      a         b           c                   d                         a\n",
    "#  d  {}  {'a':1} {'a':1,'b':1} {'a':1,'b':1,'c':1} {'a':1,'b':1,'c':1,'d':1} {'a':2,'b':1,'c':1,'d':1}"
   ]
  },
  {
   "cell_type": "code",
   "execution_count": 57,
   "metadata": {},
   "outputs": [
    {
     "name": "stdout",
     "output_type": "stream",
     "text": [
      "{1: 10, 2: 20}\n",
      "{1: 10, 2: 20, 4: 40, 'a': 1000}\n"
     ]
    }
   ],
   "source": [
    "d1 = {1:10, 2:20}\n",
    "d2 = {4:40, 'a':1000}\n",
    "\n",
    "d3 = {}\n",
    "for k in d1:\n",
    "    d3[k] = d1.get(k)\n",
    "    \n",
    "print(d3)\n",
    "\n",
    "for k in d2:\n",
    "    d3[k] = d2.get(k)\n",
    "    \n",
    "print(d3)"
   ]
  },
  {
   "cell_type": "code",
   "execution_count": 59,
   "metadata": {},
   "outputs": [
    {
     "name": "stdout",
     "output_type": "stream",
     "text": [
      "{1: 10, 2: 20, 4: 400, 'a': 1000}\n"
     ]
    }
   ],
   "source": [
    "d1 = {1:10, 2:20, 4:40}\n",
    "d2 = {4:400, 'a':1000}\n",
    "\n",
    "d3 = {}\n",
    "d3.update(d1)\n",
    "d3.update(d2)\n",
    "print(d3)"
   ]
  },
  {
   "cell_type": "code",
   "execution_count": 63,
   "metadata": {},
   "outputs": [
    {
     "name": "stdout",
     "output_type": "stream",
     "text": [
      "{1: 10, 2: 20, 4: 400, 'a': 1000}\n",
      "{1: 10, 2: 20, 4: 40}\n"
     ]
    }
   ],
   "source": [
    "d1 = {1:10, 2:20, 4:40}\n",
    "d2 = {4:400, 'a':1000}\n",
    "\n",
    "d3 = d1.copy()\n",
    "d3.update(d2)\n",
    "print(d3)\n",
    "print(d1)"
   ]
  },
  {
   "cell_type": "code",
   "execution_count": 62,
   "metadata": {},
   "outputs": [
    {
     "name": "stdout",
     "output_type": "stream",
     "text": [
      "{1: 10, 2: 20, 4: 400, 'a': 1000}\n",
      "{1: 10, 2: 20, 4: 400, 'a': 1000}\n"
     ]
    }
   ],
   "source": [
    "d1 = {1:10, 2:20, 4:40}\n",
    "d2 = {4:400, 'a':1000}\n",
    "\n",
    "d3 = d1  # problem.. its not a copy..\n",
    "d3.update(d2)\n",
    "print(d3)\n",
    "print(d1)"
   ]
  },
  {
   "cell_type": "code",
   "execution_count": 67,
   "metadata": {},
   "outputs": [
    {
     "name": "stdout",
     "output_type": "stream",
     "text": [
      "{1: [10, 20]} {1: [10, 20]}\n",
      "{1: [10, 20]} {1: [10, 20], 10: 1000}\n",
      "{1: [10, 20, 30]} {1: [10, 20, 30], 10: 1000}\n"
     ]
    }
   ],
   "source": [
    "d1 = {1:[10,20]}\n",
    "d2 = d1.copy()\n",
    "print(d1, d2)\n",
    "d2[10] = 1000\n",
    "print(d1, d2)\n",
    "\n",
    "d2[1].append(30)\n",
    "print(d1, d2) # issue because of shallow copy"
   ]
  },
  {
   "cell_type": "code",
   "execution_count": 74,
   "metadata": {},
   "outputs": [
    {
     "name": "stdout",
     "output_type": "stream",
     "text": [
      "{1: 10, 2: [30, 20], 5: 50}\n",
      "{1: 10, 2: [30, 20, 30], 5: [40, 50], 6: 60}\n"
     ]
    }
   ],
   "source": [
    "d1 = {1:10,2:20}\n",
    "d2 = {2:30, 5:50}\n",
    "\n",
    "d3 = d1.copy()\n",
    "for k in d2:\n",
    "    if k in d3:\n",
    "        d3[k] = [d2[k], d3[k]]\n",
    "    else:\n",
    "        d3[k] = d2[k]\n",
    "        \n",
    "\n",
    "d4 = {2:30, 5:40, 6:60}\n",
    "\n",
    "print(d3)\n",
    "for k in d4:\n",
    "    if k in d3:\n",
    "        if isinstance(d3[k], list):\n",
    "            d3[k].append(d4[k])\n",
    "        else:\n",
    "            d3[k] = [d4[k], d3[k]]\n",
    "    else:\n",
    "        d3[k] = d4[k]\n",
    "        \n",
    "print(d3)"
   ]
  },
  {
   "cell_type": "code",
   "execution_count": 79,
   "metadata": {},
   "outputs": [
    {
     "name": "stdout",
     "output_type": "stream",
     "text": [
      "[1, 2, 3, 4]\n",
      "1 2 3 4\n",
      "1 2 3 4\n",
      "1 2 3 4\n"
     ]
    }
   ],
   "source": [
    "l = [1,2,3,4]\n",
    "print(l)\n",
    "print(*l)\n",
    "print(1,2,3,4)\n",
    "print(*range(1,5))"
   ]
  },
  {
   "cell_type": "code",
   "execution_count": null,
   "metadata": {},
   "outputs": [],
   "source": []
  }
 ],
 "metadata": {
  "kernelspec": {
   "display_name": "Python 3",
   "language": "python",
   "name": "python3"
  },
  "language_info": {
   "codemirror_mode": {
    "name": "ipython",
    "version": 3
   },
   "file_extension": ".py",
   "mimetype": "text/x-python",
   "name": "python",
   "nbconvert_exporter": "python",
   "pygments_lexer": "ipython3",
   "version": "3.7.3"
  }
 },
 "nbformat": 4,
 "nbformat_minor": 2
}
