{
 "cells": [
  {
   "cell_type": "code",
   "execution_count": 1,
   "metadata": {},
   "outputs": [
    {
     "name": "stdout",
     "output_type": "stream",
     "text": [
      "4\n"
     ]
    }
   ],
   "source": [
    "s = 'abcd'\n",
    "print(len(s))"
   ]
  },
  {
   "cell_type": "code",
   "execution_count": 5,
   "metadata": {},
   "outputs": [
    {
     "name": "stdout",
     "output_type": "stream",
     "text": [
      "abcdabcd123 #.$%\n",
      "abcdABCD123 #.$%\n",
      "ABCDABCD123 #.$%\n"
     ]
    }
   ],
   "source": [
    "s = 'abcdABCD123 #.$%'\n",
    "print( s.lower() )\n",
    "print( s )\n",
    "s = s.upper()\n",
    "print( s )\n"
   ]
  },
  {
   "cell_type": "code",
   "execution_count": 7,
   "metadata": {},
   "outputs": [
    {
     "name": "stdout",
     "output_type": "stream",
     "text": [
      "True\n",
      "False\n"
     ]
    }
   ],
   "source": [
    "print('abcdPQE'.startswith('ab'))\n",
    "print('AbcdPQE'.startswith('ab'))"
   ]
  },
  {
   "cell_type": "code",
   "execution_count": 10,
   "metadata": {},
   "outputs": [
    {
     "name": "stdout",
     "output_type": "stream",
     "text": [
      "True\n",
      "False\n",
      "True\n"
     ]
    }
   ],
   "source": [
    "print( 'abc'.islower() )\n",
    "print( 'abC'.islower() )\n",
    "print( 'abc123'.islower() )"
   ]
  },
  {
   "cell_type": "code",
   "execution_count": 11,
   "metadata": {},
   "outputs": [
    {
     "name": "stdout",
     "output_type": "stream",
     "text": [
      "True\n",
      "True\n",
      "False\n"
     ]
    }
   ],
   "source": [
    "print( 'abc'.isalpha() )\n",
    "print( 'abC'.isalpha() )\n",
    "print( 'abc123'.isalpha() )"
   ]
  },
  {
   "cell_type": "code",
   "execution_count": 14,
   "metadata": {},
   "outputs": [
    {
     "name": "stdout",
     "output_type": "stream",
     "text": [
      "False\n",
      "True\n",
      "False\n"
     ]
    }
   ],
   "source": [
    "print( 'abc'.isdigit() )\n",
    "print( '10000'.isdigit() )\n",
    "print( '10.333'.isdigit() )"
   ]
  },
  {
   "cell_type": "code",
   "execution_count": 17,
   "metadata": {},
   "outputs": [
    {
     "name": "stdout",
     "output_type": "stream",
     "text": [
      "True\n",
      "True\n",
      "True\n",
      "False\n"
     ]
    }
   ],
   "source": [
    "print( 'abc'.isalnum() )\n",
    "print( '10000'.isalnum() )\n",
    "print( '10a333'.isalnum() )\n",
    "print( '10a333 '.isalnum() )"
   ]
  },
  {
   "cell_type": "code",
   "execution_count": 23,
   "metadata": {},
   "outputs": [
    {
     "name": "stdout",
     "output_type": "stream",
     "text": [
      "0\n",
      "10\n",
      "-1\n",
      "\n",
      "4\n",
      "-1\n",
      "4\n"
     ]
    }
   ],
   "source": [
    "s = 'abc abc abcd'\n",
    "#    0123456789\n",
    "\n",
    "print(s.find('ab'))\n",
    "print(s.find('cd'))\n",
    "print(s.find('CD'))\n",
    "\n",
    "print()\n",
    "print(s.find('ab',3))\n",
    "print(s.find('ab',3, 5))\n",
    "print(s.find('ab',3, 6))"
   ]
  },
  {
   "cell_type": "code",
   "execution_count": 24,
   "metadata": {},
   "outputs": [
    {
     "name": "stdout",
     "output_type": "stream",
     "text": [
      "3\n",
      "1\n",
      "0\n",
      "\n",
      "2\n",
      "0\n",
      "1\n"
     ]
    }
   ],
   "source": [
    "s = 'abc abc abcd'\n",
    "#    0123456789\n",
    "\n",
    "print(s.count('ab'))\n",
    "print(s.count('cd'))\n",
    "print(s.count('CD'))\n",
    "\n",
    "print()\n",
    "print(s.count('ab',3))\n",
    "print(s.count('ab',3, 5))\n",
    "print(s.count('ab',3, 6))"
   ]
  },
  {
   "cell_type": "code",
   "execution_count": 26,
   "metadata": {},
   "outputs": [
    {
     "name": "stdout",
     "output_type": "stream",
     "text": [
      "True\n",
      "False\n"
     ]
    }
   ],
   "source": [
    "print('ab' in '12abcd')\n",
    "print('Ab' in '12abcd')\n"
   ]
  },
  {
   "cell_type": "code",
   "execution_count": null,
   "metadata": {},
   "outputs": [],
   "source": [
    "# WAP to input a string anc count how many times alphabet 'A' is present in the string"
   ]
  },
  {
   "cell_type": "code",
   "execution_count": 29,
   "metadata": {},
   "outputs": [
    {
     "name": "stdout",
     "output_type": "stream",
     "text": [
      "Enter a string:THISis A string\n",
      "4\n"
     ]
    }
   ],
   "source": [
    "# WAP to count all vowels in a input string\n",
    "s = input(\"Enter a string:\")\n",
    "\n",
    "s = s.lower()\n",
    "\n",
    "c = s.count('a') + s.count('e') + s.count('i') + s.count('o') + s.count('u')\n",
    "print(c)"
   ]
  },
  {
   "cell_type": "code",
   "execution_count": null,
   "metadata": {},
   "outputs": [],
   "source": []
  },
  {
   "cell_type": "code",
   "execution_count": null,
   "metadata": {},
   "outputs": [],
   "source": []
  }
 ],
 "metadata": {
  "kernelspec": {
   "display_name": "Python 3",
   "language": "python",
   "name": "python3"
  },
  "language_info": {
   "codemirror_mode": {
    "name": "ipython",
    "version": 3
   },
   "file_extension": ".py",
   "mimetype": "text/x-python",
   "name": "python",
   "nbconvert_exporter": "python",
   "pygments_lexer": "ipython3",
   "version": "3.7.3"
  }
 },
 "nbformat": 4,
 "nbformat_minor": 2
}
