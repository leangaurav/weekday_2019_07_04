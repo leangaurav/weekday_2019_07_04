{
 "cells": [
  {
   "cell_type": "code",
   "execution_count": 5,
   "metadata": {},
   "outputs": [
    {
     "name": "stdout",
     "output_type": "stream",
     "text": [
      "Outside function\n",
      "Inside function\n",
      "Inside function\n"
     ]
    }
   ],
   "source": [
    "def   funct():\n",
    "    print(\"Inside function\")\n",
    "    \n",
    "    \n",
    "print(\"Outside function\")\n",
    "funct()\n",
    "funct()"
   ]
  },
  {
   "cell_type": "code",
   "execution_count": 27,
   "metadata": {},
   "outputs": [
    {
     "name": "stdout",
     "output_type": "stream",
     "text": [
      "a\n",
      "Sum of  10 and 20 is 30\n",
      "b\n",
      "Sum of  -10 and 20 is 10\n",
      "ABCD\n",
      "c\n"
     ]
    }
   ],
   "source": [
    "def funct(x,y):\n",
    "    z = x + y;\n",
    "    \n",
    "    \n",
    "    print(\"Sum of \", x, \"and\", y, \"is\", z);\n",
    "\n",
    "print('a')       \n",
    "funct(10,20)   \n",
    "print('b')\n",
    "funct(-10,20)\n",
    "print(\"ABCD\")\n",
    "print('c')"
   ]
  },
  {
   "cell_type": "code",
   "execution_count": 29,
   "metadata": {},
   "outputs": [
    {
     "name": "stdout",
     "output_type": "stream",
     "text": [
      "30\n",
      "10\n"
     ]
    }
   ],
   "source": [
    "def add(x,y):\n",
    "    print(x + y)\n",
    "    \n",
    "def sub(x,y):\n",
    "    print(x - y)\n",
    "    \n",
    "def gaurav(a,b):\n",
    "    add(a,b) # add(10,20)\n",
    "    sub(b,a) # sub(20,10)\n",
    "\n",
    "gaurav(10,20)"
   ]
  },
  {
   "cell_type": "code",
   "execution_count": 1,
   "metadata": {},
   "outputs": [
    {
     "name": "stdout",
     "output_type": "stream",
     "text": [
      "30\n",
      "10\n"
     ]
    },
    {
     "ename": "NameError",
     "evalue": "name 'add' is not defined",
     "output_type": "error",
     "traceback": [
      "\u001b[1;31m---------------------------------------------------------------------------\u001b[0m",
      "\u001b[1;31mNameError\u001b[0m                                 Traceback (most recent call last)",
      "\u001b[1;32m<ipython-input-1-29962592623b>\u001b[0m in \u001b[0;36m<module>\u001b[1;34m\u001b[0m\n\u001b[0;32m      9\u001b[0m \u001b[1;33m\u001b[0m\u001b[0m\n\u001b[0;32m     10\u001b[0m \u001b[0mgaurav\u001b[0m\u001b[1;33m(\u001b[0m\u001b[1;36m10\u001b[0m\u001b[1;33m,\u001b[0m\u001b[1;36m20\u001b[0m\u001b[1;33m)\u001b[0m\u001b[1;33m\u001b[0m\u001b[1;33m\u001b[0m\u001b[0m\n\u001b[1;32m---> 11\u001b[1;33m \u001b[0madd\u001b[0m\u001b[1;33m(\u001b[0m\u001b[1;36m10\u001b[0m\u001b[1;33m,\u001b[0m\u001b[1;36m20\u001b[0m\u001b[1;33m)\u001b[0m\u001b[1;33m\u001b[0m\u001b[1;33m\u001b[0m\u001b[0m\n\u001b[0m",
      "\u001b[1;31mNameError\u001b[0m: name 'add' is not defined"
     ]
    }
   ],
   "source": [
    "def gaurav(a,b):\n",
    "    def add(x,y):\n",
    "        print(x + y)\n",
    "\n",
    "    def sub(x,y):\n",
    "        print(x - y)\n",
    "    add(a,b) # add(10,20)\n",
    "    sub(b,a) # sub(20,10)\n",
    "\n",
    "# run this code after restarting kernel\n",
    "gaurav(10,20)\n",
    "add(10,20)"
   ]
  },
  {
   "cell_type": "code",
   "execution_count": 5,
   "metadata": {},
   "outputs": [
    {
     "name": "stdout",
     "output_type": "stream",
     "text": [
      "321201\n",
      "RQpcba\n"
     ]
    }
   ],
   "source": [
    "# WAF that takes a string and another string and joins and prints the strings in reverse\n",
    "# rev( s1, s2):\n",
    "# s1 = 'ab'\n",
    "# s2 = 'PQ'\n",
    "# QPba\n",
    "def rev(gaurav, sai):\n",
    "    r1 = gaurav[::-1]\n",
    "    r2 = sai[::-1]\n",
    "    s = r2 + r1\n",
    "    print(s)\n",
    "\n",
    "def rev(gaurav, sai):\n",
    "    print(sai[::-1] + gaurav[::-1])\n",
    "\n",
    "    \n",
    "rev( '102','123')\n",
    "x = 'abc'\n",
    "y = 'pQR'\n",
    "rev(x,y)"
   ]
  }
 ],
 "metadata": {
  "kernelspec": {
   "display_name": "Python 3",
   "language": "python",
   "name": "python3"
  },
  "language_info": {
   "codemirror_mode": {
    "name": "ipython",
    "version": 3
   },
   "file_extension": ".py",
   "mimetype": "text/x-python",
   "name": "python",
   "nbconvert_exporter": "python",
   "pygments_lexer": "ipython3",
   "version": "3.7.3"
  }
 },
 "nbformat": 4,
 "nbformat_minor": 2
}
