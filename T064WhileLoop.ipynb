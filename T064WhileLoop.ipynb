{
 "cells": [
  {
   "cell_type": "markdown",
   "metadata": {},
   "source": [
    "## Loops : While"
   ]
  },
  {
   "cell_type": "code",
   "execution_count": 2,
   "metadata": {},
   "outputs": [
    {
     "name": "stdout",
     "output_type": "stream",
     "text": [
      "1\n",
      "2\n",
      "3\n",
      "4\n",
      "End !!\n"
     ]
    }
   ],
   "source": [
    "x = 1\n",
    "\n",
    "while x <= 4:\n",
    "    print(x)\n",
    "    x = x + 1 # x += 1\n",
    "    \n",
    "print(\"End !!\")"
   ]
  },
  {
   "cell_type": "code",
   "execution_count": 3,
   "metadata": {},
   "outputs": [
    {
     "name": "stdout",
     "output_type": "stream",
     "text": [
      "To exit enter n : \n",
      "a\n",
      "To exit enter n : \n",
      "\n",
      "To exit enter n : \n",
      "\n",
      "To exit enter n : \n",
      "2\n",
      "To exit enter n : \n",
      "3\n",
      "To exit enter n : \n",
      "33\n",
      "To exit enter n : \n",
      "n\n"
     ]
    }
   ],
   "source": [
    "x = ''\n",
    "\n",
    "while x != 'n':\n",
    "    print(\"To exit enter n : \")\n",
    "    x = input()\n"
   ]
  },
  {
   "cell_type": "code",
   "execution_count": 2,
   "metadata": {},
   "outputs": [
    {
     "name": "stdout",
     "output_type": "stream",
     "text": [
      "Enter n : 100\n",
      "1\n",
      "2\n",
      "3\n",
      "4\n",
      "5\n",
      "6\n",
      "7\n",
      "8\n",
      "9\n",
      "10\n",
      "11\n",
      "12\n",
      "13\n",
      "14\n",
      "15\n",
      "16\n",
      "17\n",
      "18\n",
      "19\n",
      "20\n",
      "21\n",
      "22\n",
      "23\n",
      "24\n",
      "25\n",
      "26\n",
      "27\n",
      "28\n",
      "29\n",
      "30\n",
      "31\n",
      "32\n",
      "33\n",
      "34\n",
      "35\n",
      "36\n",
      "37\n",
      "38\n",
      "39\n",
      "40\n",
      "41\n",
      "42\n",
      "43\n",
      "44\n",
      "45\n",
      "46\n",
      "47\n",
      "48\n",
      "49\n",
      "50\n",
      "51\n",
      "52\n",
      "53\n",
      "54\n",
      "55\n",
      "56\n",
      "57\n",
      "58\n",
      "59\n",
      "60\n",
      "61\n",
      "62\n",
      "63\n",
      "64\n",
      "65\n",
      "66\n",
      "67\n",
      "68\n",
      "69\n",
      "70\n",
      "71\n",
      "72\n",
      "73\n",
      "74\n",
      "75\n",
      "76\n",
      "77\n",
      "78\n",
      "79\n",
      "80\n",
      "81\n",
      "82\n",
      "83\n",
      "84\n",
      "85\n",
      "86\n",
      "87\n",
      "88\n",
      "89\n",
      "90\n",
      "91\n",
      "92\n",
      "93\n",
      "94\n",
      "95\n",
      "96\n",
      "97\n",
      "98\n",
      "99\n",
      "100\n",
      "End !!\n"
     ]
    }
   ],
   "source": [
    "x = 1\n",
    "n = int(input(\"Enter n : \"))\n",
    "\n",
    "while x <= n:\n",
    "    print(x)\n",
    "    x = x + 1 # x += 1\n",
    "    \n",
    "print(\"End !!\")"
   ]
  },
  {
   "cell_type": "code",
   "execution_count": 12,
   "metadata": {},
   "outputs": [
    {
     "name": "stdout",
     "output_type": "stream",
     "text": [
      "Enter a stringafbdfdsf\n",
      "a : 97\n",
      "f : 102\n",
      "b : 98\n",
      "d : 100\n",
      "f : 102\n",
      "d : 100\n",
      "s : 115\n",
      "f : 102\n"
     ]
    }
   ],
   "source": [
    "s = input(\"Enter a string\")\n",
    "i = 0\n",
    "while i < len(s):\n",
    "    print( s[i], ':', ord(s[i]) )\n",
    "    i += 1\n",
    "# s = \"abc #01\"\n",
    "#      0123456\n",
    "#  len(s)  7\n",
    "# i 0 1"
   ]
  },
  {
   "cell_type": "code",
   "execution_count": null,
   "metadata": {},
   "outputs": [],
   "source": [
    "x = 1\n",
    "n = int(....)\n",
    "\n",
    "s = 0\n",
    "while x <= n:\n",
    "    s += x\n",
    "    x += 1\n",
    "    \n",
    "print(\"End !!\", s)\n",
    "\n",
    "# x  1  2  3   4  5    6\n",
    "# s  0  1  3   6  10   15"
   ]
  },
  {
   "cell_type": "code",
   "execution_count": 13,
   "metadata": {},
   "outputs": [
    {
     "name": "stdout",
     "output_type": "stream",
     "text": [
      "Enter a string:/abcd\n",
      "47\n",
      "97\n",
      "98\n",
      "99\n",
      "100\n"
     ]
    }
   ],
   "source": [
    "s = input(\"Enter a string:\" )\n",
    "i = 0\n",
    "while i < len(s):\n",
    "    print(ord(s[i]))\n",
    "    i += 1"
   ]
  },
  {
   "cell_type": "code",
   "execution_count": 14,
   "metadata": {},
   "outputs": [
    {
     "name": "stdout",
     "output_type": "stream",
     "text": [
      "Enter a string:AB\n",
      "131\n"
     ]
    }
   ],
   "source": [
    "s = input(\"Enter a string:\" )\n",
    "i = 0\n",
    "ord_sum = 0\n",
    "\n",
    "while i < len(s):\n",
    "    ord_sum += ord(s[i])\n",
    "    i += 1\n",
    "    \n",
    "print(ord_sum)"
   ]
  },
  {
   "cell_type": "code",
   "execution_count": null,
   "metadata": {},
   "outputs": [],
   "source": [
    "# WAP to input a string and add all the ordinal values to a list.\n",
    "# and yes print the list at end outside the loop"
   ]
  },
  {
   "cell_type": "code",
   "execution_count": 15,
   "metadata": {},
   "outputs": [
    {
     "name": "stdout",
     "output_type": "stream",
     "text": [
      "Enter a string:abcd\n",
      "[97, 98, 99, 100]\n"
     ]
    }
   ],
   "source": [
    "s = input(\"Enter a string:\" )\n",
    "i = 0\n",
    "ord_list = []\n",
    "\n",
    "while i < len(s):\n",
    "    ord_list.append( ord(s[i]) )\n",
    "    i += 1\n",
    "    \n",
    "print(ord_list)"
   ]
  },
  {
   "cell_type": "code",
   "execution_count": 16,
   "metadata": {},
   "outputs": [
    {
     "name": "stdout",
     "output_type": "stream",
     "text": [
      "Enter a string:abcd\n",
      "[('a', 97), ('b', 98), ('c', 99), ('d', 100)]\n"
     ]
    }
   ],
   "source": [
    "s = input(\"Enter a string:\" )\n",
    "i = 0\n",
    "ord_list = []\n",
    "\n",
    "while i < len(s):\n",
    "    t = (s[i], ord(s[i]))\n",
    "    ord_list.append( t )\n",
    "    i += 1\n",
    "    \n",
    "print(ord_list)"
   ]
  },
  {
   "cell_type": "code",
   "execution_count": 17,
   "metadata": {},
   "outputs": [
    {
     "data": {
      "text/plain": [
       "'E:\\\\LINKS\\\\Desktop\\\\workspace\\\\weekday_2019_07_04'"
      ]
     },
     "execution_count": 17,
     "metadata": {},
     "output_type": "execute_result"
    }
   ],
   "source": [
    "%pwd"
   ]
  },
  {
   "cell_type": "code",
   "execution_count": null,
   "metadata": {},
   "outputs": [],
   "source": []
  }
 ],
 "metadata": {
  "kernelspec": {
   "display_name": "Python 3",
   "language": "python",
   "name": "python3"
  },
  "language_info": {
   "codemirror_mode": {
    "name": "ipython",
    "version": 3
   },
   "file_extension": ".py",
   "mimetype": "text/x-python",
   "name": "python",
   "nbconvert_exporter": "python",
   "pygments_lexer": "ipython3",
   "version": "3.7.3"
  }
 },
 "nbformat": 4,
 "nbformat_minor": 2
}
