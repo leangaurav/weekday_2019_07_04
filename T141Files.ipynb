{
 "cells": [
  {
   "cell_type": "code",
   "execution_count": 1,
   "metadata": {},
   "outputs": [
    {
     "name": "stdout",
     "output_type": "stream",
     "text": [
      "<_io.TextIOWrapper name='file.txt' mode='w' encoding='UTF-8'>\n"
     ]
    }
   ],
   "source": [
    "f = open('file.txt', 'w')# returns a file object\n",
    "print(f)\n",
    "\n",
    "f.close()"
   ]
  },
  {
   "cell_type": "code",
   "execution_count": 3,
   "metadata": {},
   "outputs": [
    {
     "name": "stdout",
     "output_type": "stream",
     "text": [
      "abc 1234 11.4\n",
      "abc12311.4\n"
     ]
    }
   ],
   "source": [
    "print(\"abc\", 1234, 11.4)\n",
    "s = \"abc\" + str(123) + str(11.4)\n",
    "print(s)"
   ]
  },
  {
   "cell_type": "code",
   "execution_count": 4,
   "metadata": {},
   "outputs": [
    {
     "name": "stdout",
     "output_type": "stream",
     "text": [
      "abc123411.4\n"
     ]
    }
   ],
   "source": [
    "print(\"abc\", 1234, 11.4, sep = '')"
   ]
  },
  {
   "cell_type": "code",
   "execution_count": 7,
   "metadata": {},
   "outputs": [],
   "source": [
    "f = open('file.csv', 'w')# returns a file object\n",
    "print(123, 'abc', True,file = f, sep=',')\n",
    "print(123, 'abc', False,file = f, sep=',')\n",
    "\n",
    "f.close()"
   ]
  },
  {
   "cell_type": "code",
   "execution_count": null,
   "metadata": {},
   "outputs": [],
   "source": [
    "with <some operation> as <object name>: # context handler: RAII"
   ]
  },
  {
   "cell_type": "code",
   "execution_count": 21,
   "metadata": {},
   "outputs": [
    {
     "name": "stdout",
     "output_type": "stream",
     "text": [
      "False 0\n",
      "Outside !! True\n"
     ]
    }
   ],
   "source": [
    "with open('file.csv', 'w') as f:# returns a file object\n",
    "    print( f.closed, f.tell())\n",
    "    print(123, 'abc', True,file = f, sep=',')\n",
    "    print(123, 'abc', False,file = f, sep=',')\n",
    "    \n",
    "print(\"Outside !!\", f.closed)"
   ]
  },
  {
   "cell_type": "code",
   "execution_count": 28,
   "metadata": {},
   "outputs": [
    {
     "name": "stdout",
     "output_type": "stream",
     "text": [
      "0\n",
      "26\n",
      "10\n",
      "10\n",
      "12\n"
     ]
    }
   ],
   "source": [
    "with open('file.csv', 'rb') as f:\n",
    "    print(f.tell())\n",
    "    f.seek(-1,2) # offset, pos : 0 -beg, 1 - curr, 2: end\n",
    "    print(f.tell())\n",
    "    \n",
    "    # move to 10th byte from beginning\n",
    "    f.seek(10) # offset, pos : 0 -beg, 1 - curr, 2: end\n",
    "    print(f.tell())\n",
    "    \n",
    "    # move to 10th byte from beginning\n",
    "    f.seek(10,0) # offset, pos : 0 -beg, 1 - curr, 2: end\n",
    "    print(f.tell())\n",
    "    \n",
    "    # move 2 pos from current : 10\n",
    "    f.seek(2,1) # offset, pos : 0 -beg, 1 - curr, 2: end\n",
    "    print(f.tell())"
   ]
  },
  {
   "cell_type": "code",
   "execution_count": 10,
   "metadata": {},
   "outputs": [
    {
     "data": {
      "text/plain": [
       "'/Users/vigneshkarthick/weekday_2019_07_04'"
      ]
     },
     "execution_count": 10,
     "metadata": {},
     "output_type": "execute_result"
    }
   ],
   "source": [
    "%pwd"
   ]
  },
  {
   "cell_type": "code",
   "execution_count": 19,
   "metadata": {},
   "outputs": [],
   "source": [
    "with open('tables.txt', 'w') as file:\n",
    "    for num in range(1,11):\n",
    "        file.write(\"4x{}={}\".format(num, num*4))\n",
    "        file.write('\\n')\n",
    "\n",
    "    "
   ]
  },
  {
   "cell_type": "code",
   "execution_count": 17,
   "metadata": {},
   "outputs": [],
   "source": [
    "with open('tables1.txt', 'w') as gaurav:\n",
    "    for num in range(1,11):\n",
    "        print(4, 'x', num ,'=', num*4, file = gaurav)"
   ]
  },
  {
   "cell_type": "code",
   "execution_count": 29,
   "metadata": {},
   "outputs": [
    {
     "ename": "FileNotFoundError",
     "evalue": "[Errno 2] No such file or directory: 'abc.txt'",
     "output_type": "error",
     "traceback": [
      "\u001b[0;31m---------------------------------------------------------------------------\u001b[0m",
      "\u001b[0;31mFileNotFoundError\u001b[0m                         Traceback (most recent call last)",
      "\u001b[0;32m<ipython-input-29-29965caf2479>\u001b[0m in \u001b[0;36m<module>\u001b[0;34m\u001b[0m\n\u001b[0;32m----> 1\u001b[0;31m \u001b[0;32mwith\u001b[0m \u001b[0mopen\u001b[0m\u001b[0;34m(\u001b[0m\u001b[0;34m'abc.txt'\u001b[0m\u001b[0;34m,\u001b[0m \u001b[0;34m'r'\u001b[0m\u001b[0;34m)\u001b[0m \u001b[0;32mas\u001b[0m \u001b[0mfile\u001b[0m\u001b[0;34m:\u001b[0m\u001b[0;34m\u001b[0m\u001b[0;34m\u001b[0m\u001b[0m\n\u001b[0m\u001b[1;32m      2\u001b[0m     \u001b[0;32mpass\u001b[0m\u001b[0;34m\u001b[0m\u001b[0;34m\u001b[0m\u001b[0m\n",
      "\u001b[0;31mFileNotFoundError\u001b[0m: [Errno 2] No such file or directory: 'abc.txt'"
     ]
    }
   ],
   "source": [
    "with open('abc.txt', 'r') as file:\n",
    "    pass"
   ]
  },
  {
   "cell_type": "markdown",
   "metadata": {},
   "source": [
    "### Reading File"
   ]
  },
  {
   "cell_type": "code",
   "execution_count": 34,
   "metadata": {},
   "outputs": [
    {
     "name": "stdout",
     "output_type": "stream",
     "text": [
      "'4x1=4\\n4x2=8\\n4x3=12\\n4x4=16\\n4x5=20\\n4x6=24\\n4x7=28\\n4x8=32\\n4x9=36\\n4x10=40\\n'\n",
      "''\n",
      "'4x1=4\\n4x2=8\\n4x3=12\\n4x4=16\\n4x5=20\\n4x6=24\\n4x7=28\\n4x8=32\\n4x9=36\\n4x10=40\\n'\n"
     ]
    }
   ],
   "source": [
    "with open('tables.txt', 'r') as f:\n",
    "    print(repr(f.read()))\n",
    "    print(repr(f.read()))\n",
    "    f.seek(0)\n",
    "    print(repr(f.read()))"
   ]
  },
  {
   "cell_type": "code",
   "execution_count": 39,
   "metadata": {},
   "outputs": [
    {
     "name": "stdout",
     "output_type": "stream",
     "text": [
      "'4x1=4\\n4x2='###'8\\n4x3=12\\n4'###'x4=16\\n4x5='###'20\\n4x6=24\\n'###'4x7=28\\n4x8'###'=32\\n4x9=36'###'\\n4x10=40\\n'###"
     ]
    }
   ],
   "source": [
    "with open('tables.txt', 'r') as f:\n",
    "    s = f.read(10)\n",
    "    while s:\n",
    "        print(repr(s), end = '###')\n",
    "        s = f.read(10)"
   ]
  },
  {
   "cell_type": "code",
   "execution_count": 44,
   "metadata": {},
   "outputs": [],
   "source": [
    "with open('tables.txt', 'r') as f:\n",
    "    s = f.readline()\n",
    "    while s:\n",
    "        print(repr(s))\n",
    "        s = f.readline()"
   ]
  },
  {
   "cell_type": "code",
   "execution_count": 43,
   "metadata": {},
   "outputs": [
    {
     "name": "stdout",
     "output_type": "stream",
     "text": [
      "4x1=4\n",
      "4x2=8\n",
      "4x3=12\n",
      "4x4=16\n",
      "4x5=20\n",
      "4x6=24\n",
      "4x7=28\n",
      "4x8=32\n",
      "4x9=36\n",
      "4x10=40\n"
     ]
    }
   ],
   "source": [
    "with open('tables.txt', 'r') as f:\n",
    "    for s in f:\n",
    "        print(s, end = '')"
   ]
  }
 ],
 "metadata": {
  "kernelspec": {
   "display_name": "Python 3",
   "language": "python",
   "name": "python3"
  },
  "language_info": {
   "codemirror_mode": {
    "name": "ipython",
    "version": 3
   },
   "file_extension": ".py",
   "mimetype": "text/x-python",
   "name": "python",
   "nbconvert_exporter": "python",
   "pygments_lexer": "ipython3",
   "version": "3.7.3"
  }
 },
 "nbformat": 4,
 "nbformat_minor": 2
}
