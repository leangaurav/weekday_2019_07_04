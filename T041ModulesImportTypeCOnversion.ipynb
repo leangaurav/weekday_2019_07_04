{
 "cells": [
  {
   "cell_type": "code",
   "execution_count": 3,
   "metadata": {},
   "outputs": [
    {
     "name": "stdout",
     "output_type": "stream",
     "text": [
      "abcd\n",
      "None\n",
      "None\n"
     ]
    }
   ],
   "source": [
    "res = print('abcd')\n",
    "print(res)\n",
    "print(None)"
   ]
  },
  {
   "cell_type": "code",
   "execution_count": 8,
   "metadata": {},
   "outputs": [
    {
     "name": "stdout",
     "output_type": "stream",
     "text": [
      "False\n",
      "True\n",
      "True\n",
      "False\n",
      "True\n",
      "False\n",
      "True\n",
      "True\n",
      "True\n"
     ]
    }
   ],
   "source": [
    "print( bool(0) )\n",
    "print( bool(1) )\n",
    "print( bool(-1) )\n",
    "print( bool(0.0) )\n",
    "print( bool(0.1) )\n",
    "print( bool('') )\n",
    "print( bool('1') )\n",
    "print( bool('03333') )\n",
    "print( bool(3333) )"
   ]
  },
  {
   "cell_type": "code",
   "execution_count": 11,
   "metadata": {},
   "outputs": [
    {
     "name": "stdout",
     "output_type": "stream",
     "text": [
      "'1'\n",
      "'1.1'\n",
      "'True'\n"
     ]
    }
   ],
   "source": [
    "print( repr( str(1) ) )\n",
    "print( repr( str(1.1) ) )\n",
    "print( repr( str(True) ) )"
   ]
  },
  {
   "cell_type": "markdown",
   "metadata": {},
   "source": [
    "### Modules"
   ]
  },
  {
   "cell_type": "code",
   "execution_count": 20,
   "metadata": {},
   "outputs": [
    {
     "name": "stdout",
     "output_type": "stream",
     "text": [
      "5\n",
      "11\n",
      "13\n"
     ]
    }
   ],
   "source": [
    "import random\n",
    "print(random.randrange(10)) # 0-9\n",
    "print(random.randrange(10,20)) # 10-19\n",
    "print(random.randrange(10,20,3)) # 10,13,16,19"
   ]
  },
  {
   "cell_type": "code",
   "execution_count": 29,
   "metadata": {},
   "outputs": [
    {
     "name": "stdout",
     "output_type": "stream",
     "text": [
      "5 F\n",
      "B\n"
     ]
    }
   ],
   "source": [
    "# WAP to print a random char from stirng : \n",
    "import random\n",
    "s =\"ABCDEFGH\"\n",
    "s_len = len(s)\n",
    "idx = random.randrange(s_len)\n",
    "print(idx, s[idx])\n",
    "\n",
    "print( s[ random.randrange( len(s) ) ] )"
   ]
  },
  {
   "cell_type": "code",
   "execution_count": 30,
   "metadata": {},
   "outputs": [
    {
     "name": "stdout",
     "output_type": "stream",
     "text": [
      "2\n"
     ]
    }
   ],
   "source": [
    "from random import randrange, randint\n",
    "print(randrange(100))"
   ]
  },
  {
   "cell_type": "code",
   "execution_count": 52,
   "metadata": {},
   "outputs": [
    {
     "name": "stdout",
     "output_type": "stream",
     "text": [
      "20\n"
     ]
    }
   ],
   "source": [
    "from random import *\n",
    "print(randint(10,20))"
   ]
  },
  {
   "cell_type": "code",
   "execution_count": 53,
   "metadata": {},
   "outputs": [
    {
     "data": {
      "text/plain": [
       "6"
      ]
     },
     "execution_count": 53,
     "metadata": {},
     "output_type": "execute_result"
    }
   ],
   "source": [
    "import random as rn\n",
    "rn.randrange(10)"
   ]
  },
  {
   "cell_type": "code",
   "execution_count": 63,
   "metadata": {},
   "outputs": [
    {
     "name": "stdout",
     "output_type": "stream",
     "text": [
      "0.6981463522255941\n",
      "0.2180016807656061\n"
     ]
    }
   ],
   "source": [
    "import random\n",
    "print(rn.random())\n",
    "print(random.random())"
   ]
  },
  {
   "cell_type": "code",
   "execution_count": 61,
   "metadata": {},
   "outputs": [
    {
     "name": "stdout",
     "output_type": "stream",
     "text": [
      "18\n"
     ]
    }
   ],
   "source": [
    "from random import randint as ri\n",
    "print( ri(10,20) )"
   ]
  },
  {
   "cell_type": "code",
   "execution_count": 3,
   "metadata": {},
   "outputs": [
    {
     "name": "stdout",
     "output_type": "stream",
     "text": [
      "G\n"
     ]
    }
   ],
   "source": [
    "import random as rn\n",
    "def rand_char():\n",
    "    print(chr(rn.randint(65,80)))\n",
    "rand_char()"
   ]
  },
  {
   "cell_type": "code",
   "execution_count": 4,
   "metadata": {},
   "outputs": [
    {
     "name": "stdout",
     "output_type": "stream",
     "text": [
      "2.0\n"
     ]
    }
   ],
   "source": [
    "def si(p,n,t=1):\n",
    "    si = p*n*t/100\n",
    "    return si\n",
    "print(si(10,20))"
   ]
  },
  {
   "cell_type": "code",
   "execution_count": null,
   "metadata": {},
   "outputs": [],
   "source": [
    "#after default argument (p) there can not be non default argument (n) - so below code throws error\n",
    "#def si(p=10, n, t=1):\n",
    " #      si = p*n*t/100\n",
    "  #  return si\n",
    "#print(si(10,20))"
   ]
  }
 ],
 "metadata": {
  "kernelspec": {
   "display_name": "Python 3",
   "language": "python",
   "name": "python3"
  },
  "language_info": {
   "codemirror_mode": {
    "name": "ipython",
    "version": 3
   },
   "file_extension": ".py",
   "mimetype": "text/x-python",
   "name": "python",
   "nbconvert_exporter": "python",
   "pygments_lexer": "ipython3",
   "version": "3.7.3"
  }
 },
 "nbformat": 4,
 "nbformat_minor": 2
}
