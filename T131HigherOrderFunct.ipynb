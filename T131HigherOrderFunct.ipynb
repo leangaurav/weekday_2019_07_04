{
 "cells": [
  {
   "cell_type": "code",
   "execution_count": 4,
   "metadata": {},
   "outputs": [
    {
     "name": "stdout",
     "output_type": "stream",
     "text": [
      "10\n",
      "<function abc at 0x1080ebd90>\n",
      "abc\n",
      "None\n"
     ]
    }
   ],
   "source": [
    "def funct(x):\n",
    "    print(x)\n",
    "    \n",
    "def abc():\n",
    "    print(\"abc\")\n",
    "funct(10)\n",
    "funct(abc)\n",
    "funct(abc())"
   ]
  },
  {
   "cell_type": "code",
   "execution_count": 3,
   "metadata": {},
   "outputs": [
    {
     "name": "stdout",
     "output_type": "stream",
     "text": [
      "<built-in function abs>\n"
     ]
    }
   ],
   "source": [
    "print(abs)"
   ]
  },
  {
   "cell_type": "code",
   "execution_count": 7,
   "metadata": {},
   "outputs": [
    {
     "name": "stdout",
     "output_type": "stream",
     "text": [
      "abc 10\n"
     ]
    }
   ],
   "source": [
    "def funct(x):\n",
    "    x(10)\n",
    "    \n",
    "def abc(x):\n",
    "    print(\"abc\", x)\n",
    "funct(abc)"
   ]
  },
  {
   "cell_type": "code",
   "execution_count": 10,
   "metadata": {},
   "outputs": [
    {
     "name": "stdout",
     "output_type": "stream",
     "text": [
      "[10, 10, 9, 4343, 8]\n",
      "[97, 98, 99, 100, 49, 50, 51, 65]\n"
     ]
    }
   ],
   "source": [
    "def mapper(f, seq): # f: function seq:sequence\n",
    "    r = []\n",
    "    for data in seq:\n",
    "        r.append(f(data))\n",
    "    return r\n",
    "\"\"\"    \n",
    "    r = []\n",
    "    for data in [10,-10,-9,4343,-8]:\n",
    "        r.append(abs(data))\n",
    "\n",
    "\"\"\"\n",
    "res = mapper(abs, [10,-10,-9,4343,-8])\n",
    "print(res)\n",
    "print(mapper(ord, 'abcd123A'))"
   ]
  },
  {
   "cell_type": "code",
   "execution_count": 18,
   "metadata": {},
   "outputs": [
    {
     "name": "stdout",
     "output_type": "stream",
     "text": [
      "<map object at 0x1081a02e8>\n",
      "97\n",
      "98\n",
      "99\n",
      "65\n",
      "66\n",
      "67\n",
      "[]\n",
      "[97, 98, 99, 65, 66, 67]\n"
     ]
    }
   ],
   "source": [
    "r = map(ord, 'abcABC')\n",
    "print(r)\n",
    "for data in r:\n",
    "    print(data)\n",
    "print(list(r))\n",
    "r = map(ord, 'abcABC')\n",
    "print(list(r))"
   ]
  },
  {
   "cell_type": "code",
   "execution_count": 16,
   "metadata": {},
   "outputs": [
    {
     "name": "stdout",
     "output_type": "stream",
     "text": [
      "range(0, 10)\n",
      "(0, 1, 2, 3, 4, 5, 6, 7, 8, 9)\n",
      "0\n",
      "1\n",
      "2\n",
      "3\n",
      "4\n",
      "5\n",
      "6\n",
      "7\n",
      "8\n",
      "9\n",
      "[0, 1, 2, 3, 4, 5, 6, 7, 8, 9]\n"
     ]
    }
   ],
   "source": [
    "r = range(10)\n",
    "print(r)\n",
    "print(tuple(r))\n",
    "for data in r:\n",
    "    print(data)\n",
    "print(list(r))"
   ]
  },
  {
   "cell_type": "code",
   "execution_count": 20,
   "metadata": {},
   "outputs": [
    {
     "name": "stdout",
     "output_type": "stream",
     "text": [
      "12\n",
      "10\n",
      "(2, 2, 4, 4, 12, 12, 14)\n"
     ]
    }
   ],
   "source": [
    "def make_even(x):\n",
    "    if x%2 == 1:\n",
    "        x = x + 1\n",
    "    return x\n",
    "\n",
    "print(make_even(11))\n",
    "print(make_even(10))\n",
    "\n",
    "a = [1,2,3,4,11,12,13]\n",
    "m = map(make_even, a)\n",
    "print( tuple(m) )"
   ]
  },
  {
   "cell_type": "code",
   "execution_count": 23,
   "metadata": {},
   "outputs": [
    {
     "name": "stdout",
     "output_type": "stream",
     "text": [
      "fsdf fdsfds\n",
      "fsdf 4\n",
      "fdsfds 6\n"
     ]
    }
   ],
   "source": [
    "# WAP to input a string and print all the words\n",
    "\n",
    "for s in input().split():\n",
    "    print(s, len(s))"
   ]
  },
  {
   "cell_type": "code",
   "execution_count": 24,
   "metadata": {},
   "outputs": [
    {
     "name": "stdout",
     "output_type": "stream",
     "text": [
      "Enter a string:abcd 12 ab a\n",
      "[4, 2, 2, 1]\n"
     ]
    }
   ],
   "source": [
    "s = input(\"Enter a string:\")\n",
    "\n",
    "a = s.split()\n",
    "m = map(len, a)\n",
    "print(list(m))"
   ]
  },
  {
   "cell_type": "code",
   "execution_count": 27,
   "metadata": {},
   "outputs": [
    {
     "name": "stdout",
     "output_type": "stream",
     "text": [
      "True\n",
      "False\n",
      "(20, 44)\n",
      "[20, 21, 44, 5, 7]\n"
     ]
    }
   ],
   "source": [
    "def is_even(x):\n",
    "    return x%2 == 0\n",
    "\n",
    "print(is_even(10))\n",
    "print(is_even(13))\n",
    "\n",
    "a = [20,21,44,5,7]\n",
    "f = filter(is_even, a)\n",
    "print(tuple(f))\n",
    "print(a)"
   ]
  },
  {
   "cell_type": "code",
   "execution_count": 28,
   "metadata": {},
   "outputs": [
    {
     "name": "stdout",
     "output_type": "stream",
     "text": [
      "['A', 'C', 'E', 'R']\n"
     ]
    }
   ],
   "source": [
    "f = filter(str.isupper, 'AbCdER123')\n",
    "print(list(f))\n"
   ]
  },
  {
   "cell_type": "code",
   "execution_count": 31,
   "metadata": {},
   "outputs": [],
   "source": [
    "def get_nums():\n",
    "    s = input(\"Enter numbers separated by spaces : \")\n",
    "    r = list( map(int, s.split()) )\n",
    "    return r\n"
   ]
  },
  {
   "cell_type": "code",
   "execution_count": 33,
   "metadata": {},
   "outputs": [
    {
     "name": "stdout",
     "output_type": "stream",
     "text": [
      "Enter numbers separated by spaces : 10 20 30\n",
      "60\n",
      "60\n"
     ]
    }
   ],
   "source": [
    "# input list of numbers and find sum of those numbers\n",
    "\n",
    "a = get_nums()\n",
    "print(sum(a))\n",
    "\n",
    "s = 0\n",
    "for data in a:\n",
    "    s += data\n",
    "print(s)"
   ]
  },
  {
   "cell_type": "code",
   "execution_count": 34,
   "metadata": {},
   "outputs": [
    {
     "name": "stdout",
     "output_type": "stream",
     "text": [
      "Enter numbers separated by spaces : 10 20 30 40\n",
      "100\n"
     ]
    }
   ],
   "source": [
    "from functools import reduce\n",
    "a = get_nums()\n",
    "\n",
    "def w(x,y):\n",
    "    return x + y\n",
    "\n",
    "r = reduce(add, a)\n",
    "print(r)\n",
    "# add(10,20) => 30\n",
    "# add (30 ,30) => 60\n",
    "# add(60,40) => 100"
   ]
  },
  {
   "cell_type": "code",
   "execution_count": 36,
   "metadata": {},
   "outputs": [
    {
     "name": "stdout",
     "output_type": "stream",
     "text": [
      "3\n"
     ]
    }
   ],
   "source": [
    "def f(x,y):\n",
    "    if x<y:\n",
    "        return x\n",
    "    return y\n",
    "\n",
    "a = [10,20,3, 10, 50,40]\n",
    "\n",
    "print(reduce(f, a))\n",
    "\n"
   ]
  },
  {
   "cell_type": "code",
   "execution_count": 37,
   "metadata": {},
   "outputs": [
    {
     "name": "stdout",
     "output_type": "stream",
     "text": [
      "10\n"
     ]
    }
   ],
   "source": [
    "a = ['1',2,'3',4]\n",
    "m = map(int, a)\n",
    "\n",
    "r = reduce(add, m)\n",
    "print(r)\n",
    "\n"
   ]
  },
  {
   "cell_type": "code",
   "execution_count": 38,
   "metadata": {},
   "outputs": [
    {
     "name": "stdout",
     "output_type": "stream",
     "text": [
      "['A', 'a', 'd', '0']\n"
     ]
    }
   ],
   "source": [
    "a = ['65',97,'100',48]\n",
    "m = map(int, a)\n",
    "m1 = map(chr, m)\n",
    "print(list(m1))\n",
    "\n"
   ]
  },
  {
   "cell_type": "code",
   "execution_count": 39,
   "metadata": {},
   "outputs": [
    {
     "name": "stdout",
     "output_type": "stream",
     "text": [
      "['A', 'a', 'd', '0']\n"
     ]
    }
   ],
   "source": [
    "a = ['65',97,'100',48]\n",
    "m1 = map(chr, map(int, a))\n",
    "print(list(m1))\n",
    "\n"
   ]
  },
  {
   "cell_type": "code",
   "execution_count": 41,
   "metadata": {},
   "outputs": [
    {
     "name": "stdout",
     "output_type": "stream",
     "text": [
      "11\n",
      "odd\n"
     ]
    }
   ],
   "source": [
    "n = int(input())\n",
    "s = \"even\" if n%2 == 0 else \"odd\"\n",
    "print(s)"
   ]
  },
  {
   "cell_type": "code",
   "execution_count": null,
   "metadata": {},
   "outputs": [],
   "source": []
  },
  {
   "cell_type": "code",
   "execution_count": null,
   "metadata": {},
   "outputs": [],
   "source": []
  },
  {
   "cell_type": "code",
   "execution_count": null,
   "metadata": {},
   "outputs": [],
   "source": []
  }
 ],
 "metadata": {
  "kernelspec": {
   "display_name": "Python 3",
   "language": "python",
   "name": "python3"
  },
  "language_info": {
   "codemirror_mode": {
    "name": "ipython",
    "version": 3
   },
   "file_extension": ".py",
   "mimetype": "text/x-python",
   "name": "python",
   "nbconvert_exporter": "python",
   "pygments_lexer": "ipython3",
   "version": "3.7.3"
  }
 },
 "nbformat": 4,
 "nbformat_minor": 2
}
