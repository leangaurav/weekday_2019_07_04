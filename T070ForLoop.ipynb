{
 "cells": [
  {
   "cell_type": "code",
   "execution_count": null,
   "metadata": {},
   "outputs": [],
   "source": [
    "# WAP to print number from 10-1\n",
    "<counter initialization>\n",
    "while <condition>:\n",
    "    <code>\n",
    "    <update>"
   ]
  },
  {
   "cell_type": "code",
   "execution_count": 1,
   "metadata": {},
   "outputs": [
    {
     "name": "stdout",
     "output_type": "stream",
     "text": [
      "10\n",
      "9\n",
      "8\n",
      "7\n",
      "6\n",
      "5\n",
      "4\n",
      "3\n",
      "2\n",
      "1\n"
     ]
    }
   ],
   "source": [
    "i = 10\n",
    "while i >= 1:\n",
    "    print(i)\n",
    "    i -= 1"
   ]
  },
  {
   "cell_type": "code",
   "execution_count": null,
   "metadata": {},
   "outputs": [],
   "source": [
    "for <var> in <seq/iterable>:\n",
    "    # code"
   ]
  },
  {
   "cell_type": "code",
   "execution_count": 6,
   "metadata": {},
   "outputs": [
    {
     "name": "stdout",
     "output_type": "stream",
     "text": [
      "a\n",
      "b\n",
      "c\n",
      "d\n",
      "a\n",
      "b\n",
      "c\n",
      "d\n"
     ]
    }
   ],
   "source": [
    "s = 'abcd'\n",
    "for gaurav in 'abcd':\n",
    "    print(gaurav)\n",
    "    \n",
    "i = 0\n",
    "while i < len(s):\n",
    "    c = s[i]\n",
    "    print(c)\n",
    "    i += 1"
   ]
  },
  {
   "cell_type": "code",
   "execution_count": 2,
   "metadata": {},
   "outputs": [
    {
     "name": "stdout",
     "output_type": "stream",
     "text": [
      "394\n"
     ]
    }
   ],
   "source": [
    "s = 'abcd'\n",
    "ss = 0\n",
    "for c in s:\n",
    "    ss += ord(c)\n",
    "print(ss)"
   ]
  },
  {
   "cell_type": "code",
   "execution_count": 8,
   "metadata": {},
   "outputs": [
    {
     "name": "stdout",
     "output_type": "stream",
     "text": [
      "100\n",
      "400\n",
      "900\n",
      "1600\n"
     ]
    }
   ],
   "source": [
    "l = [10,20,30,40]\n",
    "\n",
    "for data in l:\n",
    "    print(data*data)"
   ]
  },
  {
   "cell_type": "code",
   "execution_count": 8,
   "metadata": {},
   "outputs": [
    {
     "name": "stdout",
     "output_type": "stream",
     "text": [
      "Input : abc123\n",
      "97\n",
      "98\n",
      "99\n",
      "49\n",
      "50\n",
      "51\n"
     ]
    }
   ],
   "source": [
    "# WAP to input a string. and print all characters in upper case\n",
    "#  abcdABC  \n",
    "# A\n",
    "# B\n",
    "# C .....\n",
    "\n",
    "s = input(\"Input : \")\n",
    "for c in s:\n",
    "    print(ord(c))\n"
   ]
  },
  {
   "cell_type": "code",
   "execution_count": null,
   "metadata": {},
   "outputs": [],
   "source": [
    "# WAP to input a string. and create a list with the ordinal values of the characters in the string\n",
    "# abcd => [97,98,99,100]\n",
    "\n",
    "s = input(\"Input : \")\n",
    "for c in s:\n",
    "    print(c.upper())\n"
   ]
  },
  {
   "cell_type": "code",
   "execution_count": 10,
   "metadata": {},
   "outputs": [
    {
     "name": "stdout",
     "output_type": "stream",
     "text": [
      "Input : abcd\n",
      "[97]\n",
      "[97, 98]\n",
      "[97, 98, 99]\n",
      "[97, 98, 99, 100]\n"
     ]
    }
   ],
   "source": [
    "# WAP to input a string. and create a list with the ordinal values of the characters in the string\n",
    "# abcd => [97,98,99,100]\n",
    "\n",
    "s = input(\"Input : \")\n",
    "\n",
    "a = []\n",
    "for c in s:\n",
    "    a.append(ord(c))\n",
    "    print(a)\n"
   ]
  },
  {
   "cell_type": "code",
   "execution_count": 14,
   "metadata": {},
   "outputs": [
    {
     "name": "stdout",
     "output_type": "stream",
     "text": [
      "range(0, 10)\n",
      "range(10, 20)\n",
      "range(10, 20, 2)\n",
      "<class 'range'>\n"
     ]
    }
   ],
   "source": [
    "r = range(10) \n",
    "print(r) # 0-9\n",
    "r = range(10,20) \n",
    "print(r) # 10-19\n",
    "r = range(10,20,2) \n",
    "print(r) # 10,12,14,...18\n",
    "print(type(r))"
   ]
  },
  {
   "cell_type": "code",
   "execution_count": 16,
   "metadata": {},
   "outputs": [
    {
     "name": "stdout",
     "output_type": "stream",
     "text": [
      "Enter Limit:4\n",
      "1\n",
      "2\n",
      "3\n",
      "4\n"
     ]
    }
   ],
   "source": [
    "n = input(\"Enter Limit:\")\n",
    "n = int(n)\n",
    "for i in range(1, n + 1):\n",
    "    print(i)"
   ]
  },
  {
   "cell_type": "code",
   "execution_count": 20,
   "metadata": {},
   "outputs": [
    {
     "name": "stdout",
     "output_type": "stream",
     "text": [
      "Enter Limit:5\n",
      "5\n",
      "4\n",
      "3\n",
      "2\n",
      "1\n"
     ]
    }
   ],
   "source": [
    "n = input(\"Enter Limit:\")\n",
    "n = int(n)\n",
    "for i in range(n, 0,-1):\n",
    "    print(i)"
   ]
  },
  {
   "cell_type": "code",
   "execution_count": 22,
   "metadata": {},
   "outputs": [
    {
     "name": "stdout",
     "output_type": "stream",
     "text": [
      "[1, 2, 3, 4, 5, 6, 7, 8, 9, 10]\n"
     ]
    }
   ],
   "source": [
    "a = list( range( 1,11) )\n",
    "print(a)"
   ]
  },
  {
   "cell_type": "code",
   "execution_count": 23,
   "metadata": {},
   "outputs": [
    {
     "name": "stdout",
     "output_type": "stream",
     "text": [
      "(1, 2, 3, 4, 5, 6, 7, 8, 9, 10)\n"
     ]
    }
   ],
   "source": [
    "a = tuple( range( 1,11) )\n",
    "print(a)"
   ]
  },
  {
   "cell_type": "code",
   "execution_count": 24,
   "metadata": {},
   "outputs": [
    {
     "name": "stdout",
     "output_type": "stream",
     "text": [
      "Enter limit : 10\n",
      "(0, 2, 4, 6, 8, 10)\n"
     ]
    }
   ],
   "source": [
    "# WAP to generate tuple of even numbers from 0-n\n",
    "n = int(input(\"Enter limit : \"))\n",
    "\n",
    "t = tuple( range(0,n+1, 2) )\n",
    "print(t)"
   ]
  },
  {
   "cell_type": "code",
   "execution_count": null,
   "metadata": {},
   "outputs": [],
   "source": [
    "t = ( 1,2,3 )\n",
    "s = [10,20,30]\n",
    "s[1]\n",
    "s = 'abcd'\n",
    "s[1]"
   ]
  },
  {
   "cell_type": "code",
   "execution_count": 27,
   "metadata": {},
   "outputs": [
    {
     "data": {
      "text/plain": [
       "[10]"
      ]
     },
     "execution_count": 27,
     "metadata": {},
     "output_type": "execute_result"
    }
   ],
   "source": [
    "list( (10,) )\n"
   ]
  },
  {
   "cell_type": "code",
   "execution_count": 28,
   "metadata": {},
   "outputs": [
    {
     "name": "stdout",
     "output_type": "stream",
     "text": [
      "<class 'int'>\n",
      "<class 'int'>\n",
      "<class 'tuple'>\n"
     ]
    }
   ],
   "source": [
    "def funct(x):\n",
    "    print(type(x))\n",
    "    \n",
    "funct(10)\n",
    "funct(10,)\n",
    "funct( (10,) )"
   ]
  },
  {
   "cell_type": "code",
   "execution_count": null,
   "metadata": {},
   "outputs": [],
   "source": []
  },
  {
   "cell_type": "code",
   "execution_count": null,
   "metadata": {},
   "outputs": [],
   "source": []
  }
 ],
 "metadata": {
  "kernelspec": {
   "display_name": "Python 3",
   "language": "python",
   "name": "python3"
  },
  "language_info": {
   "codemirror_mode": {
    "name": "ipython",
    "version": 3
   },
   "file_extension": ".py",
   "mimetype": "text/x-python",
   "name": "python",
   "nbconvert_exporter": "python",
   "pygments_lexer": "ipython3",
   "version": "3.7.3"
  }
 },
 "nbformat": 4,
 "nbformat_minor": 2
}
